{
  "nbformat": 4,
  "nbformat_minor": 0,
  "metadata": {
    "colab": {
      "provenance": []
    },
    "kernelspec": {
      "name": "python3",
      "display_name": "Python 3"
    }
  },
  "cells": [
    {
      "cell_type": "markdown",
      "metadata": {
        "id": "iOz-mF5Ad0pm"
      },
      "source": [
        "\n",
        "**RNAfold Website: https://www.tbi.univie.ac.at/RNA/#download**"
      ]
    },
    {
      "cell_type": "markdown",
      "metadata": {
        "id": "B5nNbosaeIcr"
      },
      "source": [
        "**Step 1: Install tool**"
      ]
    },
    {
      "cell_type": "markdown",
      "metadata": {
        "id": "E5lMs8Ahnmab"
      },
      "source": [
        "**1.1 Install Vienna RNA Package**"
      ]
    },
    {
      "cell_type": "code",
      "metadata": {
        "colab": {
          "base_uri": "https://localhost:8080/"
        },
        "id": "z6e4oBUjnd-s",
        "outputId": "f0a7d0ce-9a00-432e-afb7-eed1e1e8f767"
      },
      "source": [
        "!rm ViennaRNA-2.4.14.tar.gz\n",
        "!wget https://www.tbi.univie.ac.at/RNA/download/sourcecode/2_4_x/ViennaRNA-2.4.14.tar.gz\n",
        "!tar -zxf ViennaRNA-2.4.14.tar.gz\n",
        "%cd /content/ViennaRNA-2.4.14\n",
        "!./configure --prefix=\"/content/ViennaRNA-2.4.14\" --without-kinfold --without-forester --without-kinwalker --without-RNAlocmin --without-RNAlocmin --enable-fast-install --disable-check-python3 --disable-check-python --disable-check-perl --disable-unittests   --without-tutorial --without-doc-pdf --without-doc-html --without-doc --without-tutorial-pdf --disable-dependency-tracking --without-rnalocmin --without-forester  --without-svm  --without-json --without-gsl --without-swig --without-perl --without-python  --without-python3 --without-doc-pdf  --without-doc-html --without-doc --without-tutorial-pdf --without-tutorial  --without-check  --without-kinfold --without-forester --without-rnalocmin\n",
        "!make\n",
        "!make install\n"
      ],
      "execution_count": 5,
      "outputs": [
        {
          "output_type": "stream",
          "name": "stdout",
          "text": [
            "rm: cannot remove 'ViennaRNA-2.4.14.tar.gz': No such file or directory\n",
            "--2024-07-21 14:46:07--  https://www.tbi.univie.ac.at/RNA/download/sourcecode/2_4_x/ViennaRNA-2.4.14.tar.gz\n",
            "Resolving www.tbi.univie.ac.at (www.tbi.univie.ac.at)... 131.130.44.61\n",
            "Connecting to www.tbi.univie.ac.at (www.tbi.univie.ac.at)|131.130.44.61|:443... connected.\n",
            "HTTP request sent, awaiting response... 200 OK\n",
            "Length: 32814278 (31M) [application/x-gzip]\n",
            "Saving to: ‘ViennaRNA-2.4.14.tar.gz’\n",
            "\n",
            "ViennaRNA-2.4.14.ta 100%[===================>]  31.29M  12.0MB/s    in 2.6s    \n",
            "\n",
            "2024-07-21 14:46:11 (12.0 MB/s) - ‘ViennaRNA-2.4.14.tar.gz’ saved [32814278/32814278]\n",
            "\n",
            "/content/ViennaRNA-2.4.14\n",
            "checking for gcc... gcc\n",
            "checking whether the C compiler works... yes\n",
            "checking for C compiler default output file name... a.out\n",
            "checking for suffix of executables... \n",
            "checking whether we are cross compiling... no\n",
            "checking for suffix of object files... o\n",
            "checking whether we are using the GNU C compiler... yes\n",
            "checking whether gcc accepts -g... yes\n",
            "checking for gcc option to accept ISO C89... none needed\n",
            "checking whether gcc understands -c and -o together... yes\n",
            "checking how to run the C preprocessor... gcc -E\n",
            "checking for grep that handles long lines and -e... /usr/bin/grep\n",
            "checking for egrep... /usr/bin/grep -E\n",
            "checking for ANSI C header files... yes\n",
            "checking for sys/types.h... yes\n",
            "checking for sys/stat.h... yes\n",
            "checking for stdlib.h... yes\n",
            "checking for string.h... yes\n",
            "checking for memory.h... yes\n",
            "checking for strings.h... yes\n",
            "checking for inttypes.h... yes\n",
            "checking for stdint.h... yes\n",
            "checking for unistd.h... yes\n",
            "checking minix/config.h usability... no\n",
            "checking minix/config.h presence... no\n",
            "checking for minix/config.h... no\n",
            "checking whether it is safe to define __EXTENSIONS__... yes\n",
            "checking whether make supports nested variables... yes\n",
            "checking for a BSD-compatible install... /usr/bin/install -c\n",
            "checking whether build environment is sane... yes\n",
            "checking for a thread-safe mkdir -p... /usr/bin/mkdir -p\n",
            "checking for gawk... no\n",
            "checking for mawk... mawk\n",
            "checking whether make sets $(MAKE)... yes\n",
            "checking whether make supports the include directive... yes (GNU style)\n",
            "checking dependency style of gcc... none\n",
            "checking if malloc debugging is wanted... no\n",
            "checking build system type... x86_64-pc-linux-gnu\n",
            "checking host system type... x86_64-pc-linux-gnu\n",
            "checking for g++... g++\n",
            "checking whether we are using the GNU C++ compiler... yes\n",
            "checking whether g++ accepts -g... yes\n",
            "checking dependency style of g++... none\n",
            "checking how to run the C++ preprocessor... g++ -E\n",
            "checking for gcc... (cached) gcc\n",
            "checking whether we are using the GNU C compiler... (cached) yes\n",
            "checking whether gcc accepts -g... (cached) yes\n",
            "checking for gcc option to accept ISO C89... (cached) none needed\n",
            "checking whether gcc understands -c and -o together... (cached) yes\n",
            "checking how to run the C preprocessor... gcc -E\n",
            "checking for ar... ar\n",
            "checking the archiver (ar) interface... ar\n",
            "checking whether make sets $(MAKE)... (cached) yes\n",
            "checking for grep that handles long lines and -e... (cached) /usr/bin/grep\n",
            "checking for a sed that does not truncate output... /usr/bin/sed\n",
            "checking whether ln -s works... yes\n",
            "checking for gcc option to accept ISO C99... none needed\n",
            "checking how to print strings... printf\n",
            "checking for a sed that does not truncate output... (cached) /usr/bin/sed\n",
            "checking for fgrep... /usr/bin/grep -F\n",
            "checking for ld used by gcc... /usr/bin/ld\n",
            "checking if the linker (/usr/bin/ld) is GNU ld... yes\n",
            "checking for BSD- or MS-compatible name lister (nm)... /usr/bin/nm -B\n",
            "checking the name lister (/usr/bin/nm -B) interface... BSD nm\n",
            "checking the maximum length of command line arguments... 1572864\n",
            "checking how to convert x86_64-pc-linux-gnu file names to x86_64-pc-linux-gnu format... func_convert_file_noop\n",
            "checking how to convert x86_64-pc-linux-gnu file names to toolchain format... func_convert_file_noop\n",
            "checking for /usr/bin/ld option to reload object files... -r\n",
            "checking for objdump... objdump\n",
            "checking how to recognize dependent libraries... pass_all\n",
            "checking for dlltool... no\n",
            "checking how to associate runtime and link libraries... printf %s\\n\n",
            "checking for archiver @FILE support... @\n",
            "checking for strip... strip\n",
            "checking for ranlib... ranlib\n",
            "checking command to parse /usr/bin/nm -B output from gcc object... ok\n",
            "checking for sysroot... no\n",
            "checking for a working dd... /usr/bin/dd\n",
            "checking how to truncate binary pipes... /usr/bin/dd bs=4096 count=1\n",
            "checking for mt... no\n",
            "checking if : is a manifest tool... no\n",
            "checking for dlfcn.h... yes\n",
            "checking for objdir... .libs\n",
            "checking if gcc supports -fno-rtti -fno-exceptions... no\n",
            "checking for gcc option to produce PIC... -fPIC -DPIC\n",
            "checking if gcc PIC flag -fPIC -DPIC works... yes\n",
            "checking if gcc static flag -static works... yes\n",
            "checking if gcc supports -c -o file.o... yes\n",
            "checking if gcc supports -c -o file.o... (cached) yes\n",
            "checking whether the gcc linker (/usr/bin/ld -m elf_x86_64) supports shared libraries... yes\n",
            "checking whether -lc should be explicitly linked in... no\n",
            "checking dynamic linker characteristics... GNU/Linux ld.so\n",
            "checking how to hardcode library paths into programs... immediate\n",
            "checking whether stripping libraries is possible... yes\n",
            "checking if libtool supports shared libraries... yes\n",
            "checking whether to build shared libraries... yes\n",
            "checking whether to build static libraries... yes\n",
            "checking how to run the C++ preprocessor... g++ -E\n",
            "checking for ld used by g++... /usr/bin/ld -m elf_x86_64\n",
            "checking if the linker (/usr/bin/ld -m elf_x86_64) is GNU ld... yes\n",
            "checking whether the g++ linker (/usr/bin/ld -m elf_x86_64) supports shared libraries... yes\n",
            "checking for g++ option to produce PIC... -fPIC -DPIC\n",
            "checking if g++ PIC flag -fPIC -DPIC works... yes\n",
            "checking if g++ static flag -static works... yes\n",
            "checking if g++ supports -c -o file.o... yes\n",
            "checking if g++ supports -c -o file.o... (cached) yes\n",
            "checking whether the g++ linker (/usr/bin/ld -m elf_x86_64) supports shared libraries... yes\n",
            "checking dynamic linker characteristics... (cached) GNU/Linux ld.so\n",
            "checking how to hardcode library paths into programs... immediate\n",
            "checking for exp in -lm... yes\n",
            "checking for ANSI C header files... (cached) yes\n",
            "checking for stdbool.h that conforms to C99... yes\n",
            "checking for _Bool... yes\n",
            "checking malloc.h usability... yes\n",
            "checking malloc.h presence... yes\n",
            "checking for malloc.h... yes\n",
            "checking float.h usability... yes\n",
            "checking float.h presence... yes\n",
            "checking for float.h... yes\n",
            "checking limits.h usability... yes\n",
            "checking limits.h presence... yes\n",
            "checking for limits.h... yes\n",
            "checking for stdlib.h... (cached) yes\n",
            "checking for string.h... (cached) yes\n",
            "checking for strings.h... (cached) yes\n",
            "checking for unistd.h... (cached) yes\n",
            "checking math.h usability... yes\n",
            "checking math.h presence... yes\n",
            "checking for math.h... yes\n",
            "checking stdarg.h usability... yes\n",
            "checking stdarg.h presence... yes\n",
            "checking for stdarg.h... yes\n",
            "checking for stdlib.h... (cached) yes\n",
            "checking for GNU libc compatible malloc... yes\n",
            "checking for stdlib.h... (cached) yes\n",
            "checking for GNU libc compatible realloc... yes\n",
            "checking for working strtod... yes\n",
            "checking for floor... yes\n",
            "checking for strdup... yes\n",
            "checking for strstr... yes\n",
            "checking for strchr... yes\n",
            "checking for strrchr... yes\n",
            "checking for strstr... (cached) yes\n",
            "checking for strtol... yes\n",
            "checking for strtoul... yes\n",
            "checking for pow... yes\n",
            "checking for rint... yes\n",
            "checking for sqrt... yes\n",
            "checking for erand48... yes\n",
            "checking for memset... yes\n",
            "checking for memmove... yes\n",
            "checking for erand48... (cached) yes\n",
            "checking for asprintf... yes\n",
            "checking for vasprintf... yes\n",
            "checking for an ANSI C-conforming const... yes\n",
            "checking for size_t... yes\n",
            "checking for inline... inline\n",
            "checking for pdflatex... no\n",
            "checking for bibtex... no\n",
            "checking for makeindex... no\n",
            "checking for pkg-config... /usr/bin/pkg-config\n",
            "checking pkg-config is at least version 0.9.0... yes\n",
            "checking for C compiler vendor... gnu\n",
            "checking for perl... /usr/bin/perl\n",
            "checking whether C compiler accepts -fno-strict-aliasing... yes\n",
            "checking whether C++ compiler accepts -fno-strict-aliasing... yes\n",
            "checking whether the linker accepts -fno-strict-aliasing... yes\n",
            "checking whether the C compiler allows unnamed unions of unnamed structs... yes\n",
            "checking whether the C++ compiler allows unnamed unions of unnamed structs... yes\n",
            "checking whether C compiler accepts -flto... yes\n",
            "checking whether C++ compiler accepts -flto... yes\n",
            "checking whether C compiler accepts -ffat-lto-objects... yes\n",
            "checking whether C++ compiler accepts -ffat-lto-objects... yes\n",
            "configure: WARNING: Trying to re-set ar/ranlib/nm to compiler specific wrappers\n",
            "checking for gcc-ar... gcc-ar\n",
            "checking for gcc-ranlib... gcc-ranlib\n",
            "checking for gcc-nm... gcc-nm\n",
            "checking whether the linker supports Link time Optimization (LTO)... yes\n",
            "checking for OpenMP flag of C compiler... -fopenmp\n",
            "checking for OpenMP flag of C++ compiler... -fopenmp\n",
            "checking whether gcc is Clang... no\n",
            "checking whether pthreads work with -pthread... yes\n",
            "checking for joinable pthread attribute... PTHREAD_CREATE_JOINABLE\n",
            "checking whether more special flags are required for pthreads... no\n",
            "checking for PTHREAD_PRIO_INHERIT... yes\n",
            "checking compiler support for AVX 512 instructions... yes\n",
            "checking compiler support for SSE 4.1 instructions... yes\n",
            "checking whether C compiler accepts -ftree-vectorize... yes\n",
            "checking mpfr.h usability... no\n",
            "checking mpfr.h presence... no\n",
            "checking for mpfr.h... no\n",
            "configure: WARNING:\n",
            "==========================\n",
            "Failed to find mpfr.h!\n",
            "\n",
            "You probably need to install the mpfr-devel package or similar\n",
            "==========================\n",
            "    \n",
            "checking for doxygen... no\n",
            "checking for dot... /usr/bin/dot\n",
            "checking for egrep... /usr/bin/egrep\n",
            "checking for perl... /usr/bin/perl\n",
            "checking for htlatex... no\n",
            "checking for xxd... /usr/bin/xxd\n",
            "checking for gengetopt... no\n",
            "checking for help2man... no\n",
            "checking that generated files are newer than configure... done\n",
            "configure: creating ./config.status\n",
            "config.status: creating packaging/macosx/Makefile\n",
            "config.status: creating packaging/macosx/Distribution.xml\n",
            "config.status: creating packaging/macosx/resources/welcome.txt\n",
            "config.status: creating tests/Makefile\n",
            "config.status: creating tests/RNApath.py\n",
            "config.status: creating tests/RNAHelpers.pm\n",
            "config.status: creating tests/test-env.sh\n",
            "config.status: creating src/ViennaRNA/static/templates_postscript.h\n",
            "config.status: creating src/ViennaRNA/static/energy_parameter_sets.h\n",
            "config.status: creating src/ViennaRNA/vrna_config.h\n",
            "config.status: creating misc/Makefile\n",
            "config.status: creating interfaces/Makefile\n",
            "config.status: creating Makefile\n",
            "config.status: creating RNAlib2.pc\n",
            "config.status: creating src/Utils/Makefile\n",
            "config.status: creating src/bin/Makefile\n",
            "config.status: creating src/Makefile\n",
            "config.status: creating src/ViennaRNA/Makefile\n",
            "config.status: creating src/ViennaRNA/static/Makefile\n",
            "config.status: creating man/Makefile\n",
            "config.status: creating doc/Makefile\n",
            "config.status: creating RNA-Tutorial/Makefile\n",
            "config.status: creating man/cmdlopt.sh\n",
            "config.status: creating examples/Makefile\n",
            "config.status: creating packaging/viennarna.spec\n",
            "config.status: creating packaging/PKGBUILD\n",
            "config.status: creating packaging/win_installer_archlinux_i686.nsi\n",
            "config.status: creating packaging/win_installer_archlinux_x86_64.nsi\n",
            "config.status: creating packaging/win_installer_fedora_i686.nsi\n",
            "config.status: creating packaging/win_installer_fedora_x86_64.nsi\n",
            "config.status: creating config.h\n",
            "config.status: config.h is unchanged\n",
            "config.status: executing depfiles commands\n",
            "config.status: executing libtool commands\n",
            "configure:\n",
            "\n",
            "======================================\n",
            "    \u001b[1mViennaRNA Package 2.4.14\u001b[m\n",
            "======================================\n",
            "\n",
            "Successfully configured with the following options:\n",
            "\n",
            "Sub Packages\n",
            "------------\n",
            "  * Kinfold                   : \u001b[31;1mno\u001b[m\n",
            "  * RNAforester               : \u001b[31;1mno\u001b[m\n",
            "  * Analyse{Dists,Seqs}       : \u001b[31;1mno\u001b[m\n",
            "  * RNAlocmin                 : \u001b[31;1mno\u001b[m\n",
            "  * Kinwalker                 : \u001b[31;1mno\u001b[m\n",
            "\n",
            "Extra Libraries\n",
            "---------------\n",
            "  * Support Vector Machine    : \u001b[31;1mno\u001b[m\n",
            "  * GNU Scientific Library    : \u001b[31;1mno\u001b[m\n",
            "  * GNU MPFR                  : \u001b[31;1mno\u001b[m\n",
            "  * JSON                      : \u001b[31;1mno\u001b[m\n",
            "\n",
            "Features\n",
            "--------\n",
            "  * Boustrophedon             : \u001b[32;1myes\u001b[m\n",
            "  * Use hash for NR Sampling  : \u001b[31;1mno\u001b[m\n",
            "  * C11 features              : \u001b[32;1myes\u001b[m\n",
            "  * TTY colors                : \u001b[32;1myes\u001b[m\n",
            "  * Float Precision(PF}       : \u001b[31;1mno\u001b[m\n",
            "  * Deprecation Warnings      : \u001b[31;1mno\u001b[m\n",
            "\n",
            "Optimizations\n",
            "-------------\n",
            "  * Auto Vectorization        : \u001b[32;1myes\u001b[m\n",
            "  * Explicit SIMD Extension   : \u001b[32;1myes\u001b[m \n",
            "  * Link Time Optimization    : \u001b[32;1myes\u001b[m\n",
            "  * POSIX Threads             : \u001b[32;1myes\u001b[m\n",
            "  * OpenMP                    : \u001b[32;1myes\u001b[m\n",
            "\n",
            "Scripting Language Interfaces\n",
            "-----------------------------\n",
            "  * Perl 5                    : \u001b[31;1mno\u001b[m\n",
            "  * Python 2                  : \u001b[31;1mno\u001b[m\n",
            "  * Python 3                  : \u001b[31;1mno\u001b[m\n",
            "\n",
            "Documentation\n",
            "-------------\n",
            "  * Reference Manual (PDF)    : \u001b[31;1mno\u001b[m \n",
            "  * Reference Manual (HTML)   : \u001b[31;1mno\u001b[m \n",
            "  * Tutorial (PDF)            : \u001b[31;1mno\u001b[m \n",
            "  * Tutorial (HTML)           : \u001b[31;1mno\u001b[m \n",
            "\n",
            "Unit Tests\n",
            "----------\n",
            "  * Executable Programs       : \u001b[31;1mno\u001b[m\n",
            "  * C-Library                 : \u001b[31;1mno\u001b[m\n",
            "  * Perl 5 Interface          : \u001b[31;1mno\u001b[m\n",
            "  * Python 2 Interface        : \u001b[31;1mno\u001b[m\n",
            "  * Python 3 Interface        : \u001b[31;1mno\u001b[m\n",
            "\n",
            "MacOS X\n",
            "-------\n",
            "  * Universal Binary          : \u001b[31;1mno\u001b[m\n",
            "  * Installer                 : \u001b[31;1mno\u001b[m\n",
            "  * SDK                       : \u001b[34;1mcustom\u001b[m\n",
            "\n",
            "Install Directories\n",
            "-------------------\n",
            "  * Executables               : \u001b[34;1m/content/ViennaRNA-2.4.14/bin\u001b[m\n",
            "  * Libraries                 : \u001b[34;1m/content/ViennaRNA-2.4.14/lib\u001b[m\n",
            "  * Header files              : \u001b[34;1m/content/ViennaRNA-2.4.14/include\u001b[m\n",
            "  * Extra Data                : \u001b[34;1m/content/ViennaRNA-2.4.14/share\u001b[m\n",
            "  * Man pages                 : \u001b[34;1m/content/ViennaRNA-2.4.14/share/man\u001b[m\n",
            "  * Documentation             : \u001b[31;1mNot to be installed\u001b[m\n",
            "      (HTML)                  : \u001b[34;1m\u001b[m\n",
            "      (PDF)                   : \u001b[34;1m\u001b[m\n",
            "  * Perl5 Interface           : \u001b[31;1mNot to be installed\u001b[m\n",
            "      (binaries)              : \u001b[34;1m\u001b[m\n",
            "      (scripts)               : \u001b[34;1m\u001b[m\n",
            "  * Python2 Interface         : \u001b[31;1mNot to be installed \u001b[m\n",
            "      (binaries)              : \u001b[34;1m\u001b[m\n",
            "      (scripts)               : \u001b[34;1m\u001b[m\n",
            "  * Python3 Interface         : \u001b[31;1mNot to be installed \u001b[m\n",
            "      (binaries)              : \u001b[34;1m\u001b[m\n",
            "      (scripts)               : \u001b[34;1m\u001b[m\n",
            "\n",
            "\u001b[1mYou can run 'make', 'make check', and 'make install' now!\u001b[m\n",
            "make  all-recursive\n",
            "make[1]: Entering directory '/content/ViennaRNA-2.4.14'\n",
            "Making all in src\n",
            "make[2]: Entering directory '/content/ViennaRNA-2.4.14/src'\n",
            "Making all in ViennaRNA\n",
            "make[3]: Entering directory '/content/ViennaRNA-2.4.14/src/ViennaRNA'\n",
            "Making all in static\n",
            "make[4]: Entering directory '/content/ViennaRNA-2.4.14/src/ViennaRNA/static'\n",
            "make  all-am\n",
            "make[5]: Entering directory '/content/ViennaRNA-2.4.14/src/ViennaRNA/static'\n",
            "make[5]: Nothing to be done for 'all-am'.\n",
            "make[5]: Leaving directory '/content/ViennaRNA-2.4.14/src/ViennaRNA/static'\n",
            "make[4]: Leaving directory '/content/ViennaRNA-2.4.14/src/ViennaRNA/static'\n",
            "make[4]: Entering directory '/content/ViennaRNA-2.4.14/src/ViennaRNA'\n",
            "make[4]: Nothing to be done for 'all-am'.\n",
            "make[4]: Leaving directory '/content/ViennaRNA-2.4.14/src/ViennaRNA'\n",
            "make[3]: Leaving directory '/content/ViennaRNA-2.4.14/src/ViennaRNA'\n",
            "Making all in bin\n",
            "make[3]: Entering directory '/content/ViennaRNA-2.4.14/src/bin'\n",
            "make[3]: Nothing to be done for 'all'.\n",
            "make[3]: Leaving directory '/content/ViennaRNA-2.4.14/src/bin'\n",
            "Making all in Utils\n",
            "make[3]: Entering directory '/content/ViennaRNA-2.4.14/src/Utils'\n",
            "make[3]: Nothing to be done for 'all'.\n",
            "make[3]: Leaving directory '/content/ViennaRNA-2.4.14/src/Utils'\n",
            "make[3]: Entering directory '/content/ViennaRNA-2.4.14/src'\n",
            "make[3]: Nothing to be done for 'all-am'.\n",
            "make[3]: Leaving directory '/content/ViennaRNA-2.4.14/src'\n",
            "make[2]: Leaving directory '/content/ViennaRNA-2.4.14/src'\n",
            "Making all in man\n",
            "make[2]: Entering directory '/content/ViennaRNA-2.4.14/man'\n",
            "make[2]: Nothing to be done for 'all'.\n",
            "make[2]: Leaving directory '/content/ViennaRNA-2.4.14/man'\n",
            "Making all in misc\n",
            "make[2]: Entering directory '/content/ViennaRNA-2.4.14/misc'\n",
            "make[2]: Nothing to be done for 'all'.\n",
            "make[2]: Leaving directory '/content/ViennaRNA-2.4.14/misc'\n",
            "Making all in doc\n",
            "make[2]: Entering directory '/content/ViennaRNA-2.4.14/doc'\n",
            "make[2]: Nothing to be done for 'all'.\n",
            "make[2]: Leaving directory '/content/ViennaRNA-2.4.14/doc'\n",
            "Making all in RNA-Tutorial\n",
            "make[2]: Entering directory '/content/ViennaRNA-2.4.14/RNA-Tutorial'\n",
            "make[2]: Nothing to be done for 'all'.\n",
            "make[2]: Leaving directory '/content/ViennaRNA-2.4.14/RNA-Tutorial'\n",
            "Making all in interfaces\n",
            "make[2]: Entering directory '/content/ViennaRNA-2.4.14/interfaces'\n",
            "make[3]: Entering directory '/content/ViennaRNA-2.4.14/interfaces'\n",
            "make[3]: Nothing to be done for 'all-am'.\n",
            "make[3]: Leaving directory '/content/ViennaRNA-2.4.14/interfaces'\n",
            "make[2]: Leaving directory '/content/ViennaRNA-2.4.14/interfaces'\n",
            "Making all in tests\n",
            "make[2]: Entering directory '/content/ViennaRNA-2.4.14/tests'\n",
            "make  all-am\n",
            "make[3]: Entering directory '/content/ViennaRNA-2.4.14/tests'\n",
            "make[3]: Nothing to be done for 'all-am'.\n",
            "make[3]: Leaving directory '/content/ViennaRNA-2.4.14/tests'\n",
            "make[2]: Leaving directory '/content/ViennaRNA-2.4.14/tests'\n",
            "Making all in examples\n",
            "make[2]: Entering directory '/content/ViennaRNA-2.4.14/examples'\n",
            "make[2]: Nothing to be done for 'all'.\n",
            "make[2]: Leaving directory '/content/ViennaRNA-2.4.14/examples'\n",
            "Making all in packaging/macosx\n",
            "make[2]: Entering directory '/content/ViennaRNA-2.4.14/packaging/macosx'\n",
            "make[2]: Nothing to be done for 'all'.\n",
            "make[2]: Leaving directory '/content/ViennaRNA-2.4.14/packaging/macosx'\n",
            "make[2]: Entering directory '/content/ViennaRNA-2.4.14'\n",
            "make[2]: Leaving directory '/content/ViennaRNA-2.4.14'\n",
            "make[1]: Leaving directory '/content/ViennaRNA-2.4.14'\n",
            "Making install in src\n",
            "make[1]: Entering directory '/content/ViennaRNA-2.4.14/src'\n",
            "Making install in ViennaRNA\n",
            "make[2]: Entering directory '/content/ViennaRNA-2.4.14/src/ViennaRNA'\n",
            "Making install in static\n",
            "make[3]: Entering directory '/content/ViennaRNA-2.4.14/src/ViennaRNA/static'\n",
            "make  install-am\n",
            "make[4]: Entering directory '/content/ViennaRNA-2.4.14/src/ViennaRNA/static'\n",
            "make[5]: Entering directory '/content/ViennaRNA-2.4.14/src/ViennaRNA/static'\n",
            "make[5]: Nothing to be done for 'install-exec-am'.\n",
            "make[5]: Nothing to be done for 'install-data-am'.\n",
            "make[5]: Leaving directory '/content/ViennaRNA-2.4.14/src/ViennaRNA/static'\n",
            "make[4]: Leaving directory '/content/ViennaRNA-2.4.14/src/ViennaRNA/static'\n",
            "make[3]: Leaving directory '/content/ViennaRNA-2.4.14/src/ViennaRNA/static'\n",
            "make[3]: Entering directory '/content/ViennaRNA-2.4.14/src/ViennaRNA'\n",
            "make[4]: Entering directory '/content/ViennaRNA-2.4.14/src/ViennaRNA'\n",
            " /usr/bin/mkdir -p '/content/ViennaRNA-2.4.14/lib'\n",
            " /bin/bash ../../libtool   --mode=install /usr/bin/install -c   libRNA.la '/content/ViennaRNA-2.4.14/lib'\n",
            "libtool: install: /usr/bin/install -c .libs/libRNA.lai /content/ViennaRNA-2.4.14/lib/libRNA.la\n",
            "libtool: install: /usr/bin/install -c .libs/libRNA.a /content/ViennaRNA-2.4.14/lib/libRNA.a\n",
            "libtool: install: chmod 644 /content/ViennaRNA-2.4.14/lib/libRNA.a\n",
            "libtool: install: gcc-ranlib /content/ViennaRNA-2.4.14/lib/libRNA.a\n",
            "libtool: finish: PATH=\"/opt/bin:/usr/local/nvidia/bin:/usr/local/cuda/bin:/usr/local/sbin:/usr/local/bin:/usr/sbin:/usr/bin:/sbin:/bin:/tools/node/bin:/tools/google-cloud-sdk/bin:/sbin\" ldconfig -n /content/ViennaRNA-2.4.14/lib\n",
            "----------------------------------------------------------------------\n",
            "Libraries have been installed in:\n",
            "   /content/ViennaRNA-2.4.14/lib\n",
            "\n",
            "If you ever happen to want to link against installed libraries\n",
            "in a given directory, LIBDIR, you must either use libtool, and\n",
            "specify the full pathname of the library, or use the '-LLIBDIR'\n",
            "flag during linking and do at least one of the following:\n",
            "   - add LIBDIR to the 'LD_LIBRARY_PATH' environment variable\n",
            "     during execution\n",
            "   - add LIBDIR to the 'LD_RUN_PATH' environment variable\n",
            "     during linking\n",
            "   - use the '-Wl,-rpath -Wl,LIBDIR' linker flag\n",
            "   - have your system administrator add LIBDIR to '/etc/ld.so.conf'\n",
            "\n",
            "See any operating system documentation about shared libraries for\n",
            "more information, such as the ld(1) and ld.so(8) manual pages.\n",
            "----------------------------------------------------------------------\n",
            " /usr/bin/mkdir -p '/content/ViennaRNA-2.4.14/include/ViennaRNA'\n",
            " /usr/bin/install -c -m 644 vrna_config.h '/content/ViennaRNA-2.4.14/include/ViennaRNA'\n",
            " /usr/bin/mkdir -p '/content/ViennaRNA-2.4.14/include/ViennaRNA'\n",
            " /usr/bin/install -c -m 644 pair_mat.h RNAstruct.h dist_vars.h mfe.h mfe_window.h fold.h part_func.h part_func_window.h stringdist.h edit_cost.h fold_vars.h profiledist.h treedist.h inverse.h subopt.h cofold.h duplex.h alifold.h part_func_co.h concentrations.h ProfileAln.h LPfold.h Lfold.h part_func_up.h ribo.h findpath.h data_structures.h char_stream.h stream_output.h fold_compound.h MEA.h mm.h loop_energies.h exterior_loops.h hairpin_loops.h interior_loops.h multibranch_loops.h 2Dfold.h 2Dpfold.h PKplex.h '/content/ViennaRNA-2.4.14/include/ViennaRNA'\n",
            " /usr/bin/install -c -m 644 ali_plex.h plex.h snofold.h snoop.h move_set.h gquad.h constraints.h eval.h perturbation_fold.h centroid.h utils.h structure_utils.h string_utils.h aln_util.h model.h dp_matrices.h PS_dot.h plot_structure.h plot_aln.h plot_utils.h plot_layouts.h naview.h boltzmann_sampling.h equilibrium_probs.h constraints_ligand.h constraints_SHAPE.h constraints_hard.h constraints_soft.h alphabet.h sequence.h grammar.h structured_domains.h unstructured_domains.h file_utils.h file_formats.h file_formats_msa.h energy_par.h energy_const.h params.h read_epars.h '/content/ViennaRNA-2.4.14/include/ViennaRNA'\n",
            " /usr/bin/install -c -m 644 convert_epars.h commands.h units.h combinatorics.h neighbor.h walk.h '/content/ViennaRNA-2.4.14/include/ViennaRNA'\n",
            " /usr/bin/mkdir -p '/content/ViennaRNA-2.4.14/include/ViennaRNA/constraints'\n",
            " /usr/bin/install -c -m 644 constraints/basic.h constraints/ligand.h constraints/SHAPE.h constraints/hard.h constraints/soft.h '/content/ViennaRNA-2.4.14/include/ViennaRNA/constraints'\n",
            " /usr/bin/mkdir -p '/content/ViennaRNA-2.4.14/include/ViennaRNA/datastructures'\n",
            " /usr/bin/install -c -m 644 datastructures/basic.h datastructures/lists.h datastructures/char_stream.h datastructures/stream_output.h datastructures/hash_tables.h datastructures/heap.h '/content/ViennaRNA-2.4.14/include/ViennaRNA/datastructures'\n",
            " /usr/bin/mkdir -p '/content/ViennaRNA-2.4.14/include/ViennaRNA/io'\n",
            " /usr/bin/install -c -m 644 io/utils.h io/file_formats.h io/file_formats_msa.h '/content/ViennaRNA-2.4.14/include/ViennaRNA/io'\n",
            " /usr/bin/mkdir -p '/content/ViennaRNA-2.4.14/include/ViennaRNA/landscape'\n",
            " /usr/bin/install -c -m 644 landscape/paths.h landscape/findpath.h landscape/neighbor.h landscape/walk.h landscape/move.h '/content/ViennaRNA-2.4.14/include/ViennaRNA/landscape'\n",
            " /usr/bin/mkdir -p '/content/ViennaRNA-2.4.14/include/ViennaRNA/loops'\n",
            " /usr/bin/install -c -m 644 loops/all.h loops/external.h loops/hairpin.h loops/internal.h loops/multibranch.h '/content/ViennaRNA-2.4.14/include/ViennaRNA/loops'\n",
            " /usr/bin/mkdir -p '/content/ViennaRNA-2.4.14/include/ViennaRNA/params'\n",
            " /usr/bin/install -c -m 644 params/default.h params/constants.h params/basic.h params/io.h params/convert.h '/content/ViennaRNA-2.4.14/include/ViennaRNA/params'\n",
            " /usr/bin/mkdir -p '/content/ViennaRNA-2.4.14/include/ViennaRNA/plotting'\n",
            " /usr/bin/install -c -m 644 plotting/alignments.h plotting/layouts.h plotting/probabilities.h plotting/structures.h plotting/utils.h plotting/naview.h '/content/ViennaRNA-2.4.14/include/ViennaRNA/plotting'\n",
            " /usr/bin/mkdir -p '/content/ViennaRNA-2.4.14/include/ViennaRNA/plotting/RNApuzzler'\n",
            " /usr/bin/install -c -m 644 plotting/RNApuzzler/RNApuzzler.h plotting/RNApuzzler/RNAturtle.h '/content/ViennaRNA-2.4.14/include/ViennaRNA/plotting/RNApuzzler'\n",
            " /usr/bin/mkdir -p '/content/ViennaRNA-2.4.14/include/ViennaRNA/search'\n",
            " /usr/bin/install -c -m 644 search/BoyerMoore.h '/content/ViennaRNA-2.4.14/include/ViennaRNA/search'\n",
            " /usr/bin/mkdir -p '/content/ViennaRNA-2.4.14/include/ViennaRNA/utils'\n",
            " /usr/bin/install -c -m 644 utils/basic.h utils/strings.h utils/structures.h utils/alignments.h utils/higher_order_functions.h utils/cpu.h '/content/ViennaRNA-2.4.14/include/ViennaRNA/utils'\n",
            "make[4]: Leaving directory '/content/ViennaRNA-2.4.14/src/ViennaRNA'\n",
            "make[3]: Leaving directory '/content/ViennaRNA-2.4.14/src/ViennaRNA'\n",
            "make[2]: Leaving directory '/content/ViennaRNA-2.4.14/src/ViennaRNA'\n",
            "Making install in bin\n",
            "make[2]: Entering directory '/content/ViennaRNA-2.4.14/src/bin'\n",
            "make[3]: Entering directory '/content/ViennaRNA-2.4.14/src/bin'\n",
            " /usr/bin/mkdir -p '/content/ViennaRNA-2.4.14/bin'\n",
            "  /bin/bash ../../libtool   --mode=install /usr/bin/install -c RNAfold RNAeval RNAheat RNApdist RNAdistance RNAinverse RNAplot RNAsubopt RNALfold RNAcofold RNApaln RNAduplex RNAalifold RNAplfold RNAup RNAaliduplex RNALalifold RNA2Dfold RNAparconv RNAPKplex RNAplex RNAsnoop RNApvmin RNAdos '/content/ViennaRNA-2.4.14/bin'\n",
            "libtool: install: /usr/bin/install -c RNAfold /content/ViennaRNA-2.4.14/bin/RNAfold\n",
            "libtool: install: /usr/bin/install -c RNAeval /content/ViennaRNA-2.4.14/bin/RNAeval\n",
            "libtool: install: /usr/bin/install -c RNAheat /content/ViennaRNA-2.4.14/bin/RNAheat\n",
            "libtool: install: /usr/bin/install -c RNApdist /content/ViennaRNA-2.4.14/bin/RNApdist\n",
            "libtool: install: /usr/bin/install -c RNAdistance /content/ViennaRNA-2.4.14/bin/RNAdistance\n",
            "libtool: install: /usr/bin/install -c RNAinverse /content/ViennaRNA-2.4.14/bin/RNAinverse\n",
            "libtool: install: /usr/bin/install -c RNAplot /content/ViennaRNA-2.4.14/bin/RNAplot\n",
            "libtool: install: /usr/bin/install -c RNAsubopt /content/ViennaRNA-2.4.14/bin/RNAsubopt\n",
            "libtool: install: /usr/bin/install -c RNALfold /content/ViennaRNA-2.4.14/bin/RNALfold\n",
            "libtool: install: /usr/bin/install -c RNAcofold /content/ViennaRNA-2.4.14/bin/RNAcofold\n",
            "libtool: install: /usr/bin/install -c RNApaln /content/ViennaRNA-2.4.14/bin/RNApaln\n",
            "libtool: install: /usr/bin/install -c RNAduplex /content/ViennaRNA-2.4.14/bin/RNAduplex\n",
            "libtool: install: /usr/bin/install -c RNAalifold /content/ViennaRNA-2.4.14/bin/RNAalifold\n",
            "libtool: install: /usr/bin/install -c RNAplfold /content/ViennaRNA-2.4.14/bin/RNAplfold\n",
            "libtool: install: /usr/bin/install -c RNAup /content/ViennaRNA-2.4.14/bin/RNAup\n",
            "libtool: install: /usr/bin/install -c RNAaliduplex /content/ViennaRNA-2.4.14/bin/RNAaliduplex\n",
            "libtool: install: /usr/bin/install -c RNALalifold /content/ViennaRNA-2.4.14/bin/RNALalifold\n",
            "libtool: install: /usr/bin/install -c RNA2Dfold /content/ViennaRNA-2.4.14/bin/RNA2Dfold\n",
            "libtool: install: /usr/bin/install -c RNAparconv /content/ViennaRNA-2.4.14/bin/RNAparconv\n",
            "libtool: install: /usr/bin/install -c RNAPKplex /content/ViennaRNA-2.4.14/bin/RNAPKplex\n",
            "libtool: install: /usr/bin/install -c RNAplex /content/ViennaRNA-2.4.14/bin/RNAplex\n",
            "libtool: install: /usr/bin/install -c RNAsnoop /content/ViennaRNA-2.4.14/bin/RNAsnoop\n",
            "libtool: install: /usr/bin/install -c RNApvmin /content/ViennaRNA-2.4.14/bin/RNApvmin\n",
            "libtool: install: /usr/bin/install -c RNAdos /content/ViennaRNA-2.4.14/bin/RNAdos\n",
            "make[3]: Nothing to be done for 'install-data-am'.\n",
            "make[3]: Leaving directory '/content/ViennaRNA-2.4.14/src/bin'\n",
            "make[2]: Leaving directory '/content/ViennaRNA-2.4.14/src/bin'\n",
            "Making install in Utils\n",
            "make[2]: Entering directory '/content/ViennaRNA-2.4.14/src/Utils'\n",
            "make[3]: Entering directory '/content/ViennaRNA-2.4.14/src/Utils'\n",
            " /usr/bin/mkdir -p '/content/ViennaRNA-2.4.14/bin'\n",
            "  /bin/bash ../../libtool   --mode=install /usr/bin/install -c b2ct popt ct2db '/content/ViennaRNA-2.4.14/bin'\n",
            "libtool: install: /usr/bin/install -c b2ct /content/ViennaRNA-2.4.14/bin/b2ct\n",
            "libtool: install: /usr/bin/install -c popt /content/ViennaRNA-2.4.14/bin/popt\n",
            "libtool: install: /usr/bin/install -c ct2db /content/ViennaRNA-2.4.14/bin/ct2db\n",
            " /usr/bin/mkdir -p '/content/ViennaRNA-2.4.14/share/ViennaRNA/bin'\n",
            " /usr/bin/install -c b2mt.pl dpzoom.pl mountain.pl relplot.pl rotate_ss.pl cmount.pl coloraln.pl refold.pl switch.pl RNAdesign.pl '/content/ViennaRNA-2.4.14/share/ViennaRNA/bin'\n",
            "make  install-data-hook\n",
            "make[4]: Entering directory '/content/ViennaRNA-2.4.14/src/Utils'\n",
            "  GEN      install-data-hook\n",
            "make[4]: Leaving directory '/content/ViennaRNA-2.4.14/src/Utils'\n",
            "make[3]: Leaving directory '/content/ViennaRNA-2.4.14/src/Utils'\n",
            "make[2]: Leaving directory '/content/ViennaRNA-2.4.14/src/Utils'\n",
            "make[2]: Entering directory '/content/ViennaRNA-2.4.14/src'\n",
            "make[3]: Entering directory '/content/ViennaRNA-2.4.14/src'\n",
            "make[3]: Nothing to be done for 'install-exec-am'.\n",
            "make[3]: Nothing to be done for 'install-data-am'.\n",
            "make[3]: Leaving directory '/content/ViennaRNA-2.4.14/src'\n",
            "make[2]: Leaving directory '/content/ViennaRNA-2.4.14/src'\n",
            "make[1]: Leaving directory '/content/ViennaRNA-2.4.14/src'\n",
            "Making install in man\n",
            "make[1]: Entering directory '/content/ViennaRNA-2.4.14/man'\n",
            "make[2]: Entering directory '/content/ViennaRNA-2.4.14/man'\n",
            "make[2]: Nothing to be done for 'install-exec-am'.\n",
            " /usr/bin/mkdir -p '/content/ViennaRNA-2.4.14/share/info'\n",
            " /usr/bin/install -c -m 644 ./RNAlib.info '/content/ViennaRNA-2.4.14/share/info'\n",
            " /usr/bin/mkdir -p '/content/ViennaRNA-2.4.14/share/man/man1'\n",
            " /usr/bin/install -c -m 644 RNA2Dfold.1 RNAaliduplex.1 RNAalifold.1 RNAcofold.1 RNAduplex.1 RNAeval.1 RNAfold.1 RNAheat.1 RNAinverse.1 RNALalifold.1 RNALfold.1 RNApaln.1 RNAparconv.1 RNAplfold.1 RNAplot.1 RNApvmin.1 RNAsubopt.1 RNAup.1 RNAPKplex.1 RNAsnoop.1 RNAplex.1 RNAdistance.1 RNApdist.1 RNAdos.1 ct2db.1 '/content/ViennaRNA-2.4.14/share/man/man1'\n",
            "make[2]: Leaving directory '/content/ViennaRNA-2.4.14/man'\n",
            "make[1]: Leaving directory '/content/ViennaRNA-2.4.14/man'\n",
            "Making install in misc\n",
            "make[1]: Entering directory '/content/ViennaRNA-2.4.14/misc'\n",
            "make[2]: Entering directory '/content/ViennaRNA-2.4.14/misc'\n",
            "make[2]: Nothing to be done for 'install-exec-am'.\n",
            " /usr/bin/mkdir -p '/content/ViennaRNA-2.4.14/share/ViennaRNA'\n",
            " /usr/bin/install -c -m 644 2Dlandscape_mfe.gri 2Dlandscape_pf.gri rna_turner1999.par rna_turner2004.par rna_andronescu2007.par dna_mathews1999.par dna_mathews2004.par rna_langdon2018.par rna_misc_special_hairpins.par 2Dlandscape.R '/content/ViennaRNA-2.4.14/share/ViennaRNA'\n",
            "make[2]: Leaving directory '/content/ViennaRNA-2.4.14/misc'\n",
            "make[1]: Leaving directory '/content/ViennaRNA-2.4.14/misc'\n",
            "Making install in doc\n",
            "make[1]: Entering directory '/content/ViennaRNA-2.4.14/doc'\n",
            "make[2]: Entering directory '/content/ViennaRNA-2.4.14/doc'\n",
            "make[2]: Nothing to be done for 'install-exec-am'.\n",
            " /usr/bin/mkdir -p '/content/ViennaRNA-2.4.14/share/ViennaRNA'\n",
            " /usr/bin/install -c -m 644 viennarna.bib DoxygenLayout.xml '/content/ViennaRNA-2.4.14/share/ViennaRNA'\n",
            "make[2]: Leaving directory '/content/ViennaRNA-2.4.14/doc'\n",
            "make[1]: Leaving directory '/content/ViennaRNA-2.4.14/doc'\n",
            "Making install in RNA-Tutorial\n",
            "make[1]: Entering directory '/content/ViennaRNA-2.4.14/RNA-Tutorial'\n",
            "make[2]: Entering directory '/content/ViennaRNA-2.4.14/RNA-Tutorial'\n",
            "make[2]: Nothing to be done for 'install-exec-am'.\n",
            "make[2]: Leaving directory '/content/ViennaRNA-2.4.14/RNA-Tutorial'\n",
            "make[1]: Leaving directory '/content/ViennaRNA-2.4.14/RNA-Tutorial'\n",
            "Making install in interfaces\n",
            "make[1]: Entering directory '/content/ViennaRNA-2.4.14/interfaces'\n",
            "make[2]: Entering directory '/content/ViennaRNA-2.4.14/interfaces'\n",
            "make[3]: Entering directory '/content/ViennaRNA-2.4.14/interfaces'\n",
            "make[3]: Nothing to be done for 'install-exec-am'.\n",
            "make[3]: Nothing to be done for 'install-data-am'.\n",
            "make[3]: Leaving directory '/content/ViennaRNA-2.4.14/interfaces'\n",
            "make[2]: Leaving directory '/content/ViennaRNA-2.4.14/interfaces'\n",
            "make[1]: Leaving directory '/content/ViennaRNA-2.4.14/interfaces'\n",
            "Making install in tests\n",
            "make[1]: Entering directory '/content/ViennaRNA-2.4.14/tests'\n",
            "make  install-am\n",
            "make[2]: Entering directory '/content/ViennaRNA-2.4.14/tests'\n",
            "make[3]: Entering directory '/content/ViennaRNA-2.4.14/tests'\n",
            "make[3]: Nothing to be done for 'install-exec-am'.\n",
            "make[3]: Nothing to be done for 'install-data-am'.\n",
            "make[3]: Leaving directory '/content/ViennaRNA-2.4.14/tests'\n",
            "make[2]: Leaving directory '/content/ViennaRNA-2.4.14/tests'\n",
            "make[1]: Leaving directory '/content/ViennaRNA-2.4.14/tests'\n",
            "Making install in examples\n",
            "make[1]: Entering directory '/content/ViennaRNA-2.4.14/examples'\n",
            "make[2]: Entering directory '/content/ViennaRNA-2.4.14/examples'\n",
            "make[2]: Nothing to be done for 'install-exec-am'.\n",
            " /usr/bin/mkdir -p '/content/ViennaRNA-2.4.14/share/ViennaRNA/examples'\n",
            " /usr/bin/install -c -m 644 callback_subopt.c example1.c example_old.c fold_compound_md.c fold_compound_mfe.c helloworld_mfe.c helloworld_mfe_comparative.c helloworld_probabilities.c soft_constraints_up.c '/content/ViennaRNA-2.4.14/share/ViennaRNA/examples'\n",
            " /usr/bin/mkdir -p '/content/ViennaRNA-2.4.14/share/ViennaRNA/examples/data'\n",
            " /usr/bin/install -c -m 644 files/alignment_clustal.aln files/alignment_fasta.fa files/alignment_stockholm.stk files/alignment_maf.maf '/content/ViennaRNA-2.4.14/share/ViennaRNA/examples/data'\n",
            " /usr/bin/mkdir -p '/content/ViennaRNA-2.4.14/share/ViennaRNA/examples/perl5'\n",
            " /usr/bin/install -c -m 644 Perl5/helloworld_mfe.pl Perl5/helloworld_mfe_comparative.pl Perl5/helloworld_nondefault.pl Perl5/maximum_matching.pl Perl5/oo_example1.pl '/content/ViennaRNA-2.4.14/share/ViennaRNA/examples/perl5'\n",
            " /usr/bin/mkdir -p '/content/ViennaRNA-2.4.14/share/ViennaRNA/examples/python'\n",
            " /usr/bin/install -c -m 644 Python/boltzmann_sampling.py Python/helloworld_mfe_comparative.py Python/helloworld_mfe.py Python/helloworld_nondefault.py Python/maximum_matching.py Python/oo_example1.py Python/subopt.py Python/RNAfold_MEA.py '/content/ViennaRNA-2.4.14/share/ViennaRNA/examples/python'\n",
            "make[2]: Leaving directory '/content/ViennaRNA-2.4.14/examples'\n",
            "make[1]: Leaving directory '/content/ViennaRNA-2.4.14/examples'\n",
            "Making install in packaging/macosx\n",
            "make[1]: Entering directory '/content/ViennaRNA-2.4.14/packaging/macosx'\n",
            "make[2]: Entering directory '/content/ViennaRNA-2.4.14/packaging/macosx'\n",
            "make[2]: Nothing to be done for 'install-exec-am'.\n",
            "make[2]: Nothing to be done for 'install-data-am'.\n",
            "make[2]: Leaving directory '/content/ViennaRNA-2.4.14/packaging/macosx'\n",
            "make[1]: Leaving directory '/content/ViennaRNA-2.4.14/packaging/macosx'\n",
            "make[1]: Entering directory '/content/ViennaRNA-2.4.14'\n",
            "make[2]: Entering directory '/content/ViennaRNA-2.4.14'\n",
            "make[2]: Nothing to be done for 'install-exec-am'.\n",
            " /usr/bin/mkdir -p '/content/ViennaRNA-2.4.14/lib/pkgconfig'\n",
            " /usr/bin/install -c -m 644 RNAlib2.pc '/content/ViennaRNA-2.4.14/lib/pkgconfig'\n",
            "make[2]: Leaving directory '/content/ViennaRNA-2.4.14'\n",
            "make[1]: Leaving directory '/content/ViennaRNA-2.4.14'\n"
          ]
        }
      ]
    },
    {
      "cell_type": "code",
      "metadata": {
        "colab": {
          "base_uri": "https://localhost:8080/"
        },
        "id": "mczR1evsnnDE",
        "outputId": "9f2200d0-c3c4-4b08-b394-ff2df7e056fc"
      },
      "source": [
        "!ls bin/RNAfold"
      ],
      "execution_count": 6,
      "outputs": [
        {
          "output_type": "stream",
          "name": "stdout",
          "text": [
            "bin/RNAfold\n"
          ]
        }
      ]
    },
    {
      "cell_type": "code",
      "metadata": {
        "id": "BllOjUzKnnFx"
      },
      "source": [
        "def run_RNAfold(rna_sequence):\n",
        "  import subprocess\n",
        "  foldout, folderr = subprocess.Popen(['/content/ViennaRNA-2.4.14/bin/RNAfold',\"--noPS\"], stdin=subprocess.PIPE, stderr=subprocess.PIPE, stdout=subprocess.PIPE, universal_newlines=True).communicate(input=rna_sequence)\n",
        "  if folderr:\n",
        "        raise 'Error'\n",
        "  #print(foldout)\n",
        "  # parse the results\n",
        "  output_lines = foldout.strip().splitlines()\n",
        "  rna_seq = output_lines[0]\n",
        "  rna_structure = output_lines[1].split(None,1)[0].strip()\n",
        "  energy = float(output_lines[1].rsplit(\"(\",1)[1].strip(\"()\").strip())\n",
        "  #print(\"RNA_sequence : \",rna_sequence)\n",
        "  #print(\"RNA_structure: \",rna_structure)\n",
        "  #print(\"Energy: \",energy)\n",
        "  return rna_sequence,rna_structure\n"
      ],
      "execution_count": 7,
      "outputs": []
    },
    {
      "cell_type": "code",
      "metadata": {
        "colab": {
          "base_uri": "https://localhost:8080/"
        },
        "id": "075F3SF2nnIU",
        "outputId": "1cc10439-248c-4562-c629-8192448e617c"
      },
      "source": [
        "rna_sequence,rna_structure = run_RNAfold('GGAAAUCCGGGG')\n",
        "print(\"RNA_sequence : \",rna_sequence)\n",
        "print(\"RNA_structure: \",rna_structure)"
      ],
      "execution_count": 16,
      "outputs": [
        {
          "output_type": "stream",
          "name": "stdout",
          "text": [
            "RNA_sequence :  GGAAAUCCGGGG\n",
            "RNA_structure:  ((....))....\n"
          ]
        }
      ]
    },
    {
      "cell_type": "code",
      "metadata": {
        "id": "FcDLIY7Nn-TR"
      },
      "source": [],
      "execution_count": 8,
      "outputs": []
    },
    {
      "cell_type": "code",
      "metadata": {
        "id": "IxktKiuUn-WD"
      },
      "source": [],
      "execution_count": 8,
      "outputs": []
    },
    {
      "cell_type": "markdown",
      "metadata": {
        "id": "HpN1gdKyeAbz"
      },
      "source": [
        "**Step 2: Predict secondary structure for sequences**"
      ]
    },
    {
      "cell_type": "code",
      "metadata": {
        "colab": {
          "base_uri": "https://localhost:8080/"
        },
        "id": "edoiVTwNeMf7",
        "outputId": "621d4fa3-66f4-42ff-9f01-0d75839ebcb6"
      },
      "source": [
        "!rm bpRNA_TR0.fasta bpRNA_VL0.fasta  bpRNA_TS0.fasta PDB_train.fasta PDB_val.fasta PDB_test.fasta PDB_test2.fasta PDB_test3.fasta PDB_test_hard.fasta\n",
        "!wget https://cs.slu.edu/~hou/projects/RNA_folding/data/SPOT-RNA2/bpRNA_TR0.fasta --no-check-certificate\n",
        "!wget https://cs.slu.edu/~hou/projects/RNA_folding/data/SPOT-RNA2/bpRNA_VL0.fasta --no-check-certificate\n",
        "!wget https://cs.slu.edu/~hou/projects/RNA_folding/data/SPOT-RNA2/bpRNA_TS0.fasta --no-check-certificate\n",
        "!wget https://cs.slu.edu/~hou/projects/RNA_folding/data/SPOT-RNA2/PDB_train.fasta --no-check-certificate\n",
        "!wget https://cs.slu.edu/~hou/projects/RNA_folding/data/SPOT-RNA2/PDB_val.fasta --no-check-certificate\n",
        "!wget https://cs.slu.edu/~hou/projects/RNA_folding/data/SPOT-RNA2/PDB_test.fasta --no-check-certificate\n",
        "!wget https://cs.slu.edu/~hou/projects/RNA_folding/data/SPOT-RNA2/PDB_test2.fasta --no-check-certificate\n",
        "!wget https://cs.slu.edu/~hou/projects/RNA_folding/data/SPOT-RNA2/PDB_test3.fasta --no-check-certificate\n",
        "!wget https://cs.slu.edu/~hou/projects/RNA_folding/data/SPOT-RNA2/PDB_test_hard.fasta --no-check-certificate"
      ],
      "execution_count": 9,
      "outputs": [
        {
          "output_type": "stream",
          "name": "stdout",
          "text": [
            "rm: cannot remove 'bpRNA_TR0.fasta': No such file or directory\n",
            "rm: cannot remove 'bpRNA_VL0.fasta': No such file or directory\n",
            "rm: cannot remove 'bpRNA_TS0.fasta': No such file or directory\n",
            "rm: cannot remove 'PDB_train.fasta': No such file or directory\n",
            "rm: cannot remove 'PDB_val.fasta': No such file or directory\n",
            "rm: cannot remove 'PDB_test.fasta': No such file or directory\n",
            "rm: cannot remove 'PDB_test2.fasta': No such file or directory\n",
            "rm: cannot remove 'PDB_test3.fasta': No such file or directory\n",
            "rm: cannot remove 'PDB_test_hard.fasta': No such file or directory\n",
            "--2024-07-21 14:47:40--  https://cs.slu.edu/~hou/projects/RNA_folding/data/SPOT-RNA2/bpRNA_TR0.fasta\n",
            "Resolving cs.slu.edu (cs.slu.edu)... 165.134.107.79\n",
            "Connecting to cs.slu.edu (cs.slu.edu)|165.134.107.79|:443... connected.\n",
            "WARNING: cannot verify cs.slu.edu's certificate, issued by ‘CN=InCommon RSA Server CA 2,O=Internet2,C=US’:\n",
            "  Unable to locally verify the issuer's authority.\n",
            "HTTP request sent, awaiting response... 200 OK\n",
            "Length: 1635071 (1.6M)\n",
            "Saving to: ‘bpRNA_TR0.fasta’\n",
            "\n",
            "bpRNA_TR0.fasta     100%[===================>]   1.56M  4.31MB/s    in 0.4s    \n",
            "\n",
            "2024-07-21 14:47:41 (4.31 MB/s) - ‘bpRNA_TR0.fasta’ saved [1635071/1635071]\n",
            "\n",
            "--2024-07-21 14:47:41--  https://cs.slu.edu/~hou/projects/RNA_folding/data/SPOT-RNA2/bpRNA_VL0.fasta\n",
            "Resolving cs.slu.edu (cs.slu.edu)... 165.134.107.79\n",
            "Connecting to cs.slu.edu (cs.slu.edu)|165.134.107.79|:443... connected.\n",
            "WARNING: cannot verify cs.slu.edu's certificate, issued by ‘CN=InCommon RSA Server CA 2,O=Internet2,C=US’:\n",
            "  Unable to locally verify the issuer's authority.\n",
            "HTTP request sent, awaiting response... 200 OK\n",
            "Length: 192170 (188K)\n",
            "Saving to: ‘bpRNA_VL0.fasta’\n",
            "\n",
            "bpRNA_VL0.fasta     100%[===================>] 187.67K   917KB/s    in 0.2s    \n",
            "\n",
            "2024-07-21 14:47:42 (917 KB/s) - ‘bpRNA_VL0.fasta’ saved [192170/192170]\n",
            "\n",
            "--2024-07-21 14:47:42--  https://cs.slu.edu/~hou/projects/RNA_folding/data/SPOT-RNA2/bpRNA_TS0.fasta\n",
            "Resolving cs.slu.edu (cs.slu.edu)... 165.134.107.79\n",
            "Connecting to cs.slu.edu (cs.slu.edu)|165.134.107.79|:443... connected.\n",
            "WARNING: cannot verify cs.slu.edu's certificate, issued by ‘CN=InCommon RSA Server CA 2,O=Internet2,C=US’:\n",
            "  Unable to locally verify the issuer's authority.\n",
            "HTTP request sent, awaiting response... 200 OK\n",
            "Length: 196052 (191K)\n",
            "Saving to: ‘bpRNA_TS0.fasta’\n",
            "\n",
            "bpRNA_TS0.fasta     100%[===================>] 191.46K   910KB/s    in 0.2s    \n",
            "\n",
            "2024-07-21 14:47:42 (910 KB/s) - ‘bpRNA_TS0.fasta’ saved [196052/196052]\n",
            "\n",
            "--2024-07-21 14:47:42--  https://cs.slu.edu/~hou/projects/RNA_folding/data/SPOT-RNA2/PDB_train.fasta\n",
            "Resolving cs.slu.edu (cs.slu.edu)... 165.134.107.79\n",
            "Connecting to cs.slu.edu (cs.slu.edu)|165.134.107.79|:443... connected.\n",
            "WARNING: cannot verify cs.slu.edu's certificate, issued by ‘CN=InCommon RSA Server CA 2,O=Internet2,C=US’:\n",
            "  Unable to locally verify the issuer's authority.\n",
            "HTTP request sent, awaiting response... 200 OK\n",
            "Length: 10671 (10K)\n",
            "Saving to: ‘PDB_train.fasta’\n",
            "\n",
            "PDB_train.fasta     100%[===================>]  10.42K  --.-KB/s    in 0s      \n",
            "\n",
            "2024-07-21 14:47:42 (148 MB/s) - ‘PDB_train.fasta’ saved [10671/10671]\n",
            "\n",
            "--2024-07-21 14:47:42--  https://cs.slu.edu/~hou/projects/RNA_folding/data/SPOT-RNA2/PDB_val.fasta\n",
            "Resolving cs.slu.edu (cs.slu.edu)... 165.134.107.79\n",
            "Connecting to cs.slu.edu (cs.slu.edu)|165.134.107.79|:443... connected.\n",
            "WARNING: cannot verify cs.slu.edu's certificate, issued by ‘CN=InCommon RSA Server CA 2,O=Internet2,C=US’:\n",
            "  Unable to locally verify the issuer's authority.\n",
            "HTTP request sent, awaiting response... 200 OK\n",
            "Length: 2631 (2.6K)\n",
            "Saving to: ‘PDB_val.fasta’\n",
            "\n",
            "PDB_val.fasta       100%[===================>]   2.57K  --.-KB/s    in 0s      \n",
            "\n",
            "2024-07-21 14:47:43 (775 MB/s) - ‘PDB_val.fasta’ saved [2631/2631]\n",
            "\n",
            "--2024-07-21 14:47:43--  https://cs.slu.edu/~hou/projects/RNA_folding/data/SPOT-RNA2/PDB_test.fasta\n",
            "Resolving cs.slu.edu (cs.slu.edu)... 165.134.107.79\n",
            "Connecting to cs.slu.edu (cs.slu.edu)|165.134.107.79|:443... connected.\n",
            "WARNING: cannot verify cs.slu.edu's certificate, issued by ‘CN=InCommon RSA Server CA 2,O=Internet2,C=US’:\n",
            "  Unable to locally verify the issuer's authority.\n",
            "HTTP request sent, awaiting response... 200 OK\n",
            "Length: 5668 (5.5K)\n",
            "Saving to: ‘PDB_test.fasta’\n",
            "\n",
            "PDB_test.fasta      100%[===================>]   5.54K  --.-KB/s    in 0s      \n",
            "\n",
            "2024-07-21 14:47:43 (1.08 GB/s) - ‘PDB_test.fasta’ saved [5668/5668]\n",
            "\n",
            "--2024-07-21 14:47:43--  https://cs.slu.edu/~hou/projects/RNA_folding/data/SPOT-RNA2/PDB_test2.fasta\n",
            "Resolving cs.slu.edu (cs.slu.edu)... 165.134.107.79\n",
            "Connecting to cs.slu.edu (cs.slu.edu)|165.134.107.79|:443... connected.\n",
            "WARNING: cannot verify cs.slu.edu's certificate, issued by ‘CN=InCommon RSA Server CA 2,O=Internet2,C=US’:\n",
            "  Unable to locally verify the issuer's authority.\n",
            "HTTP request sent, awaiting response... 200 OK\n",
            "Length: 2141 (2.1K)\n",
            "Saving to: ‘PDB_test2.fasta’\n",
            "\n",
            "PDB_test2.fasta     100%[===================>]   2.09K  --.-KB/s    in 0s      \n",
            "\n",
            "2024-07-21 14:47:43 (431 MB/s) - ‘PDB_test2.fasta’ saved [2141/2141]\n",
            "\n",
            "--2024-07-21 14:47:43--  https://cs.slu.edu/~hou/projects/RNA_folding/data/SPOT-RNA2/PDB_test3.fasta\n",
            "Resolving cs.slu.edu (cs.slu.edu)... 165.134.107.79\n",
            "Connecting to cs.slu.edu (cs.slu.edu)|165.134.107.79|:443... connected.\n",
            "WARNING: cannot verify cs.slu.edu's certificate, issued by ‘CN=InCommon RSA Server CA 2,O=Internet2,C=US’:\n",
            "  Unable to locally verify the issuer's authority.\n",
            "HTTP request sent, awaiting response... 200 OK\n",
            "Length: 1668 (1.6K)\n",
            "Saving to: ‘PDB_test3.fasta’\n",
            "\n",
            "PDB_test3.fasta     100%[===================>]   1.63K  --.-KB/s    in 0s      \n",
            "\n",
            "2024-07-21 14:47:44 (401 MB/s) - ‘PDB_test3.fasta’ saved [1668/1668]\n",
            "\n",
            "--2024-07-21 14:47:44--  https://cs.slu.edu/~hou/projects/RNA_folding/data/SPOT-RNA2/PDB_test_hard.fasta\n",
            "Resolving cs.slu.edu (cs.slu.edu)... 165.134.107.79\n",
            "Connecting to cs.slu.edu (cs.slu.edu)|165.134.107.79|:443... connected.\n",
            "WARNING: cannot verify cs.slu.edu's certificate, issued by ‘CN=InCommon RSA Server CA 2,O=Internet2,C=US’:\n",
            "  Unable to locally verify the issuer's authority.\n",
            "HTTP request sent, awaiting response... 200 OK\n",
            "Length: 1689 (1.6K)\n",
            "Saving to: ‘PDB_test_hard.fasta’\n",
            "\n",
            "PDB_test_hard.fasta 100%[===================>]   1.65K  --.-KB/s    in 0s      \n",
            "\n",
            "2024-07-21 14:47:44 (625 MB/s) - ‘PDB_test_hard.fasta’ saved [1689/1689]\n",
            "\n"
          ]
        }
      ]
    },
    {
      "cell_type": "code",
      "metadata": {
        "colab": {
          "base_uri": "https://localhost:8080/"
        },
        "id": "Au8s2EOveXMh",
        "outputId": "cbcf7ecb-3de2-45a4-b7d0-309669f26d85"
      },
      "source": [
        "ls"
      ],
      "execution_count": 10,
      "outputs": [
        {
          "output_type": "stream",
          "name": "stdout",
          "text": [
            "aclocal.m4       config.h.in     INSTALL      \u001b[0m\u001b[01;34mmisc\u001b[0m/                RNAlib2.pc\n",
            "AUTHORS          config.log      \u001b[01;32minstall-sh\u001b[0m*  \u001b[01;32mmissing\u001b[0m*             RNAlib2.pc.in\n",
            "\u001b[01;34mbin\u001b[0m/             \u001b[01;32mconfig.status\u001b[0m*  \u001b[01;34minterfaces\u001b[0m/  NEWS                 \u001b[01;34mRNA-Tutorial\u001b[0m/\n",
            "bpRNA_TR0.fasta  \u001b[01;32mconfig.sub\u001b[0m*     \u001b[01;34mlib\u001b[0m/         \u001b[01;34mpackaging\u001b[0m/           \u001b[01;34mshare\u001b[0m/\n",
            "bpRNA_TS0.fasta  \u001b[01;32mconfigure\u001b[0m*      \u001b[01;32mlibtool\u001b[0m*     PDB_test2.fasta      \u001b[01;34msrc\u001b[0m/\n",
            "bpRNA_VL0.fasta  configure.ac    license.txt  PDB_test3.fasta      stamp-h1\n",
            "CHANGELOG.md     COPYING         \u001b[01;34mm4\u001b[0m/          PDB_test.fasta       \u001b[01;34mtests\u001b[0m/\n",
            "\u001b[01;32mcompile\u001b[0m*         \u001b[01;32mdepcomp\u001b[0m*        Makefile     PDB_test_hard.fasta  THANKS\n",
            "\u001b[01;34mconfig\u001b[0m/          \u001b[01;34mdoc\u001b[0m/            Makefile.am  PDB_train.fasta      \u001b[01;34mViennaRNA-2.4.14\u001b[0m/\n",
            "\u001b[01;32mconfig.guess\u001b[0m*    \u001b[01;34mexamples\u001b[0m/       Makefile.in  PDB_val.fasta        ViennaRNA-2.4.14.tar.gz\n",
            "config.h         \u001b[01;34minclude\u001b[0m/        \u001b[01;34mman\u001b[0m/         README.md            \u001b[01;32mylwrap\u001b[0m*\n"
          ]
        }
      ]
    },
    {
      "cell_type": "code",
      "source": [
        "!cat test.fa"
      ],
      "metadata": {
        "colab": {
          "base_uri": "https://localhost:8080/"
        },
        "id": "m2heEm3N7dRI",
        "outputId": "d59f2c02-affa-499f-a484-0cee1eed4b76"
      },
      "execution_count": 13,
      "outputs": [
        {
          "output_type": "stream",
          "name": "stdout",
          "text": [
            ">bpRNA_tmRNA_97\n",
            "GGGGGCGUAAAGGGUUCGACGGGGGAGCGAAGGGCCGAAAGUAGCGAGGCGAGGACCCCAUCUUACCUCGUUAAAAAUGGUGGGAAAAGAUAACUGCCAACGAAAACUACGCUUUAGCUGCUUAAUAACGCAGCUACGUCCUGACGGAAGCUUGCCCGGGGCUUCUGUCGGGGCGUGACCGGACCGGGCUGGCUUAUGAAGGGUGUCCCGGCUCUUCAUAAGCGAGAUUUUACGGGAUAGCCCGAUUGUGGCCUGCCGGUAGGCACCAAUCGGGUGAAAGCAAAAAUACCGGCUGCCCUCGGAGAAGCUUUCGGUUCUUGUCCUCCGGACGGUGGGUUCGAUUCCCCCCGCCUCCACCA\n"
          ]
        }
      ]
    },
    {
      "cell_type": "code",
      "source": [
        "(rna_sequence,rna_structure) = run_RNAfold('test.fa')\n",
        "print(rna_sequence)\n",
        "print(rna_structure)"
      ],
      "metadata": {
        "colab": {
          "base_uri": "https://localhost:8080/"
        },
        "id": "7dk81YDL7fy8",
        "outputId": "6e611a9d-c531-4606-a0c2-232183f87d77"
      },
      "execution_count": 15,
      "outputs": [
        {
          "output_type": "stream",
          "name": "stdout",
          "text": [
            "test.fa\n",
            ".......\n"
          ]
        }
      ]
    },
    {
      "cell_type": "code",
      "source": [
        "#@title Run prediction on bpRNA_TR0.fasta\n",
        "\n",
        "import time\n",
        "lines=open('bpRNA_TR0.fasta').readlines()\n",
        "with open('RNAfold_bpRNA_TR0.prediction',\"w\") as newFasta:\n",
        "  for i in range(0,len(lines),2):\n",
        "    id = lines[i].strip()\n",
        "    seq = lines[i+1].strip()\n",
        "    if i % 100 == 0:\n",
        "        print(i,' finish!')\n",
        "    #!echo \"$id\" > 'test.fa'\n",
        "    #!echo \"$seq\" >> 'test.fa'\n",
        "    (rna_sequence,rna_structure) = run_RNAfold(seq)\n",
        "    header = id + \"\\t\" + str(rna_sequence) + \"\\t\" + str(rna_structure) + \"\\n\"\n",
        "    newFasta.write(header)\n",
        "newFasta.close()"
      ],
      "metadata": {
        "colab": {
          "base_uri": "https://localhost:8080/"
        },
        "id": "SWzd4OftanFt",
        "outputId": "95b8c0d6-ccb1-439b-8fcb-2e29191e4fa3"
      },
      "execution_count": 17,
      "outputs": [
        {
          "output_type": "stream",
          "name": "stdout",
          "text": [
            "0  finish!\n",
            "100  finish!\n",
            "200  finish!\n",
            "300  finish!\n",
            "400  finish!\n",
            "500  finish!\n",
            "600  finish!\n",
            "700  finish!\n",
            "800  finish!\n",
            "900  finish!\n",
            "1000  finish!\n",
            "1100  finish!\n",
            "1200  finish!\n",
            "1300  finish!\n",
            "1400  finish!\n",
            "1500  finish!\n",
            "1600  finish!\n",
            "1700  finish!\n",
            "1800  finish!\n",
            "1900  finish!\n",
            "2000  finish!\n",
            "2100  finish!\n",
            "2200  finish!\n",
            "2300  finish!\n",
            "2400  finish!\n",
            "2500  finish!\n",
            "2600  finish!\n",
            "2700  finish!\n",
            "2800  finish!\n",
            "2900  finish!\n",
            "3000  finish!\n",
            "3100  finish!\n",
            "3200  finish!\n",
            "3300  finish!\n",
            "3400  finish!\n",
            "3500  finish!\n",
            "3600  finish!\n",
            "3700  finish!\n",
            "3800  finish!\n",
            "3900  finish!\n",
            "4000  finish!\n",
            "4100  finish!\n",
            "4200  finish!\n",
            "4300  finish!\n",
            "4400  finish!\n",
            "4500  finish!\n",
            "4600  finish!\n",
            "4700  finish!\n",
            "4800  finish!\n",
            "4900  finish!\n",
            "5000  finish!\n",
            "5100  finish!\n",
            "5200  finish!\n",
            "5300  finish!\n",
            "5400  finish!\n",
            "5500  finish!\n",
            "5600  finish!\n",
            "5700  finish!\n",
            "5800  finish!\n",
            "5900  finish!\n",
            "6000  finish!\n",
            "6100  finish!\n",
            "6200  finish!\n",
            "6300  finish!\n",
            "6400  finish!\n",
            "6500  finish!\n",
            "6600  finish!\n",
            "6700  finish!\n",
            "6800  finish!\n",
            "6900  finish!\n",
            "7000  finish!\n",
            "7100  finish!\n",
            "7200  finish!\n",
            "7300  finish!\n",
            "7400  finish!\n",
            "7500  finish!\n",
            "7600  finish!\n",
            "7700  finish!\n",
            "7800  finish!\n",
            "7900  finish!\n",
            "8000  finish!\n",
            "8100  finish!\n",
            "8200  finish!\n",
            "8300  finish!\n",
            "8400  finish!\n",
            "8500  finish!\n",
            "8600  finish!\n",
            "8700  finish!\n",
            "8800  finish!\n",
            "8900  finish!\n",
            "9000  finish!\n",
            "9100  finish!\n",
            "9200  finish!\n",
            "9300  finish!\n",
            "9400  finish!\n",
            "9500  finish!\n",
            "9600  finish!\n",
            "9700  finish!\n",
            "9800  finish!\n",
            "9900  finish!\n",
            "10000  finish!\n",
            "10100  finish!\n",
            "10200  finish!\n",
            "10300  finish!\n",
            "10400  finish!\n",
            "10500  finish!\n",
            "10600  finish!\n",
            "10700  finish!\n",
            "10800  finish!\n",
            "10900  finish!\n",
            "11000  finish!\n",
            "11100  finish!\n",
            "11200  finish!\n",
            "11300  finish!\n",
            "11400  finish!\n",
            "11500  finish!\n",
            "11600  finish!\n",
            "11700  finish!\n",
            "11800  finish!\n",
            "11900  finish!\n",
            "12000  finish!\n",
            "12100  finish!\n",
            "12200  finish!\n",
            "12300  finish!\n",
            "12400  finish!\n",
            "12500  finish!\n",
            "12600  finish!\n",
            "12700  finish!\n",
            "12800  finish!\n",
            "12900  finish!\n",
            "13000  finish!\n",
            "13100  finish!\n",
            "13200  finish!\n",
            "13300  finish!\n",
            "13400  finish!\n",
            "13500  finish!\n",
            "13600  finish!\n",
            "13700  finish!\n",
            "13800  finish!\n",
            "13900  finish!\n",
            "14000  finish!\n",
            "14100  finish!\n",
            "14200  finish!\n",
            "14300  finish!\n",
            "14400  finish!\n",
            "14500  finish!\n",
            "14600  finish!\n",
            "14700  finish!\n",
            "14800  finish!\n",
            "14900  finish!\n",
            "15000  finish!\n",
            "15100  finish!\n",
            "15200  finish!\n",
            "15300  finish!\n",
            "15400  finish!\n",
            "15500  finish!\n",
            "15600  finish!\n",
            "15700  finish!\n",
            "15800  finish!\n",
            "15900  finish!\n",
            "16000  finish!\n",
            "16100  finish!\n",
            "16200  finish!\n",
            "16300  finish!\n",
            "16400  finish!\n",
            "16500  finish!\n",
            "16600  finish!\n",
            "16700  finish!\n",
            "16800  finish!\n",
            "16900  finish!\n",
            "17000  finish!\n",
            "17100  finish!\n",
            "17200  finish!\n",
            "17300  finish!\n",
            "17400  finish!\n",
            "17500  finish!\n",
            "17600  finish!\n",
            "17700  finish!\n",
            "17800  finish!\n",
            "17900  finish!\n",
            "18000  finish!\n",
            "18100  finish!\n",
            "18200  finish!\n",
            "18300  finish!\n",
            "18400  finish!\n",
            "18500  finish!\n",
            "18600  finish!\n",
            "18700  finish!\n",
            "18800  finish!\n",
            "18900  finish!\n",
            "19000  finish!\n",
            "19100  finish!\n",
            "19200  finish!\n",
            "19300  finish!\n",
            "19400  finish!\n",
            "19500  finish!\n",
            "19600  finish!\n",
            "19700  finish!\n",
            "19800  finish!\n",
            "19900  finish!\n",
            "20000  finish!\n",
            "20100  finish!\n",
            "20200  finish!\n",
            "20300  finish!\n",
            "20400  finish!\n",
            "20500  finish!\n",
            "20600  finish!\n",
            "20700  finish!\n",
            "20800  finish!\n",
            "20900  finish!\n",
            "21000  finish!\n",
            "21100  finish!\n",
            "21200  finish!\n",
            "21300  finish!\n",
            "21400  finish!\n"
          ]
        }
      ]
    },
    {
      "cell_type": "code",
      "source": [
        "!head RNAfold_bpRNA_TR0.prediction"
      ],
      "metadata": {
        "colab": {
          "base_uri": "https://localhost:8080/"
        },
        "id": "v_-ooU_l7YFi",
        "outputId": "2b92468e-1d5a-484e-ad55-c7ca03089617"
      },
      "execution_count": 18,
      "outputs": [
        {
          "output_type": "stream",
          "name": "stdout",
          "text": [
            ">bpRNA_CRW_15639\tUCCCUGGUGAAAUUAGCGCUGUGGAACCACCCGAUCCCAUCCCGAACUCGGAAGUGAAACGCAGCUGCGCCGAUGGUAGUGUGGCUCAAGCCAUGCGAGAGUAGGUCAUCGCCAGGGGC\t.(((((((((.....((((((((....(((((((((.......))..))))..)))...)))))).))(((.((....(((((((....)))))))....)).)))..)))))))))..\n",
            ">bpRNA_CRW_15847\tUAGAGGUUUUUAUUAACUUGGUGGUUUUAGCAAAAAUGAAACACCCGAUCCCAUCUCGAAUUCGGAAGUGAAACUUUUUAGCGCUGAUGGUACUUGAAAAGGGAGAGUAGGUCGCUGCCAAGUUU\t..............((((((((.((((((.......))))))...(((((...((((...((((....)))).((((((((.(((...))).).))))))).))))...)))))..)))))))).\n",
            ">bpRNA_CRW_15871\tCCCGGUGGCUAUCGCGGAGGGGCCACACCCGUUCCCUUUCCGAAUACGGUCGUUAAGCCCUCCAGCGCUGAUGGUACUGCUUCGGAGACGAGGUGGGAGAGUAGGACGUCGCCGGGUUAUU\t(((((((((...(((((((((...(((((.((((.......))))..))).))....)))))).)))(((......((((((((....)))))))).....)))...))))))))).....\n",
            ">bpRNA_CRW_15994\tUUUGCGGUGGUCAUAGCCCUGGUGAGACGCCCGGUCCCAUUCCGAACCCGGUAGCUAAGGCCAGGCGCGGCGAUGGUACUGCACUCGAGAGGGUGUGGGAGAGUAGCACGCCGCCGC\t...(((((.......((((((((.((..(((.(((.(......).))).)))..))...)))))).))((((.((.((((((((((....)))))).....)))).)))))))))))\n",
            ">bpRNA_CRW_16021\tAGCUUGACGAAUAUAGUUUGUGGGACCAACCUGAAACCAUUCCGAACUCAGAAGUUAAAUCACCUAACGCCUAUGGUAGUAUGAGGUUCUCCUCAUGUGAGAGUAGGUUAUCGUCAGGCUA\t((((((((((....(((((((((.............)))...)))))).....((((.......))))((((((.....(((((((....))))))).....))))))..)))))))))).\n",
            ">bpRNA_CRW_16023\tGUUUCCCGGUGGUUAUAGGGGCAGGGUUCCACCCGUUCCCAUUCCGAACACGGAAGUUAAGCCUGCCACCGCCGAUGGUACUGCAUGCGCAGGUGUGUGGGAGAGUAGGUCACUGCCGGGA\t...((((((((((....((((..((((...))))..)))).(((((....))))).....((((((...(.((.(((...((((....))))...))).)).).)))))).))))))))))\n",
            ">bpRNA_CRW_16024\tAUUUUGUCGGCAGGGUCACACCCGUUCCCAUCCCGAACACGGAAGUUAAGCCUGCUGGAGCCGAUGGUACUGCGCGGGUAACUGUGUGGGAGAGUAGGAAGUCGCCGGGAUUAUUAUA\t....(.(((((.((((...)))).((((..((((..((((...((((..(((((((((.(((...))).))).)))))))))))))))))).....))))...))))).)........\n",
            ">bpRNA_CRW_16029\tUCCGGCGACUAUAGCAUAGGGGCAACACCCGUUCCCAUCCCGAACACGGCAGUUAAGUCCUAUCGCGCCGAUGAUAUUGCGCGGGAGACUAGCGUGAGAAAGUAGGUCAUCGCCGGG\t.(((((((((((...))))(((.(((....)))))).(((((..((((((.((...........)))))).......))..)))))((((.((........)).)))).))))))).\n",
            ">bpRNA_CRW_16032\tUGGCGGACAUAGCGAAUUGGACCCACUCCUUUCCAUUCCGAACAGGACAGUGAAACGAUUCUGCGCCGAUGAUAGUGUAGUCUUUUCUACGCGAACGUAGGACACUGCCAGGCU\t((((((.....((((((((....((((((((((......))).))))..)))...)))))).)).((.(((...((((((......))))))...))).))...))))))....\n",
            ">bpRNA_CRW_16084\tUUCGGUGGUCAUAGCGUGAGGGAAACGCCCGGUUACAUUCCGAACCCGGAAGCUAAGCCUUACAGCGCCGAUGGUACUGCAGGGGGGACCCUGUGGGAGAGUAGGACGCCGCCGAACAAAUUUUAG\t(((((((.((((...))))(((.....)))((((...(((((....)))))....)))).....(((((.((....((((((((....))))))))....)).)).))))))))))..........\n"
          ]
        }
      ]
    },
    {
      "cell_type": "code",
      "source": [
        "from google.colab import files\n",
        "files.download('RNAfold_bpRNA_TR0.prediction')"
      ],
      "metadata": {
        "colab": {
          "base_uri": "https://localhost:8080/",
          "height": 17
        },
        "id": "Pgbp7i7Cat-j",
        "outputId": "9961eacc-d61d-4faf-ca9e-b4caefe8daf4"
      },
      "execution_count": 19,
      "outputs": [
        {
          "output_type": "display_data",
          "data": {
            "text/plain": [
              "<IPython.core.display.Javascript object>"
            ],
            "application/javascript": [
              "\n",
              "    async function download(id, filename, size) {\n",
              "      if (!google.colab.kernel.accessAllowed) {\n",
              "        return;\n",
              "      }\n",
              "      const div = document.createElement('div');\n",
              "      const label = document.createElement('label');\n",
              "      label.textContent = `Downloading \"${filename}\": `;\n",
              "      div.appendChild(label);\n",
              "      const progress = document.createElement('progress');\n",
              "      progress.max = size;\n",
              "      div.appendChild(progress);\n",
              "      document.body.appendChild(div);\n",
              "\n",
              "      const buffers = [];\n",
              "      let downloaded = 0;\n",
              "\n",
              "      const channel = await google.colab.kernel.comms.open(id);\n",
              "      // Send a message to notify the kernel that we're ready.\n",
              "      channel.send({})\n",
              "\n",
              "      for await (const message of channel.messages) {\n",
              "        // Send a message to notify the kernel that we're ready.\n",
              "        channel.send({})\n",
              "        if (message.buffers) {\n",
              "          for (const buffer of message.buffers) {\n",
              "            buffers.push(buffer);\n",
              "            downloaded += buffer.byteLength;\n",
              "            progress.value = downloaded;\n",
              "          }\n",
              "        }\n",
              "      }\n",
              "      const blob = new Blob(buffers, {type: 'application/binary'});\n",
              "      const a = document.createElement('a');\n",
              "      a.href = window.URL.createObjectURL(blob);\n",
              "      a.download = filename;\n",
              "      div.appendChild(a);\n",
              "      a.click();\n",
              "      div.remove();\n",
              "    }\n",
              "  "
            ]
          },
          "metadata": {}
        },
        {
          "output_type": "display_data",
          "data": {
            "text/plain": [
              "<IPython.core.display.Javascript object>"
            ],
            "application/javascript": [
              "download(\"download_dad71d23-85b6-4f30-b211-1c2f749285b5\", \"RNAfold_bpRNA_TR0.prediction\", 3081682)"
            ]
          },
          "metadata": {}
        }
      ]
    },
    {
      "cell_type": "code",
      "source": [
        "#@title Run prediction on bpRNA_TS0.fasta\n",
        "\n",
        "import time\n",
        "lines=open('bpRNA_TS0.fasta').readlines()\n",
        "with open('RNAfold_bpRNA_TS0.prediction',\"w\") as newFasta:\n",
        "  for i in range(0,len(lines),2):\n",
        "    id = lines[i].strip()\n",
        "    seq = lines[i+1].strip()\n",
        "    if i % 100 == 0:\n",
        "        print(i,' finish!')\n",
        "    !echo \"$id\" > 'test.fa'\n",
        "    !echo \"$seq\" >> 'test.fa'\n",
        "    (rna_sequence,rna_structure) = run_RNAfold(seq)\n",
        "    header = id + \"\\t\" + str(rna_sequence) + \"\\t\" + str(rna_structure) + \"\\n\"\n",
        "    newFasta.write(header)\n",
        "newFasta.close()"
      ],
      "metadata": {
        "colab": {
          "base_uri": "https://localhost:8080/"
        },
        "id": "wUQAouOxaxRJ",
        "outputId": "1ff1aa20-715c-478b-9026-2796a502a3ad"
      },
      "execution_count": 23,
      "outputs": [
        {
          "output_type": "stream",
          "name": "stdout",
          "text": [
            "0  finish!\n",
            "100  finish!\n",
            "200  finish!\n",
            "300  finish!\n",
            "400  finish!\n",
            "500  finish!\n",
            "600  finish!\n",
            "700  finish!\n",
            "800  finish!\n",
            "900  finish!\n",
            "1000  finish!\n",
            "1100  finish!\n",
            "1200  finish!\n",
            "1300  finish!\n",
            "1400  finish!\n",
            "1500  finish!\n",
            "1600  finish!\n",
            "1700  finish!\n",
            "1800  finish!\n",
            "1900  finish!\n",
            "2000  finish!\n",
            "2100  finish!\n",
            "2200  finish!\n",
            "2300  finish!\n",
            "2400  finish!\n",
            "2500  finish!\n"
          ]
        }
      ]
    },
    {
      "cell_type": "code",
      "source": [
        "!head RNAfold_bpRNA_TS0.prediction"
      ],
      "metadata": {
        "colab": {
          "base_uri": "https://localhost:8080/"
        },
        "id": "YY_h6Pr6BRrb",
        "outputId": "8fde5c5a-9aec-4153-f7b3-6786bc854a90"
      },
      "execution_count": 24,
      "outputs": [
        {
          "output_type": "stream",
          "name": "stdout",
          "text": [
            ">bpRNA_CRW_15573\tUUCCUGACAAUAUUAUCGCGAUAGAACCACCUGAAUCCAUACCGAACUCAGAAGUGAAAUGUCGUAGUUCCGAUGGUAGUGUGAGGUUUCCUUAUGUGAGAGUAGGAGAUUGUCAGGAAA\t(((((((((((((((((((((((....(((((((.((......))..))))..)))...)))))).........))))))))...(((((((..(.....)..)))))))))))))))).\n",
            ">bpRNA_CRW_15828\tCAGGUGGCCAUAGUGGAGAGGUAAUACCCGUUCCCAUCCCGAACACGGAAGUCAAGCUCUCUUACGCCGAUGAUACUGCUGAUCAAGUGGGAAAGUAGGAUGCUGCCUGGC\t((((((((....(.((((.((......)).)))))...(((....)))..(((..(((.((((((...(((.(......).)))..)))))).)))..)))))))))))..\n",
            ">bpRNA_CRW_15839\tCCCGGUGACUAUAGAGAGAGGGCCACACCCGUUCCCAUCCCGAACACGGAAGUUAAGCCUCUCAUCGCUGAUGGUACUAUGUGGUUCGCUGCAUGGGAGAGUAGGACGUUGCCGGGUUUU\t(((((((((....(.(((.(((.....))).))).)...(((....)))..(((..(((((((((.((.(.(((.(((....))))))).))))))))).))..))))))))))))....\n",
            ">bpRNA_CRW_15843\tCCUGGCGUCCAUGGAGGAGGGGGUACACCCGAUCCCAUUCCGAACUCGGAAGUUAAGCCCUCCAUCGCCGAUGAUACUGCGGGGUAGCUCGUGGGAAAGUAGGCCGACGCCAGGACU\t(((((((((.(((((((..(((((.......))))).(((((....))))).......))))))).(((.((....(((((((....)))))))....)).))).)))))))))...\n",
            ">bpRNA_CRW_16028\tCCGGUGCUUCUGGCAGGGGAGAAACACCUGUUUCCAUCCCGAACACAGAAGUAAAGUCCCCUUGCGCCUAUGGUACUGCCGGGUUUCCCGGUGGAAGAGUCGGUCGGUGCCG\t.(((((((.(((((((((((...((..(((((((......))).))))..))....))))))...(((...))).((((((((...))))))))....)))))..)))))))\n",
            ">bpRNA_CRW_16282\tUUCGGUGGCUAUAGCGCAGGGGUCACACCUGUUCCCAUCCCGAACACAGAAGUUAAGCCCUGUUGCGCCGAUGAUACUGCAUGGGCAACUAUGUGGGAAAGUAGGUCGCCGCCGAAA\t(((((((((....((((((((.(.((..((((((.......))..))))..))..).))))).)))(((.((....((((((((....))))))))....)).))).))))))))).\n",
            ">bpRNA_CRW_18116\tGCCAACGACCAUACCACGCUGAAUACAUCGGUUCUCGUCCGAUCACCGAAAUUAAGCAGCGUCGGGCGCGGUUAGUACUUAGAUGGGGGACCGCUUGGGAACACCGCGUGUUGUUGGCCUCGUCCACAACUUUUU\t(((((((((....((((((((......(((((..((....))..))))).......)))))).))(((((((..((.(((((.(((....))).))))).)))))))))))))))))).................\n",
            ">bpRNA_CRW_19091\tACAUUCGGCCAUACCAGGACGACAAAUACCCCAUCCCAUCUCGAACUGGGCAGUUAAGUCUCCUCGGGCGCGCUUAGUACUGAGGUCAGGGAUGACUCGGGAAUCGCGCGUGCUGAAUGUU\t(((((((((....((((((.(((.(((..((((((.......))..))))..)))..))))))).))((((((......(((((.(((....)))))))).....))))))))))))))).\n",
            ">bpRNA_CRW_19099\tAUGGAUCGUUCAAACCUUCAAGGCCCCUCCCCAUCCCAUCAGCACUGGGAAGAUAAGCCUGAAUGGGCUGAACUAGUAGUACGGUGGGGGACCACGUGCGAAUCCUCAGUGACGACCUGGUU\t..((((.(((((..((((((.(((...((....(((((.......))))).))...))))))).))..))))).....(((((.(((....))))))))..))))((((.......))))..\n",
            ">bpRNA_CRW_19650\tGAUCCCAUCAGAACUCCGAAGUUAAGCGUGCUUGGGCGAGAGUAUUUCUAGGAAGGGUGACCUCCUAGAAACAACGCGUCGGAUACUCGGACCA\t..............(((((........(((.((.((((......(((((((((.((....))))))))))).....)))).))))))))))...\n"
          ]
        }
      ]
    },
    {
      "cell_type": "code",
      "source": [
        "from google.colab import files\n",
        "files.download('RNAfold_bpRNA_TS0.prediction')"
      ],
      "metadata": {
        "colab": {
          "base_uri": "https://localhost:8080/",
          "height": 17
        },
        "id": "2Rcf_6Taaxse",
        "outputId": "7964f7e4-ad81-47f0-e65a-2c6014d874ec"
      },
      "execution_count": 25,
      "outputs": [
        {
          "output_type": "display_data",
          "data": {
            "text/plain": [
              "<IPython.core.display.Javascript object>"
            ],
            "application/javascript": [
              "\n",
              "    async function download(id, filename, size) {\n",
              "      if (!google.colab.kernel.accessAllowed) {\n",
              "        return;\n",
              "      }\n",
              "      const div = document.createElement('div');\n",
              "      const label = document.createElement('label');\n",
              "      label.textContent = `Downloading \"${filename}\": `;\n",
              "      div.appendChild(label);\n",
              "      const progress = document.createElement('progress');\n",
              "      progress.max = size;\n",
              "      div.appendChild(progress);\n",
              "      document.body.appendChild(div);\n",
              "\n",
              "      const buffers = [];\n",
              "      let downloaded = 0;\n",
              "\n",
              "      const channel = await google.colab.kernel.comms.open(id);\n",
              "      // Send a message to notify the kernel that we're ready.\n",
              "      channel.send({})\n",
              "\n",
              "      for await (const message of channel.messages) {\n",
              "        // Send a message to notify the kernel that we're ready.\n",
              "        channel.send({})\n",
              "        if (message.buffers) {\n",
              "          for (const buffer of message.buffers) {\n",
              "            buffers.push(buffer);\n",
              "            downloaded += buffer.byteLength;\n",
              "            progress.value = downloaded;\n",
              "          }\n",
              "        }\n",
              "      }\n",
              "      const blob = new Blob(buffers, {type: 'application/binary'});\n",
              "      const a = document.createElement('a');\n",
              "      a.href = window.URL.createObjectURL(blob);\n",
              "      a.download = filename;\n",
              "      div.appendChild(a);\n",
              "      a.click();\n",
              "      div.remove();\n",
              "    }\n",
              "  "
            ]
          },
          "metadata": {}
        },
        {
          "output_type": "display_data",
          "data": {
            "text/plain": [
              "<IPython.core.display.Javascript object>"
            ],
            "application/javascript": [
              "download(\"download_e0e87b02-2b11-4cb5-92e1-cd10b6a13c38\", \"RNAfold_bpRNA_TS0.prediction\", 369880)"
            ]
          },
          "metadata": {}
        }
      ]
    },
    {
      "cell_type": "code",
      "source": [
        "#@title Run prediction on bpRNA_VL0.fasta\n",
        "\n",
        "import time\n",
        "lines=open('bpRNA_VL0.fasta').readlines()\n",
        "with open('RNAfold_bpRNA_VL0.prediction',\"w\") as newFasta:\n",
        "  for i in range(0,len(lines),2):\n",
        "    id = lines[i].strip()\n",
        "    seq = lines[i+1].strip()\n",
        "    if i % 100 == 0:\n",
        "        print(i,' finish!')\n",
        "    !echo \"$id\" > 'test.fa'\n",
        "    !echo \"$seq\" >> 'test.fa'\n",
        "    (rna_sequence,rna_structure) = run_RNAfold(seq)\n",
        "    header = id + \"\\t\" + str(rna_sequence) + \"\\t\" + str(rna_structure) + \"\\n\"\n",
        "    newFasta.write(header)\n",
        "newFasta.close()"
      ],
      "metadata": {
        "colab": {
          "base_uri": "https://localhost:8080/"
        },
        "id": "kWxEGY3uaxvm",
        "outputId": "4fe84616-487f-4a19-ec43-278cb7f49c2a"
      },
      "execution_count": 26,
      "outputs": [
        {
          "output_type": "stream",
          "name": "stdout",
          "text": [
            "0  finish!\n",
            "100  finish!\n",
            "200  finish!\n",
            "300  finish!\n",
            "400  finish!\n",
            "500  finish!\n",
            "600  finish!\n",
            "700  finish!\n",
            "800  finish!\n",
            "900  finish!\n",
            "1000  finish!\n",
            "1100  finish!\n",
            "1200  finish!\n",
            "1300  finish!\n",
            "1400  finish!\n",
            "1500  finish!\n",
            "1600  finish!\n",
            "1700  finish!\n",
            "1800  finish!\n",
            "1900  finish!\n",
            "2000  finish!\n",
            "2100  finish!\n",
            "2200  finish!\n",
            "2300  finish!\n",
            "2400  finish!\n",
            "2500  finish!\n"
          ]
        }
      ]
    },
    {
      "cell_type": "code",
      "source": [
        "from google.colab import files\n",
        "files.download('RNAfold_bpRNA_VL0.prediction')"
      ],
      "metadata": {
        "colab": {
          "base_uri": "https://localhost:8080/",
          "height": 17
        },
        "id": "dYpvOiU8bD0K",
        "outputId": "4a153ea2-bf8a-4810-816b-dfcb505ce39d"
      },
      "execution_count": 27,
      "outputs": [
        {
          "output_type": "display_data",
          "data": {
            "text/plain": [
              "<IPython.core.display.Javascript object>"
            ],
            "application/javascript": [
              "\n",
              "    async function download(id, filename, size) {\n",
              "      if (!google.colab.kernel.accessAllowed) {\n",
              "        return;\n",
              "      }\n",
              "      const div = document.createElement('div');\n",
              "      const label = document.createElement('label');\n",
              "      label.textContent = `Downloading \"${filename}\": `;\n",
              "      div.appendChild(label);\n",
              "      const progress = document.createElement('progress');\n",
              "      progress.max = size;\n",
              "      div.appendChild(progress);\n",
              "      document.body.appendChild(div);\n",
              "\n",
              "      const buffers = [];\n",
              "      let downloaded = 0;\n",
              "\n",
              "      const channel = await google.colab.kernel.comms.open(id);\n",
              "      // Send a message to notify the kernel that we're ready.\n",
              "      channel.send({})\n",
              "\n",
              "      for await (const message of channel.messages) {\n",
              "        // Send a message to notify the kernel that we're ready.\n",
              "        channel.send({})\n",
              "        if (message.buffers) {\n",
              "          for (const buffer of message.buffers) {\n",
              "            buffers.push(buffer);\n",
              "            downloaded += buffer.byteLength;\n",
              "            progress.value = downloaded;\n",
              "          }\n",
              "        }\n",
              "      }\n",
              "      const blob = new Blob(buffers, {type: 'application/binary'});\n",
              "      const a = document.createElement('a');\n",
              "      a.href = window.URL.createObjectURL(blob);\n",
              "      a.download = filename;\n",
              "      div.appendChild(a);\n",
              "      a.click();\n",
              "      div.remove();\n",
              "    }\n",
              "  "
            ]
          },
          "metadata": {}
        },
        {
          "output_type": "display_data",
          "data": {
            "text/plain": [
              "<IPython.core.display.Javascript object>"
            ],
            "application/javascript": [
              "download(\"download_4dfb84a2-802c-4cf3-bd81-9c2cff9da260\", \"RNAfold_bpRNA_VL0.prediction\", 361929)"
            ]
          },
          "metadata": {}
        }
      ]
    },
    {
      "cell_type": "markdown",
      "metadata": {
        "id": "bMykoeDCLSFK"
      },
      "source": [
        "**Run prediction on PDB_train.fasta**"
      ]
    },
    {
      "cell_type": "code",
      "metadata": {
        "id": "Kf2DvWNWecxB",
        "colab": {
          "base_uri": "https://localhost:8080/"
        },
        "outputId": "3f96fa4f-f8d0-4aaf-dd38-d1e969976db0"
      },
      "source": [
        "import time\n",
        "lines=open('PDB_train.fasta').readlines()\n",
        "with open('RNAfold_PDB_train.prediction',\"w\") as newFasta:\n",
        "  for i in range(0,len(lines),2):\n",
        "    id = lines[i].strip()\n",
        "    seq = lines[i+1].strip()\n",
        "    if i % 100 == 0:\n",
        "        print(i,' finish!')\n",
        "    rna_sequence,rna_structure = run_RNAfold(seq)\n",
        "    header = id + \"\\t\" + str(rna_sequence) + \"\\t\" + str(rna_structure) + \"\\n\"\n",
        "    newFasta.write(header)\n",
        "newFasta.close()"
      ],
      "execution_count": null,
      "outputs": [
        {
          "output_type": "stream",
          "text": [
            "0  finish!\n",
            "100  finish!\n",
            "200  finish!\n"
          ],
          "name": "stdout"
        }
      ]
    },
    {
      "cell_type": "code",
      "source": [],
      "metadata": {
        "id": "q8HkA3Y9arbb"
      },
      "execution_count": null,
      "outputs": []
    },
    {
      "cell_type": "code",
      "metadata": {
        "colab": {
          "base_uri": "https://localhost:8080/"
        },
        "id": "UfyMPh6IvVOg",
        "outputId": "f7fd2271-9f2a-4be0-cb02-dd05d3b0059e"
      },
      "source": [
        "!pwd"
      ],
      "execution_count": null,
      "outputs": [
        {
          "output_type": "stream",
          "text": [
            "/content/ViennaRNA-2.4.14\n"
          ],
          "name": "stdout"
        }
      ]
    },
    {
      "cell_type": "code",
      "metadata": {
        "colab": {
          "base_uri": "https://localhost:8080/"
        },
        "id": "uuHzzt_BrdYh",
        "outputId": "282fae66-c2fb-47a6-b212-d4b4df59480e"
      },
      "source": [
        "!head RNAfold_PDB_train.prediction"
      ],
      "execution_count": null,
      "outputs": [
        {
          "output_type": "stream",
          "text": [
            ">4pqv-1-A\tGGGUCAGAUCGGCGAAAGUCGCCACUUCGCCGAGGAGUGCAAUCUGUGAGGCCCCAGGAGGACUGGGU\t..........(((((...))))).....(((..(.((......)).)..)))(((((.....))))).\n",
            ">2qus-1-A\tGGGAGCCCUGUCACCGGAUGUGCUUUCCGGUCUGAUGAGUCCGUGAGGACAAAACAGGGCUCCCGAAUU\t(((((((((((.((((((.......)))))).......((((....))))...))))))))))).....\n",
            ">4o26-1-E\tGGAACGCCGCGGUCAGCUCGGCUGCUGCGAAGAGUCUCUGUUGUUCC\t((((((.(((((.((((...))))))))).(((...)))..))))))\n",
            ">5ud5-1-D\tGGAAACCUGAUCAUGUAGAUCGAAUGGACUCUAAAUCCGUUCAGCCGGGUUAGAUUCCCGGGGUUUCCGCCA\t(((((((.((((.....))))(((((((.......)))))))..(((((.......))))))))))))....\n",
            ">4y1m-1-B\tGAUUUGGGGAGUAGCCGAUUUCCGAAAGGAAAUGUACGUGUCAACAUUUUCGUUGAAAAACGUGGCACGUACGGACUGAAGAAAUUCAGUCAGGCGAGACCAUAUCCG\t(((.(((......(((.((((((....))))))((((((((((...(((((...)))))...)))))))))).(((((((....))))))).)))....))).)))..\n",
            ">3bwp-1-A\tGUGCCCGGCAUGGGUGCAGUCUAUAGGGUGAGAGUCCCGAACUGUGAAGGCAGAAGUAACAGUUAGCCUAACGCAAGGGUGUCCGUGGCGACAUGGAAUCUGAAGGAAGCGGACGGCAAACCUUCGGUCUGAGGAACACGAACUUCAUAGGCUAAUGGAUGAGUUUGCAUAACAAAACAAAGUCCUUUCUGCCAGUUGGUGAAGCAGAUUGAUGAAGGGAAAGACUGCAUUCUUACCCGGGGAGGUCUGGAAACAGAAGUCAGCAGAAGUCAUAGUACCCAGGGGAAGGACGGAACAAGUAUGGCGUUCGCGCCUAAGCUUGAACCGCCGUAUACCGAACGGUACGUACGGUGGUG\t...(((((...(((((((((((...(((.......))).((((((.............)))))).(((...(((..((((.((((((....)))))))))).......)))...)))...(((((((((((.....(((.((((.....(((....((((..((((........))))...)))).....))))))).)))...)))))...))))))...)))))))))))....)))))((..((((....))))..)).......(((......((...))....)))....(((((..((((....))))...))))).(((((((((((((....)))..)))))))))).\n",
            ">2csx-1-C\tGGCGGCGUAGCUCAGCUGGUCAGAGCGGGGAUCUCAUAAGUCCCAGGUCGGAGGUUCGAGUCCUCCCGCCGCCAC\t(((((((((((...))))....((.(.(((((.......))))).).))(((((.......))))))))))))..\n",
            ">4wf9-1-Y\tUCUGGUGACUAUAGCAAGGAGGUCACACCUGUUCCCAUGCCGAACACAGAAGUUAAGGUCUUUAGCGACGAUGGUAGCCAACUUACGUUCCGCUAGAGUAGAACGUUGCCAGGC\t.((((((((.......((.((((...)))).)).....(((.(((......)))..)))((((((((..((((..((....))..)))).))))))))......))))))))..\n",
            ">3ivn-1-A\tGGCCAGUAUAACCUCAAUGAUAUGGUUUGAGGGUGUCUACCAGGAACCGUAAAAUCCUGACUACUGGUC\t((((((((...((((((.........))))))........(((((.........)))))..))))))))\n",
            ">1yfg-1-A\tAGCGCCGUGGCGCAGUGGAAGCGCGCAGGGCUCAUAACCCUGAUGUCCUCGGAUCGAAACCGAGCGGCGCUACCA\t(((((((..((((.......)))).(((((.......))))).....(((((.......))))))))))))....\n"
          ],
          "name": "stdout"
        }
      ]
    },
    {
      "cell_type": "code",
      "metadata": {
        "colab": {
          "base_uri": "https://localhost:8080/",
          "height": 16
        },
        "id": "-RJHj5yjr1E0",
        "outputId": "f7acb4a0-82ee-449a-a188-3bb59420f08b"
      },
      "source": [
        "from google.colab import files\n",
        "files.download('RNAfold_PDB_train.prediction')"
      ],
      "execution_count": null,
      "outputs": [
        {
          "output_type": "display_data",
          "data": {
            "application/javascript": [
              "\n",
              "    async function download(id, filename, size) {\n",
              "      if (!google.colab.kernel.accessAllowed) {\n",
              "        return;\n",
              "      }\n",
              "      const div = document.createElement('div');\n",
              "      const label = document.createElement('label');\n",
              "      label.textContent = `Downloading \"${filename}\": `;\n",
              "      div.appendChild(label);\n",
              "      const progress = document.createElement('progress');\n",
              "      progress.max = size;\n",
              "      div.appendChild(progress);\n",
              "      document.body.appendChild(div);\n",
              "\n",
              "      const buffers = [];\n",
              "      let downloaded = 0;\n",
              "\n",
              "      const channel = await google.colab.kernel.comms.open(id);\n",
              "      // Send a message to notify the kernel that we're ready.\n",
              "      channel.send({})\n",
              "\n",
              "      for await (const message of channel.messages) {\n",
              "        // Send a message to notify the kernel that we're ready.\n",
              "        channel.send({})\n",
              "        if (message.buffers) {\n",
              "          for (const buffer of message.buffers) {\n",
              "            buffers.push(buffer);\n",
              "            downloaded += buffer.byteLength;\n",
              "            progress.value = downloaded;\n",
              "          }\n",
              "        }\n",
              "      }\n",
              "      const blob = new Blob(buffers, {type: 'application/binary'});\n",
              "      const a = document.createElement('a');\n",
              "      a.href = window.URL.createObjectURL(blob);\n",
              "      a.download = filename;\n",
              "      div.appendChild(a);\n",
              "      a.click();\n",
              "      div.remove();\n",
              "    }\n",
              "  "
            ],
            "text/plain": [
              "<IPython.core.display.Javascript object>"
            ]
          },
          "metadata": {
            "tags": []
          }
        },
        {
          "output_type": "display_data",
          "data": {
            "application/javascript": [
              "download(\"download_6711e769-f763-48f4-8864-7077773b1698\", \"RNAfold_PDB_train.prediction\", 20136)"
            ],
            "text/plain": [
              "<IPython.core.display.Javascript object>"
            ]
          },
          "metadata": {
            "tags": []
          }
        }
      ]
    },
    {
      "cell_type": "markdown",
      "metadata": {
        "id": "CoM0CkcHLVOv"
      },
      "source": [
        "**Run prediction on ct_shorter_than_201_id95.fasta**"
      ]
    },
    {
      "cell_type": "code",
      "metadata": {
        "colab": {
          "base_uri": "https://localhost:8080/"
        },
        "id": "7-vtV_Mrr4hL",
        "outputId": "4718c888-9b75-48db-8b28-17834ff818e2"
      },
      "source": [
        "import time\n",
        "lines=open('PDB_val.fasta').readlines()\n",
        "with open('RNAfold_PDB_val.prediction',\"w\") as newFasta:\n",
        "  for i in range(0,len(lines),2):\n",
        "    id = lines[i].strip()\n",
        "    seq = lines[i+1].strip()\n",
        "    if i % 100 == 0:\n",
        "        print(i,' finish!')\n",
        "    rna_sequence,rna_structure = run_RNAfold(seq)\n",
        "    header = id + \"\\t\" + str(rna_sequence) + \"\\t\" + str(rna_structure) + \"\\n\"\n",
        "    newFasta.write(header)\n",
        "newFasta.close()"
      ],
      "execution_count": null,
      "outputs": [
        {
          "output_type": "stream",
          "text": [
            "0  finish!\n"
          ],
          "name": "stdout"
        }
      ]
    },
    {
      "cell_type": "code",
      "metadata": {
        "colab": {
          "base_uri": "https://localhost:8080/",
          "height": 16
        },
        "id": "4GbiUlrPr9w7",
        "outputId": "b7d44c72-f106-4495-93c4-8035116b7c5b"
      },
      "source": [
        "from google.colab import files\n",
        "files.download('RNAfold_PDB_val.prediction')"
      ],
      "execution_count": null,
      "outputs": [
        {
          "output_type": "display_data",
          "data": {
            "application/javascript": [
              "\n",
              "    async function download(id, filename, size) {\n",
              "      if (!google.colab.kernel.accessAllowed) {\n",
              "        return;\n",
              "      }\n",
              "      const div = document.createElement('div');\n",
              "      const label = document.createElement('label');\n",
              "      label.textContent = `Downloading \"${filename}\": `;\n",
              "      div.appendChild(label);\n",
              "      const progress = document.createElement('progress');\n",
              "      progress.max = size;\n",
              "      div.appendChild(progress);\n",
              "      document.body.appendChild(div);\n",
              "\n",
              "      const buffers = [];\n",
              "      let downloaded = 0;\n",
              "\n",
              "      const channel = await google.colab.kernel.comms.open(id);\n",
              "      // Send a message to notify the kernel that we're ready.\n",
              "      channel.send({})\n",
              "\n",
              "      for await (const message of channel.messages) {\n",
              "        // Send a message to notify the kernel that we're ready.\n",
              "        channel.send({})\n",
              "        if (message.buffers) {\n",
              "          for (const buffer of message.buffers) {\n",
              "            buffers.push(buffer);\n",
              "            downloaded += buffer.byteLength;\n",
              "            progress.value = downloaded;\n",
              "          }\n",
              "        }\n",
              "      }\n",
              "      const blob = new Blob(buffers, {type: 'application/binary'});\n",
              "      const a = document.createElement('a');\n",
              "      a.href = window.URL.createObjectURL(blob);\n",
              "      a.download = filename;\n",
              "      div.appendChild(a);\n",
              "      a.click();\n",
              "      div.remove();\n",
              "    }\n",
              "  "
            ],
            "text/plain": [
              "<IPython.core.display.Javascript object>"
            ]
          },
          "metadata": {
            "tags": []
          }
        },
        {
          "output_type": "display_data",
          "data": {
            "application/javascript": [
              "download(\"download_b3cf224a-7319-423a-8b8c-8508d386b8d8\", \"RNAfold_PDB_val.prediction\", 4961)"
            ],
            "text/plain": [
              "<IPython.core.display.Javascript object>"
            ]
          },
          "metadata": {
            "tags": []
          }
        }
      ]
    },
    {
      "cell_type": "markdown",
      "metadata": {
        "id": "2T1aSg9XLXqf"
      },
      "source": [
        "**Run prediction on PDB_test.fasta**"
      ]
    },
    {
      "cell_type": "code",
      "metadata": {
        "colab": {
          "base_uri": "https://localhost:8080/"
        },
        "id": "GleqnudLLYWH",
        "outputId": "4c92a357-8aa4-4c9c-fe15-de2465e10e03"
      },
      "source": [
        "import time\n",
        "lines=open('PDB_test.fasta').readlines()\n",
        "with open('RNAfold_PDB_test.prediction',\"w\") as newFasta:\n",
        "  for i in range(0,len(lines),2):\n",
        "    id = lines[i].strip()\n",
        "    seq = lines[i+1].strip()\n",
        "    if i % 100 == 0:\n",
        "        print(i,' finish!')\n",
        "    rna_sequence,rna_structure = run_RNAfold(seq)\n",
        "    header = id + \"\\t\" + str(rna_sequence) + \"\\t\" + str(rna_structure) + \"\\n\"\n",
        "    newFasta.write(header)\n",
        "newFasta.close()"
      ],
      "execution_count": null,
      "outputs": [
        {
          "output_type": "stream",
          "text": [
            "0  finish!\n",
            "100  finish!\n"
          ],
          "name": "stdout"
        }
      ]
    },
    {
      "cell_type": "code",
      "metadata": {
        "colab": {
          "base_uri": "https://localhost:8080/",
          "height": 16
        },
        "id": "_sPb3lDCv9wm",
        "outputId": "650632b7-e14e-4ca4-a40f-a1040b10fcbd"
      },
      "source": [
        "from google.colab import files\n",
        "files.download('RNAfold_PDB_test.prediction')"
      ],
      "execution_count": null,
      "outputs": [
        {
          "output_type": "display_data",
          "data": {
            "application/javascript": [
              "\n",
              "    async function download(id, filename, size) {\n",
              "      if (!google.colab.kernel.accessAllowed) {\n",
              "        return;\n",
              "      }\n",
              "      const div = document.createElement('div');\n",
              "      const label = document.createElement('label');\n",
              "      label.textContent = `Downloading \"${filename}\": `;\n",
              "      div.appendChild(label);\n",
              "      const progress = document.createElement('progress');\n",
              "      progress.max = size;\n",
              "      div.appendChild(progress);\n",
              "      document.body.appendChild(div);\n",
              "\n",
              "      const buffers = [];\n",
              "      let downloaded = 0;\n",
              "\n",
              "      const channel = await google.colab.kernel.comms.open(id);\n",
              "      // Send a message to notify the kernel that we're ready.\n",
              "      channel.send({})\n",
              "\n",
              "      for await (const message of channel.messages) {\n",
              "        // Send a message to notify the kernel that we're ready.\n",
              "        channel.send({})\n",
              "        if (message.buffers) {\n",
              "          for (const buffer of message.buffers) {\n",
              "            buffers.push(buffer);\n",
              "            downloaded += buffer.byteLength;\n",
              "            progress.value = downloaded;\n",
              "          }\n",
              "        }\n",
              "      }\n",
              "      const blob = new Blob(buffers, {type: 'application/binary'});\n",
              "      const a = document.createElement('a');\n",
              "      a.href = window.URL.createObjectURL(blob);\n",
              "      a.download = filename;\n",
              "      div.appendChild(a);\n",
              "      a.click();\n",
              "      div.remove();\n",
              "    }\n",
              "  "
            ],
            "text/plain": [
              "<IPython.core.display.Javascript object>"
            ]
          },
          "metadata": {
            "tags": []
          }
        },
        {
          "output_type": "display_data",
          "data": {
            "application/javascript": [
              "download(\"download_ba6bf808-4562-4255-a6b8-fc02183e4a6e\", \"RNAfold_PDB_test.prediction\", 10671)"
            ],
            "text/plain": [
              "<IPython.core.display.Javascript object>"
            ]
          },
          "metadata": {
            "tags": []
          }
        }
      ]
    },
    {
      "cell_type": "markdown",
      "metadata": {
        "id": "UziyQddBLp2l"
      },
      "source": [
        "**Run prediction on PDB_test2.fasta**"
      ]
    },
    {
      "cell_type": "code",
      "metadata": {
        "colab": {
          "base_uri": "https://localhost:8080/"
        },
        "id": "fwEy-B0yLqeu",
        "outputId": "5e056950-6966-424f-d58b-0e9294215d91"
      },
      "source": [
        "import time\n",
        "lines=open('PDB_test2.fasta').readlines()\n",
        "with open('RNAfold_PDB_test2.prediction',\"w\") as newFasta:\n",
        "  for i in range(0,len(lines),2):\n",
        "    id = lines[i].strip()\n",
        "    seq = lines[i+1].strip()\n",
        "    if i % 100 == 0:\n",
        "        print(i,' finish!')\n",
        "    rna_sequence,rna_structure = run_RNAfold(seq)\n",
        "    header = id + \"\\t\" + str(rna_sequence) + \"\\t\" + str(rna_structure) + \"\\n\"\n",
        "    newFasta.write(header)\n",
        "newFasta.close()"
      ],
      "execution_count": null,
      "outputs": [
        {
          "output_type": "stream",
          "text": [
            "0  finish!\n"
          ],
          "name": "stdout"
        }
      ]
    },
    {
      "cell_type": "code",
      "metadata": {
        "colab": {
          "base_uri": "https://localhost:8080/",
          "height": 16
        },
        "id": "SDLfn4o5LxzG",
        "outputId": "ec9c7935-960a-4c6b-e6b7-ec2955032057"
      },
      "source": [
        "from google.colab import files\n",
        "files.download('RNAfold_PDB_test2.prediction')"
      ],
      "execution_count": null,
      "outputs": [
        {
          "output_type": "display_data",
          "data": {
            "application/javascript": [
              "\n",
              "    async function download(id, filename, size) {\n",
              "      if (!google.colab.kernel.accessAllowed) {\n",
              "        return;\n",
              "      }\n",
              "      const div = document.createElement('div');\n",
              "      const label = document.createElement('label');\n",
              "      label.textContent = `Downloading \"${filename}\": `;\n",
              "      div.appendChild(label);\n",
              "      const progress = document.createElement('progress');\n",
              "      progress.max = size;\n",
              "      div.appendChild(progress);\n",
              "      document.body.appendChild(div);\n",
              "\n",
              "      const buffers = [];\n",
              "      let downloaded = 0;\n",
              "\n",
              "      const channel = await google.colab.kernel.comms.open(id);\n",
              "      // Send a message to notify the kernel that we're ready.\n",
              "      channel.send({})\n",
              "\n",
              "      for await (const message of channel.messages) {\n",
              "        // Send a message to notify the kernel that we're ready.\n",
              "        channel.send({})\n",
              "        if (message.buffers) {\n",
              "          for (const buffer of message.buffers) {\n",
              "            buffers.push(buffer);\n",
              "            downloaded += buffer.byteLength;\n",
              "            progress.value = downloaded;\n",
              "          }\n",
              "        }\n",
              "      }\n",
              "      const blob = new Blob(buffers, {type: 'application/binary'});\n",
              "      const a = document.createElement('a');\n",
              "      a.href = window.URL.createObjectURL(blob);\n",
              "      a.download = filename;\n",
              "      div.appendChild(a);\n",
              "      a.click();\n",
              "      div.remove();\n",
              "    }\n",
              "  "
            ],
            "text/plain": [
              "<IPython.core.display.Javascript object>"
            ]
          },
          "metadata": {
            "tags": []
          }
        },
        {
          "output_type": "display_data",
          "data": {
            "application/javascript": [
              "download(\"download_e78b2306-52ce-480f-ae1b-40f0c30cfb59\", \"RNAfold_PDB_test2.prediction\", 4066)"
            ],
            "text/plain": [
              "<IPython.core.display.Javascript object>"
            ]
          },
          "metadata": {
            "tags": []
          }
        }
      ]
    },
    {
      "cell_type": "markdown",
      "metadata": {
        "id": "qIDrj_sKL4Aw"
      },
      "source": [
        "**Run prediction on SPOT-RNA_PDB_TS_hard_sequences.fasta**"
      ]
    },
    {
      "cell_type": "code",
      "metadata": {
        "colab": {
          "base_uri": "https://localhost:8080/"
        },
        "id": "aviYr7ufL4xO",
        "outputId": "d0dcbfe4-782a-4853-95bb-e23d33c4f801"
      },
      "source": [
        "import time\n",
        "lines=open('PDB_test_hard.fasta').readlines()\n",
        "with open('RNAfold_PDB_test_hard.prediction',\"w\") as newFasta:\n",
        "  for i in range(0,len(lines),2):\n",
        "    id = lines[i].strip()\n",
        "    seq = lines[i+1].strip()\n",
        "    if i % 100 == 0:\n",
        "        print(i,' finish!')\n",
        "    rna_sequence,rna_structure = run_RNAfold(seq)\n",
        "    header = id + \"\\t\" + str(rna_sequence) + \"\\t\" + str(rna_structure) + \"\\n\"\n",
        "    newFasta.write(header)\n",
        "newFasta.close()"
      ],
      "execution_count": null,
      "outputs": [
        {
          "output_type": "stream",
          "text": [
            "0  finish!\n"
          ],
          "name": "stdout"
        }
      ]
    },
    {
      "cell_type": "code",
      "metadata": {
        "colab": {
          "base_uri": "https://localhost:8080/",
          "height": 16
        },
        "id": "J2WaxFimL43b",
        "outputId": "5ac0a651-3c37-4821-e6fd-58536c73a0f1"
      },
      "source": [
        "from google.colab import files\n",
        "files.download('RNAfold_PDB_test_hard.prediction')"
      ],
      "execution_count": null,
      "outputs": [
        {
          "output_type": "display_data",
          "data": {
            "application/javascript": [
              "\n",
              "    async function download(id, filename, size) {\n",
              "      if (!google.colab.kernel.accessAllowed) {\n",
              "        return;\n",
              "      }\n",
              "      const div = document.createElement('div');\n",
              "      const label = document.createElement('label');\n",
              "      label.textContent = `Downloading \"${filename}\": `;\n",
              "      div.appendChild(label);\n",
              "      const progress = document.createElement('progress');\n",
              "      progress.max = size;\n",
              "      div.appendChild(progress);\n",
              "      document.body.appendChild(div);\n",
              "\n",
              "      const buffers = [];\n",
              "      let downloaded = 0;\n",
              "\n",
              "      const channel = await google.colab.kernel.comms.open(id);\n",
              "      // Send a message to notify the kernel that we're ready.\n",
              "      channel.send({})\n",
              "\n",
              "      for await (const message of channel.messages) {\n",
              "        // Send a message to notify the kernel that we're ready.\n",
              "        channel.send({})\n",
              "        if (message.buffers) {\n",
              "          for (const buffer of message.buffers) {\n",
              "            buffers.push(buffer);\n",
              "            downloaded += buffer.byteLength;\n",
              "            progress.value = downloaded;\n",
              "          }\n",
              "        }\n",
              "      }\n",
              "      const blob = new Blob(buffers, {type: 'application/binary'});\n",
              "      const a = document.createElement('a');\n",
              "      a.href = window.URL.createObjectURL(blob);\n",
              "      a.download = filename;\n",
              "      div.appendChild(a);\n",
              "      a.click();\n",
              "      div.remove();\n",
              "    }\n",
              "  "
            ],
            "text/plain": [
              "<IPython.core.display.Javascript object>"
            ]
          },
          "metadata": {
            "tags": []
          }
        },
        {
          "output_type": "display_data",
          "data": {
            "application/javascript": [
              "download(\"download_63d3b5ae-f6d2-4824-8c1b-4db64ad11891\", \"RNAfold_PDB_test_hard.prediction\", 3156)"
            ],
            "text/plain": [
              "<IPython.core.display.Javascript object>"
            ]
          },
          "metadata": {
            "tags": []
          }
        }
      ]
    }
  ]
}