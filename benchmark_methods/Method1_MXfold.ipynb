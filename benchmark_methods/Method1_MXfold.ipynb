{
  "nbformat": 4,
  "nbformat_minor": 0,
  "metadata": {
    "colab": {
      "provenance": []
    },
    "kernelspec": {
      "display_name": "Python 3",
      "name": "python3"
    }
  },
  "cells": [
    {
      "cell_type": "markdown",
      "metadata": {
        "id": "iOz-mF5Ad0pm"
      },
      "source": [
        "**MXfold Website: https://github.com/keio-bioinformatics/mxfold**"
      ]
    },
    {
      "cell_type": "markdown",
      "metadata": {
        "id": "B5nNbosaeIcr"
      },
      "source": [
        "**Step 1: Install tools**"
      ]
    },
    {
      "cell_type": "markdown",
      "metadata": {
        "id": "ZqQrbcwCRScP"
      },
      "source": [
        "**1.1 Install Vienna RNA Package**"
      ]
    },
    {
      "cell_type": "code",
      "metadata": {
        "colab": {
          "base_uri": "https://localhost:8080/"
        },
        "id": "TqaiN8p-cUtK",
        "outputId": "c5abf732-8215-4127-a1c8-e884cac9b850"
      },
      "source": [
        "!wget https://www.tbi.univie.ac.at/RNA/download/sourcecode/2_4_x/ViennaRNA-2.4.14.tar.gz"
      ],
      "execution_count": 25,
      "outputs": [
        {
          "output_type": "stream",
          "name": "stdout",
          "text": [
            "--2024-07-20 18:15:10--  https://www.tbi.univie.ac.at/RNA/download/sourcecode/2_4_x/ViennaRNA-2.4.14.tar.gz\n",
            "Resolving www.tbi.univie.ac.at (www.tbi.univie.ac.at)... 131.130.44.61\n",
            "Connecting to www.tbi.univie.ac.at (www.tbi.univie.ac.at)|131.130.44.61|:443... connected.\n",
            "HTTP request sent, awaiting response... 200 OK\n",
            "Length: 32814278 (31M) [application/x-gzip]\n",
            "Saving to: ‘ViennaRNA-2.4.14.tar.gz’\n",
            "\n",
            "ViennaRNA-2.4.14.ta 100%[===================>]  31.29M  15.6MB/s    in 2.0s    \n",
            "\n",
            "2024-07-20 18:15:13 (15.6 MB/s) - ‘ViennaRNA-2.4.14.tar.gz’ saved [32814278/32814278]\n",
            "\n"
          ]
        }
      ]
    },
    {
      "cell_type": "code",
      "metadata": {
        "id": "Ewbz-P4VcUxH"
      },
      "source": [
        "!tar -zxf ViennaRNA-2.4.14.tar.gz"
      ],
      "execution_count": 2,
      "outputs": []
    },
    {
      "cell_type": "code",
      "metadata": {
        "id": "oYgLminfcsjN"
      },
      "source": [
        "!rm ViennaRNA-2.4.14.tar.gz"
      ],
      "execution_count": 3,
      "outputs": []
    },
    {
      "cell_type": "code",
      "metadata": {
        "colab": {
          "base_uri": "https://localhost:8080/"
        },
        "id": "-IBtWKmiRu6N",
        "outputId": "7a45c234-33b4-4777-dc19-5a8b7f4ae34f"
      },
      "source": [
        "%cd /content/ViennaRNA-2.4.14"
      ],
      "execution_count": 4,
      "outputs": [
        {
          "output_type": "stream",
          "name": "stdout",
          "text": [
            "/content/ViennaRNA-2.4.14\n"
          ]
        }
      ]
    },
    {
      "cell_type": "code",
      "metadata": {
        "colab": {
          "base_uri": "https://localhost:8080/"
        },
        "id": "utZcwFEIRu9B",
        "outputId": "3d43fef6-8654-457b-aa24-72f9db694197"
      },
      "source": [
        "!./configure --prefix=\"/content/ViennaRNA-2.4.14\" --without-kinfold --without-forester --without-kinwalker --without-RNAlocmin --without-RNAlocmin --enable-fast-install --disable-check-python3 --disable-check-python --disable-check-perl --disable-unittests   --without-tutorial --without-doc-pdf --without-doc-html --without-doc --without-tutorial-pdf --disable-dependency-tracking --without-rnalocmin --without-forester  --without-svm  --without-json --without-gsl --without-swig --without-perl --without-python  --without-python3 --without-doc-pdf  --without-doc-html --without-doc --without-tutorial-pdf --without-tutorial  --without-check  --without-kinfold --without-forester --without-rnalocmin"
      ],
      "execution_count": 5,
      "outputs": [
        {
          "output_type": "stream",
          "name": "stdout",
          "text": [
            "checking for gcc... gcc\n",
            "checking whether the C compiler works... yes\n",
            "checking for C compiler default output file name... a.out\n",
            "checking for suffix of executables... \n",
            "checking whether we are cross compiling... no\n",
            "checking for suffix of object files... o\n",
            "checking whether we are using the GNU C compiler... yes\n",
            "checking whether gcc accepts -g... yes\n",
            "checking for gcc option to accept ISO C89... none needed\n",
            "checking whether gcc understands -c and -o together... yes\n",
            "checking how to run the C preprocessor... gcc -E\n",
            "checking for grep that handles long lines and -e... /usr/bin/grep\n",
            "checking for egrep... /usr/bin/grep -E\n",
            "checking for ANSI C header files... yes\n",
            "checking for sys/types.h... yes\n",
            "checking for sys/stat.h... yes\n",
            "checking for stdlib.h... yes\n",
            "checking for string.h... yes\n",
            "checking for memory.h... yes\n",
            "checking for strings.h... yes\n",
            "checking for inttypes.h... yes\n",
            "checking for stdint.h... yes\n",
            "checking for unistd.h... yes\n",
            "checking minix/config.h usability... no\n",
            "checking minix/config.h presence... no\n",
            "checking for minix/config.h... no\n",
            "checking whether it is safe to define __EXTENSIONS__... yes\n",
            "checking whether make supports nested variables... yes\n",
            "checking for a BSD-compatible install... /usr/bin/install -c\n",
            "checking whether build environment is sane... yes\n",
            "checking for a thread-safe mkdir -p... /usr/bin/mkdir -p\n",
            "checking for gawk... no\n",
            "checking for mawk... mawk\n",
            "checking whether make sets $(MAKE)... yes\n",
            "checking whether make supports the include directive... yes (GNU style)\n",
            "checking dependency style of gcc... none\n",
            "checking if malloc debugging is wanted... no\n",
            "checking build system type... x86_64-pc-linux-gnu\n",
            "checking host system type... x86_64-pc-linux-gnu\n",
            "checking for g++... g++\n",
            "checking whether we are using the GNU C++ compiler... yes\n",
            "checking whether g++ accepts -g... yes\n",
            "checking dependency style of g++... none\n",
            "checking how to run the C++ preprocessor... g++ -E\n",
            "checking for gcc... (cached) gcc\n",
            "checking whether we are using the GNU C compiler... (cached) yes\n",
            "checking whether gcc accepts -g... (cached) yes\n",
            "checking for gcc option to accept ISO C89... (cached) none needed\n",
            "checking whether gcc understands -c and -o together... (cached) yes\n",
            "checking how to run the C preprocessor... gcc -E\n",
            "checking for ar... ar\n",
            "checking the archiver (ar) interface... ar\n",
            "checking whether make sets $(MAKE)... (cached) yes\n",
            "checking for grep that handles long lines and -e... (cached) /usr/bin/grep\n",
            "checking for a sed that does not truncate output... /usr/bin/sed\n",
            "checking whether ln -s works... yes\n",
            "checking for gcc option to accept ISO C99... none needed\n",
            "checking how to print strings... printf\n",
            "checking for a sed that does not truncate output... (cached) /usr/bin/sed\n",
            "checking for fgrep... /usr/bin/grep -F\n",
            "checking for ld used by gcc... /usr/bin/ld\n",
            "checking if the linker (/usr/bin/ld) is GNU ld... yes\n",
            "checking for BSD- or MS-compatible name lister (nm)... /usr/bin/nm -B\n",
            "checking the name lister (/usr/bin/nm -B) interface... BSD nm\n",
            "checking the maximum length of command line arguments... 1572864\n",
            "checking how to convert x86_64-pc-linux-gnu file names to x86_64-pc-linux-gnu format... func_convert_file_noop\n",
            "checking how to convert x86_64-pc-linux-gnu file names to toolchain format... func_convert_file_noop\n",
            "checking for /usr/bin/ld option to reload object files... -r\n",
            "checking for objdump... objdump\n",
            "checking how to recognize dependent libraries... pass_all\n",
            "checking for dlltool... no\n",
            "checking how to associate runtime and link libraries... printf %s\\n\n",
            "checking for archiver @FILE support... @\n",
            "checking for strip... strip\n",
            "checking for ranlib... ranlib\n",
            "checking command to parse /usr/bin/nm -B output from gcc object... ok\n",
            "checking for sysroot... no\n",
            "checking for a working dd... /usr/bin/dd\n",
            "checking how to truncate binary pipes... /usr/bin/dd bs=4096 count=1\n",
            "checking for mt... no\n",
            "checking if : is a manifest tool... no\n",
            "checking for dlfcn.h... yes\n",
            "checking for objdir... .libs\n",
            "checking if gcc supports -fno-rtti -fno-exceptions... no\n",
            "checking for gcc option to produce PIC... -fPIC -DPIC\n",
            "checking if gcc PIC flag -fPIC -DPIC works... yes\n",
            "checking if gcc static flag -static works... yes\n",
            "checking if gcc supports -c -o file.o... yes\n",
            "checking if gcc supports -c -o file.o... (cached) yes\n",
            "checking whether the gcc linker (/usr/bin/ld -m elf_x86_64) supports shared libraries... yes\n",
            "checking whether -lc should be explicitly linked in... no\n",
            "checking dynamic linker characteristics... GNU/Linux ld.so\n",
            "checking how to hardcode library paths into programs... immediate\n",
            "checking whether stripping libraries is possible... yes\n",
            "checking if libtool supports shared libraries... yes\n",
            "checking whether to build shared libraries... yes\n",
            "checking whether to build static libraries... yes\n",
            "checking how to run the C++ preprocessor... g++ -E\n",
            "checking for ld used by g++... /usr/bin/ld -m elf_x86_64\n",
            "checking if the linker (/usr/bin/ld -m elf_x86_64) is GNU ld... yes\n",
            "checking whether the g++ linker (/usr/bin/ld -m elf_x86_64) supports shared libraries... yes\n",
            "checking for g++ option to produce PIC... -fPIC -DPIC\n",
            "checking if g++ PIC flag -fPIC -DPIC works... yes\n",
            "checking if g++ static flag -static works... yes\n",
            "checking if g++ supports -c -o file.o... yes\n",
            "checking if g++ supports -c -o file.o... (cached) yes\n",
            "checking whether the g++ linker (/usr/bin/ld -m elf_x86_64) supports shared libraries... yes\n",
            "checking dynamic linker characteristics... (cached) GNU/Linux ld.so\n",
            "checking how to hardcode library paths into programs... immediate\n",
            "checking for exp in -lm... yes\n",
            "checking for ANSI C header files... (cached) yes\n",
            "checking for stdbool.h that conforms to C99... yes\n",
            "checking for _Bool... yes\n",
            "checking malloc.h usability... yes\n",
            "checking malloc.h presence... yes\n",
            "checking for malloc.h... yes\n",
            "checking float.h usability... yes\n",
            "checking float.h presence... yes\n",
            "checking for float.h... yes\n",
            "checking limits.h usability... yes\n",
            "checking limits.h presence... yes\n",
            "checking for limits.h... yes\n",
            "checking for stdlib.h... (cached) yes\n",
            "checking for string.h... (cached) yes\n",
            "checking for strings.h... (cached) yes\n",
            "checking for unistd.h... (cached) yes\n",
            "checking math.h usability... yes\n",
            "checking math.h presence... yes\n",
            "checking for math.h... yes\n",
            "checking stdarg.h usability... yes\n",
            "checking stdarg.h presence... yes\n",
            "checking for stdarg.h... yes\n",
            "checking for stdlib.h... (cached) yes\n",
            "checking for GNU libc compatible malloc... yes\n",
            "checking for stdlib.h... (cached) yes\n",
            "checking for GNU libc compatible realloc... yes\n",
            "checking for working strtod... yes\n",
            "checking for floor... yes\n",
            "checking for strdup... yes\n",
            "checking for strstr... yes\n",
            "checking for strchr... yes\n",
            "checking for strrchr... yes\n",
            "checking for strstr... (cached) yes\n",
            "checking for strtol... yes\n",
            "checking for strtoul... yes\n",
            "checking for pow... yes\n",
            "checking for rint... yes\n",
            "checking for sqrt... yes\n",
            "checking for erand48... yes\n",
            "checking for memset... yes\n",
            "checking for memmove... yes\n",
            "checking for erand48... (cached) yes\n",
            "checking for asprintf... yes\n",
            "checking for vasprintf... yes\n",
            "checking for an ANSI C-conforming const... yes\n",
            "checking for size_t... yes\n",
            "checking for inline... inline\n",
            "checking for pdflatex... no\n",
            "checking for bibtex... no\n",
            "checking for makeindex... no\n",
            "checking for pkg-config... /usr/bin/pkg-config\n",
            "checking pkg-config is at least version 0.9.0... yes\n",
            "checking for C compiler vendor... gnu\n",
            "checking for perl... /usr/bin/perl\n",
            "checking whether C compiler accepts -fno-strict-aliasing... yes\n",
            "checking whether C++ compiler accepts -fno-strict-aliasing... yes\n",
            "checking whether the linker accepts -fno-strict-aliasing... yes\n",
            "checking whether the C compiler allows unnamed unions of unnamed structs... yes\n",
            "checking whether the C++ compiler allows unnamed unions of unnamed structs... yes\n",
            "checking whether C compiler accepts -flto... yes\n",
            "checking whether C++ compiler accepts -flto... yes\n",
            "checking whether C compiler accepts -ffat-lto-objects... yes\n",
            "checking whether C++ compiler accepts -ffat-lto-objects... yes\n",
            "configure: WARNING: Trying to re-set ar/ranlib/nm to compiler specific wrappers\n",
            "checking for gcc-ar... gcc-ar\n",
            "checking for gcc-ranlib... gcc-ranlib\n",
            "checking for gcc-nm... gcc-nm\n",
            "checking whether the linker supports Link time Optimization (LTO)... yes\n",
            "checking for OpenMP flag of C compiler... -fopenmp\n",
            "checking for OpenMP flag of C++ compiler... -fopenmp\n",
            "checking whether gcc is Clang... no\n",
            "checking whether pthreads work with -pthread... yes\n",
            "checking for joinable pthread attribute... PTHREAD_CREATE_JOINABLE\n",
            "checking whether more special flags are required for pthreads... no\n",
            "checking for PTHREAD_PRIO_INHERIT... yes\n",
            "checking compiler support for AVX 512 instructions... yes\n",
            "checking compiler support for SSE 4.1 instructions... yes\n",
            "checking whether C compiler accepts -ftree-vectorize... yes\n",
            "checking mpfr.h usability... no\n",
            "checking mpfr.h presence... no\n",
            "checking for mpfr.h... no\n",
            "configure: WARNING:\n",
            "==========================\n",
            "Failed to find mpfr.h!\n",
            "\n",
            "You probably need to install the mpfr-devel package or similar\n",
            "==========================\n",
            "    \n",
            "checking for doxygen... no\n",
            "checking for dot... /usr/bin/dot\n",
            "checking for egrep... /usr/bin/egrep\n",
            "checking for perl... /usr/bin/perl\n",
            "checking for htlatex... no\n",
            "checking for xxd... /usr/bin/xxd\n",
            "checking for gengetopt... no\n",
            "checking for help2man... no\n",
            "checking that generated files are newer than configure... done\n",
            "configure: creating ./config.status\n",
            "config.status: creating packaging/macosx/Makefile\n",
            "config.status: creating packaging/macosx/Distribution.xml\n",
            "config.status: creating packaging/macosx/resources/welcome.txt\n",
            "config.status: creating tests/Makefile\n",
            "config.status: creating tests/RNApath.py\n",
            "config.status: creating tests/RNAHelpers.pm\n",
            "config.status: creating tests/test-env.sh\n",
            "config.status: creating src/ViennaRNA/static/templates_postscript.h\n",
            "config.status: creating src/ViennaRNA/static/energy_parameter_sets.h\n",
            "config.status: creating src/ViennaRNA/vrna_config.h\n",
            "config.status: creating misc/Makefile\n",
            "config.status: creating interfaces/Makefile\n",
            "config.status: creating Makefile\n",
            "config.status: creating RNAlib2.pc\n",
            "config.status: creating src/Utils/Makefile\n",
            "config.status: creating src/bin/Makefile\n",
            "config.status: creating src/Makefile\n",
            "config.status: creating src/ViennaRNA/Makefile\n",
            "config.status: creating src/ViennaRNA/static/Makefile\n",
            "config.status: creating man/Makefile\n",
            "config.status: creating doc/Makefile\n",
            "config.status: creating RNA-Tutorial/Makefile\n",
            "config.status: creating man/cmdlopt.sh\n",
            "config.status: creating examples/Makefile\n",
            "config.status: creating packaging/viennarna.spec\n",
            "config.status: creating packaging/PKGBUILD\n",
            "config.status: creating packaging/win_installer_archlinux_i686.nsi\n",
            "config.status: creating packaging/win_installer_archlinux_x86_64.nsi\n",
            "config.status: creating packaging/win_installer_fedora_i686.nsi\n",
            "config.status: creating packaging/win_installer_fedora_x86_64.nsi\n",
            "config.status: creating config.h\n",
            "config.status: executing depfiles commands\n",
            "config.status: executing libtool commands\n",
            "configure:\n",
            "\n",
            "======================================\n",
            "    \u001b[1mViennaRNA Package 2.4.14\u001b[m\n",
            "======================================\n",
            "\n",
            "Successfully configured with the following options:\n",
            "\n",
            "Sub Packages\n",
            "------------\n",
            "  * Kinfold                   : \u001b[31;1mno\u001b[m\n",
            "  * RNAforester               : \u001b[31;1mno\u001b[m\n",
            "  * Analyse{Dists,Seqs}       : \u001b[31;1mno\u001b[m\n",
            "  * RNAlocmin                 : \u001b[31;1mno\u001b[m\n",
            "  * Kinwalker                 : \u001b[31;1mno\u001b[m\n",
            "\n",
            "Extra Libraries\n",
            "---------------\n",
            "  * Support Vector Machine    : \u001b[31;1mno\u001b[m\n",
            "  * GNU Scientific Library    : \u001b[31;1mno\u001b[m\n",
            "  * GNU MPFR                  : \u001b[31;1mno\u001b[m\n",
            "  * JSON                      : \u001b[31;1mno\u001b[m\n",
            "\n",
            "Features\n",
            "--------\n",
            "  * Boustrophedon             : \u001b[32;1myes\u001b[m\n",
            "  * Use hash for NR Sampling  : \u001b[31;1mno\u001b[m\n",
            "  * C11 features              : \u001b[32;1myes\u001b[m\n",
            "  * TTY colors                : \u001b[32;1myes\u001b[m\n",
            "  * Float Precision(PF}       : \u001b[31;1mno\u001b[m\n",
            "  * Deprecation Warnings      : \u001b[31;1mno\u001b[m\n",
            "\n",
            "Optimizations\n",
            "-------------\n",
            "  * Auto Vectorization        : \u001b[32;1myes\u001b[m\n",
            "  * Explicit SIMD Extension   : \u001b[32;1myes\u001b[m \n",
            "  * Link Time Optimization    : \u001b[32;1myes\u001b[m\n",
            "  * POSIX Threads             : \u001b[32;1myes\u001b[m\n",
            "  * OpenMP                    : \u001b[32;1myes\u001b[m\n",
            "\n",
            "Scripting Language Interfaces\n",
            "-----------------------------\n",
            "  * Perl 5                    : \u001b[31;1mno\u001b[m\n",
            "  * Python 2                  : \u001b[31;1mno\u001b[m\n",
            "  * Python 3                  : \u001b[31;1mno\u001b[m\n",
            "\n",
            "Documentation\n",
            "-------------\n",
            "  * Reference Manual (PDF)    : \u001b[31;1mno\u001b[m \n",
            "  * Reference Manual (HTML)   : \u001b[31;1mno\u001b[m \n",
            "  * Tutorial (PDF)            : \u001b[31;1mno\u001b[m \n",
            "  * Tutorial (HTML)           : \u001b[31;1mno\u001b[m \n",
            "\n",
            "Unit Tests\n",
            "----------\n",
            "  * Executable Programs       : \u001b[31;1mno\u001b[m\n",
            "  * C-Library                 : \u001b[31;1mno\u001b[m\n",
            "  * Perl 5 Interface          : \u001b[31;1mno\u001b[m\n",
            "  * Python 2 Interface        : \u001b[31;1mno\u001b[m\n",
            "  * Python 3 Interface        : \u001b[31;1mno\u001b[m\n",
            "\n",
            "MacOS X\n",
            "-------\n",
            "  * Universal Binary          : \u001b[31;1mno\u001b[m\n",
            "  * Installer                 : \u001b[31;1mno\u001b[m\n",
            "  * SDK                       : \u001b[34;1mcustom\u001b[m\n",
            "\n",
            "Install Directories\n",
            "-------------------\n",
            "  * Executables               : \u001b[34;1m/content/ViennaRNA-2.4.14/bin\u001b[m\n",
            "  * Libraries                 : \u001b[34;1m/content/ViennaRNA-2.4.14/lib\u001b[m\n",
            "  * Header files              : \u001b[34;1m/content/ViennaRNA-2.4.14/include\u001b[m\n",
            "  * Extra Data                : \u001b[34;1m/content/ViennaRNA-2.4.14/share\u001b[m\n",
            "  * Man pages                 : \u001b[34;1m/content/ViennaRNA-2.4.14/share/man\u001b[m\n",
            "  * Documentation             : \u001b[31;1mNot to be installed\u001b[m\n",
            "      (HTML)                  : \u001b[34;1m\u001b[m\n",
            "      (PDF)                   : \u001b[34;1m\u001b[m\n",
            "  * Perl5 Interface           : \u001b[31;1mNot to be installed\u001b[m\n",
            "      (binaries)              : \u001b[34;1m\u001b[m\n",
            "      (scripts)               : \u001b[34;1m\u001b[m\n",
            "  * Python2 Interface         : \u001b[31;1mNot to be installed \u001b[m\n",
            "      (binaries)              : \u001b[34;1m\u001b[m\n",
            "      (scripts)               : \u001b[34;1m\u001b[m\n",
            "  * Python3 Interface         : \u001b[31;1mNot to be installed \u001b[m\n",
            "      (binaries)              : \u001b[34;1m\u001b[m\n",
            "      (scripts)               : \u001b[34;1m\u001b[m\n",
            "\n",
            "\u001b[1mYou can run 'make', 'make check', and 'make install' now!\u001b[m\n"
          ]
        }
      ]
    },
    {
      "cell_type": "code",
      "metadata": {
        "colab": {
          "base_uri": "https://localhost:8080/"
        },
        "id": "uRQvdogNyr3A",
        "outputId": "6714333c-ad91-4c0f-d0c3-e887078bf0e3"
      },
      "source": [
        "!make clean"
      ],
      "execution_count": 6,
      "outputs": [
        {
          "output_type": "stream",
          "name": "stdout",
          "text": [
            "Making clean in src\n",
            "make[1]: Entering directory '/content/ViennaRNA-2.4.14/src'\n",
            "Making clean in ViennaRNA\n",
            "make[2]: Entering directory '/content/ViennaRNA-2.4.14/src/ViennaRNA'\n",
            "Making clean in static\n",
            "make[3]: Entering directory '/content/ViennaRNA-2.4.14/src/ViennaRNA/static'\n",
            "rm -rf .libs _libs\n",
            "rm -f *.lo\n",
            "make[3]: Leaving directory '/content/ViennaRNA-2.4.14/src/ViennaRNA/static'\n",
            "make[3]: Entering directory '/content/ViennaRNA-2.4.14/src/ViennaRNA'\n",
            "test -z \"libRNA.la\" || rm -f libRNA.la\n",
            "rm -f ./so_locations\n",
            "rm -rf .libs _libs\n",
            "rm -rf ..//.libs ..//_libs\n",
            "rm -rf ../json/.libs ../json/_libs\n",
            "rm -rf constraints/.libs constraints/_libs\n",
            "rm -rf datastructures/.libs datastructures/_libs\n",
            "rm -rf io/.libs io/_libs\n",
            "rm -rf landscape/.libs landscape/_libs\n",
            "rm -rf loops/.libs loops/_libs\n",
            "rm -rf params/.libs params/_libs\n",
            "rm -rf plotting/.libs plotting/_libs\n",
            "rm -rf plotting/RNApuzzler/.libs plotting/RNApuzzler/_libs\n",
            "rm -rf search/.libs search/_libs\n",
            "rm -rf utils/.libs utils/_libs\n",
            "rm -f libRNA.a\n",
            "test -z \"libRNA_conv.la libRNA_constraints.la libRNA_datastructures.la libRNA_utils.la libRNA_plotting.la libRNA_params.la libRNA_loops.la libRNA_eval.la libRNA_landscape.la libRNA_special_const.la libRNA_utils_sse41.la libRNA_utils_avx512.la\" || rm -f libRNA_conv.la libRNA_constraints.la libRNA_datastructures.la libRNA_utils.la libRNA_plotting.la libRNA_params.la libRNA_loops.la libRNA_eval.la libRNA_landscape.la libRNA_special_const.la libRNA_utils_sse41.la libRNA_utils_avx512.la\n",
            "rm -f ./so_locations\n",
            "rm -f *.o\n",
            "rm -f ..//*.o\n",
            "rm -f ..//*.lo\n",
            "rm -f ../json/*.o\n",
            "rm -f ../json/*.lo\n",
            "rm -f constraints/*.o\n",
            "rm -f constraints/*.lo\n",
            "rm -f datastructures/*.o\n",
            "rm -f datastructures/*.lo\n",
            "rm -f io/*.o\n",
            "rm -f io/*.lo\n",
            "rm -f landscape/*.o\n",
            "rm -f landscape/*.lo\n",
            "rm -f loops/*.o\n",
            "rm -f loops/*.lo\n",
            "rm -f params/*.o\n",
            "rm -f params/*.lo\n",
            "rm -f plotting/*.o\n",
            "rm -f plotting/*.lo\n",
            "rm -f plotting/RNApuzzler/*.o\n",
            "rm -f plotting/RNApuzzler/*.lo\n",
            "rm -f search/*.o\n",
            "rm -f search/*.lo\n",
            "rm -f utils/*.o\n",
            "rm -f utils/*.lo\n",
            "rm -f *.lo\n",
            "make[3]: Leaving directory '/content/ViennaRNA-2.4.14/src/ViennaRNA'\n",
            "make[2]: Leaving directory '/content/ViennaRNA-2.4.14/src/ViennaRNA'\n",
            "Making clean in bin\n",
            "make[2]: Entering directory '/content/ViennaRNA-2.4.14/src/bin'\n",
            " rm -f RNAfold RNAeval RNAheat RNApdist RNAdistance RNAinverse RNAplot RNAsubopt RNALfold RNAcofold RNApaln RNAduplex RNAalifold RNAplfold RNAup RNAaliduplex RNALalifold RNA2Dfold RNAparconv RNAPKplex RNAplex RNAsnoop RNApvmin RNAdos\n",
            "rm -rf .libs _libs\n",
            "rm -rf ../cthreadpool/.libs ../cthreadpool/_libs\n",
            "test -z \"libhelpers.la\" || rm -f libhelpers.la\n",
            "rm -f ./so_locations\n",
            "rm -f *.o\n",
            "rm -f ../cthreadpool/*.o\n",
            "rm -f ../cthreadpool/*.lo\n",
            "rm -f *.lo\n",
            "make[2]: Leaving directory '/content/ViennaRNA-2.4.14/src/bin'\n",
            "Making clean in Utils\n",
            "make[2]: Entering directory '/content/ViennaRNA-2.4.14/src/Utils'\n",
            " rm -f b2ct popt ct2db\n",
            "rm -rf .libs _libs\n",
            "rm -f *.o\n",
            "rm -f *.lo\n",
            "make[2]: Leaving directory '/content/ViennaRNA-2.4.14/src/Utils'\n",
            "make[2]: Entering directory '/content/ViennaRNA-2.4.14/src'\n",
            "rm -rf .libs _libs\n",
            "rm -f *.lo\n",
            "make[2]: Leaving directory '/content/ViennaRNA-2.4.14/src'\n",
            "make[1]: Leaving directory '/content/ViennaRNA-2.4.14/src'\n",
            "Making clean in man\n",
            "make[1]: Entering directory '/content/ViennaRNA-2.4.14/man'\n",
            "test -z \"RNAlib.dvi RNAlib.pdf RNAlib.ps RNAlib.html\" \\\n",
            "|| rm -rf RNAlib.dvi RNAlib.pdf RNAlib.ps RNAlib.html\n",
            "rm -rf .libs _libs\n",
            "rm -rf RNAlib.t2d RNAlib.t2p\n",
            "rm -f *.lo\n",
            "make[1]: Leaving directory '/content/ViennaRNA-2.4.14/man'\n",
            "Making clean in misc\n",
            "make[1]: Entering directory '/content/ViennaRNA-2.4.14/misc'\n",
            "rm -rf .libs _libs\n",
            "rm -f *.lo\n",
            "make[1]: Leaving directory '/content/ViennaRNA-2.4.14/misc'\n",
            "Making clean in doc\n",
            "make[1]: Entering directory '/content/ViennaRNA-2.4.14/doc'\n",
            "rm -rf .libs _libs\n",
            "{ test ! -d latex ||  { cd latex && rm -f *.ps *.dvi *.aux *.toc *.idx *.ind *.ilg *.log *.out *.brf *.blg *.bbl refman.pdf doxyref.log && cd .. ; } }\n",
            "rm -f *.lo\n",
            "make[1]: Leaving directory '/content/ViennaRNA-2.4.14/doc'\n",
            "Making clean in RNA-Tutorial\n",
            "make[1]: Entering directory '/content/ViennaRNA-2.4.14/RNA-Tutorial'\n",
            "rm -rf .libs _libs\n",
            "rm -f *.ps *.dvi *.idv *.aux *.toc *.idx *.ind *.ilg *.log *.out *.brf *.blg *.bbl tutorial.pdf\n",
            "rm -f *.html *.css *.4ct *.4tc *.tmp *.lg *.xref\n",
            "rm -f *.lo\n",
            "make[1]: Leaving directory '/content/ViennaRNA-2.4.14/RNA-Tutorial'\n",
            "Making clean in interfaces\n",
            "make[1]: Entering directory '/content/ViennaRNA-2.4.14/interfaces'\n",
            "make[2]: Entering directory '/content/ViennaRNA-2.4.14/interfaces'\n",
            "rm -rf .libs _libs\n",
            "rm -f *.lo\n",
            "make[2]: Leaving directory '/content/ViennaRNA-2.4.14/interfaces'\n",
            "make[1]: Leaving directory '/content/ViennaRNA-2.4.14/interfaces'\n",
            "Making clean in tests\n",
            "make[1]: Entering directory '/content/ViennaRNA-2.4.14/tests'\n",
            "rm -rf .libs _libs\n",
            "rm -rf  \\\n",
            "                 \\\n",
            "                 \\\n",
            "                *.pyc \\\n",
            "                __pycache__\n",
            "rm -f *.o\n",
            "test -z \"\" || rm -f \n",
            "test -z \"\" || rm -f \n",
            "test -z \"test-suite.log\" || rm -f test-suite.log\n",
            "rm -f *.lo\n",
            "make[1]: Leaving directory '/content/ViennaRNA-2.4.14/tests'\n",
            "Making clean in examples\n",
            "make[1]: Entering directory '/content/ViennaRNA-2.4.14/examples'\n",
            "rm -rf .libs _libs\n",
            "rm -f *.lo\n",
            "make[1]: Leaving directory '/content/ViennaRNA-2.4.14/examples'\n",
            "Making clean in packaging/macosx\n",
            "make[1]: Entering directory '/content/ViennaRNA-2.4.14/packaging/macosx'\n",
            "rm -rf .libs _libs\n",
            "{ test ! -d staging_core || { find staging_core -type d ! -perm -200 -exec chmod u+w {} ';' && rm -fr staging_core; }; }\n",
            "{ test ! -d staging_libRNA || { find staging_libRNA -type d ! -perm -200 -exec chmod u+w {} ';' && rm -fr staging_libRNA; }; }\n",
            "{ test ! -d staging_kinfold || { find staging_kinfold -type d ! -perm -200 -exec chmod u+w {} ';' && rm -fr staging_kinfold; }; }\n",
            "{ test ! -d staging_cluster || { find staging_cluster -type d ! -perm -200 -exec chmod u+w {} ';' && rm -fr staging_cluster; }; }\n",
            "{ test ! -d staging_kinwalker || { find staging_kinwalker -type d ! -perm -200 -exec chmod u+w {} ';' && rm -fr staging_kinwalker; }; }\n",
            "{ test ! -d staging_forester || { find staging_forester -type d ! -perm -200 -exec chmod u+w {} ';' && rm -fr staging_forester; }; }\n",
            "{ test ! -d staging_rnalocmin || { find staging_rnalocmin -type d ! -perm -200 -exec chmod u+w {} ';' && rm -fr staging_rnalocmin; }; }\n",
            "{ test ! -d staging_tutorial || { find staging_tutorial -type d ! -perm -200 -exec chmod u+w {} ';' && rm -fr staging_tutorial; }; }\n",
            "{ test ! -d staging_perl || { find staging_perl -type d ! -perm -200 -exec chmod u+w {} ';' && rm -fr staging_perl; }; }\n",
            "{ test ! -d staging_python || { find staging_python -type d ! -perm -200 -exec chmod u+w {} ';' && rm -fr staging_python; }; }\n",
            "rm -rf disk_image\n",
            "rm -f  \"\"ViennaRNA\\ Package\\ 2.4.14\\ Installer\".pkg\" \\\n",
            "          \"\"ViennaRNA\\ Package\\ 2.4.14\\ Python\".pkg\" \\\n",
            "          \"\"ViennaRNA\\ Package\\ 2.4.14\\ Perl\".pkg\" \\\n",
            "          \"\"ViennaRNA\\ Package\\ 2.4.14\\ RNAforester\".pkg\" \\\n",
            "          \"\"ViennaRNA\\ Package\\ 2.4.14\\ Kinwalker\".pkg\" \\\n",
            "          \"\"ViennaRNA\\ Package\\ 2.4.14\\ Kinfold\".pkg\" \\\n",
            "          \"\"ViennaRNA\\ Package\\ 2.4.14\\ Cluster\\ Analysis\".pkg\" \\\n",
            "          \"\"ViennaRNA\\ Package\\ 2.4.14\\ RNAlocmin\".pkg\" \\\n",
            "          \"\"ViennaRNA\\ Package\\ 2.4.14\\ Tutorial\".pkg\" \\\n",
            "          \"\"ViennaRNA\\ Package\\ 2.4.14\\ Development\".pkg\" \\\n",
            "          \"\"ViennaRNA\\ Package\\ 2.4.14\\ Core\".pkg\"\n",
            "rm -f *.lo\n",
            "make[1]: Leaving directory '/content/ViennaRNA-2.4.14/packaging/macosx'\n",
            "make[1]: Entering directory '/content/ViennaRNA-2.4.14'\n",
            "rm -rf .libs _libs\n",
            "rm -f *.lo\n",
            "make[1]: Leaving directory '/content/ViennaRNA-2.4.14'\n"
          ]
        }
      ]
    },
    {
      "cell_type": "code",
      "metadata": {
        "colab": {
          "base_uri": "https://localhost:8080/"
        },
        "id": "OOlAvQzKRz9z",
        "outputId": "4935b82e-4e0c-4c78-8697-c37e73cca603"
      },
      "source": [
        "!make"
      ],
      "execution_count": 7,
      "outputs": [
        {
          "output_type": "stream",
          "name": "stdout",
          "text": [
            "make  all-recursive\n",
            "make[1]: Entering directory '/content/ViennaRNA-2.4.14'\n",
            "Making all in src\n",
            "make[2]: Entering directory '/content/ViennaRNA-2.4.14/src'\n",
            "Making all in ViennaRNA\n",
            "make[3]: Entering directory '/content/ViennaRNA-2.4.14/src/ViennaRNA'\n",
            "Making all in static\n",
            "make[4]: Entering directory '/content/ViennaRNA-2.4.14/src/ViennaRNA/static'\n",
            "make  all-am\n",
            "make[5]: Entering directory '/content/ViennaRNA-2.4.14/src/ViennaRNA/static'\n",
            "make[5]: Nothing to be done for 'all-am'.\n",
            "make[5]: Leaving directory '/content/ViennaRNA-2.4.14/src/ViennaRNA/static'\n",
            "make[4]: Leaving directory '/content/ViennaRNA-2.4.14/src/ViennaRNA/static'\n",
            "make[4]: Entering directory '/content/ViennaRNA-2.4.14/src/ViennaRNA'\n",
            "  CC       fold_compound.lo\n",
            "  CC       dist_vars.lo\n",
            "  CC       part_func.lo\n",
            "  CC       part_func_wrappers.lo\n",
            "  CC       pf_fold.lo\n",
            "  CC       treedist.lo\n",
            "  CC       inverse.lo\n",
            "  CC       ProfileDist.lo\n",
            "  CC       RNAstruct.lo\n",
            "  CC       mfe.lo\n",
            "  CC       mfe_window.lo\n",
            "  CC       mfe_wrappers.lo\n",
            "  CC       mfe_window_wrappers.lo\n",
            "  CC       fold.lo\n",
            "  CC       stringdist.lo\n",
            "  CC       subopt.lo\n",
            "  CC       Lfold.lo\n",
            "  CC       cofold.lo\n",
            "  CC       part_func_co.lo\n",
            "  CC       concentrations.lo\n",
            "  CC       ProfileAln.lo\n",
            "  CC       duplex.lo\n",
            "  CC       alifold.lo\n",
            "  CC       alipfold.lo\n",
            "  CC       LPfold.lo\n",
            "In function ‘\u001b[01m\u001b[Krotate_dp_matrices\u001b[m\u001b[K’,\n",
            "    inlined from ‘\u001b[01m\u001b[Kvrna_probs_window\u001b[m\u001b[K’ at \u001b[01m\u001b[KLPfold.c:890:9\u001b[m\u001b[K:\n",
            "\u001b[01m\u001b[KLPfold.c:592:5:\u001b[m\u001b[K \u001b[01;35m\u001b[Kwarning: \u001b[m\u001b[K‘\u001b[01m\u001b[Kfree\u001b[m\u001b[K’ called on pointer ‘\u001b[01m\u001b[K*_1022\u001b[m\u001b[K’ with nonzero offset [8, 17179869176] [\u001b[01;35m\u001b[K\u001b]8;;https://gcc.gnu.org/onlinedocs/gcc/Warning-Options.html#index-Wfree-nonheap-object\u0007-Wfree-nonheap-object\u001b]8;;\u0007\u001b[m\u001b[K]\n",
            "  592 |     \u001b[01;35m\u001b[Kfree(pR[i] + i)\u001b[m\u001b[K;\n",
            "      |     \u001b[01;35m\u001b[K^~~~~~~~~~~~~~~\u001b[m\u001b[K\n",
            "\u001b[01m\u001b[KLPfold.c:593:5:\u001b[m\u001b[K \u001b[01;35m\u001b[Kwarning: \u001b[m\u001b[K‘\u001b[01m\u001b[Kfree\u001b[m\u001b[K’ called on pointer ‘\u001b[01m\u001b[K*_1025\u001b[m\u001b[K’ with nonzero offset [8, 17179869176] [\u001b[01;35m\u001b[K\u001b]8;;https://gcc.gnu.org/onlinedocs/gcc/Warning-Options.html#index-Wfree-nonheap-object\u0007-Wfree-nonheap-object\u001b]8;;\u0007\u001b[m\u001b[K]\n",
            "  593 |     \u001b[01;35m\u001b[Kfree(q[i] + i)\u001b[m\u001b[K;\n",
            "      |     \u001b[01;35m\u001b[K^~~~~~~~~~~~~~\u001b[m\u001b[K\n",
            "\u001b[01m\u001b[KLPfold.c:594:5:\u001b[m\u001b[K \u001b[01;35m\u001b[Kwarning: \u001b[m\u001b[K‘\u001b[01m\u001b[Kfree\u001b[m\u001b[K’ called on pointer ‘\u001b[01m\u001b[K*_1028\u001b[m\u001b[K’ with nonzero offset [8, 17179869176] [\u001b[01;35m\u001b[K\u001b]8;;https://gcc.gnu.org/onlinedocs/gcc/Warning-Options.html#index-Wfree-nonheap-object\u0007-Wfree-nonheap-object\u001b]8;;\u0007\u001b[m\u001b[K]\n",
            "  594 |     \u001b[01;35m\u001b[Kfree(qb[i] + i)\u001b[m\u001b[K;\n",
            "      |     \u001b[01;35m\u001b[K^~~~~~~~~~~~~~~\u001b[m\u001b[K\n",
            "\u001b[01m\u001b[KLPfold.c:595:5:\u001b[m\u001b[K \u001b[01;35m\u001b[Kwarning: \u001b[m\u001b[K‘\u001b[01m\u001b[Kfree\u001b[m\u001b[K’ called on pointer ‘\u001b[01m\u001b[K*_1031\u001b[m\u001b[K’ with nonzero offset [8, 17179869176] [\u001b[01;35m\u001b[K\u001b]8;;https://gcc.gnu.org/onlinedocs/gcc/Warning-Options.html#index-Wfree-nonheap-object\u0007-Wfree-nonheap-object\u001b]8;;\u0007\u001b[m\u001b[K]\n",
            "  595 |     \u001b[01;35m\u001b[Kfree(qm[i] + i)\u001b[m\u001b[K;\n",
            "      |     \u001b[01;35m\u001b[K^~~~~~~~~~~~~~~\u001b[m\u001b[K\n",
            "\u001b[01m\u001b[KLPfold.c:605:7:\u001b[m\u001b[K \u001b[01;35m\u001b[Kwarning: \u001b[m\u001b[K‘\u001b[01m\u001b[Kfree\u001b[m\u001b[K’ called on pointer ‘\u001b[01m\u001b[K*_1039\u001b[m\u001b[K’ with nonzero offset [8, 17179869176] [\u001b[01;35m\u001b[K\u001b]8;;https://gcc.gnu.org/onlinedocs/gcc/Warning-Options.html#index-Wfree-nonheap-object\u0007-Wfree-nonheap-object\u001b]8;;\u0007\u001b[m\u001b[K]\n",
            "  605 |       \u001b[01;35m\u001b[Kfree(qm2[i] + i)\u001b[m\u001b[K;\n",
            "      |       \u001b[01;35m\u001b[K^~~~~~~~~~~~~~~~\u001b[m\u001b[K\n",
            "\u001b[01m\u001b[KLPfold.c:617:5:\u001b[m\u001b[K \u001b[01;35m\u001b[Kwarning: \u001b[m\u001b[K‘\u001b[01m\u001b[Kfree\u001b[m\u001b[K’ called on pointer ‘\u001b[01m\u001b[K*_1053\u001b[m\u001b[K’ with nonzero offset [1, 2147483647] [\u001b[01;35m\u001b[K\u001b]8;;https://gcc.gnu.org/onlinedocs/gcc/Warning-Options.html#index-Wfree-nonheap-object\u0007-Wfree-nonheap-object\u001b]8;;\u0007\u001b[m\u001b[K]\n",
            "  617 |     \u001b[01;35m\u001b[Kfree(ptype[i] + i)\u001b[m\u001b[K;\n",
            "      |     \u001b[01;35m\u001b[K^~~~~~~~~~~~~~~~~~\u001b[m\u001b[K\n",
            "In function ‘\u001b[01m\u001b[Kfree_dp_matrices\u001b[m\u001b[K’,\n",
            "    inlined from ‘\u001b[01m\u001b[Kvrna_probs_window\u001b[m\u001b[K’ at \u001b[01m\u001b[KLPfold.c:937:3\u001b[m\u001b[K:\n",
            "\u001b[01m\u001b[KLPfold.c:513:5:\u001b[m\u001b[K \u001b[01;35m\u001b[Kwarning: \u001b[m\u001b[K‘\u001b[01m\u001b[Kfree\u001b[m\u001b[K’ called on pointer ‘\u001b[01m\u001b[KMEM[(FLT_OR_DBL * *)pR_1071 + ivtmp.701_1128 * 8]\u001b[m\u001b[K’ with nonzero offset [8, 17179869176] [\u001b[01;35m\u001b[K\u001b]8;;https://gcc.gnu.org/onlinedocs/gcc/Warning-Options.html#index-Wfree-nonheap-object\u0007-Wfree-nonheap-object\u001b]8;;\u0007\u001b[m\u001b[K]\n",
            "  513 |     \u001b[01;35m\u001b[Kfree(pR[i] + i)\u001b[m\u001b[K;\n",
            "      |     \u001b[01;35m\u001b[K^~~~~~~~~~~~~~~\u001b[m\u001b[K\n",
            "\u001b[01m\u001b[KLPfold.c:514:5:\u001b[m\u001b[K \u001b[01;35m\u001b[Kwarning: \u001b[m\u001b[K‘\u001b[01m\u001b[Kfree\u001b[m\u001b[K’ called on pointer ‘\u001b[01m\u001b[KMEM[(FLT_OR_DBL * *)q_1072 + ivtmp.701_1128 * 8]\u001b[m\u001b[K’ with nonzero offset [8, 17179869176] [\u001b[01;35m\u001b[K\u001b]8;;https://gcc.gnu.org/onlinedocs/gcc/Warning-Options.html#index-Wfree-nonheap-object\u0007-Wfree-nonheap-object\u001b]8;;\u0007\u001b[m\u001b[K]\n",
            "  514 |     \u001b[01;35m\u001b[Kfree(q[i] + i)\u001b[m\u001b[K;\n",
            "      |     \u001b[01;35m\u001b[K^~~~~~~~~~~~~~\u001b[m\u001b[K\n",
            "\u001b[01m\u001b[KLPfold.c:515:5:\u001b[m\u001b[K \u001b[01;35m\u001b[Kwarning: \u001b[m\u001b[K‘\u001b[01m\u001b[Kfree\u001b[m\u001b[K’ called on pointer ‘\u001b[01m\u001b[KMEM[(FLT_OR_DBL * *)qb_1073 + ivtmp.701_1128 * 8]\u001b[m\u001b[K’ with nonzero offset [8, 17179869176] [\u001b[01;35m\u001b[K\u001b]8;;https://gcc.gnu.org/onlinedocs/gcc/Warning-Options.html#index-Wfree-nonheap-object\u0007-Wfree-nonheap-object\u001b]8;;\u0007\u001b[m\u001b[K]\n",
            "  515 |     \u001b[01;35m\u001b[Kfree(qb[i] + i)\u001b[m\u001b[K;\n",
            "      |     \u001b[01;35m\u001b[K^~~~~~~~~~~~~~~\u001b[m\u001b[K\n",
            "\u001b[01m\u001b[KLPfold.c:516:5:\u001b[m\u001b[K \u001b[01;35m\u001b[Kwarning: \u001b[m\u001b[K‘\u001b[01m\u001b[Kfree\u001b[m\u001b[K’ called on pointer ‘\u001b[01m\u001b[KMEM[(FLT_OR_DBL * *)qm_1074 + ivtmp.701_1128 * 8]\u001b[m\u001b[K’ with nonzero offset [8, 17179869176] [\u001b[01;35m\u001b[K\u001b]8;;https://gcc.gnu.org/onlinedocs/gcc/Warning-Options.html#index-Wfree-nonheap-object\u0007-Wfree-nonheap-object\u001b]8;;\u0007\u001b[m\u001b[K]\n",
            "  516 |     \u001b[01;35m\u001b[Kfree(qm[i] + i)\u001b[m\u001b[K;\n",
            "      |     \u001b[01;35m\u001b[K^~~~~~~~~~~~~~~\u001b[m\u001b[K\n",
            "\u001b[01m\u001b[KLPfold.c:526:7:\u001b[m\u001b[K \u001b[01;35m\u001b[Kwarning: \u001b[m\u001b[K‘\u001b[01m\u001b[Kfree\u001b[m\u001b[K’ called on pointer ‘\u001b[01m\u001b[K*_1101\u001b[m\u001b[K’ with nonzero offset [8, 17179869176] [\u001b[01;35m\u001b[K\u001b]8;;https://gcc.gnu.org/onlinedocs/gcc/Warning-Options.html#index-Wfree-nonheap-object\u0007-Wfree-nonheap-object\u001b]8;;\u0007\u001b[m\u001b[K]\n",
            "  526 |       \u001b[01;35m\u001b[Kfree(qm2[i] + i)\u001b[m\u001b[K;\n",
            "      |       \u001b[01;35m\u001b[K^~~~~~~~~~~~~~~~\u001b[m\u001b[K\n",
            "\u001b[01m\u001b[KLPfold.c:538:5:\u001b[m\u001b[K \u001b[01;35m\u001b[Kwarning: \u001b[m\u001b[K‘\u001b[01m\u001b[Kfree\u001b[m\u001b[K’ called on pointer ‘\u001b[01m\u001b[KMEM[(char * *)ptype_1075 + ivtmp.701_1128 * 8]\u001b[m\u001b[K’ with nonzero offset [1, 2147483647] [\u001b[01;35m\u001b[K\u001b]8;;https://gcc.gnu.org/onlinedocs/gcc/Warning-Options.html#index-Wfree-nonheap-object\u0007-Wfree-nonheap-object\u001b]8;;\u0007\u001b[m\u001b[K]\n",
            "  538 |     \u001b[01;35m\u001b[Kfree(ptype[i] + i)\u001b[m\u001b[K;\n",
            "      |     \u001b[01;35m\u001b[K^~~~~~~~~~~~~~~~~~\u001b[m\u001b[K\n",
            "  CC       part_func_up.lo\n",
            "  CC       ribo.lo\n",
            "  CC       MEA.lo\n",
            "  CC       mm.lo\n",
            "  CC       2Dfold.lo\n",
            "  CC       2Dpfold.lo\n",
            "  CC       plex_functions.lo\n",
            "  CC       ali_plex.lo\n",
            "  CC       c_plex.lo\n",
            "  CC       plex.lo\n",
            "  CC       snofold.lo\n",
            "  CC       snoop.lo\n",
            "  CC       gquad.lo\n",
            "  CC       perturbation_fold.lo\n",
            "  CC       centroid.lo\n",
            "  CC       model.lo\n",
            "  CC       dp_matrices.lo\n",
            "  CC       boltzmann_sampling.lo\n",
            "  CC       bs_wrappers.lo\n",
            "  CC       equilibrium_probs.lo\n",
            "  CC       alphabet.lo\n",
            "  CC       sequence.lo\n",
            "  CC       unstructured_domains.lo\n",
            "  CC       grammar.lo\n",
            "  CC       constraints/constraints.lo\n",
            "  CC       constraints/SHAPE.lo\n",
            "  CC       constraints/hard.lo\n",
            "  CC       constraints/soft.lo\n",
            "  CC       constraints/ligand.lo\n",
            "  CCLD     libRNA_constraints.la\n",
            "/usr/bin/ar: `u' modifier ignored since `D' is the default (see `U')\n",
            "  CC       datastructures/basic_datastructures.lo\n",
            "  CC       datastructures/lists.lo\n",
            "  CC       datastructures/char_stream.lo\n",
            "  CC       datastructures/stream_output.lo\n",
            "  CC       datastructures/hash_tables.lo\n",
            "  CC       datastructures/heap.lo\n",
            "  CCLD     libRNA_datastructures.la\n",
            "/usr/bin/ar: `u' modifier ignored since `D' is the default (see `U')\n",
            "  CC       utils/utils.lo\n",
            "  CC       utils/string_utils.lo\n",
            "  CC       utils/structure_utils.lo\n",
            "  CC       utils/structure_tree.lo\n",
            "  CC       utils/msa_utils.lo\n",
            "  CC       utils/higher_order_functions.lo\n",
            "  CC       utils/cpu.lo\n",
            "  CC       io/io_utils.lo\n",
            "  CC       io/file_formats.lo\n",
            "  CC       io/file_formats_msa.lo\n",
            "  CC       search/BoyerMoore.lo\n",
            "  CC       commands.lo\n",
            "  CC       units.lo\n",
            "  CC       combinatorics.lo\n",
            "  CCLD     libRNA_utils.la\n",
            "/usr/bin/ar: `u' modifier ignored since `D' is the default (see `U')\n",
            "  CC       plotting/alignments.lo\n",
            "  CC       plotting/layouts.lo\n",
            "  CC       plotting/probabilities.lo\n",
            "  CC       plotting/structures.lo\n",
            "  CC       plotting/plot_utils.lo\n",
            "  CC       plotting/naview.lo\n",
            "  CC       plotting/RNApuzzler/RNApuzzler.lo\n",
            "  CC       plotting/RNApuzzler/RNAturtle.lo\n",
            "  CCLD     libRNA_plotting.la\n",
            "/usr/bin/ar: `u' modifier ignored since `D' is the default (see `U')\n",
            "  CC       params/io.lo\n",
            "  CC       params/default.lo\n",
            "  CC       params/params.lo\n",
            "  CC       params/convert.lo\n",
            "  CCLD     libRNA_params.la\n",
            "/usr/bin/ar: `u' modifier ignored since `D' is the default (see `U')\n",
            "  CC       eval.lo\n",
            "  CC       eval_wrappers.lo\n",
            "  CCLD     libRNA_eval.la\n",
            "/usr/bin/ar: `u' modifier ignored since `D' is the default (see `U')\n",
            "  CC       loops/external.lo\n",
            "  CC       loops/external_bt.lo\n",
            "  CC       loops/external_pf.lo\n",
            "  CC       loops/hairpin.lo\n",
            "  CC       loops/hairpin_bt.lo\n",
            "  CC       loops/hairpin_pf.lo\n",
            "  CC       loops/internal.lo\n",
            "  CC       loops/internal_bt.lo\n",
            "  CC       loops/internal_pf.lo\n",
            "  CC       loops/multibranch.lo\n",
            "  CC       loops/multibranch_bt.lo\n",
            "  CC       loops/multibranch_pf.lo\n",
            "  CCLD     libRNA_loops.la\n",
            "/usr/bin/ar: `u' modifier ignored since `D' is the default (see `U')\n",
            "  CC       move_set.lo\n",
            "  CC       landscape/move.lo\n",
            "  CC       landscape/findpath.lo\n",
            "  CC       landscape/neighbor.lo\n",
            "  CC       landscape/walk.lo\n",
            "  CCLD     libRNA_landscape.la\n",
            "/usr/bin/ar: `u' modifier ignored since `D' is the default (see `U')\n",
            "  CC       utils/libRNA_utils_sse41_la-higher_order_functions_sse41.lo\n",
            "  CCLD     libRNA_utils_sse41.la\n",
            "/usr/bin/ar: `u' modifier ignored since `D' is the default (see `U')\n",
            "  CC       utils/libRNA_utils_avx512_la-higher_order_functions_avx512.lo\n",
            "  CCLD     libRNA_utils_avx512.la\n",
            "/usr/bin/ar: `u' modifier ignored since `D' is the default (see `U')\n",
            "  CXXLD    libRNA_conv.la\n",
            "/usr/bin/ar: `u' modifier ignored since `D' is the default (see `U')\n",
            "  CXXLD    libRNA.la\n",
            "/usr/bin/ar: `u' modifier ignored since `D' is the default (see `U')\n",
            "  CC       special_const.lo\n",
            "  CC       ugly_bt.lo\n",
            "  CCLD     libRNA_special_const.la\n",
            "/usr/bin/ar: `u' modifier ignored since `D' is the default (see `U')\n",
            "  GEN      libRNA.a\n",
            "make[4]: Leaving directory '/content/ViennaRNA-2.4.14/src/ViennaRNA'\n",
            "make[3]: Leaving directory '/content/ViennaRNA-2.4.14/src/ViennaRNA'\n",
            "Making all in bin\n",
            "make[3]: Entering directory '/content/ViennaRNA-2.4.14/src/bin'\n",
            "  CC       RNAfold_cmdl.o\n",
            "  CC       RNAfold.o\n",
            "  CC       input_id_helpers.lo\n",
            "  CC       parallel_helpers.lo\n",
            "  CC       ../cthreadpool/thpool.lo\n",
            "  CCLD     libhelpers.la\n",
            "/usr/bin/ar: `u' modifier ignored since `D' is the default (see `U')\n",
            "  CCLD     RNAfold\n",
            "lto-wrapper: warning: using serial compilation of 12 LTRANS jobs\n",
            "  CC       RNAeval_cmdl.o\n",
            "  CC       RNAeval.o\n",
            "  CCLD     RNAeval\n",
            "lto-wrapper: warning: using serial compilation of 3 LTRANS jobs\n",
            "  CC       RNAheat_cmdl.o\n",
            "  CC       RNAheat.o\n",
            "  CCLD     RNAheat\n",
            "lto-wrapper: warning: using serial compilation of 7 LTRANS jobs\n",
            "  CC       RNApdist_cmdl.o\n",
            "  CC       RNApdist.o\n",
            "  CCLD     RNApdist\n",
            "lto-wrapper: warning: using serial compilation of 4 LTRANS jobs\n",
            "  CC       RNAdistance_cmdl.o\n",
            "  CC       RNAdistance.o\n",
            "  CCLD     RNAdistance\n",
            "  CC       RNAinverse_cmdl.o\n",
            "  CC       RNAinverse.o\n",
            "  CCLD     RNAinverse\n",
            "lto-wrapper: warning: using serial compilation of 9 LTRANS jobs\n",
            "  CC       RNAplot_cmdl.o\n",
            "  CC       RNAplot.o\n",
            "  CCLD     RNAplot\n",
            "lto-wrapper: warning: using serial compilation of 2 LTRANS jobs\n",
            "  CC       RNAsubopt_cmdl.o\n",
            "  CC       RNAsubopt.o\n",
            "  CCLD     RNAsubopt\n",
            "lto-wrapper: warning: using serial compilation of 11 LTRANS jobs\n",
            "  CC       RNALfold_cmdl.o\n",
            "  CC       RNALfold.o\n",
            "  CCLD     RNALfold\n",
            "lto-wrapper: warning: using serial compilation of 7 LTRANS jobs\n",
            "  CC       RNAcofold_cmdl.o\n",
            "  CC       RNAcofold.o\n",
            "  CCLD     RNAcofold\n",
            "lto-wrapper: warning: using serial compilation of 11 LTRANS jobs\n",
            "  CC       RNApaln_cmdl.o\n",
            "  CC       RNApaln.o\n",
            "  CCLD     RNApaln\n",
            "lto-wrapper: warning: using serial compilation of 9 LTRANS jobs\n",
            "  CC       RNAduplex_cmdl.o\n",
            "  CC       RNAduplex.o\n",
            "  CCLD     RNAduplex\n",
            "  CC       RNAalifold_cmdl.o\n",
            "  CC       RNAalifold.o\n",
            "  CCLD     RNAalifold\n",
            "lto-wrapper: warning: using serial compilation of 13 LTRANS jobs\n",
            "  CC       RNAplfold_cmdl.o\n",
            "  CC       RNAplfold.o\n",
            "  CCLD     RNAplfold\n",
            "lto-wrapper: warning: using serial compilation of 4 LTRANS jobs\n",
            "\u001b[01m\u001b[K../ViennaRNA/LPfold.c:\u001b[m\u001b[K In function '\u001b[01m\u001b[Kfree_dp_matrices\u001b[m\u001b[K':\n",
            "\u001b[01m\u001b[K../ViennaRNA/LPfold.c:513:5:\u001b[m\u001b[K \u001b[01;35m\u001b[Kwarning: \u001b[m\u001b[K'\u001b[01m\u001b[Kfree\u001b[m\u001b[K' called on pointer '\u001b[01m\u001b[KMEM[(FLT_OR_DBL * *)pR_52 + ivtmp.185_129 * 8]\u001b[m\u001b[K' with nonzero offset [8, 17179869176] [\u001b[01;35m\u001b[K\u001b]8;;https://gcc.gnu.org/onlinedocs/gcc/Warning-Options.html#index-Wfree-nonheap-object\u0007-Wfree-nonheap-object\u001b]8;;\u0007\u001b[m\u001b[K]\n",
            "  513 |     free(pR[i] + i);\n",
            "      |     \u001b[01;35m\u001b[K^\u001b[m\u001b[K\n",
            "\u001b[01m\u001b[K../ViennaRNA/LPfold.c:514:5:\u001b[m\u001b[K \u001b[01;35m\u001b[Kwarning: \u001b[m\u001b[K'\u001b[01m\u001b[Kfree\u001b[m\u001b[K' called on pointer '\u001b[01m\u001b[KMEM[(FLT_OR_DBL * *)q_53 + ivtmp.185_129 * 8]\u001b[m\u001b[K' with nonzero offset [8, 17179869176] [\u001b[01;35m\u001b[K\u001b]8;;https://gcc.gnu.org/onlinedocs/gcc/Warning-Options.html#index-Wfree-nonheap-object\u0007-Wfree-nonheap-object\u001b]8;;\u0007\u001b[m\u001b[K]\n",
            "  514 |     free(q[i] + i);\n",
            "      |     \u001b[01;35m\u001b[K^\u001b[m\u001b[K\n",
            "\u001b[01m\u001b[K../ViennaRNA/LPfold.c:515:5:\u001b[m\u001b[K \u001b[01;35m\u001b[Kwarning: \u001b[m\u001b[K'\u001b[01m\u001b[Kfree\u001b[m\u001b[K' called on pointer '\u001b[01m\u001b[KMEM[(FLT_OR_DBL * *)qb_54 + ivtmp.185_129 * 8]\u001b[m\u001b[K' with nonzero offset [8, 17179869176] [\u001b[01;35m\u001b[K\u001b]8;;https://gcc.gnu.org/onlinedocs/gcc/Warning-Options.html#index-Wfree-nonheap-object\u0007-Wfree-nonheap-object\u001b]8;;\u0007\u001b[m\u001b[K]\n",
            "  515 |     free(qb[i] + i);\n",
            "      |     \u001b[01;35m\u001b[K^\u001b[m\u001b[K\n",
            "\u001b[01m\u001b[K../ViennaRNA/LPfold.c:516:5:\u001b[m\u001b[K \u001b[01;35m\u001b[Kwarning: \u001b[m\u001b[K'\u001b[01m\u001b[Kfree\u001b[m\u001b[K' called on pointer '\u001b[01m\u001b[KMEM[(FLT_OR_DBL * *)qm_55 + ivtmp.185_129 * 8]\u001b[m\u001b[K' with nonzero offset [8, 17179869176] [\u001b[01;35m\u001b[K\u001b]8;;https://gcc.gnu.org/onlinedocs/gcc/Warning-Options.html#index-Wfree-nonheap-object\u0007-Wfree-nonheap-object\u001b]8;;\u0007\u001b[m\u001b[K]\n",
            "  516 |     free(qm[i] + i);\n",
            "      |     \u001b[01;35m\u001b[K^\u001b[m\u001b[K\n",
            "\u001b[01m\u001b[K../ViennaRNA/LPfold.c:526:7:\u001b[m\u001b[K \u001b[01;35m\u001b[Kwarning: \u001b[m\u001b[K'\u001b[01m\u001b[Kfree\u001b[m\u001b[K' called on pointer '\u001b[01m\u001b[K*_19\u001b[m\u001b[K' with nonzero offset [8, 17179869176] [\u001b[01;35m\u001b[K\u001b]8;;https://gcc.gnu.org/onlinedocs/gcc/Warning-Options.html#index-Wfree-nonheap-object\u0007-Wfree-nonheap-object\u001b]8;;\u0007\u001b[m\u001b[K]\n",
            "  526 |       free(qm2[i] + i);\n",
            "      |       \u001b[01;35m\u001b[K^\u001b[m\u001b[K\n",
            "\u001b[01m\u001b[K../ViennaRNA/LPfold.c:538:5:\u001b[m\u001b[K \u001b[01;35m\u001b[Kwarning: \u001b[m\u001b[K'\u001b[01m\u001b[Kfree\u001b[m\u001b[K' called on pointer '\u001b[01m\u001b[KMEM[(char * *)ptype_56 + ivtmp.185_129 * 8]\u001b[m\u001b[K' with nonzero offset [1, 2147483647] [\u001b[01;35m\u001b[K\u001b]8;;https://gcc.gnu.org/onlinedocs/gcc/Warning-Options.html#index-Wfree-nonheap-object\u0007-Wfree-nonheap-object\u001b]8;;\u0007\u001b[m\u001b[K]\n",
            "  538 |     free(ptype[i] + i);\n",
            "      |     \u001b[01;35m\u001b[K^\u001b[m\u001b[K\n",
            "  CC       RNAup_cmdl.o\n",
            "  CC       RNAup.o\n",
            "  CCLD     RNAup\n",
            "lto-wrapper: warning: using serial compilation of 9 LTRANS jobs\n",
            "  CC       RNAaliduplex_cmdl.o\n",
            "  CC       RNAaliduplex.o\n",
            "  CCLD     RNAaliduplex\n",
            "  CC       RNALalifold_cmdl.o\n",
            "  CC       RNALalifold.o\n",
            "  CCLD     RNALalifold\n",
            "lto-wrapper: warning: using serial compilation of 8 LTRANS jobs\n",
            "  CC       RNA2Dfold_cmdl.o\n",
            "  CC       RNA2Dfold.o\n",
            "  CCLD     RNA2Dfold\n",
            "lto-wrapper: warning: using serial compilation of 8 LTRANS jobs\n",
            "  CC       RNAparconv_cmdl.o\n",
            "  CC       RNAparconv.o\n",
            "  CCLD     RNAparconv\n",
            "  CC       RNAPKplex_cmdl.o\n",
            "  CC       RNAPKplex.o\n",
            "  CCLD     RNAPKplex\n",
            "lto-wrapper: warning: using serial compilation of 10 LTRANS jobs\n",
            "\u001b[01m\u001b[K../ViennaRNA/LPfold.c:\u001b[m\u001b[K In function '\u001b[01m\u001b[Kfree_dp_matrices\u001b[m\u001b[K':\n",
            "\u001b[01m\u001b[K../ViennaRNA/LPfold.c:513:5:\u001b[m\u001b[K \u001b[01;35m\u001b[Kwarning: \u001b[m\u001b[K'\u001b[01m\u001b[Kfree\u001b[m\u001b[K' called on pointer '\u001b[01m\u001b[KMEM[(FLT_OR_DBL * *)pR_52 + ivtmp.653_129 * 8]\u001b[m\u001b[K' with nonzero offset [8, 17179869176] [\u001b[01;35m\u001b[K\u001b]8;;https://gcc.gnu.org/onlinedocs/gcc/Warning-Options.html#index-Wfree-nonheap-object\u0007-Wfree-nonheap-object\u001b]8;;\u0007\u001b[m\u001b[K]\n",
            "  513 |     free(pR[i] + i);\n",
            "      |     \u001b[01;35m\u001b[K^\u001b[m\u001b[K\n",
            "\u001b[01m\u001b[K../ViennaRNA/LPfold.c:514:5:\u001b[m\u001b[K \u001b[01;35m\u001b[Kwarning: \u001b[m\u001b[K'\u001b[01m\u001b[Kfree\u001b[m\u001b[K' called on pointer '\u001b[01m\u001b[KMEM[(FLT_OR_DBL * *)q_53 + ivtmp.653_129 * 8]\u001b[m\u001b[K' with nonzero offset [8, 17179869176] [\u001b[01;35m\u001b[K\u001b]8;;https://gcc.gnu.org/onlinedocs/gcc/Warning-Options.html#index-Wfree-nonheap-object\u0007-Wfree-nonheap-object\u001b]8;;\u0007\u001b[m\u001b[K]\n",
            "  514 |     free(q[i] + i);\n",
            "      |     \u001b[01;35m\u001b[K^\u001b[m\u001b[K\n",
            "\u001b[01m\u001b[K../ViennaRNA/LPfold.c:515:5:\u001b[m\u001b[K \u001b[01;35m\u001b[Kwarning: \u001b[m\u001b[K'\u001b[01m\u001b[Kfree\u001b[m\u001b[K' called on pointer '\u001b[01m\u001b[KMEM[(FLT_OR_DBL * *)qb_54 + ivtmp.653_129 * 8]\u001b[m\u001b[K' with nonzero offset [8, 17179869176] [\u001b[01;35m\u001b[K\u001b]8;;https://gcc.gnu.org/onlinedocs/gcc/Warning-Options.html#index-Wfree-nonheap-object\u0007-Wfree-nonheap-object\u001b]8;;\u0007\u001b[m\u001b[K]\n",
            "  515 |     free(qb[i] + i);\n",
            "      |     \u001b[01;35m\u001b[K^\u001b[m\u001b[K\n",
            "\u001b[01m\u001b[K../ViennaRNA/LPfold.c:516:5:\u001b[m\u001b[K \u001b[01;35m\u001b[Kwarning: \u001b[m\u001b[K'\u001b[01m\u001b[Kfree\u001b[m\u001b[K' called on pointer '\u001b[01m\u001b[KMEM[(FLT_OR_DBL * *)qm_55 + ivtmp.653_129 * 8]\u001b[m\u001b[K' with nonzero offset [8, 17179869176] [\u001b[01;35m\u001b[K\u001b]8;;https://gcc.gnu.org/onlinedocs/gcc/Warning-Options.html#index-Wfree-nonheap-object\u0007-Wfree-nonheap-object\u001b]8;;\u0007\u001b[m\u001b[K]\n",
            "  516 |     free(qm[i] + i);\n",
            "      |     \u001b[01;35m\u001b[K^\u001b[m\u001b[K\n",
            "\u001b[01m\u001b[K../ViennaRNA/LPfold.c:526:7:\u001b[m\u001b[K \u001b[01;35m\u001b[Kwarning: \u001b[m\u001b[K'\u001b[01m\u001b[Kfree\u001b[m\u001b[K' called on pointer '\u001b[01m\u001b[K*_19\u001b[m\u001b[K' with nonzero offset [8, 17179869176] [\u001b[01;35m\u001b[K\u001b]8;;https://gcc.gnu.org/onlinedocs/gcc/Warning-Options.html#index-Wfree-nonheap-object\u0007-Wfree-nonheap-object\u001b]8;;\u0007\u001b[m\u001b[K]\n",
            "  526 |       free(qm2[i] + i);\n",
            "      |       \u001b[01;35m\u001b[K^\u001b[m\u001b[K\n",
            "\u001b[01m\u001b[K../ViennaRNA/LPfold.c:538:5:\u001b[m\u001b[K \u001b[01;35m\u001b[Kwarning: \u001b[m\u001b[K'\u001b[01m\u001b[Kfree\u001b[m\u001b[K' called on pointer '\u001b[01m\u001b[KMEM[(char * *)ptype_56 + ivtmp.653_129 * 8]\u001b[m\u001b[K' with nonzero offset [1, 2147483647] [\u001b[01;35m\u001b[K\u001b]8;;https://gcc.gnu.org/onlinedocs/gcc/Warning-Options.html#index-Wfree-nonheap-object\u0007-Wfree-nonheap-object\u001b]8;;\u0007\u001b[m\u001b[K]\n",
            "  538 |     free(ptype[i] + i);\n",
            "      |     \u001b[01;35m\u001b[K^\u001b[m\u001b[K\n",
            "  CC       RNAplex_cmdl.o\n",
            "  CC       RNAplex.o\n",
            "  CCLD     RNAplex\n",
            "lto-wrapper: warning: using serial compilation of 9 LTRANS jobs\n",
            "  CC       RNAsnoop_cmdl.o\n",
            "  CC       RNAsnoop.o\n",
            "\u001b[01m\u001b[KRNAsnoop.c:\u001b[m\u001b[K In function ‘\u001b[01m\u001b[Kredraw_output.constprop.0\u001b[m\u001b[K’:\n",
            "\u001b[01m\u001b[KRNAsnoop.c:1106:25:\u001b[m\u001b[K \u001b[01;35m\u001b[Kwarning: \u001b[m\u001b[K‘\u001b[01m\u001b[K%d\u001b[m\u001b[K’ directive writing between 1 and 10 bytes into a region of size 9 [\u001b[01;35m\u001b[K\u001b]8;;https://gcc.gnu.org/onlinedocs/gcc/Warning-Options.html#index-Wformat-overflow=\u0007-Wformat-overflow=\u001b]8;;\u0007\u001b[m\u001b[K]\n",
            " 1106 |           sprintf(str, \"\u001b[01;35m\u001b[K%d\u001b[m\u001b[K\", count);\n",
            "      |                         \u001b[01;35m\u001b[K^~\u001b[m\u001b[K\n",
            "\u001b[01m\u001b[KRNAsnoop.c:1106:24:\u001b[m\u001b[K \u001b[01;36m\u001b[Knote: \u001b[m\u001b[Kdirective argument in the range [1, 2147483647]\n",
            " 1106 |           sprintf(str, \u001b[01;36m\u001b[K\"%d\"\u001b[m\u001b[K, count);\n",
            "      |                        \u001b[01;36m\u001b[K^~~~\u001b[m\u001b[K\n",
            "In file included from \u001b[01m\u001b[K/usr/include/stdio.h:894\u001b[m\u001b[K,\n",
            "                 from \u001b[01m\u001b[KRNAsnoop.c:12\u001b[m\u001b[K:\n",
            "\u001b[01m\u001b[K/usr/include/x86_64-linux-gnu/bits/stdio2.h:38:10:\u001b[m\u001b[K \u001b[01;36m\u001b[Knote: \u001b[m\u001b[K‘\u001b[01m\u001b[K__sprintf_chk\u001b[m\u001b[K’ output between 2 and 11 bytes into a destination of size 9\n",
            "   38 |   return \u001b[01;36m\u001b[K__builtin___sprintf_chk (__s, __USE_FORTIFY_LEVEL - 1,\u001b[m\u001b[K\n",
            "      |          \u001b[01;36m\u001b[K^~~~~~~~~~~~~~~~~~~~~~~~~~~~~~~~~~~~~~~~~~~~~~~~~~~~~~\u001b[m\u001b[K\n",
            "   39 | \u001b[01;36m\u001b[K                                  __glibc_objsize (__s), __fmt,\u001b[m\u001b[K\n",
            "      |                                   \u001b[01;36m\u001b[K~~~~~~~~~~~~~~~~~~~~~~~~~~~~~\u001b[m\u001b[K\n",
            "   40 | \u001b[01;36m\u001b[K                                  __va_arg_pack ())\u001b[m\u001b[K;\n",
            "      |                                   \u001b[01;36m\u001b[K~~~~~~~~~~~~~~~~~\u001b[m\u001b[K\n",
            "  CCLD     RNAsnoop\n",
            "lto-wrapper: warning: using serial compilation of 3 LTRANS jobs\n",
            "  CC       RNApvmin_cmdl.o\n",
            "  CC       RNApvmin.o\n",
            "  CCLD     RNApvmin\n",
            "lto-wrapper: warning: using serial compilation of 8 LTRANS jobs\n",
            "  CC       RNAdos_cmdl.o\n",
            "  CC       RNAdos.o\n",
            "  CCLD     RNAdos\n",
            "lto-wrapper: warning: using serial compilation of 4 LTRANS jobs\n",
            "make[3]: Leaving directory '/content/ViennaRNA-2.4.14/src/bin'\n",
            "Making all in Utils\n",
            "make[3]: Entering directory '/content/ViennaRNA-2.4.14/src/Utils'\n",
            "  CC       b2ct.o\n",
            "  CCLD     b2ct\n",
            "  CC       popt.o\n",
            "  CCLD     popt\n",
            "  CC       ct2db_cmdl.o\n",
            "  CC       ct2db.o\n",
            "  CCLD     ct2db\n",
            "make[3]: Leaving directory '/content/ViennaRNA-2.4.14/src/Utils'\n",
            "make[3]: Entering directory '/content/ViennaRNA-2.4.14/src'\n",
            "make[3]: Nothing to be done for 'all-am'.\n",
            "make[3]: Leaving directory '/content/ViennaRNA-2.4.14/src'\n",
            "make[2]: Leaving directory '/content/ViennaRNA-2.4.14/src'\n",
            "Making all in man\n",
            "make[2]: Entering directory '/content/ViennaRNA-2.4.14/man'\n",
            "make[2]: Nothing to be done for 'all'.\n",
            "make[2]: Leaving directory '/content/ViennaRNA-2.4.14/man'\n",
            "Making all in misc\n",
            "make[2]: Entering directory '/content/ViennaRNA-2.4.14/misc'\n",
            "make[2]: Nothing to be done for 'all'.\n",
            "make[2]: Leaving directory '/content/ViennaRNA-2.4.14/misc'\n",
            "Making all in doc\n",
            "make[2]: Entering directory '/content/ViennaRNA-2.4.14/doc'\n",
            "make[2]: Nothing to be done for 'all'.\n",
            "make[2]: Leaving directory '/content/ViennaRNA-2.4.14/doc'\n",
            "Making all in RNA-Tutorial\n",
            "make[2]: Entering directory '/content/ViennaRNA-2.4.14/RNA-Tutorial'\n",
            "make[2]: Nothing to be done for 'all'.\n",
            "make[2]: Leaving directory '/content/ViennaRNA-2.4.14/RNA-Tutorial'\n",
            "Making all in interfaces\n",
            "make[2]: Entering directory '/content/ViennaRNA-2.4.14/interfaces'\n",
            "make[3]: Entering directory '/content/ViennaRNA-2.4.14/interfaces'\n",
            "make[3]: Nothing to be done for 'all-am'.\n",
            "make[3]: Leaving directory '/content/ViennaRNA-2.4.14/interfaces'\n",
            "make[2]: Leaving directory '/content/ViennaRNA-2.4.14/interfaces'\n",
            "Making all in tests\n",
            "make[2]: Entering directory '/content/ViennaRNA-2.4.14/tests'\n",
            "make  all-am\n",
            "make[3]: Entering directory '/content/ViennaRNA-2.4.14/tests'\n",
            "make[3]: Nothing to be done for 'all-am'.\n",
            "make[3]: Leaving directory '/content/ViennaRNA-2.4.14/tests'\n",
            "make[2]: Leaving directory '/content/ViennaRNA-2.4.14/tests'\n",
            "Making all in examples\n",
            "make[2]: Entering directory '/content/ViennaRNA-2.4.14/examples'\n",
            "make[2]: Nothing to be done for 'all'.\n",
            "make[2]: Leaving directory '/content/ViennaRNA-2.4.14/examples'\n",
            "Making all in packaging/macosx\n",
            "make[2]: Entering directory '/content/ViennaRNA-2.4.14/packaging/macosx'\n",
            "make[2]: Nothing to be done for 'all'.\n",
            "make[2]: Leaving directory '/content/ViennaRNA-2.4.14/packaging/macosx'\n",
            "make[2]: Entering directory '/content/ViennaRNA-2.4.14'\n",
            "make[2]: Leaving directory '/content/ViennaRNA-2.4.14'\n",
            "make[1]: Leaving directory '/content/ViennaRNA-2.4.14'\n"
          ]
        }
      ]
    },
    {
      "cell_type": "code",
      "metadata": {
        "colab": {
          "base_uri": "https://localhost:8080/"
        },
        "id": "Wd9fb3Z7R3ub",
        "outputId": "76fbb956-222f-4bf4-a115-f17812925e5e"
      },
      "source": [
        "!make install"
      ],
      "execution_count": 8,
      "outputs": [
        {
          "output_type": "stream",
          "name": "stdout",
          "text": [
            "Making install in src\n",
            "make[1]: Entering directory '/content/ViennaRNA-2.4.14/src'\n",
            "Making install in ViennaRNA\n",
            "make[2]: Entering directory '/content/ViennaRNA-2.4.14/src/ViennaRNA'\n",
            "Making install in static\n",
            "make[3]: Entering directory '/content/ViennaRNA-2.4.14/src/ViennaRNA/static'\n",
            "make  install-am\n",
            "make[4]: Entering directory '/content/ViennaRNA-2.4.14/src/ViennaRNA/static'\n",
            "make[5]: Entering directory '/content/ViennaRNA-2.4.14/src/ViennaRNA/static'\n",
            "make[5]: Nothing to be done for 'install-exec-am'.\n",
            "make[5]: Nothing to be done for 'install-data-am'.\n",
            "make[5]: Leaving directory '/content/ViennaRNA-2.4.14/src/ViennaRNA/static'\n",
            "make[4]: Leaving directory '/content/ViennaRNA-2.4.14/src/ViennaRNA/static'\n",
            "make[3]: Leaving directory '/content/ViennaRNA-2.4.14/src/ViennaRNA/static'\n",
            "make[3]: Entering directory '/content/ViennaRNA-2.4.14/src/ViennaRNA'\n",
            "make[4]: Entering directory '/content/ViennaRNA-2.4.14/src/ViennaRNA'\n",
            " /usr/bin/mkdir -p '/content/ViennaRNA-2.4.14/lib'\n",
            " /bin/bash ../../libtool   --mode=install /usr/bin/install -c   libRNA.la '/content/ViennaRNA-2.4.14/lib'\n",
            "libtool: install: /usr/bin/install -c .libs/libRNA.lai /content/ViennaRNA-2.4.14/lib/libRNA.la\n",
            "libtool: install: /usr/bin/install -c .libs/libRNA.a /content/ViennaRNA-2.4.14/lib/libRNA.a\n",
            "libtool: install: chmod 644 /content/ViennaRNA-2.4.14/lib/libRNA.a\n",
            "libtool: install: gcc-ranlib /content/ViennaRNA-2.4.14/lib/libRNA.a\n",
            "libtool: finish: PATH=\"/opt/bin:/usr/local/nvidia/bin:/usr/local/cuda/bin:/usr/local/sbin:/usr/local/bin:/usr/sbin:/usr/bin:/sbin:/bin:/tools/node/bin:/tools/google-cloud-sdk/bin:/sbin\" ldconfig -n /content/ViennaRNA-2.4.14/lib\n",
            "----------------------------------------------------------------------\n",
            "Libraries have been installed in:\n",
            "   /content/ViennaRNA-2.4.14/lib\n",
            "\n",
            "If you ever happen to want to link against installed libraries\n",
            "in a given directory, LIBDIR, you must either use libtool, and\n",
            "specify the full pathname of the library, or use the '-LLIBDIR'\n",
            "flag during linking and do at least one of the following:\n",
            "   - add LIBDIR to the 'LD_LIBRARY_PATH' environment variable\n",
            "     during execution\n",
            "   - add LIBDIR to the 'LD_RUN_PATH' environment variable\n",
            "     during linking\n",
            "   - use the '-Wl,-rpath -Wl,LIBDIR' linker flag\n",
            "   - have your system administrator add LIBDIR to '/etc/ld.so.conf'\n",
            "\n",
            "See any operating system documentation about shared libraries for\n",
            "more information, such as the ld(1) and ld.so(8) manual pages.\n",
            "----------------------------------------------------------------------\n",
            " /usr/bin/mkdir -p '/content/ViennaRNA-2.4.14/include/ViennaRNA'\n",
            " /usr/bin/install -c -m 644 vrna_config.h '/content/ViennaRNA-2.4.14/include/ViennaRNA'\n",
            " /usr/bin/mkdir -p '/content/ViennaRNA-2.4.14/include/ViennaRNA'\n",
            " /usr/bin/install -c -m 644 pair_mat.h RNAstruct.h dist_vars.h mfe.h mfe_window.h fold.h part_func.h part_func_window.h stringdist.h edit_cost.h fold_vars.h profiledist.h treedist.h inverse.h subopt.h cofold.h duplex.h alifold.h part_func_co.h concentrations.h ProfileAln.h LPfold.h Lfold.h part_func_up.h ribo.h findpath.h data_structures.h char_stream.h stream_output.h fold_compound.h MEA.h mm.h loop_energies.h exterior_loops.h hairpin_loops.h interior_loops.h multibranch_loops.h 2Dfold.h 2Dpfold.h PKplex.h '/content/ViennaRNA-2.4.14/include/ViennaRNA'\n",
            " /usr/bin/install -c -m 644 ali_plex.h plex.h snofold.h snoop.h move_set.h gquad.h constraints.h eval.h perturbation_fold.h centroid.h utils.h structure_utils.h string_utils.h aln_util.h model.h dp_matrices.h PS_dot.h plot_structure.h plot_aln.h plot_utils.h plot_layouts.h naview.h boltzmann_sampling.h equilibrium_probs.h constraints_ligand.h constraints_SHAPE.h constraints_hard.h constraints_soft.h alphabet.h sequence.h grammar.h structured_domains.h unstructured_domains.h file_utils.h file_formats.h file_formats_msa.h energy_par.h energy_const.h params.h read_epars.h '/content/ViennaRNA-2.4.14/include/ViennaRNA'\n",
            " /usr/bin/install -c -m 644 convert_epars.h commands.h units.h combinatorics.h neighbor.h walk.h '/content/ViennaRNA-2.4.14/include/ViennaRNA'\n",
            " /usr/bin/mkdir -p '/content/ViennaRNA-2.4.14/include/ViennaRNA/constraints'\n",
            " /usr/bin/install -c -m 644 constraints/basic.h constraints/ligand.h constraints/SHAPE.h constraints/hard.h constraints/soft.h '/content/ViennaRNA-2.4.14/include/ViennaRNA/constraints'\n",
            " /usr/bin/mkdir -p '/content/ViennaRNA-2.4.14/include/ViennaRNA/datastructures'\n",
            " /usr/bin/install -c -m 644 datastructures/basic.h datastructures/lists.h datastructures/char_stream.h datastructures/stream_output.h datastructures/hash_tables.h datastructures/heap.h '/content/ViennaRNA-2.4.14/include/ViennaRNA/datastructures'\n",
            " /usr/bin/mkdir -p '/content/ViennaRNA-2.4.14/include/ViennaRNA/io'\n",
            " /usr/bin/install -c -m 644 io/utils.h io/file_formats.h io/file_formats_msa.h '/content/ViennaRNA-2.4.14/include/ViennaRNA/io'\n",
            " /usr/bin/mkdir -p '/content/ViennaRNA-2.4.14/include/ViennaRNA/landscape'\n",
            " /usr/bin/install -c -m 644 landscape/paths.h landscape/findpath.h landscape/neighbor.h landscape/walk.h landscape/move.h '/content/ViennaRNA-2.4.14/include/ViennaRNA/landscape'\n",
            " /usr/bin/mkdir -p '/content/ViennaRNA-2.4.14/include/ViennaRNA/loops'\n",
            " /usr/bin/install -c -m 644 loops/all.h loops/external.h loops/hairpin.h loops/internal.h loops/multibranch.h '/content/ViennaRNA-2.4.14/include/ViennaRNA/loops'\n",
            " /usr/bin/mkdir -p '/content/ViennaRNA-2.4.14/include/ViennaRNA/params'\n",
            " /usr/bin/install -c -m 644 params/default.h params/constants.h params/basic.h params/io.h params/convert.h '/content/ViennaRNA-2.4.14/include/ViennaRNA/params'\n",
            " /usr/bin/mkdir -p '/content/ViennaRNA-2.4.14/include/ViennaRNA/plotting'\n",
            " /usr/bin/install -c -m 644 plotting/alignments.h plotting/layouts.h plotting/probabilities.h plotting/structures.h plotting/utils.h plotting/naview.h '/content/ViennaRNA-2.4.14/include/ViennaRNA/plotting'\n",
            " /usr/bin/mkdir -p '/content/ViennaRNA-2.4.14/include/ViennaRNA/plotting/RNApuzzler'\n",
            " /usr/bin/install -c -m 644 plotting/RNApuzzler/RNApuzzler.h plotting/RNApuzzler/RNAturtle.h '/content/ViennaRNA-2.4.14/include/ViennaRNA/plotting/RNApuzzler'\n",
            " /usr/bin/mkdir -p '/content/ViennaRNA-2.4.14/include/ViennaRNA/search'\n",
            " /usr/bin/install -c -m 644 search/BoyerMoore.h '/content/ViennaRNA-2.4.14/include/ViennaRNA/search'\n",
            " /usr/bin/mkdir -p '/content/ViennaRNA-2.4.14/include/ViennaRNA/utils'\n",
            " /usr/bin/install -c -m 644 utils/basic.h utils/strings.h utils/structures.h utils/alignments.h utils/higher_order_functions.h utils/cpu.h '/content/ViennaRNA-2.4.14/include/ViennaRNA/utils'\n",
            "make[4]: Leaving directory '/content/ViennaRNA-2.4.14/src/ViennaRNA'\n",
            "make[3]: Leaving directory '/content/ViennaRNA-2.4.14/src/ViennaRNA'\n",
            "make[2]: Leaving directory '/content/ViennaRNA-2.4.14/src/ViennaRNA'\n",
            "Making install in bin\n",
            "make[2]: Entering directory '/content/ViennaRNA-2.4.14/src/bin'\n",
            "make[3]: Entering directory '/content/ViennaRNA-2.4.14/src/bin'\n",
            " /usr/bin/mkdir -p '/content/ViennaRNA-2.4.14/bin'\n",
            "  /bin/bash ../../libtool   --mode=install /usr/bin/install -c RNAfold RNAeval RNAheat RNApdist RNAdistance RNAinverse RNAplot RNAsubopt RNALfold RNAcofold RNApaln RNAduplex RNAalifold RNAplfold RNAup RNAaliduplex RNALalifold RNA2Dfold RNAparconv RNAPKplex RNAplex RNAsnoop RNApvmin RNAdos '/content/ViennaRNA-2.4.14/bin'\n",
            "libtool: install: /usr/bin/install -c RNAfold /content/ViennaRNA-2.4.14/bin/RNAfold\n",
            "libtool: install: /usr/bin/install -c RNAeval /content/ViennaRNA-2.4.14/bin/RNAeval\n",
            "libtool: install: /usr/bin/install -c RNAheat /content/ViennaRNA-2.4.14/bin/RNAheat\n",
            "libtool: install: /usr/bin/install -c RNApdist /content/ViennaRNA-2.4.14/bin/RNApdist\n",
            "libtool: install: /usr/bin/install -c RNAdistance /content/ViennaRNA-2.4.14/bin/RNAdistance\n",
            "libtool: install: /usr/bin/install -c RNAinverse /content/ViennaRNA-2.4.14/bin/RNAinverse\n",
            "libtool: install: /usr/bin/install -c RNAplot /content/ViennaRNA-2.4.14/bin/RNAplot\n",
            "libtool: install: /usr/bin/install -c RNAsubopt /content/ViennaRNA-2.4.14/bin/RNAsubopt\n",
            "libtool: install: /usr/bin/install -c RNALfold /content/ViennaRNA-2.4.14/bin/RNALfold\n",
            "libtool: install: /usr/bin/install -c RNAcofold /content/ViennaRNA-2.4.14/bin/RNAcofold\n",
            "libtool: install: /usr/bin/install -c RNApaln /content/ViennaRNA-2.4.14/bin/RNApaln\n",
            "libtool: install: /usr/bin/install -c RNAduplex /content/ViennaRNA-2.4.14/bin/RNAduplex\n",
            "libtool: install: /usr/bin/install -c RNAalifold /content/ViennaRNA-2.4.14/bin/RNAalifold\n",
            "libtool: install: /usr/bin/install -c RNAplfold /content/ViennaRNA-2.4.14/bin/RNAplfold\n",
            "libtool: install: /usr/bin/install -c RNAup /content/ViennaRNA-2.4.14/bin/RNAup\n",
            "libtool: install: /usr/bin/install -c RNAaliduplex /content/ViennaRNA-2.4.14/bin/RNAaliduplex\n",
            "libtool: install: /usr/bin/install -c RNALalifold /content/ViennaRNA-2.4.14/bin/RNALalifold\n",
            "libtool: install: /usr/bin/install -c RNA2Dfold /content/ViennaRNA-2.4.14/bin/RNA2Dfold\n",
            "libtool: install: /usr/bin/install -c RNAparconv /content/ViennaRNA-2.4.14/bin/RNAparconv\n",
            "libtool: install: /usr/bin/install -c RNAPKplex /content/ViennaRNA-2.4.14/bin/RNAPKplex\n",
            "libtool: install: /usr/bin/install -c RNAplex /content/ViennaRNA-2.4.14/bin/RNAplex\n",
            "libtool: install: /usr/bin/install -c RNAsnoop /content/ViennaRNA-2.4.14/bin/RNAsnoop\n",
            "libtool: install: /usr/bin/install -c RNApvmin /content/ViennaRNA-2.4.14/bin/RNApvmin\n",
            "libtool: install: /usr/bin/install -c RNAdos /content/ViennaRNA-2.4.14/bin/RNAdos\n",
            "make[3]: Nothing to be done for 'install-data-am'.\n",
            "make[3]: Leaving directory '/content/ViennaRNA-2.4.14/src/bin'\n",
            "make[2]: Leaving directory '/content/ViennaRNA-2.4.14/src/bin'\n",
            "Making install in Utils\n",
            "make[2]: Entering directory '/content/ViennaRNA-2.4.14/src/Utils'\n",
            "make[3]: Entering directory '/content/ViennaRNA-2.4.14/src/Utils'\n",
            " /usr/bin/mkdir -p '/content/ViennaRNA-2.4.14/bin'\n",
            "  /bin/bash ../../libtool   --mode=install /usr/bin/install -c b2ct popt ct2db '/content/ViennaRNA-2.4.14/bin'\n",
            "libtool: install: /usr/bin/install -c b2ct /content/ViennaRNA-2.4.14/bin/b2ct\n",
            "libtool: install: /usr/bin/install -c popt /content/ViennaRNA-2.4.14/bin/popt\n",
            "libtool: install: /usr/bin/install -c ct2db /content/ViennaRNA-2.4.14/bin/ct2db\n",
            " /usr/bin/mkdir -p '/content/ViennaRNA-2.4.14/share/ViennaRNA/bin'\n",
            " /usr/bin/install -c b2mt.pl dpzoom.pl mountain.pl relplot.pl rotate_ss.pl cmount.pl coloraln.pl refold.pl switch.pl RNAdesign.pl '/content/ViennaRNA-2.4.14/share/ViennaRNA/bin'\n",
            "make  install-data-hook\n",
            "make[4]: Entering directory '/content/ViennaRNA-2.4.14/src/Utils'\n",
            "  GEN      install-data-hook\n",
            "make[4]: Leaving directory '/content/ViennaRNA-2.4.14/src/Utils'\n",
            "make[3]: Leaving directory '/content/ViennaRNA-2.4.14/src/Utils'\n",
            "make[2]: Leaving directory '/content/ViennaRNA-2.4.14/src/Utils'\n",
            "make[2]: Entering directory '/content/ViennaRNA-2.4.14/src'\n",
            "make[3]: Entering directory '/content/ViennaRNA-2.4.14/src'\n",
            "make[3]: Nothing to be done for 'install-exec-am'.\n",
            "make[3]: Nothing to be done for 'install-data-am'.\n",
            "make[3]: Leaving directory '/content/ViennaRNA-2.4.14/src'\n",
            "make[2]: Leaving directory '/content/ViennaRNA-2.4.14/src'\n",
            "make[1]: Leaving directory '/content/ViennaRNA-2.4.14/src'\n",
            "Making install in man\n",
            "make[1]: Entering directory '/content/ViennaRNA-2.4.14/man'\n",
            "make[2]: Entering directory '/content/ViennaRNA-2.4.14/man'\n",
            "make[2]: Nothing to be done for 'install-exec-am'.\n",
            " /usr/bin/mkdir -p '/content/ViennaRNA-2.4.14/share/info'\n",
            " /usr/bin/install -c -m 644 ./RNAlib.info '/content/ViennaRNA-2.4.14/share/info'\n",
            " /usr/bin/mkdir -p '/content/ViennaRNA-2.4.14/share/man/man1'\n",
            " /usr/bin/install -c -m 644 RNA2Dfold.1 RNAaliduplex.1 RNAalifold.1 RNAcofold.1 RNAduplex.1 RNAeval.1 RNAfold.1 RNAheat.1 RNAinverse.1 RNALalifold.1 RNALfold.1 RNApaln.1 RNAparconv.1 RNAplfold.1 RNAplot.1 RNApvmin.1 RNAsubopt.1 RNAup.1 RNAPKplex.1 RNAsnoop.1 RNAplex.1 RNAdistance.1 RNApdist.1 RNAdos.1 ct2db.1 '/content/ViennaRNA-2.4.14/share/man/man1'\n",
            "make[2]: Leaving directory '/content/ViennaRNA-2.4.14/man'\n",
            "make[1]: Leaving directory '/content/ViennaRNA-2.4.14/man'\n",
            "Making install in misc\n",
            "make[1]: Entering directory '/content/ViennaRNA-2.4.14/misc'\n",
            "make[2]: Entering directory '/content/ViennaRNA-2.4.14/misc'\n",
            "make[2]: Nothing to be done for 'install-exec-am'.\n",
            " /usr/bin/mkdir -p '/content/ViennaRNA-2.4.14/share/ViennaRNA'\n",
            " /usr/bin/install -c -m 644 2Dlandscape_mfe.gri 2Dlandscape_pf.gri rna_turner1999.par rna_turner2004.par rna_andronescu2007.par dna_mathews1999.par dna_mathews2004.par rna_langdon2018.par rna_misc_special_hairpins.par 2Dlandscape.R '/content/ViennaRNA-2.4.14/share/ViennaRNA'\n",
            "make[2]: Leaving directory '/content/ViennaRNA-2.4.14/misc'\n",
            "make[1]: Leaving directory '/content/ViennaRNA-2.4.14/misc'\n",
            "Making install in doc\n",
            "make[1]: Entering directory '/content/ViennaRNA-2.4.14/doc'\n",
            "make[2]: Entering directory '/content/ViennaRNA-2.4.14/doc'\n",
            "make[2]: Nothing to be done for 'install-exec-am'.\n",
            " /usr/bin/mkdir -p '/content/ViennaRNA-2.4.14/share/ViennaRNA'\n",
            " /usr/bin/install -c -m 644 viennarna.bib DoxygenLayout.xml '/content/ViennaRNA-2.4.14/share/ViennaRNA'\n",
            "make[2]: Leaving directory '/content/ViennaRNA-2.4.14/doc'\n",
            "make[1]: Leaving directory '/content/ViennaRNA-2.4.14/doc'\n",
            "Making install in RNA-Tutorial\n",
            "make[1]: Entering directory '/content/ViennaRNA-2.4.14/RNA-Tutorial'\n",
            "make[2]: Entering directory '/content/ViennaRNA-2.4.14/RNA-Tutorial'\n",
            "make[2]: Nothing to be done for 'install-exec-am'.\n",
            "make[2]: Leaving directory '/content/ViennaRNA-2.4.14/RNA-Tutorial'\n",
            "make[1]: Leaving directory '/content/ViennaRNA-2.4.14/RNA-Tutorial'\n",
            "Making install in interfaces\n",
            "make[1]: Entering directory '/content/ViennaRNA-2.4.14/interfaces'\n",
            "make[2]: Entering directory '/content/ViennaRNA-2.4.14/interfaces'\n",
            "make[3]: Entering directory '/content/ViennaRNA-2.4.14/interfaces'\n",
            "make[3]: Nothing to be done for 'install-exec-am'.\n",
            "make[3]: Nothing to be done for 'install-data-am'.\n",
            "make[3]: Leaving directory '/content/ViennaRNA-2.4.14/interfaces'\n",
            "make[2]: Leaving directory '/content/ViennaRNA-2.4.14/interfaces'\n",
            "make[1]: Leaving directory '/content/ViennaRNA-2.4.14/interfaces'\n",
            "Making install in tests\n",
            "make[1]: Entering directory '/content/ViennaRNA-2.4.14/tests'\n",
            "make  install-am\n",
            "make[2]: Entering directory '/content/ViennaRNA-2.4.14/tests'\n",
            "make[3]: Entering directory '/content/ViennaRNA-2.4.14/tests'\n",
            "make[3]: Nothing to be done for 'install-exec-am'.\n",
            "make[3]: Nothing to be done for 'install-data-am'.\n",
            "make[3]: Leaving directory '/content/ViennaRNA-2.4.14/tests'\n",
            "make[2]: Leaving directory '/content/ViennaRNA-2.4.14/tests'\n",
            "make[1]: Leaving directory '/content/ViennaRNA-2.4.14/tests'\n",
            "Making install in examples\n",
            "make[1]: Entering directory '/content/ViennaRNA-2.4.14/examples'\n",
            "make[2]: Entering directory '/content/ViennaRNA-2.4.14/examples'\n",
            "make[2]: Nothing to be done for 'install-exec-am'.\n",
            " /usr/bin/mkdir -p '/content/ViennaRNA-2.4.14/share/ViennaRNA/examples'\n",
            " /usr/bin/install -c -m 644 callback_subopt.c example1.c example_old.c fold_compound_md.c fold_compound_mfe.c helloworld_mfe.c helloworld_mfe_comparative.c helloworld_probabilities.c soft_constraints_up.c '/content/ViennaRNA-2.4.14/share/ViennaRNA/examples'\n",
            " /usr/bin/mkdir -p '/content/ViennaRNA-2.4.14/share/ViennaRNA/examples/data'\n",
            " /usr/bin/install -c -m 644 files/alignment_clustal.aln files/alignment_fasta.fa files/alignment_stockholm.stk files/alignment_maf.maf '/content/ViennaRNA-2.4.14/share/ViennaRNA/examples/data'\n",
            " /usr/bin/mkdir -p '/content/ViennaRNA-2.4.14/share/ViennaRNA/examples/perl5'\n",
            " /usr/bin/install -c -m 644 Perl5/helloworld_mfe.pl Perl5/helloworld_mfe_comparative.pl Perl5/helloworld_nondefault.pl Perl5/maximum_matching.pl Perl5/oo_example1.pl '/content/ViennaRNA-2.4.14/share/ViennaRNA/examples/perl5'\n",
            " /usr/bin/mkdir -p '/content/ViennaRNA-2.4.14/share/ViennaRNA/examples/python'\n",
            " /usr/bin/install -c -m 644 Python/boltzmann_sampling.py Python/helloworld_mfe_comparative.py Python/helloworld_mfe.py Python/helloworld_nondefault.py Python/maximum_matching.py Python/oo_example1.py Python/subopt.py Python/RNAfold_MEA.py '/content/ViennaRNA-2.4.14/share/ViennaRNA/examples/python'\n",
            "make[2]: Leaving directory '/content/ViennaRNA-2.4.14/examples'\n",
            "make[1]: Leaving directory '/content/ViennaRNA-2.4.14/examples'\n",
            "Making install in packaging/macosx\n",
            "make[1]: Entering directory '/content/ViennaRNA-2.4.14/packaging/macosx'\n",
            "make[2]: Entering directory '/content/ViennaRNA-2.4.14/packaging/macosx'\n",
            "make[2]: Nothing to be done for 'install-exec-am'.\n",
            "make[2]: Nothing to be done for 'install-data-am'.\n",
            "make[2]: Leaving directory '/content/ViennaRNA-2.4.14/packaging/macosx'\n",
            "make[1]: Leaving directory '/content/ViennaRNA-2.4.14/packaging/macosx'\n",
            "make[1]: Entering directory '/content/ViennaRNA-2.4.14'\n",
            "make[2]: Entering directory '/content/ViennaRNA-2.4.14'\n",
            "make[2]: Nothing to be done for 'install-exec-am'.\n",
            " /usr/bin/mkdir -p '/content/ViennaRNA-2.4.14/lib/pkgconfig'\n",
            " /usr/bin/install -c -m 644 RNAlib2.pc '/content/ViennaRNA-2.4.14/lib/pkgconfig'\n",
            "make[2]: Leaving directory '/content/ViennaRNA-2.4.14'\n",
            "make[1]: Leaving directory '/content/ViennaRNA-2.4.14'\n"
          ]
        }
      ]
    },
    {
      "cell_type": "code",
      "metadata": {
        "colab": {
          "base_uri": "https://localhost:8080/"
        },
        "id": "C3ryhgnNycdN",
        "outputId": "7b25ddff-84af-4348-a8ee-8ad5cd4410ce"
      },
      "source": [
        "!make install"
      ],
      "execution_count": 9,
      "outputs": [
        {
          "output_type": "stream",
          "name": "stdout",
          "text": [
            "Making install in src\n",
            "make[1]: Entering directory '/content/ViennaRNA-2.4.14/src'\n",
            "Making install in ViennaRNA\n",
            "make[2]: Entering directory '/content/ViennaRNA-2.4.14/src/ViennaRNA'\n",
            "Making install in static\n",
            "make[3]: Entering directory '/content/ViennaRNA-2.4.14/src/ViennaRNA/static'\n",
            "make  install-am\n",
            "make[4]: Entering directory '/content/ViennaRNA-2.4.14/src/ViennaRNA/static'\n",
            "make[5]: Entering directory '/content/ViennaRNA-2.4.14/src/ViennaRNA/static'\n",
            "make[5]: Nothing to be done for 'install-exec-am'.\n",
            "make[5]: Nothing to be done for 'install-data-am'.\n",
            "make[5]: Leaving directory '/content/ViennaRNA-2.4.14/src/ViennaRNA/static'\n",
            "make[4]: Leaving directory '/content/ViennaRNA-2.4.14/src/ViennaRNA/static'\n",
            "make[3]: Leaving directory '/content/ViennaRNA-2.4.14/src/ViennaRNA/static'\n",
            "make[3]: Entering directory '/content/ViennaRNA-2.4.14/src/ViennaRNA'\n",
            "make[4]: Entering directory '/content/ViennaRNA-2.4.14/src/ViennaRNA'\n",
            " /usr/bin/mkdir -p '/content/ViennaRNA-2.4.14/lib'\n",
            " /bin/bash ../../libtool   --mode=install /usr/bin/install -c   libRNA.la '/content/ViennaRNA-2.4.14/lib'\n",
            "libtool: install: /usr/bin/install -c .libs/libRNA.lai /content/ViennaRNA-2.4.14/lib/libRNA.la\n",
            "libtool: install: /usr/bin/install -c .libs/libRNA.a /content/ViennaRNA-2.4.14/lib/libRNA.a\n",
            "libtool: install: chmod 644 /content/ViennaRNA-2.4.14/lib/libRNA.a\n",
            "libtool: install: gcc-ranlib /content/ViennaRNA-2.4.14/lib/libRNA.a\n",
            "libtool: finish: PATH=\"/opt/bin:/usr/local/nvidia/bin:/usr/local/cuda/bin:/usr/local/sbin:/usr/local/bin:/usr/sbin:/usr/bin:/sbin:/bin:/tools/node/bin:/tools/google-cloud-sdk/bin:/sbin\" ldconfig -n /content/ViennaRNA-2.4.14/lib\n",
            "----------------------------------------------------------------------\n",
            "Libraries have been installed in:\n",
            "   /content/ViennaRNA-2.4.14/lib\n",
            "\n",
            "If you ever happen to want to link against installed libraries\n",
            "in a given directory, LIBDIR, you must either use libtool, and\n",
            "specify the full pathname of the library, or use the '-LLIBDIR'\n",
            "flag during linking and do at least one of the following:\n",
            "   - add LIBDIR to the 'LD_LIBRARY_PATH' environment variable\n",
            "     during execution\n",
            "   - add LIBDIR to the 'LD_RUN_PATH' environment variable\n",
            "     during linking\n",
            "   - use the '-Wl,-rpath -Wl,LIBDIR' linker flag\n",
            "   - have your system administrator add LIBDIR to '/etc/ld.so.conf'\n",
            "\n",
            "See any operating system documentation about shared libraries for\n",
            "more information, such as the ld(1) and ld.so(8) manual pages.\n",
            "----------------------------------------------------------------------\n",
            " /usr/bin/mkdir -p '/content/ViennaRNA-2.4.14/include/ViennaRNA'\n",
            " /usr/bin/install -c -m 644 vrna_config.h '/content/ViennaRNA-2.4.14/include/ViennaRNA'\n",
            " /usr/bin/mkdir -p '/content/ViennaRNA-2.4.14/include/ViennaRNA'\n",
            " /usr/bin/install -c -m 644 pair_mat.h RNAstruct.h dist_vars.h mfe.h mfe_window.h fold.h part_func.h part_func_window.h stringdist.h edit_cost.h fold_vars.h profiledist.h treedist.h inverse.h subopt.h cofold.h duplex.h alifold.h part_func_co.h concentrations.h ProfileAln.h LPfold.h Lfold.h part_func_up.h ribo.h findpath.h data_structures.h char_stream.h stream_output.h fold_compound.h MEA.h mm.h loop_energies.h exterior_loops.h hairpin_loops.h interior_loops.h multibranch_loops.h 2Dfold.h 2Dpfold.h PKplex.h '/content/ViennaRNA-2.4.14/include/ViennaRNA'\n",
            " /usr/bin/install -c -m 644 ali_plex.h plex.h snofold.h snoop.h move_set.h gquad.h constraints.h eval.h perturbation_fold.h centroid.h utils.h structure_utils.h string_utils.h aln_util.h model.h dp_matrices.h PS_dot.h plot_structure.h plot_aln.h plot_utils.h plot_layouts.h naview.h boltzmann_sampling.h equilibrium_probs.h constraints_ligand.h constraints_SHAPE.h constraints_hard.h constraints_soft.h alphabet.h sequence.h grammar.h structured_domains.h unstructured_domains.h file_utils.h file_formats.h file_formats_msa.h energy_par.h energy_const.h params.h read_epars.h '/content/ViennaRNA-2.4.14/include/ViennaRNA'\n",
            " /usr/bin/install -c -m 644 convert_epars.h commands.h units.h combinatorics.h neighbor.h walk.h '/content/ViennaRNA-2.4.14/include/ViennaRNA'\n",
            " /usr/bin/mkdir -p '/content/ViennaRNA-2.4.14/include/ViennaRNA/constraints'\n",
            " /usr/bin/install -c -m 644 constraints/basic.h constraints/ligand.h constraints/SHAPE.h constraints/hard.h constraints/soft.h '/content/ViennaRNA-2.4.14/include/ViennaRNA/constraints'\n",
            " /usr/bin/mkdir -p '/content/ViennaRNA-2.4.14/include/ViennaRNA/datastructures'\n",
            " /usr/bin/install -c -m 644 datastructures/basic.h datastructures/lists.h datastructures/char_stream.h datastructures/stream_output.h datastructures/hash_tables.h datastructures/heap.h '/content/ViennaRNA-2.4.14/include/ViennaRNA/datastructures'\n",
            " /usr/bin/mkdir -p '/content/ViennaRNA-2.4.14/include/ViennaRNA/io'\n",
            " /usr/bin/install -c -m 644 io/utils.h io/file_formats.h io/file_formats_msa.h '/content/ViennaRNA-2.4.14/include/ViennaRNA/io'\n",
            " /usr/bin/mkdir -p '/content/ViennaRNA-2.4.14/include/ViennaRNA/landscape'\n",
            " /usr/bin/install -c -m 644 landscape/paths.h landscape/findpath.h landscape/neighbor.h landscape/walk.h landscape/move.h '/content/ViennaRNA-2.4.14/include/ViennaRNA/landscape'\n",
            " /usr/bin/mkdir -p '/content/ViennaRNA-2.4.14/include/ViennaRNA/loops'\n",
            " /usr/bin/install -c -m 644 loops/all.h loops/external.h loops/hairpin.h loops/internal.h loops/multibranch.h '/content/ViennaRNA-2.4.14/include/ViennaRNA/loops'\n",
            " /usr/bin/mkdir -p '/content/ViennaRNA-2.4.14/include/ViennaRNA/params'\n",
            " /usr/bin/install -c -m 644 params/default.h params/constants.h params/basic.h params/io.h params/convert.h '/content/ViennaRNA-2.4.14/include/ViennaRNA/params'\n",
            " /usr/bin/mkdir -p '/content/ViennaRNA-2.4.14/include/ViennaRNA/plotting'\n",
            " /usr/bin/install -c -m 644 plotting/alignments.h plotting/layouts.h plotting/probabilities.h plotting/structures.h plotting/utils.h plotting/naview.h '/content/ViennaRNA-2.4.14/include/ViennaRNA/plotting'\n",
            " /usr/bin/mkdir -p '/content/ViennaRNA-2.4.14/include/ViennaRNA/plotting/RNApuzzler'\n",
            " /usr/bin/install -c -m 644 plotting/RNApuzzler/RNApuzzler.h plotting/RNApuzzler/RNAturtle.h '/content/ViennaRNA-2.4.14/include/ViennaRNA/plotting/RNApuzzler'\n",
            " /usr/bin/mkdir -p '/content/ViennaRNA-2.4.14/include/ViennaRNA/search'\n",
            " /usr/bin/install -c -m 644 search/BoyerMoore.h '/content/ViennaRNA-2.4.14/include/ViennaRNA/search'\n",
            " /usr/bin/mkdir -p '/content/ViennaRNA-2.4.14/include/ViennaRNA/utils'\n",
            " /usr/bin/install -c -m 644 utils/basic.h utils/strings.h utils/structures.h utils/alignments.h utils/higher_order_functions.h utils/cpu.h '/content/ViennaRNA-2.4.14/include/ViennaRNA/utils'\n",
            "make[4]: Leaving directory '/content/ViennaRNA-2.4.14/src/ViennaRNA'\n",
            "make[3]: Leaving directory '/content/ViennaRNA-2.4.14/src/ViennaRNA'\n",
            "make[2]: Leaving directory '/content/ViennaRNA-2.4.14/src/ViennaRNA'\n",
            "Making install in bin\n",
            "make[2]: Entering directory '/content/ViennaRNA-2.4.14/src/bin'\n",
            "make[3]: Entering directory '/content/ViennaRNA-2.4.14/src/bin'\n",
            " /usr/bin/mkdir -p '/content/ViennaRNA-2.4.14/bin'\n",
            "  /bin/bash ../../libtool   --mode=install /usr/bin/install -c RNAfold RNAeval RNAheat RNApdist RNAdistance RNAinverse RNAplot RNAsubopt RNALfold RNAcofold RNApaln RNAduplex RNAalifold RNAplfold RNAup RNAaliduplex RNALalifold RNA2Dfold RNAparconv RNAPKplex RNAplex RNAsnoop RNApvmin RNAdos '/content/ViennaRNA-2.4.14/bin'\n",
            "libtool: install: /usr/bin/install -c RNAfold /content/ViennaRNA-2.4.14/bin/RNAfold\n",
            "libtool: install: /usr/bin/install -c RNAeval /content/ViennaRNA-2.4.14/bin/RNAeval\n",
            "libtool: install: /usr/bin/install -c RNAheat /content/ViennaRNA-2.4.14/bin/RNAheat\n",
            "libtool: install: /usr/bin/install -c RNApdist /content/ViennaRNA-2.4.14/bin/RNApdist\n",
            "libtool: install: /usr/bin/install -c RNAdistance /content/ViennaRNA-2.4.14/bin/RNAdistance\n",
            "libtool: install: /usr/bin/install -c RNAinverse /content/ViennaRNA-2.4.14/bin/RNAinverse\n",
            "libtool: install: /usr/bin/install -c RNAplot /content/ViennaRNA-2.4.14/bin/RNAplot\n",
            "libtool: install: /usr/bin/install -c RNAsubopt /content/ViennaRNA-2.4.14/bin/RNAsubopt\n",
            "libtool: install: /usr/bin/install -c RNALfold /content/ViennaRNA-2.4.14/bin/RNALfold\n",
            "libtool: install: /usr/bin/install -c RNAcofold /content/ViennaRNA-2.4.14/bin/RNAcofold\n",
            "libtool: install: /usr/bin/install -c RNApaln /content/ViennaRNA-2.4.14/bin/RNApaln\n",
            "libtool: install: /usr/bin/install -c RNAduplex /content/ViennaRNA-2.4.14/bin/RNAduplex\n",
            "libtool: install: /usr/bin/install -c RNAalifold /content/ViennaRNA-2.4.14/bin/RNAalifold\n",
            "libtool: install: /usr/bin/install -c RNAplfold /content/ViennaRNA-2.4.14/bin/RNAplfold\n",
            "libtool: install: /usr/bin/install -c RNAup /content/ViennaRNA-2.4.14/bin/RNAup\n",
            "libtool: install: /usr/bin/install -c RNAaliduplex /content/ViennaRNA-2.4.14/bin/RNAaliduplex\n",
            "libtool: install: /usr/bin/install -c RNALalifold /content/ViennaRNA-2.4.14/bin/RNALalifold\n",
            "libtool: install: /usr/bin/install -c RNA2Dfold /content/ViennaRNA-2.4.14/bin/RNA2Dfold\n",
            "libtool: install: /usr/bin/install -c RNAparconv /content/ViennaRNA-2.4.14/bin/RNAparconv\n",
            "libtool: install: /usr/bin/install -c RNAPKplex /content/ViennaRNA-2.4.14/bin/RNAPKplex\n",
            "libtool: install: /usr/bin/install -c RNAplex /content/ViennaRNA-2.4.14/bin/RNAplex\n",
            "libtool: install: /usr/bin/install -c RNAsnoop /content/ViennaRNA-2.4.14/bin/RNAsnoop\n",
            "libtool: install: /usr/bin/install -c RNApvmin /content/ViennaRNA-2.4.14/bin/RNApvmin\n",
            "libtool: install: /usr/bin/install -c RNAdos /content/ViennaRNA-2.4.14/bin/RNAdos\n",
            "make[3]: Nothing to be done for 'install-data-am'.\n",
            "make[3]: Leaving directory '/content/ViennaRNA-2.4.14/src/bin'\n",
            "make[2]: Leaving directory '/content/ViennaRNA-2.4.14/src/bin'\n",
            "Making install in Utils\n",
            "make[2]: Entering directory '/content/ViennaRNA-2.4.14/src/Utils'\n",
            "make[3]: Entering directory '/content/ViennaRNA-2.4.14/src/Utils'\n",
            " /usr/bin/mkdir -p '/content/ViennaRNA-2.4.14/bin'\n",
            "  /bin/bash ../../libtool   --mode=install /usr/bin/install -c b2ct popt ct2db '/content/ViennaRNA-2.4.14/bin'\n",
            "libtool: install: /usr/bin/install -c b2ct /content/ViennaRNA-2.4.14/bin/b2ct\n",
            "libtool: install: /usr/bin/install -c popt /content/ViennaRNA-2.4.14/bin/popt\n",
            "libtool: install: /usr/bin/install -c ct2db /content/ViennaRNA-2.4.14/bin/ct2db\n",
            " /usr/bin/mkdir -p '/content/ViennaRNA-2.4.14/share/ViennaRNA/bin'\n",
            " /usr/bin/install -c b2mt.pl dpzoom.pl mountain.pl relplot.pl rotate_ss.pl cmount.pl coloraln.pl refold.pl switch.pl RNAdesign.pl '/content/ViennaRNA-2.4.14/share/ViennaRNA/bin'\n",
            "make  install-data-hook\n",
            "make[4]: Entering directory '/content/ViennaRNA-2.4.14/src/Utils'\n",
            "  GEN      install-data-hook\n",
            "make[4]: Leaving directory '/content/ViennaRNA-2.4.14/src/Utils'\n",
            "make[3]: Leaving directory '/content/ViennaRNA-2.4.14/src/Utils'\n",
            "make[2]: Leaving directory '/content/ViennaRNA-2.4.14/src/Utils'\n",
            "make[2]: Entering directory '/content/ViennaRNA-2.4.14/src'\n",
            "make[3]: Entering directory '/content/ViennaRNA-2.4.14/src'\n",
            "make[3]: Nothing to be done for 'install-exec-am'.\n",
            "make[3]: Nothing to be done for 'install-data-am'.\n",
            "make[3]: Leaving directory '/content/ViennaRNA-2.4.14/src'\n",
            "make[2]: Leaving directory '/content/ViennaRNA-2.4.14/src'\n",
            "make[1]: Leaving directory '/content/ViennaRNA-2.4.14/src'\n",
            "Making install in man\n",
            "make[1]: Entering directory '/content/ViennaRNA-2.4.14/man'\n",
            "make[2]: Entering directory '/content/ViennaRNA-2.4.14/man'\n",
            "make[2]: Nothing to be done for 'install-exec-am'.\n",
            " /usr/bin/mkdir -p '/content/ViennaRNA-2.4.14/share/info'\n",
            " /usr/bin/install -c -m 644 ./RNAlib.info '/content/ViennaRNA-2.4.14/share/info'\n",
            " /usr/bin/mkdir -p '/content/ViennaRNA-2.4.14/share/man/man1'\n",
            " /usr/bin/install -c -m 644 RNA2Dfold.1 RNAaliduplex.1 RNAalifold.1 RNAcofold.1 RNAduplex.1 RNAeval.1 RNAfold.1 RNAheat.1 RNAinverse.1 RNALalifold.1 RNALfold.1 RNApaln.1 RNAparconv.1 RNAplfold.1 RNAplot.1 RNApvmin.1 RNAsubopt.1 RNAup.1 RNAPKplex.1 RNAsnoop.1 RNAplex.1 RNAdistance.1 RNApdist.1 RNAdos.1 ct2db.1 '/content/ViennaRNA-2.4.14/share/man/man1'\n",
            "make[2]: Leaving directory '/content/ViennaRNA-2.4.14/man'\n",
            "make[1]: Leaving directory '/content/ViennaRNA-2.4.14/man'\n",
            "Making install in misc\n",
            "make[1]: Entering directory '/content/ViennaRNA-2.4.14/misc'\n",
            "make[2]: Entering directory '/content/ViennaRNA-2.4.14/misc'\n",
            "make[2]: Nothing to be done for 'install-exec-am'.\n",
            " /usr/bin/mkdir -p '/content/ViennaRNA-2.4.14/share/ViennaRNA'\n",
            " /usr/bin/install -c -m 644 2Dlandscape_mfe.gri 2Dlandscape_pf.gri rna_turner1999.par rna_turner2004.par rna_andronescu2007.par dna_mathews1999.par dna_mathews2004.par rna_langdon2018.par rna_misc_special_hairpins.par 2Dlandscape.R '/content/ViennaRNA-2.4.14/share/ViennaRNA'\n",
            "make[2]: Leaving directory '/content/ViennaRNA-2.4.14/misc'\n",
            "make[1]: Leaving directory '/content/ViennaRNA-2.4.14/misc'\n",
            "Making install in doc\n",
            "make[1]: Entering directory '/content/ViennaRNA-2.4.14/doc'\n",
            "make[2]: Entering directory '/content/ViennaRNA-2.4.14/doc'\n",
            "make[2]: Nothing to be done for 'install-exec-am'.\n",
            " /usr/bin/mkdir -p '/content/ViennaRNA-2.4.14/share/ViennaRNA'\n",
            " /usr/bin/install -c -m 644 viennarna.bib DoxygenLayout.xml '/content/ViennaRNA-2.4.14/share/ViennaRNA'\n",
            "make[2]: Leaving directory '/content/ViennaRNA-2.4.14/doc'\n",
            "make[1]: Leaving directory '/content/ViennaRNA-2.4.14/doc'\n",
            "Making install in RNA-Tutorial\n",
            "make[1]: Entering directory '/content/ViennaRNA-2.4.14/RNA-Tutorial'\n",
            "make[2]: Entering directory '/content/ViennaRNA-2.4.14/RNA-Tutorial'\n",
            "make[2]: Nothing to be done for 'install-exec-am'.\n",
            "make[2]: Leaving directory '/content/ViennaRNA-2.4.14/RNA-Tutorial'\n",
            "make[1]: Leaving directory '/content/ViennaRNA-2.4.14/RNA-Tutorial'\n",
            "Making install in interfaces\n",
            "make[1]: Entering directory '/content/ViennaRNA-2.4.14/interfaces'\n",
            "make[2]: Entering directory '/content/ViennaRNA-2.4.14/interfaces'\n",
            "make[3]: Entering directory '/content/ViennaRNA-2.4.14/interfaces'\n",
            "make[3]: Nothing to be done for 'install-exec-am'.\n",
            "make[3]: Nothing to be done for 'install-data-am'.\n",
            "make[3]: Leaving directory '/content/ViennaRNA-2.4.14/interfaces'\n",
            "make[2]: Leaving directory '/content/ViennaRNA-2.4.14/interfaces'\n",
            "make[1]: Leaving directory '/content/ViennaRNA-2.4.14/interfaces'\n",
            "Making install in tests\n",
            "make[1]: Entering directory '/content/ViennaRNA-2.4.14/tests'\n",
            "make  install-am\n",
            "make[2]: Entering directory '/content/ViennaRNA-2.4.14/tests'\n",
            "make[3]: Entering directory '/content/ViennaRNA-2.4.14/tests'\n",
            "make[3]: Nothing to be done for 'install-exec-am'.\n",
            "make[3]: Nothing to be done for 'install-data-am'.\n",
            "make[3]: Leaving directory '/content/ViennaRNA-2.4.14/tests'\n",
            "make[2]: Leaving directory '/content/ViennaRNA-2.4.14/tests'\n",
            "make[1]: Leaving directory '/content/ViennaRNA-2.4.14/tests'\n",
            "Making install in examples\n",
            "make[1]: Entering directory '/content/ViennaRNA-2.4.14/examples'\n",
            "make[2]: Entering directory '/content/ViennaRNA-2.4.14/examples'\n",
            "make[2]: Nothing to be done for 'install-exec-am'.\n",
            " /usr/bin/mkdir -p '/content/ViennaRNA-2.4.14/share/ViennaRNA/examples'\n",
            " /usr/bin/install -c -m 644 callback_subopt.c example1.c example_old.c fold_compound_md.c fold_compound_mfe.c helloworld_mfe.c helloworld_mfe_comparative.c helloworld_probabilities.c soft_constraints_up.c '/content/ViennaRNA-2.4.14/share/ViennaRNA/examples'\n",
            " /usr/bin/mkdir -p '/content/ViennaRNA-2.4.14/share/ViennaRNA/examples/data'\n",
            " /usr/bin/install -c -m 644 files/alignment_clustal.aln files/alignment_fasta.fa files/alignment_stockholm.stk files/alignment_maf.maf '/content/ViennaRNA-2.4.14/share/ViennaRNA/examples/data'\n",
            " /usr/bin/mkdir -p '/content/ViennaRNA-2.4.14/share/ViennaRNA/examples/perl5'\n",
            " /usr/bin/install -c -m 644 Perl5/helloworld_mfe.pl Perl5/helloworld_mfe_comparative.pl Perl5/helloworld_nondefault.pl Perl5/maximum_matching.pl Perl5/oo_example1.pl '/content/ViennaRNA-2.4.14/share/ViennaRNA/examples/perl5'\n",
            " /usr/bin/mkdir -p '/content/ViennaRNA-2.4.14/share/ViennaRNA/examples/python'\n",
            " /usr/bin/install -c -m 644 Python/boltzmann_sampling.py Python/helloworld_mfe_comparative.py Python/helloworld_mfe.py Python/helloworld_nondefault.py Python/maximum_matching.py Python/oo_example1.py Python/subopt.py Python/RNAfold_MEA.py '/content/ViennaRNA-2.4.14/share/ViennaRNA/examples/python'\n",
            "make[2]: Leaving directory '/content/ViennaRNA-2.4.14/examples'\n",
            "make[1]: Leaving directory '/content/ViennaRNA-2.4.14/examples'\n",
            "Making install in packaging/macosx\n",
            "make[1]: Entering directory '/content/ViennaRNA-2.4.14/packaging/macosx'\n",
            "make[2]: Entering directory '/content/ViennaRNA-2.4.14/packaging/macosx'\n",
            "make[2]: Nothing to be done for 'install-exec-am'.\n",
            "make[2]: Nothing to be done for 'install-data-am'.\n",
            "make[2]: Leaving directory '/content/ViennaRNA-2.4.14/packaging/macosx'\n",
            "make[1]: Leaving directory '/content/ViennaRNA-2.4.14/packaging/macosx'\n",
            "make[1]: Entering directory '/content/ViennaRNA-2.4.14'\n",
            "make[2]: Entering directory '/content/ViennaRNA-2.4.14'\n",
            "make[2]: Nothing to be done for 'install-exec-am'.\n",
            " /usr/bin/mkdir -p '/content/ViennaRNA-2.4.14/lib/pkgconfig'\n",
            " /usr/bin/install -c -m 644 RNAlib2.pc '/content/ViennaRNA-2.4.14/lib/pkgconfig'\n",
            "make[2]: Leaving directory '/content/ViennaRNA-2.4.14'\n",
            "make[1]: Leaving directory '/content/ViennaRNA-2.4.14'\n"
          ]
        }
      ]
    },
    {
      "cell_type": "code",
      "metadata": {
        "colab": {
          "base_uri": "https://localhost:8080/"
        },
        "id": "bLJ3zamVR6cA",
        "outputId": "4f276de3-340d-41c6-98cb-603b0072f95d"
      },
      "source": [
        "!ls bin/RNAfold"
      ],
      "execution_count": 10,
      "outputs": [
        {
          "output_type": "stream",
          "name": "stdout",
          "text": [
            "bin/RNAfold\n"
          ]
        }
      ]
    },
    {
      "cell_type": "code",
      "metadata": {
        "colab": {
          "base_uri": "https://localhost:8080/"
        },
        "id": "8kb50hbZSpcb",
        "outputId": "1eeff4ff-300b-440f-85ed-5983b54c4f21"
      },
      "source": [
        "ls /content/ViennaRNA-2.4.14/"
      ],
      "execution_count": 11,
      "outputs": [
        {
          "output_type": "stream",
          "name": "stdout",
          "text": [
            "aclocal.m4     config.h        COPYING      \u001b[0m\u001b[01;34minterfaces\u001b[0m/  Makefile.in  RNAlib2.pc     THANKS\n",
            "AUTHORS        config.h.in     \u001b[01;32mdepcomp\u001b[0m*     \u001b[01;34mlib\u001b[0m/         \u001b[01;34mman\u001b[0m/         RNAlib2.pc.in  \u001b[01;32mylwrap\u001b[0m*\n",
            "\u001b[01;34mbin\u001b[0m/           config.log      \u001b[01;34mdoc\u001b[0m/         \u001b[01;32mlibtool\u001b[0m*     \u001b[01;34mmisc\u001b[0m/        \u001b[01;34mRNA-Tutorial\u001b[0m/\n",
            "CHANGELOG.md   \u001b[01;32mconfig.status\u001b[0m*  \u001b[01;34mexamples\u001b[0m/    license.txt  \u001b[01;32mmissing\u001b[0m*     \u001b[01;34mshare\u001b[0m/\n",
            "\u001b[01;32mcompile\u001b[0m*       \u001b[01;32mconfig.sub\u001b[0m*     \u001b[01;34minclude\u001b[0m/     \u001b[01;34mm4\u001b[0m/          NEWS         \u001b[01;34msrc\u001b[0m/\n",
            "\u001b[01;34mconfig\u001b[0m/        \u001b[01;32mconfigure\u001b[0m*      INSTALL      Makefile     \u001b[01;34mpackaging\u001b[0m/   stamp-h1\n",
            "\u001b[01;32mconfig.guess\u001b[0m*  configure.ac    \u001b[01;32minstall-sh\u001b[0m*  Makefile.am  README.md    \u001b[01;34mtests\u001b[0m/\n"
          ]
        }
      ]
    },
    {
      "cell_type": "code",
      "metadata": {
        "colab": {
          "base_uri": "https://localhost:8080/"
        },
        "id": "mJGZ9vCySpfR",
        "outputId": "d2898c39-775f-4fdc-8831-65094b833c08"
      },
      "source": [
        "%ls /content/ViennaRNA-2.4.14/lib/pkgconfig"
      ],
      "execution_count": 12,
      "outputs": [
        {
          "output_type": "stream",
          "name": "stdout",
          "text": [
            "RNAlib2.pc\n"
          ]
        }
      ]
    },
    {
      "cell_type": "markdown",
      "metadata": {
        "id": "4bl_oivpUSbJ"
      },
      "source": [
        "**1.2 Install Mxfold**"
      ]
    },
    {
      "cell_type": "code",
      "metadata": {
        "colab": {
          "base_uri": "https://localhost:8080/"
        },
        "id": "-n2vnMCkSpie",
        "outputId": "6e07cfeb-ac59-4244-96cf-b6d14b94453c"
      },
      "source": [
        "%cd /content/\n",
        "!git clone https://github.com/keio-bioinformatics/mxfold.git\n",
        "%cd /content/mxfold"
      ],
      "execution_count": 13,
      "outputs": [
        {
          "output_type": "stream",
          "name": "stdout",
          "text": [
            "/content\n",
            "Cloning into 'mxfold'...\n",
            "remote: Enumerating objects: 893, done.\u001b[K\n",
            "remote: Counting objects: 100% (3/3), done.\u001b[K\n",
            "remote: Compressing objects: 100% (3/3), done.\u001b[K\n",
            "remote: Total 893 (delta 0), reused 0 (delta 0), pack-reused 890\u001b[K\n",
            "Receiving objects: 100% (893/893), 583.73 KiB | 8.84 MiB/s, done.\n",
            "Resolving deltas: 100% (689/689), done.\n",
            "/content/mxfold\n"
          ]
        }
      ]
    },
    {
      "cell_type": "code",
      "metadata": {
        "colab": {
          "base_uri": "https://localhost:8080/"
        },
        "id": "bj-je-3BVlCS",
        "outputId": "ea3f7775-99d1-4e89-96fe-561c853dd2a7"
      },
      "source": [
        "ls /content/ViennaRNA-2.4.14/lib/pkgconfig"
      ],
      "execution_count": 26,
      "outputs": [
        {
          "output_type": "stream",
          "name": "stdout",
          "text": [
            "RNAlib2.pc\n"
          ]
        }
      ]
    },
    {
      "cell_type": "code",
      "metadata": {
        "colab": {
          "base_uri": "https://localhost:8080/"
        },
        "id": "IItca2hMXL7C",
        "outputId": "3a7f1d6e-f4cd-4d77-aa1e-b929cd30a251"
      },
      "source": [
        "%set_env PKG_CONFIG_PATH=/content/ViennaRNA-2.4.14/lib/pkgconfig:${PKG_CONFIG_PATH}"
      ],
      "execution_count": 27,
      "outputs": [
        {
          "output_type": "stream",
          "name": "stdout",
          "text": [
            "env: PKG_CONFIG_PATH=/content/ViennaRNA-2.4.14/lib/pkgconfig:${PKG_CONFIG_PATH}\n"
          ]
        }
      ]
    },
    {
      "cell_type": "code",
      "metadata": {
        "id": "zLfko_cjXbl7"
      },
      "source": [
        "import sys\n",
        "sys.path.insert(1, \"/content/ViennaRNA-2.4.14/lib/pkgconfig\")"
      ],
      "execution_count": 28,
      "outputs": []
    },
    {
      "cell_type": "code",
      "metadata": {
        "id": "44XFK7ScczTs",
        "colab": {
          "base_uri": "https://localhost:8080/"
        },
        "outputId": "f7d4c115-2593-460c-97bd-c109c57aa273"
      },
      "source": [
        "%cd /content/mxfold\n",
        "!mkdir build"
      ],
      "execution_count": 29,
      "outputs": [
        {
          "output_type": "stream",
          "name": "stdout",
          "text": [
            "/content/mxfold\n",
            "mkdir: cannot create directory ‘build’: File exists\n"
          ]
        }
      ]
    },
    {
      "cell_type": "code",
      "metadata": {
        "colab": {
          "base_uri": "https://localhost:8080/",
          "height": 35
        },
        "id": "UZA658TiV5Do",
        "outputId": "fb3f7110-8b83-45a0-ea15-2d01aab1868f"
      },
      "source": [
        "%pwd"
      ],
      "execution_count": 18,
      "outputs": [
        {
          "output_type": "execute_result",
          "data": {
            "text/plain": [
              "'/content/mxfold'"
            ],
            "application/vnd.google.colaboratory.intrinsic+json": {
              "type": "string"
            }
          },
          "metadata": {},
          "execution_count": 18
        }
      ]
    },
    {
      "cell_type": "code",
      "metadata": {
        "colab": {
          "base_uri": "https://localhost:8080/"
        },
        "id": "QsxKloYPV12E",
        "outputId": "5df9c466-7ba9-4513-8232-eb3b5344a61e"
      },
      "source": [
        "%cd build\n"
      ],
      "execution_count": 31,
      "outputs": [
        {
          "output_type": "stream",
          "name": "stdout",
          "text": [
            "/content/mxfold/build\n"
          ]
        }
      ]
    },
    {
      "cell_type": "code",
      "metadata": {
        "colab": {
          "base_uri": "https://localhost:8080/"
        },
        "id": "ihaDKnm4V7dV",
        "outputId": "ca0b2e68-89b3-4e70-91e1-78d2d9b34ea9"
      },
      "source": [
        "!cmake -DCMAKE_BUILD_TYPE=Release ..\n",
        "!make"
      ],
      "execution_count": 20,
      "outputs": [
        {
          "output_type": "stream",
          "name": "stdout",
          "text": [
            "\u001b[0mCMake Deprecation Warning at CMakeLists.txt:1 (cmake_minimum_required):\n",
            "  Compatibility with CMake < 3.5 will be removed from a future version of\n",
            "  CMake.\n",
            "\n",
            "  Update the VERSION argument <min> value or use a ...<max> suffix to tell\n",
            "  CMake that the project does not need compatibility with older versions.\n",
            "\n",
            "\u001b[0m\n",
            "-- The C compiler identification is GNU 11.4.0\n",
            "-- The CXX compiler identification is GNU 11.4.0\n",
            "-- Detecting C compiler ABI info\n",
            "-- Detecting C compiler ABI info - done\n",
            "-- Check for working C compiler: /usr/bin/cc - skipped\n",
            "-- Detecting C compile features\n",
            "-- Detecting C compile features - done\n",
            "-- Detecting CXX compiler ABI info\n",
            "-- Detecting CXX compiler ABI info - done\n",
            "-- Check for working CXX compiler: /usr/bin/c++ - skipped\n",
            "-- Detecting CXX compile features\n",
            "-- Detecting CXX compile features - done\n",
            "-- Found PkgConfig: /usr/bin/pkg-config (found version \"1.8.0\") \n",
            "-- Checking for module 'RNAlib2'\n",
            "--   Found RNAlib2, version 2.4.14\n",
            "-- Configuring done (0.9s)\n",
            "-- Generating done (0.0s)\n",
            "-- Build files have been written to: /content/mxfold/build\n",
            "[ 11%] \u001b[32mBuilding CXX object CMakeFiles/mxfold.dir/src/main.cpp.o\u001b[0m\n",
            "[ 22%] \u001b[32mBuilding CXX object CMakeFiles/mxfold.dir/src/FeatureMap.cpp.o\u001b[0m\n",
            "[ 33%] \u001b[32mBuilding CXX object CMakeFiles/mxfold.dir/src/SStruct.cpp.o\u001b[0m\n",
            "[ 44%] \u001b[32mBuilding CXX object CMakeFiles/mxfold.dir/src/adagrad.cpp.o\u001b[0m\n",
            "[ 55%] \u001b[32mBuilding CXX object CMakeFiles/mxfold.dir/src/InferenceEngine.cpp.o\u001b[0m\n",
            "[ 66%] \u001b[32mBuilding CXX object CMakeFiles/mxfold.dir/src/Utilities.cpp.o\u001b[0m\n",
            "[ 77%] \u001b[32mBuilding CXX object CMakeFiles/mxfold.dir/src/default_params.cpp.o\u001b[0m\n",
            "[ 88%] \u001b[32mBuilding C object CMakeFiles/mxfold.dir/src/cmdline.c.o\u001b[0m\n",
            "[100%] \u001b[32m\u001b[1mLinking CXX executable mxfold\u001b[0m\n",
            "lto-wrapper: warning: using serial compilation of 6 LTRANS jobs\n",
            "[100%] Built target mxfold\n"
          ]
        }
      ]
    },
    {
      "cell_type": "code",
      "metadata": {
        "id": "17fH2PXrYsn4"
      },
      "source": [
        "!echo '>DS4440' > test.fa\n",
        "!echo 'GGAUGGAUGUCUGAGCGGUUGAAAGAGUCGGUCUUGAAAACCGAAGUAUUGAUAGGAAUACCGGGGGUUCGAAUCCCUCUCCAUCCG' >> test.fa"
      ],
      "execution_count": 32,
      "outputs": []
    },
    {
      "cell_type": "code",
      "metadata": {
        "colab": {
          "base_uri": "https://localhost:8080/"
        },
        "id": "T6yzHcnwX_vI",
        "outputId": "fc8ac299-84b4-4376-b840-287ccf1c734b"
      },
      "source": [
        "!./mxfold test.fa"
      ],
      "execution_count": 33,
      "outputs": [
        {
          "output_type": "stream",
          "name": "stdout",
          "text": [
            ">DS4440\n",
            "GGAUGGAUGUCUGAGCGGUUGAAAGAGUCGGUCUUGAAAACCGAAGUAUUGAUAGGAAUACCGGGGGUUCGAAUCCCUCUCCAUCCG\n",
            ">structure\n",
            "(((((((........(((((..(((.......)))...)))))..(((((......))))).(((((.......)))))))))))).\n"
          ]
        }
      ]
    },
    {
      "cell_type": "code",
      "metadata": {
        "id": "7NSSPWS_heAv"
      },
      "source": [
        "def run_mxfold(input_file):\n",
        "  import subprocess\n",
        "  foldout, folderr = subprocess.Popen(['/content/mxfold/build/mxfold',input_file], stdin=subprocess.PIPE, stderr=subprocess.PIPE, stdout=subprocess.PIPE, universal_newlines=True).communicate()\n",
        "  if folderr:\n",
        "        raise 'Error'\n",
        "  #print(foldout)\n",
        "  # parse the results\n",
        "  output_lines = foldout.strip().splitlines()\n",
        "  rna_seq = output_lines[1]\n",
        "  rna_structure = output_lines[3]\n",
        "  #print(\"RNA_sequence : \",rna_sequence)\n",
        "  #print(\"RNA_structure: \",rna_structure)\n",
        "  return rna_seq,rna_structure"
      ],
      "execution_count": 34,
      "outputs": []
    },
    {
      "cell_type": "code",
      "metadata": {
        "colab": {
          "base_uri": "https://localhost:8080/"
        },
        "id": "CbogJh5rXyGs",
        "outputId": "888e9b88-90ca-4140-a552-16814eea2cbb"
      },
      "source": [
        "run_mxfold('test.fa')"
      ],
      "execution_count": 35,
      "outputs": [
        {
          "output_type": "execute_result",
          "data": {
            "text/plain": [
              "('GGAUGGAUGUCUGAGCGGUUGAAAGAGUCGGUCUUGAAAACCGAAGUAUUGAUAGGAAUACCGGGGGUUCGAAUCCCUCUCCAUCCG',\n",
              " '(((((((........(((((..(((.......)))...)))))..(((((......))))).(((((.......)))))))))))).')"
            ]
          },
          "metadata": {},
          "execution_count": 35
        }
      ]
    },
    {
      "cell_type": "markdown",
      "metadata": {
        "id": "HpN1gdKyeAbz"
      },
      "source": [
        "**Step 2: Predict secondary structure for sequences**"
      ]
    },
    {
      "cell_type": "code",
      "metadata": {
        "colab": {
          "base_uri": "https://localhost:8080/"
        },
        "id": "yqilLJIbyAs2",
        "outputId": "71d47325-3849-4a51-8f4d-bc0818926edc"
      },
      "source": [
        "%cd /content/"
      ],
      "execution_count": 36,
      "outputs": [
        {
          "output_type": "stream",
          "name": "stdout",
          "text": [
            "/content\n"
          ]
        }
      ]
    },
    {
      "cell_type": "code",
      "metadata": {
        "id": "tU9_GE9pd26e"
      },
      "source": [],
      "execution_count": 36,
      "outputs": []
    },
    {
      "cell_type": "code",
      "metadata": {
        "colab": {
          "base_uri": "https://localhost:8080/"
        },
        "id": "Hf7lrnI1xZs5",
        "outputId": "673d4301-71e0-4ebf-ad90-1556ae03a6a8"
      },
      "source": [
        "!rm bpRNA_TR0.fasta bpRNA_VL0.fasta  bpRNA_TS0.fasta PDB_train.fasta PDB_val.fasta PDB_test.fasta PDB_test2.fasta PDB_test3.fasta PDB_test_hard.fasta\n",
        "!wget https://cs.slu.edu/~hou/projects/RNA_folding/data/SPOT-RNA2/bpRNA_TR0.fasta --no-check-certificate\n",
        "!wget https://cs.slu.edu/~hou/projects/RNA_folding/data/SPOT-RNA2/bpRNA_VL0.fasta --no-check-certificate\n",
        "!wget https://cs.slu.edu/~hou/projects/RNA_folding/data/SPOT-RNA2/bpRNA_TS0.fasta --no-check-certificate\n",
        "!wget https://cs.slu.edu/~hou/projects/RNA_folding/data/SPOT-RNA2/PDB_train.fasta --no-check-certificate\n",
        "!wget https://cs.slu.edu/~hou/projects/RNA_folding/data/SPOT-RNA2/PDB_val.fasta --no-check-certificate\n",
        "!wget https://cs.slu.edu/~hou/projects/RNA_folding/data/SPOT-RNA2/PDB_test.fasta --no-check-certificate\n",
        "!wget https://cs.slu.edu/~hou/projects/RNA_folding/data/SPOT-RNA2/PDB_test2.fasta --no-check-certificate\n",
        "!wget https://cs.slu.edu/~hou/projects/RNA_folding/data/SPOT-RNA2/PDB_test3.fasta --no-check-certificate\n",
        "!wget https://cs.slu.edu/~hou/projects/RNA_folding/data/SPOT-RNA2/PDB_test_hard.fasta --no-check-certificate"
      ],
      "execution_count": 39,
      "outputs": [
        {
          "output_type": "stream",
          "name": "stdout",
          "text": [
            "rm: cannot remove 'bpRNA_TR0.fasta': No such file or directory\n",
            "rm: cannot remove 'bpRNA_VL0.fasta': No such file or directory\n",
            "rm: cannot remove 'bpRNA_TS0.fasta': No such file or directory\n",
            "--2024-07-20 18:20:12--  https://cs.slu.edu/~hou/projects/RNA_folding/data/SPOT-RNA2/bpRNA_TR0.fasta\n",
            "Resolving cs.slu.edu (cs.slu.edu)... 165.134.107.79\n",
            "Connecting to cs.slu.edu (cs.slu.edu)|165.134.107.79|:443... connected.\n",
            "WARNING: cannot verify cs.slu.edu's certificate, issued by ‘CN=InCommon RSA Server CA 2,O=Internet2,C=US’:\n",
            "  Unable to locally verify the issuer's authority.\n",
            "HTTP request sent, awaiting response... 200 OK\n",
            "Length: 1635071 (1.6M)\n",
            "Saving to: ‘bpRNA_TR0.fasta’\n",
            "\n",
            "bpRNA_TR0.fasta     100%[===================>]   1.56M  5.13MB/s    in 0.3s    \n",
            "\n",
            "2024-07-20 18:20:13 (5.13 MB/s) - ‘bpRNA_TR0.fasta’ saved [1635071/1635071]\n",
            "\n",
            "--2024-07-20 18:20:13--  https://cs.slu.edu/~hou/projects/RNA_folding/data/SPOT-RNA2/bpRNA_VL0.fasta\n",
            "Resolving cs.slu.edu (cs.slu.edu)... 165.134.107.79\n",
            "Connecting to cs.slu.edu (cs.slu.edu)|165.134.107.79|:443... connected.\n",
            "WARNING: cannot verify cs.slu.edu's certificate, issued by ‘CN=InCommon RSA Server CA 2,O=Internet2,C=US’:\n",
            "  Unable to locally verify the issuer's authority.\n",
            "HTTP request sent, awaiting response... 200 OK\n",
            "Length: 192170 (188K)\n",
            "Saving to: ‘bpRNA_VL0.fasta’\n",
            "\n",
            "bpRNA_VL0.fasta     100%[===================>] 187.67K  1.06MB/s    in 0.2s    \n",
            "\n",
            "2024-07-20 18:20:13 (1.06 MB/s) - ‘bpRNA_VL0.fasta’ saved [192170/192170]\n",
            "\n",
            "--2024-07-20 18:20:13--  https://cs.slu.edu/~hou/projects/RNA_folding/data/SPOT-RNA2/bpRNA_TS0.fasta\n",
            "Resolving cs.slu.edu (cs.slu.edu)... 165.134.107.79\n",
            "Connecting to cs.slu.edu (cs.slu.edu)|165.134.107.79|:443... connected.\n",
            "WARNING: cannot verify cs.slu.edu's certificate, issued by ‘CN=InCommon RSA Server CA 2,O=Internet2,C=US’:\n",
            "  Unable to locally verify the issuer's authority.\n",
            "HTTP request sent, awaiting response... 200 OK\n",
            "Length: 196052 (191K)\n",
            "Saving to: ‘bpRNA_TS0.fasta’\n",
            "\n",
            "bpRNA_TS0.fasta     100%[===================>] 191.46K  1.07MB/s    in 0.2s    \n",
            "\n",
            "2024-07-20 18:20:14 (1.07 MB/s) - ‘bpRNA_TS0.fasta’ saved [196052/196052]\n",
            "\n",
            "--2024-07-20 18:20:14--  https://cs.slu.edu/~hou/projects/RNA_folding/data/SPOT-RNA2/PDB_train.fasta\n",
            "Resolving cs.slu.edu (cs.slu.edu)... 165.134.107.79\n",
            "Connecting to cs.slu.edu (cs.slu.edu)|165.134.107.79|:443... connected.\n",
            "WARNING: cannot verify cs.slu.edu's certificate, issued by ‘CN=InCommon RSA Server CA 2,O=Internet2,C=US’:\n",
            "  Unable to locally verify the issuer's authority.\n",
            "HTTP request sent, awaiting response... 200 OK\n",
            "Length: 10671 (10K)\n",
            "Saving to: ‘PDB_train.fasta’\n",
            "\n",
            "PDB_train.fasta     100%[===================>]  10.42K  --.-KB/s    in 0s      \n",
            "\n",
            "2024-07-20 18:20:14 (109 MB/s) - ‘PDB_train.fasta’ saved [10671/10671]\n",
            "\n",
            "--2024-07-20 18:20:14--  https://cs.slu.edu/~hou/projects/RNA_folding/data/SPOT-RNA2/PDB_val.fasta\n",
            "Resolving cs.slu.edu (cs.slu.edu)... 165.134.107.79\n",
            "Connecting to cs.slu.edu (cs.slu.edu)|165.134.107.79|:443... connected.\n",
            "WARNING: cannot verify cs.slu.edu's certificate, issued by ‘CN=InCommon RSA Server CA 2,O=Internet2,C=US’:\n",
            "  Unable to locally verify the issuer's authority.\n",
            "HTTP request sent, awaiting response... 200 OK\n",
            "Length: 2631 (2.6K)\n",
            "Saving to: ‘PDB_val.fasta’\n",
            "\n",
            "PDB_val.fasta       100%[===================>]   2.57K  --.-KB/s    in 0s      \n",
            "\n",
            "2024-07-20 18:20:14 (1.12 GB/s) - ‘PDB_val.fasta’ saved [2631/2631]\n",
            "\n",
            "--2024-07-20 18:20:14--  https://cs.slu.edu/~hou/projects/RNA_folding/data/SPOT-RNA2/PDB_test.fasta\n",
            "Resolving cs.slu.edu (cs.slu.edu)... 165.134.107.79\n",
            "Connecting to cs.slu.edu (cs.slu.edu)|165.134.107.79|:443... connected.\n",
            "WARNING: cannot verify cs.slu.edu's certificate, issued by ‘CN=InCommon RSA Server CA 2,O=Internet2,C=US’:\n",
            "  Unable to locally verify the issuer's authority.\n",
            "HTTP request sent, awaiting response... 200 OK\n",
            "Length: 5668 (5.5K)\n",
            "Saving to: ‘PDB_test.fasta’\n",
            "\n",
            "PDB_test.fasta      100%[===================>]   5.54K  --.-KB/s    in 0s      \n",
            "\n",
            "2024-07-20 18:20:14 (1.39 GB/s) - ‘PDB_test.fasta’ saved [5668/5668]\n",
            "\n",
            "--2024-07-20 18:20:15--  https://cs.slu.edu/~hou/projects/RNA_folding/data/SPOT-RNA2/PDB_test2.fasta\n",
            "Resolving cs.slu.edu (cs.slu.edu)... 165.134.107.79\n",
            "Connecting to cs.slu.edu (cs.slu.edu)|165.134.107.79|:443... connected.\n",
            "WARNING: cannot verify cs.slu.edu's certificate, issued by ‘CN=InCommon RSA Server CA 2,O=Internet2,C=US’:\n",
            "  Unable to locally verify the issuer's authority.\n",
            "HTTP request sent, awaiting response... 200 OK\n",
            "Length: 2141 (2.1K)\n",
            "Saving to: ‘PDB_test2.fasta’\n",
            "\n",
            "PDB_test2.fasta     100%[===================>]   2.09K  --.-KB/s    in 0s      \n",
            "\n",
            "2024-07-20 18:20:15 (437 MB/s) - ‘PDB_test2.fasta’ saved [2141/2141]\n",
            "\n",
            "--2024-07-20 18:20:15--  https://cs.slu.edu/~hou/projects/RNA_folding/data/SPOT-RNA2/PDB_test3.fasta\n",
            "Resolving cs.slu.edu (cs.slu.edu)... 165.134.107.79\n",
            "Connecting to cs.slu.edu (cs.slu.edu)|165.134.107.79|:443... connected.\n",
            "WARNING: cannot verify cs.slu.edu's certificate, issued by ‘CN=InCommon RSA Server CA 2,O=Internet2,C=US’:\n",
            "  Unable to locally verify the issuer's authority.\n",
            "HTTP request sent, awaiting response... 200 OK\n",
            "Length: 1668 (1.6K)\n",
            "Saving to: ‘PDB_test3.fasta’\n",
            "\n",
            "PDB_test3.fasta     100%[===================>]   1.63K  --.-KB/s    in 0s      \n",
            "\n",
            "2024-07-20 18:20:15 (493 MB/s) - ‘PDB_test3.fasta’ saved [1668/1668]\n",
            "\n",
            "--2024-07-20 18:20:15--  https://cs.slu.edu/~hou/projects/RNA_folding/data/SPOT-RNA2/PDB_test_hard.fasta\n",
            "Resolving cs.slu.edu (cs.slu.edu)... 165.134.107.79\n",
            "Connecting to cs.slu.edu (cs.slu.edu)|165.134.107.79|:443... connected.\n",
            "WARNING: cannot verify cs.slu.edu's certificate, issued by ‘CN=InCommon RSA Server CA 2,O=Internet2,C=US’:\n",
            "  Unable to locally verify the issuer's authority.\n",
            "HTTP request sent, awaiting response... 200 OK\n",
            "Length: 1689 (1.6K)\n",
            "Saving to: ‘PDB_test_hard.fasta’\n",
            "\n",
            "PDB_test_hard.fasta 100%[===================>]   1.65K  --.-KB/s    in 0s      \n",
            "\n",
            "2024-07-20 18:20:15 (573 MB/s) - ‘PDB_test_hard.fasta’ saved [1689/1689]\n",
            "\n"
          ]
        }
      ]
    },
    {
      "cell_type": "code",
      "metadata": {
        "id": "Xw9NHixWx8lU"
      },
      "source": [],
      "execution_count": 39,
      "outputs": []
    },
    {
      "cell_type": "code",
      "metadata": {
        "colab": {
          "base_uri": "https://localhost:8080/"
        },
        "id": "Au8s2EOveXMh",
        "outputId": "9d6d6850-0346-460e-8ec8-0a03741a68c3"
      },
      "source": [
        "ls"
      ],
      "execution_count": 40,
      "outputs": [
        {
          "output_type": "stream",
          "name": "stdout",
          "text": [
            "bpRNA_test.fasta   bpRNA_TS0.fasta  \u001b[0m\u001b[01;34mmxfold\u001b[0m/          PDB_test.fasta       PDB_val.fasta\n",
            "bpRNA_TR0.fasta    bpRNA_VL0.fasta  PDB_test2.fasta  PDB_test_hard.fasta  \u001b[01;34msample_data\u001b[0m/\n",
            "bpRNA_train.fasta  bpRNA_VL.fasta   PDB_test3.fasta  PDB_train.fasta      \u001b[01;34mViennaRNA-2.4.14\u001b[0m/\n"
          ]
        }
      ]
    },
    {
      "cell_type": "code",
      "metadata": {
        "colab": {
          "base_uri": "https://localhost:8080/"
        },
        "id": "4WKm9cRreYFZ",
        "outputId": "cc0e98b7-30b9-4438-a413-eb231bd53f77"
      },
      "source": [
        "!head PDB_train.fasta"
      ],
      "execution_count": 41,
      "outputs": [
        {
          "output_type": "stream",
          "name": "stdout",
          "text": [
            ">4pqv-1-A\n",
            "GGGUCAGAUCGGCGAAAGUCGCCACUUCGCCGAGGAGUGCAAUCUGUGAGGCCCCAGGAGGACUGGGU\n",
            ">2qus-1-A\n",
            "GGGAGCCCUGUCACCGGAUGUGCUUUCCGGUCUGAUGAGUCCGUGAGGACAAAACAGGGCUCCCGAAUU\n",
            ">4o26-1-E\n",
            "GGAACGCCGCGGUCAGCUCGGCUGCUGCGAAGAGUCUCUGUUGUUCC\n",
            ">5ud5-1-D\n",
            "GGAAACCUGAUCAUGUAGAUCGAAUGGACUCUAAAUCCGUUCAGCCGGGUUAGAUUCCCGGGGUUUCCGCCA\n",
            ">4y1m-1-B\n",
            "GAUUUGGGGAGUAGCCGAUUUCCGAAAGGAAAUGUACGUGUCAACAUUUUCGUUGAAAAACGUGGCACGUACGGACUGAAGAAAUUCAGUCAGGCGAGACCAUAUCCG\n"
          ]
        }
      ]
    },
    {
      "cell_type": "code",
      "source": [],
      "metadata": {
        "id": "cZIfwrISZOxy"
      },
      "execution_count": null,
      "outputs": []
    },
    {
      "cell_type": "code",
      "metadata": {
        "colab": {
          "base_uri": "https://localhost:8080/"
        },
        "id": "Kf2DvWNWecxB",
        "outputId": "1f38e8ba-ae1c-4923-9927-a8abebeb635b"
      },
      "source": [
        "ls ./mxfold/build/mxfold"
      ],
      "execution_count": 42,
      "outputs": [
        {
          "output_type": "stream",
          "name": "stdout",
          "text": [
            "\u001b[0m\u001b[01;32m./mxfold/build/mxfold\u001b[0m*\n"
          ]
        }
      ]
    },
    {
      "cell_type": "code",
      "source": [
        "#@title Run prediction on bpRNA_TR0.fasta\n",
        "\n",
        "import time\n",
        "lines=open('bpRNA_TR0.fasta').readlines()\n",
        "with open('MXfold_bpRNA_TR0.prediction',\"w\") as newFasta:\n",
        "  for i in range(0,len(lines),2):\n",
        "    id = lines[i].strip()\n",
        "    seq = lines[i+1].strip()\n",
        "    if i % 100 == 0:\n",
        "        print(i,' finish!')\n",
        "    time.sleep(1)\n",
        "    !echo \"$id\" > 'test.fa'\n",
        "    !echo \"$seq\" >> 'test.fa'\n",
        "    (rna_sequence,rna_structure) = run_mxfold('test.fa')\n",
        "    header = id + \"\\t\" + str(rna_sequence) + \"\\t\" + str(rna_structure) + \"\\n\"\n",
        "    newFasta.write(header)\n",
        "newFasta.close()"
      ],
      "metadata": {
        "colab": {
          "base_uri": "https://localhost:8080/"
        },
        "id": "92U7fbc-X7wU",
        "outputId": "4d7aa08d-a2f1-4826-aea2-88a0a7898b09"
      },
      "execution_count": 44,
      "outputs": [
        {
          "output_type": "stream",
          "name": "stdout",
          "text": [
            "0  finish!\n",
            "100  finish!\n",
            "200  finish!\n",
            "300  finish!\n",
            "400  finish!\n",
            "500  finish!\n",
            "600  finish!\n",
            "700  finish!\n",
            "800  finish!\n",
            "900  finish!\n",
            "1000  finish!\n",
            "1100  finish!\n",
            "1200  finish!\n",
            "1300  finish!\n",
            "1400  finish!\n",
            "1500  finish!\n",
            "1600  finish!\n",
            "1700  finish!\n",
            "1800  finish!\n",
            "1900  finish!\n",
            "2000  finish!\n",
            "2100  finish!\n",
            "2200  finish!\n",
            "2300  finish!\n",
            "2400  finish!\n",
            "2500  finish!\n",
            "2600  finish!\n",
            "2700  finish!\n",
            "2800  finish!\n",
            "2900  finish!\n",
            "3000  finish!\n",
            "3100  finish!\n",
            "3200  finish!\n",
            "3300  finish!\n",
            "3400  finish!\n",
            "3500  finish!\n",
            "3600  finish!\n",
            "3700  finish!\n",
            "3800  finish!\n",
            "3900  finish!\n",
            "4000  finish!\n",
            "4100  finish!\n",
            "4200  finish!\n",
            "4300  finish!\n",
            "4400  finish!\n",
            "4500  finish!\n",
            "4600  finish!\n",
            "4700  finish!\n",
            "4800  finish!\n",
            "4900  finish!\n",
            "5000  finish!\n",
            "5100  finish!\n",
            "5200  finish!\n",
            "5300  finish!\n",
            "5400  finish!\n",
            "5500  finish!\n",
            "5600  finish!\n",
            "5700  finish!\n",
            "5800  finish!\n",
            "5900  finish!\n",
            "6000  finish!\n",
            "6100  finish!\n",
            "6200  finish!\n",
            "6300  finish!\n",
            "6400  finish!\n",
            "6500  finish!\n",
            "6600  finish!\n",
            "6700  finish!\n",
            "6800  finish!\n",
            "6900  finish!\n",
            "7000  finish!\n",
            "7100  finish!\n",
            "7200  finish!\n",
            "7300  finish!\n",
            "7400  finish!\n",
            "7500  finish!\n",
            "7600  finish!\n",
            "7700  finish!\n",
            "7800  finish!\n",
            "7900  finish!\n",
            "8000  finish!\n",
            "8100  finish!\n",
            "8200  finish!\n",
            "8300  finish!\n",
            "8400  finish!\n",
            "8500  finish!\n",
            "8600  finish!\n",
            "8700  finish!\n",
            "8800  finish!\n",
            "8900  finish!\n",
            "9000  finish!\n",
            "9100  finish!\n",
            "9200  finish!\n",
            "9300  finish!\n",
            "9400  finish!\n",
            "9500  finish!\n",
            "9600  finish!\n",
            "9700  finish!\n",
            "9800  finish!\n",
            "9900  finish!\n",
            "10000  finish!\n",
            "10100  finish!\n",
            "10200  finish!\n",
            "10300  finish!\n",
            "10400  finish!\n",
            "10500  finish!\n",
            "10600  finish!\n",
            "10700  finish!\n",
            "10800  finish!\n",
            "10900  finish!\n",
            "11000  finish!\n",
            "11100  finish!\n",
            "11200  finish!\n",
            "11300  finish!\n",
            "11400  finish!\n",
            "11500  finish!\n",
            "11600  finish!\n",
            "11700  finish!\n",
            "11800  finish!\n",
            "11900  finish!\n",
            "12000  finish!\n",
            "12100  finish!\n",
            "12200  finish!\n",
            "12300  finish!\n",
            "12400  finish!\n",
            "12500  finish!\n",
            "12600  finish!\n",
            "12700  finish!\n",
            "12800  finish!\n",
            "12900  finish!\n",
            "13000  finish!\n",
            "13100  finish!\n",
            "13200  finish!\n",
            "13300  finish!\n",
            "13400  finish!\n",
            "13500  finish!\n",
            "13600  finish!\n",
            "13700  finish!\n",
            "13800  finish!\n",
            "13900  finish!\n",
            "14000  finish!\n",
            "14100  finish!\n",
            "14200  finish!\n",
            "14300  finish!\n",
            "14400  finish!\n",
            "14500  finish!\n",
            "14600  finish!\n",
            "14700  finish!\n",
            "14800  finish!\n",
            "14900  finish!\n",
            "15000  finish!\n",
            "15100  finish!\n",
            "15200  finish!\n",
            "15300  finish!\n",
            "15400  finish!\n",
            "15500  finish!\n",
            "15600  finish!\n",
            "15700  finish!\n",
            "15800  finish!\n",
            "15900  finish!\n",
            "16000  finish!\n",
            "16100  finish!\n",
            "16200  finish!\n",
            "16300  finish!\n",
            "16400  finish!\n",
            "16500  finish!\n",
            "16600  finish!\n",
            "16700  finish!\n",
            "16800  finish!\n",
            "16900  finish!\n",
            "17000  finish!\n",
            "17100  finish!\n",
            "17200  finish!\n",
            "17300  finish!\n",
            "17400  finish!\n",
            "17500  finish!\n",
            "17600  finish!\n",
            "17700  finish!\n",
            "17800  finish!\n",
            "17900  finish!\n",
            "18000  finish!\n",
            "18100  finish!\n",
            "18200  finish!\n",
            "18300  finish!\n",
            "18400  finish!\n",
            "18500  finish!\n",
            "18600  finish!\n",
            "18700  finish!\n",
            "18800  finish!\n",
            "18900  finish!\n",
            "19000  finish!\n",
            "19100  finish!\n",
            "19200  finish!\n",
            "19300  finish!\n",
            "19400  finish!\n",
            "19500  finish!\n",
            "19600  finish!\n",
            "19700  finish!\n",
            "19800  finish!\n",
            "19900  finish!\n",
            "20000  finish!\n",
            "20100  finish!\n",
            "20200  finish!\n",
            "20300  finish!\n",
            "20400  finish!\n",
            "20500  finish!\n",
            "20600  finish!\n",
            "20700  finish!\n",
            "20800  finish!\n",
            "20900  finish!\n",
            "21000  finish!\n",
            "21100  finish!\n",
            "21200  finish!\n",
            "21300  finish!\n",
            "21400  finish!\n"
          ]
        }
      ]
    },
    {
      "cell_type": "code",
      "source": [
        "from google.colab import files\n",
        "files.download('MXfold_bpRNA_TR0.prediction')"
      ],
      "metadata": {
        "colab": {
          "base_uri": "https://localhost:8080/",
          "height": 17
        },
        "id": "kH8uJG0JZleY",
        "outputId": "9babc149-2099-438d-b562-6839a72f1c05"
      },
      "execution_count": 45,
      "outputs": [
        {
          "output_type": "display_data",
          "data": {
            "text/plain": [
              "<IPython.core.display.Javascript object>"
            ],
            "application/javascript": [
              "\n",
              "    async function download(id, filename, size) {\n",
              "      if (!google.colab.kernel.accessAllowed) {\n",
              "        return;\n",
              "      }\n",
              "      const div = document.createElement('div');\n",
              "      const label = document.createElement('label');\n",
              "      label.textContent = `Downloading \"${filename}\": `;\n",
              "      div.appendChild(label);\n",
              "      const progress = document.createElement('progress');\n",
              "      progress.max = size;\n",
              "      div.appendChild(progress);\n",
              "      document.body.appendChild(div);\n",
              "\n",
              "      const buffers = [];\n",
              "      let downloaded = 0;\n",
              "\n",
              "      const channel = await google.colab.kernel.comms.open(id);\n",
              "      // Send a message to notify the kernel that we're ready.\n",
              "      channel.send({})\n",
              "\n",
              "      for await (const message of channel.messages) {\n",
              "        // Send a message to notify the kernel that we're ready.\n",
              "        channel.send({})\n",
              "        if (message.buffers) {\n",
              "          for (const buffer of message.buffers) {\n",
              "            buffers.push(buffer);\n",
              "            downloaded += buffer.byteLength;\n",
              "            progress.value = downloaded;\n",
              "          }\n",
              "        }\n",
              "      }\n",
              "      const blob = new Blob(buffers, {type: 'application/binary'});\n",
              "      const a = document.createElement('a');\n",
              "      a.href = window.URL.createObjectURL(blob);\n",
              "      a.download = filename;\n",
              "      div.appendChild(a);\n",
              "      a.click();\n",
              "      div.remove();\n",
              "    }\n",
              "  "
            ]
          },
          "metadata": {}
        },
        {
          "output_type": "display_data",
          "data": {
            "text/plain": [
              "<IPython.core.display.Javascript object>"
            ],
            "application/javascript": [
              "download(\"download_2fedd631-62b8-4210-aef3-ae87af984008\", \"MXfold_bpRNA_TR0.prediction\", 3081682)"
            ]
          },
          "metadata": {}
        }
      ]
    },
    {
      "cell_type": "code",
      "source": [
        "#@title Run prediction on bpRNA_TS0.fasta\n",
        "\n",
        "import time\n",
        "lines=open('bpRNA_TS0.fasta').readlines()\n",
        "with open('MXfold_bpRNA_TS0.prediction',\"w\") as newFasta:\n",
        "  for i in range(0,len(lines),2):\n",
        "    id = lines[i].strip()\n",
        "    seq = lines[i+1].strip()\n",
        "    if i % 100 == 0:\n",
        "        print(i,' finish!')\n",
        "    time.sleep(1)\n",
        "    !echo \"$id\" > 'test.fa'\n",
        "    !echo \"$seq\" >> 'test.fa'\n",
        "    (rna_sequence,rna_structure) = run_mxfold('test.fa')\n",
        "    header = id + \"\\t\" + str(rna_sequence) + \"\\t\" + str(rna_structure) + \"\\n\"\n",
        "    newFasta.write(header)\n",
        "newFasta.close()"
      ],
      "metadata": {
        "colab": {
          "base_uri": "https://localhost:8080/"
        },
        "id": "ULIu-IK-ZPce",
        "outputId": "da2a6200-5346-40d5-b5ca-fdce3eb7e537"
      },
      "execution_count": 46,
      "outputs": [
        {
          "output_type": "stream",
          "name": "stdout",
          "text": [
            "0  finish!\n",
            "100  finish!\n",
            "200  finish!\n",
            "300  finish!\n",
            "400  finish!\n",
            "500  finish!\n",
            "600  finish!\n",
            "700  finish!\n",
            "800  finish!\n",
            "900  finish!\n",
            "1000  finish!\n",
            "1100  finish!\n",
            "1200  finish!\n",
            "1300  finish!\n",
            "1400  finish!\n",
            "1500  finish!\n",
            "1600  finish!\n",
            "1700  finish!\n",
            "1800  finish!\n",
            "1900  finish!\n",
            "2000  finish!\n",
            "2100  finish!\n",
            "2200  finish!\n",
            "2300  finish!\n",
            "2400  finish!\n",
            "2500  finish!\n"
          ]
        }
      ]
    },
    {
      "cell_type": "code",
      "source": [
        "from google.colab import files\n",
        "files.download('MXfold_bpRNA_TS0.prediction')"
      ],
      "metadata": {
        "colab": {
          "base_uri": "https://localhost:8080/",
          "height": 17
        },
        "id": "ERW4csRMZPfG",
        "outputId": "15820d21-5b5e-4939-d2a2-8dfe4795b155"
      },
      "execution_count": 47,
      "outputs": [
        {
          "output_type": "display_data",
          "data": {
            "text/plain": [
              "<IPython.core.display.Javascript object>"
            ],
            "application/javascript": [
              "\n",
              "    async function download(id, filename, size) {\n",
              "      if (!google.colab.kernel.accessAllowed) {\n",
              "        return;\n",
              "      }\n",
              "      const div = document.createElement('div');\n",
              "      const label = document.createElement('label');\n",
              "      label.textContent = `Downloading \"${filename}\": `;\n",
              "      div.appendChild(label);\n",
              "      const progress = document.createElement('progress');\n",
              "      progress.max = size;\n",
              "      div.appendChild(progress);\n",
              "      document.body.appendChild(div);\n",
              "\n",
              "      const buffers = [];\n",
              "      let downloaded = 0;\n",
              "\n",
              "      const channel = await google.colab.kernel.comms.open(id);\n",
              "      // Send a message to notify the kernel that we're ready.\n",
              "      channel.send({})\n",
              "\n",
              "      for await (const message of channel.messages) {\n",
              "        // Send a message to notify the kernel that we're ready.\n",
              "        channel.send({})\n",
              "        if (message.buffers) {\n",
              "          for (const buffer of message.buffers) {\n",
              "            buffers.push(buffer);\n",
              "            downloaded += buffer.byteLength;\n",
              "            progress.value = downloaded;\n",
              "          }\n",
              "        }\n",
              "      }\n",
              "      const blob = new Blob(buffers, {type: 'application/binary'});\n",
              "      const a = document.createElement('a');\n",
              "      a.href = window.URL.createObjectURL(blob);\n",
              "      a.download = filename;\n",
              "      div.appendChild(a);\n",
              "      a.click();\n",
              "      div.remove();\n",
              "    }\n",
              "  "
            ]
          },
          "metadata": {}
        },
        {
          "output_type": "display_data",
          "data": {
            "text/plain": [
              "<IPython.core.display.Javascript object>"
            ],
            "application/javascript": [
              "download(\"download_363a0996-f435-499c-82a0-36e306181e50\", \"MXfold_bpRNA_TS0.prediction\", 369880)"
            ]
          },
          "metadata": {}
        }
      ]
    },
    {
      "cell_type": "code",
      "source": [],
      "metadata": {
        "id": "ubpGxX8RZatk"
      },
      "execution_count": 47,
      "outputs": []
    },
    {
      "cell_type": "code",
      "source": [
        "#@title Run prediction on bpRNA_VL0.fasta\n",
        "\n",
        "import time\n",
        "lines=open('bpRNA_VL0.fasta').readlines()\n",
        "with open('MXfold_bpRNA_VL0.prediction',\"w\") as newFasta:\n",
        "  for i in range(0,len(lines),2):\n",
        "    id = lines[i].strip()\n",
        "    seq = lines[i+1].strip()\n",
        "    if i % 100 == 0:\n",
        "        print(i,' finish!')\n",
        "    time.sleep(1)\n",
        "    !echo \"$id\" > 'test.fa'\n",
        "    !echo \"$seq\" >> 'test.fa'\n",
        "    (rna_sequence,rna_structure) = run_mxfold('test.fa')\n",
        "    header = id + \"\\t\" + str(rna_sequence) + \"\\t\" + str(rna_structure) + \"\\n\"\n",
        "    newFasta.write(header)\n",
        "newFasta.close()"
      ],
      "metadata": {
        "colab": {
          "base_uri": "https://localhost:8080/"
        },
        "id": "H2uPG9wAZPhv",
        "outputId": "14efa9be-d6c2-4b8c-8b85-5de87d5ec068"
      },
      "execution_count": 48,
      "outputs": [
        {
          "output_type": "stream",
          "name": "stdout",
          "text": [
            "0  finish!\n",
            "100  finish!\n",
            "200  finish!\n",
            "300  finish!\n",
            "400  finish!\n",
            "500  finish!\n",
            "600  finish!\n",
            "700  finish!\n",
            "800  finish!\n",
            "900  finish!\n",
            "1000  finish!\n",
            "1100  finish!\n",
            "1200  finish!\n",
            "1300  finish!\n",
            "1400  finish!\n",
            "1500  finish!\n",
            "1600  finish!\n",
            "1700  finish!\n",
            "1800  finish!\n",
            "1900  finish!\n",
            "2000  finish!\n",
            "2100  finish!\n",
            "2200  finish!\n",
            "2300  finish!\n",
            "2400  finish!\n",
            "2500  finish!\n"
          ]
        }
      ]
    },
    {
      "cell_type": "code",
      "source": [
        "from google.colab import files\n",
        "files.download('MXfold_bpRNA_VL0.prediction')"
      ],
      "metadata": {
        "colab": {
          "base_uri": "https://localhost:8080/",
          "height": 17
        },
        "id": "zq81XAg6ZbO-",
        "outputId": "4ed35f5c-784e-42a2-9a18-055fb669e921"
      },
      "execution_count": 49,
      "outputs": [
        {
          "output_type": "display_data",
          "data": {
            "text/plain": [
              "<IPython.core.display.Javascript object>"
            ],
            "application/javascript": [
              "\n",
              "    async function download(id, filename, size) {\n",
              "      if (!google.colab.kernel.accessAllowed) {\n",
              "        return;\n",
              "      }\n",
              "      const div = document.createElement('div');\n",
              "      const label = document.createElement('label');\n",
              "      label.textContent = `Downloading \"${filename}\": `;\n",
              "      div.appendChild(label);\n",
              "      const progress = document.createElement('progress');\n",
              "      progress.max = size;\n",
              "      div.appendChild(progress);\n",
              "      document.body.appendChild(div);\n",
              "\n",
              "      const buffers = [];\n",
              "      let downloaded = 0;\n",
              "\n",
              "      const channel = await google.colab.kernel.comms.open(id);\n",
              "      // Send a message to notify the kernel that we're ready.\n",
              "      channel.send({})\n",
              "\n",
              "      for await (const message of channel.messages) {\n",
              "        // Send a message to notify the kernel that we're ready.\n",
              "        channel.send({})\n",
              "        if (message.buffers) {\n",
              "          for (const buffer of message.buffers) {\n",
              "            buffers.push(buffer);\n",
              "            downloaded += buffer.byteLength;\n",
              "            progress.value = downloaded;\n",
              "          }\n",
              "        }\n",
              "      }\n",
              "      const blob = new Blob(buffers, {type: 'application/binary'});\n",
              "      const a = document.createElement('a');\n",
              "      a.href = window.URL.createObjectURL(blob);\n",
              "      a.download = filename;\n",
              "      div.appendChild(a);\n",
              "      a.click();\n",
              "      div.remove();\n",
              "    }\n",
              "  "
            ]
          },
          "metadata": {}
        },
        {
          "output_type": "display_data",
          "data": {
            "text/plain": [
              "<IPython.core.display.Javascript object>"
            ],
            "application/javascript": [
              "download(\"download_87ee6932-c004-4cbb-9b2a-500a11b553e6\", \"MXfold_bpRNA_VL0.prediction\", 361929)"
            ]
          },
          "metadata": {}
        }
      ]
    },
    {
      "cell_type": "code",
      "source": [],
      "metadata": {
        "id": "UCJGziKfZ4Et"
      },
      "execution_count": null,
      "outputs": []
    },
    {
      "cell_type": "markdown",
      "metadata": {
        "id": "gf0eGWASm8CC"
      },
      "source": [
        "**Run prediction on PDB_train.fasta**"
      ]
    },
    {
      "cell_type": "code",
      "metadata": {
        "colab": {
          "base_uri": "https://localhost:8080/"
        },
        "id": "QlQ0OgnZfWs_",
        "outputId": "216104f7-3880-4610-9ef4-63c287e2c916"
      },
      "source": [
        "import time\n",
        "lines=open('PDB_train.fasta').readlines()\n",
        "with open('MXfold_PDB_train.prediction',\"w\") as newFasta:\n",
        "  for i in range(0,len(lines),2):\n",
        "    id = lines[i].strip()\n",
        "    seq = lines[i+1].strip()\n",
        "    if i % 100 == 0:\n",
        "        print(i,' finish!')\n",
        "    time.sleep(1)\n",
        "    !echo \"$id\" > 'test.fa'\n",
        "    !echo \"$seq\" >> 'test.fa'\n",
        "    (rna_sequence,rna_structure) = run_mxfold('test.fa')\n",
        "    header = id + \"\\t\" + str(rna_sequence) + \"\\t\" + str(rna_structure) + \"\\n\"\n",
        "    newFasta.write(header)\n",
        "newFasta.close()"
      ],
      "execution_count": null,
      "outputs": [
        {
          "output_type": "stream",
          "text": [
            "0  finish!\n",
            "100  finish!\n",
            "200  finish!\n"
          ],
          "name": "stdout"
        }
      ]
    },
    {
      "cell_type": "code",
      "source": [],
      "metadata": {
        "id": "3nFxE77PZUN9"
      },
      "execution_count": null,
      "outputs": []
    },
    {
      "cell_type": "code",
      "source": [],
      "metadata": {
        "id": "z5ylBcdAZVva"
      },
      "execution_count": null,
      "outputs": []
    },
    {
      "cell_type": "code",
      "metadata": {
        "colab": {
          "background_save": true,
          "base_uri": "https://localhost:8080/"
        },
        "id": "kszqxWFUmKYc",
        "outputId": "7fd91891-1a81-4248-b191-25a491666f9d"
      },
      "source": [
        "!head MXfold_PDB_train.prediction"
      ],
      "execution_count": null,
      "outputs": [
        {
          "output_type": "stream",
          "text": [
            ">4pqv-1-A\tGGGUCAGAUCGGCGAAAGUCGCCACUUCGCCGAGGAGUGCAAUCUGUGAGGCCCCAGGAGGACU\n",
            "GGGU\t....((((((((((((.((....)))))))))).........))))......(((((.....))))).\n",
            ">2qus-1-A\tGGGAGCCCUGUCACCGGAUGUGCUUUCCGGUCUGAUGAGUCCGUGAGGACAAAACAGGGCUCCC\n",
            "GAAUU\t(((((((((((.((((((.......)))))).......((((....))))...))))))))))).....\n",
            ">4o26-1-E\tGGAACGCCGCGGUCAGCUCGGCUGCUGCGAAGAGUCUCUGUUGUUCC\t(((((..(((((.(((\n",
            "(...))))))))).............)))))\n",
            ">5ud5-1-D\tGGAAACCUGAUCAUGUAGAUCGAAUGGACUCUAAAUCCGUUCAGCCGGGUUAGAUUCCCGGGGU\n",
            "UUCCGCCA\t(((((((.((((.....))))(((((((.......)))))))..(((((.......))))))))\n",
            "))))....\n",
            ">4y1m-1-B\tGAUUUGGGGAGUAGCCGAUUUCCGAAAGGAAAUGUACGUGUCAACAUUUUCGUUGAAAAACGUG\n",
            "GCACGUACGGACUGAAGAAAUUCAGUCAGGCGAGACCAUAUCCG\t(((.(((......(((.((((((....)))))\n",
            ")((((((((((.......((((....)))))))))))))).(((((((....))))))).)))....))).)))..\n",
            ">3bwp-1-A\tGUGCCCGGCAUGGGUGCAGUCUAUAGGGUGAGAGUCCCGAACUGUGAAGGCAGAAGUAACAGUU\n",
            "AGCCUAACGCAAGGGUGUCCGUGGCGACAUGGAAUCUGAAGGAAGCGGACGGCAAACCUUCGGUCUGAGGAACACGAACU\n",
            "UCAUAGGCUAAUGGAUGAGUUUGCAUAACAAAACAAAGUCCUUUCUGCCAGUUGGUGAAGCAGAUUGAUGAAGGGAAAGA\n",
            "CUGCAUUCUUACCCGGGGAGGUCUGGAAACAGAAGUCAGCAGAAGUCAUAGUACCCAGGGGAAGGACGGAACAAGUAUGG\n",
            "CGUUCGCGCCUAAGCUUGAACCGCCGUAUACCGAACGGUACGUACGGUGGUG\t.(.(((((...(((((((((((..\n",
            ".((((....).)))..........(((((((......(((((((((.(....)....((((((....))))))..(((((\n",
            "((..((.....))...)))))))....................)))))))))((((..((((........))))...)))\n",
            ").)))))))............................)))))))))))....)))))....((((....)))).......\n",
            "...............................((((...((((....))))....)))).(((((((((((((....))).\n",
            ".)))))))))))\n",
            ">2csx-1-C\tGGCGGCGUAGCUCAGCUGGUCAGAGCGGGGAUCUCAUAAGUCCCAGGUCGGAGGUUCGAGUCCU\n",
            "\u001b[7m--More--(7%)\u001b[m"
          ],
          "name": "stdout"
        }
      ]
    },
    {
      "cell_type": "code",
      "metadata": {
        "colab": {
          "base_uri": "https://localhost:8080/",
          "height": 16
        },
        "id": "vN2PsTodmcZz",
        "outputId": "edd7527d-3867-4006-a863-48157a596ce6"
      },
      "source": [
        "from google.colab import files\n",
        "files.download('MXfold_PDB_train.prediction')"
      ],
      "execution_count": null,
      "outputs": [
        {
          "output_type": "display_data",
          "data": {
            "application/javascript": [
              "\n",
              "    async function download(id, filename, size) {\n",
              "      if (!google.colab.kernel.accessAllowed) {\n",
              "        return;\n",
              "      }\n",
              "      const div = document.createElement('div');\n",
              "      const label = document.createElement('label');\n",
              "      label.textContent = `Downloading \"${filename}\": `;\n",
              "      div.appendChild(label);\n",
              "      const progress = document.createElement('progress');\n",
              "      progress.max = size;\n",
              "      div.appendChild(progress);\n",
              "      document.body.appendChild(div);\n",
              "\n",
              "      const buffers = [];\n",
              "      let downloaded = 0;\n",
              "\n",
              "      const channel = await google.colab.kernel.comms.open(id);\n",
              "      // Send a message to notify the kernel that we're ready.\n",
              "      channel.send({})\n",
              "\n",
              "      for await (const message of channel.messages) {\n",
              "        // Send a message to notify the kernel that we're ready.\n",
              "        channel.send({})\n",
              "        if (message.buffers) {\n",
              "          for (const buffer of message.buffers) {\n",
              "            buffers.push(buffer);\n",
              "            downloaded += buffer.byteLength;\n",
              "            progress.value = downloaded;\n",
              "          }\n",
              "        }\n",
              "      }\n",
              "      const blob = new Blob(buffers, {type: 'application/binary'});\n",
              "      const a = document.createElement('a');\n",
              "      a.href = window.URL.createObjectURL(blob);\n",
              "      a.download = filename;\n",
              "      div.appendChild(a);\n",
              "      a.click();\n",
              "      div.remove();\n",
              "    }\n",
              "  "
            ],
            "text/plain": [
              "<IPython.core.display.Javascript object>"
            ]
          },
          "metadata": {
            "tags": []
          }
        },
        {
          "output_type": "display_data",
          "data": {
            "application/javascript": [
              "download(\"download_6d792683-6800-4b7b-9264-e3d5db5841ef\", \"MXfold_PDB_train.prediction\", 20136)"
            ],
            "text/plain": [
              "<IPython.core.display.Javascript object>"
            ]
          },
          "metadata": {
            "tags": []
          }
        }
      ]
    },
    {
      "cell_type": "code",
      "metadata": {
        "colab": {
          "base_uri": "https://localhost:8080/"
        },
        "id": "H4YQfumVLWjd",
        "outputId": "9b74b0aa-7569-4822-b3b9-f7516749b5c3"
      },
      "source": [
        "ls"
      ],
      "execution_count": null,
      "outputs": [
        {
          "output_type": "stream",
          "text": [
            "\u001b[0m\u001b[01;34mmxfold\u001b[0m/                      PDB_test_hard.fasta  test.fa\n",
            "MXfold_PDB_train.prediction  PDB_train.fasta      \u001b[01;34mViennaRNA-2.4.14\u001b[0m/\n",
            "PDB_test2.fasta              PDB_val.fasta\n",
            "PDB_test.fasta               \u001b[01;34msample_data\u001b[0m/\n"
          ],
          "name": "stdout"
        }
      ]
    },
    {
      "cell_type": "markdown",
      "metadata": {
        "id": "kWJxuOyIFdDX"
      },
      "source": [
        "**Run prediction on PDB_validation.fasta**"
      ]
    },
    {
      "cell_type": "code",
      "metadata": {
        "colab": {
          "base_uri": "https://localhost:8080/"
        },
        "id": "BBx7Ig0TnDbn",
        "outputId": "56a59c98-30b2-42b2-ab60-be2c5a6b0c8d"
      },
      "source": [
        "import time\n",
        "lines=open('PDB_val.fasta').readlines()\n",
        "with open('MXfold_PDB_validation.prediction',\"w\") as newFasta:\n",
        "  for i in range(0,len(lines),2):\n",
        "    id = lines[i].strip()\n",
        "    seq = lines[i+1].strip()\n",
        "    if i % 100 == 0:\n",
        "        print(i,' finish!')\n",
        "    time.sleep(1)\n",
        "    !echo \"$id\" > 'test.fa'\n",
        "    !echo \"$seq\" >> 'test.fa'\n",
        "    (rna_sequence,rna_structure) = run_mxfold('test.fa')\n",
        "    header = id + \"\\t\" + str(rna_sequence) + \"\\t\" + str(rna_structure) + \"\\n\"\n",
        "    newFasta.write(header)\n",
        "newFasta.close()"
      ],
      "execution_count": null,
      "outputs": [
        {
          "output_type": "stream",
          "text": [
            "0  finish!\n"
          ],
          "name": "stdout"
        }
      ]
    },
    {
      "cell_type": "code",
      "metadata": {
        "colab": {
          "base_uri": "https://localhost:8080/",
          "height": 16
        },
        "id": "MV1eKrUinJyA",
        "outputId": "123003a2-2d12-4c65-a4a5-b204184a9369"
      },
      "source": [
        "from google.colab import files\n",
        "files.download('MXfold_PDB_validation.prediction')"
      ],
      "execution_count": null,
      "outputs": [
        {
          "output_type": "display_data",
          "data": {
            "application/javascript": [
              "\n",
              "    async function download(id, filename, size) {\n",
              "      if (!google.colab.kernel.accessAllowed) {\n",
              "        return;\n",
              "      }\n",
              "      const div = document.createElement('div');\n",
              "      const label = document.createElement('label');\n",
              "      label.textContent = `Downloading \"${filename}\": `;\n",
              "      div.appendChild(label);\n",
              "      const progress = document.createElement('progress');\n",
              "      progress.max = size;\n",
              "      div.appendChild(progress);\n",
              "      document.body.appendChild(div);\n",
              "\n",
              "      const buffers = [];\n",
              "      let downloaded = 0;\n",
              "\n",
              "      const channel = await google.colab.kernel.comms.open(id);\n",
              "      // Send a message to notify the kernel that we're ready.\n",
              "      channel.send({})\n",
              "\n",
              "      for await (const message of channel.messages) {\n",
              "        // Send a message to notify the kernel that we're ready.\n",
              "        channel.send({})\n",
              "        if (message.buffers) {\n",
              "          for (const buffer of message.buffers) {\n",
              "            buffers.push(buffer);\n",
              "            downloaded += buffer.byteLength;\n",
              "            progress.value = downloaded;\n",
              "          }\n",
              "        }\n",
              "      }\n",
              "      const blob = new Blob(buffers, {type: 'application/binary'});\n",
              "      const a = document.createElement('a');\n",
              "      a.href = window.URL.createObjectURL(blob);\n",
              "      a.download = filename;\n",
              "      div.appendChild(a);\n",
              "      a.click();\n",
              "      div.remove();\n",
              "    }\n",
              "  "
            ],
            "text/plain": [
              "<IPython.core.display.Javascript object>"
            ]
          },
          "metadata": {
            "tags": []
          }
        },
        {
          "output_type": "display_data",
          "data": {
            "application/javascript": [
              "download(\"download_ad0bbd16-749a-41cf-be63-14faff6b1668\", \"MXfold_PDB_validation.prediction\", 4961)"
            ],
            "text/plain": [
              "<IPython.core.display.Javascript object>"
            ]
          },
          "metadata": {
            "tags": []
          }
        }
      ]
    },
    {
      "cell_type": "markdown",
      "metadata": {
        "id": "K7FTlgyMFg5n"
      },
      "source": [
        "**Run prediction on PDB_test.fasta**"
      ]
    },
    {
      "cell_type": "code",
      "metadata": {
        "colab": {
          "base_uri": "https://localhost:8080/"
        },
        "id": "ScNo8HBTFkLm",
        "outputId": "ee9f70d6-3640-4dc8-8085-8723a3c08211"
      },
      "source": [
        "%ls"
      ],
      "execution_count": null,
      "outputs": [
        {
          "output_type": "stream",
          "text": [
            "CMakeCache.txt                  SPOT-RNA_bpRNA_TS0.fasta\n",
            "\u001b[0m\u001b[01;34mCMakeFiles\u001b[0m/                     SPOT-RNA_bpRNA_VL0.fasta\n",
            "cmake_install.cmake             SPOT-RNA_PDB_TR1_sequences.fasta\n",
            "ct_shorter_than_201_id95.fasta  SPOT-RNA_PDB_TS1_sequences.fasta\n",
            "Makefile                        SPOT-RNA_PDB_TS2_sequences.fasta\n",
            "\u001b[01;32mmxfold\u001b[0m*                         SPOT-RNA_PDB_VL1_sequences.fasta\n",
            "pdb_dataset_id95.fasta          test.fa\n",
            "SPOT-RNA_bpRNA_TR0.fasta\n"
          ],
          "name": "stdout"
        }
      ]
    },
    {
      "cell_type": "code",
      "metadata": {
        "colab": {
          "base_uri": "https://localhost:8080/"
        },
        "id": "OcH7O69TFi4X",
        "outputId": "da1574df-bb71-40b4-d3be-bb1c0ff23059"
      },
      "source": [
        "import time\n",
        "lines=open('PDB_test.fasta').readlines()\n",
        "with open('MXfold_PDB_test.prediction',\"w\") as newFasta:\n",
        "  for i in range(0,len(lines),2):\n",
        "    id = lines[i].strip()\n",
        "    seq = lines[i+1].strip()\n",
        "    if i % 100 == 0:\n",
        "        print(i,' finish!')\n",
        "    time.sleep(1)\n",
        "    !echo \"$id\" > 'test.fa'\n",
        "    !echo \"$seq\" >> 'test.fa'\n",
        "    (rna_sequence,rna_structure) = run_mxfold('test.fa')\n",
        "    header = id + \"\\t\" + str(rna_sequence) + \"\\t\" + str(rna_structure) + \"\\n\"\n",
        "    newFasta.write(header)\n",
        "newFasta.close()"
      ],
      "execution_count": null,
      "outputs": [
        {
          "output_type": "stream",
          "text": [
            "0  finish!\n",
            "100  finish!\n"
          ],
          "name": "stdout"
        }
      ]
    },
    {
      "cell_type": "code",
      "metadata": {
        "colab": {
          "base_uri": "https://localhost:8080/",
          "height": 16
        },
        "id": "o9UdxZvyFtoR",
        "outputId": "76d6043d-4302-482a-ab9c-d70205a07788"
      },
      "source": [
        "from google.colab import files\n",
        "files.download('MXfold_PDB_test.prediction')"
      ],
      "execution_count": null,
      "outputs": [
        {
          "output_type": "display_data",
          "data": {
            "application/javascript": [
              "\n",
              "    async function download(id, filename, size) {\n",
              "      if (!google.colab.kernel.accessAllowed) {\n",
              "        return;\n",
              "      }\n",
              "      const div = document.createElement('div');\n",
              "      const label = document.createElement('label');\n",
              "      label.textContent = `Downloading \"${filename}\": `;\n",
              "      div.appendChild(label);\n",
              "      const progress = document.createElement('progress');\n",
              "      progress.max = size;\n",
              "      div.appendChild(progress);\n",
              "      document.body.appendChild(div);\n",
              "\n",
              "      const buffers = [];\n",
              "      let downloaded = 0;\n",
              "\n",
              "      const channel = await google.colab.kernel.comms.open(id);\n",
              "      // Send a message to notify the kernel that we're ready.\n",
              "      channel.send({})\n",
              "\n",
              "      for await (const message of channel.messages) {\n",
              "        // Send a message to notify the kernel that we're ready.\n",
              "        channel.send({})\n",
              "        if (message.buffers) {\n",
              "          for (const buffer of message.buffers) {\n",
              "            buffers.push(buffer);\n",
              "            downloaded += buffer.byteLength;\n",
              "            progress.value = downloaded;\n",
              "          }\n",
              "        }\n",
              "      }\n",
              "      const blob = new Blob(buffers, {type: 'application/binary'});\n",
              "      const a = document.createElement('a');\n",
              "      a.href = window.URL.createObjectURL(blob);\n",
              "      a.download = filename;\n",
              "      div.appendChild(a);\n",
              "      a.click();\n",
              "      div.remove();\n",
              "    }\n",
              "  "
            ],
            "text/plain": [
              "<IPython.core.display.Javascript object>"
            ]
          },
          "metadata": {
            "tags": []
          }
        },
        {
          "output_type": "display_data",
          "data": {
            "application/javascript": [
              "download(\"download_a0c4685c-9659-4d65-bb7f-cb9662b29277\", \"MXfold_PDB_test.prediction\", 10671)"
            ],
            "text/plain": [
              "<IPython.core.display.Javascript object>"
            ]
          },
          "metadata": {
            "tags": []
          }
        }
      ]
    },
    {
      "cell_type": "markdown",
      "metadata": {
        "id": "lNasz920H2E0"
      },
      "source": [
        "**Run prediction on PDB_test2.fasta**"
      ]
    },
    {
      "cell_type": "code",
      "metadata": {
        "colab": {
          "base_uri": "https://localhost:8080/"
        },
        "id": "GT4oqXf_IDli",
        "outputId": "7bdc8524-0271-433f-c329-d26a6e0e0ea3"
      },
      "source": [
        "import time\n",
        "lines=open('PDB_test2.fasta').readlines()\n",
        "with open('MXfold_PDB_test2.prediction',\"w\") as newFasta:\n",
        "  for i in range(0,len(lines),2):\n",
        "    id = lines[i].strip()\n",
        "    seq = lines[i+1].strip()\n",
        "    if i % 100 == 0:\n",
        "        print(i,' finish!')\n",
        "    time.sleep(1)\n",
        "    !echo \"$id\" > 'test.fa'\n",
        "    !echo \"$seq\" >> 'test.fa'\n",
        "    (rna_sequence,rna_structure) = run_mxfold('test.fa')\n",
        "    header = id + \"\\t\" + str(rna_sequence) + \"\\t\" + str(rna_structure) + \"\\n\"\n",
        "    newFasta.write(header)\n",
        "newFasta.close()"
      ],
      "execution_count": null,
      "outputs": [
        {
          "output_type": "stream",
          "text": [
            "0  finish!\n"
          ],
          "name": "stdout"
        }
      ]
    },
    {
      "cell_type": "code",
      "metadata": {
        "colab": {
          "base_uri": "https://localhost:8080/",
          "height": 16
        },
        "id": "x8Qkv7MmIDn6",
        "outputId": "0b1a2e6b-1863-406b-c5a1-f5545bc756ea"
      },
      "source": [
        "from google.colab import files\n",
        "files.download('MXfold_PDB_test2.prediction')"
      ],
      "execution_count": null,
      "outputs": [
        {
          "output_type": "display_data",
          "data": {
            "application/javascript": [
              "\n",
              "    async function download(id, filename, size) {\n",
              "      if (!google.colab.kernel.accessAllowed) {\n",
              "        return;\n",
              "      }\n",
              "      const div = document.createElement('div');\n",
              "      const label = document.createElement('label');\n",
              "      label.textContent = `Downloading \"${filename}\": `;\n",
              "      div.appendChild(label);\n",
              "      const progress = document.createElement('progress');\n",
              "      progress.max = size;\n",
              "      div.appendChild(progress);\n",
              "      document.body.appendChild(div);\n",
              "\n",
              "      const buffers = [];\n",
              "      let downloaded = 0;\n",
              "\n",
              "      const channel = await google.colab.kernel.comms.open(id);\n",
              "      // Send a message to notify the kernel that we're ready.\n",
              "      channel.send({})\n",
              "\n",
              "      for await (const message of channel.messages) {\n",
              "        // Send a message to notify the kernel that we're ready.\n",
              "        channel.send({})\n",
              "        if (message.buffers) {\n",
              "          for (const buffer of message.buffers) {\n",
              "            buffers.push(buffer);\n",
              "            downloaded += buffer.byteLength;\n",
              "            progress.value = downloaded;\n",
              "          }\n",
              "        }\n",
              "      }\n",
              "      const blob = new Blob(buffers, {type: 'application/binary'});\n",
              "      const a = document.createElement('a');\n",
              "      a.href = window.URL.createObjectURL(blob);\n",
              "      a.download = filename;\n",
              "      div.appendChild(a);\n",
              "      a.click();\n",
              "      div.remove();\n",
              "    }\n",
              "  "
            ],
            "text/plain": [
              "<IPython.core.display.Javascript object>"
            ]
          },
          "metadata": {
            "tags": []
          }
        },
        {
          "output_type": "display_data",
          "data": {
            "application/javascript": [
              "download(\"download_e2a2cc0b-6af2-4cf6-b168-d0a911df4799\", \"MXfold_PDB_test2.prediction\", 4066)"
            ],
            "text/plain": [
              "<IPython.core.display.Javascript object>"
            ]
          },
          "metadata": {
            "tags": []
          }
        }
      ]
    },
    {
      "cell_type": "code",
      "metadata": {
        "colab": {
          "base_uri": "https://localhost:8080/"
        },
        "id": "9XCFBLMPIDrE",
        "outputId": "75afcf63-c705-40d7-9912-6a5f28ce7456"
      },
      "source": [
        "#@title Run prediction on PDB_test_hard.fasta\n",
        "import time\n",
        "lines=open('PDB_test_hard.fasta').readlines()\n",
        "with open('MXfold_PDB_test_hard.prediction',\"w\") as newFasta:\n",
        "  for i in range(0,len(lines),2):\n",
        "    id = lines[i].strip()\n",
        "    seq = lines[i+1].strip()\n",
        "    if i % 100 == 0:\n",
        "        print(i,' finish!')\n",
        "    time.sleep(1)\n",
        "    !echo \"$id\" > 'test.fa'\n",
        "    !echo \"$seq\" >> 'test.fa'\n",
        "    (rna_sequence,rna_structure) = run_mxfold('test.fa')\n",
        "    header = id + \"\\t\" + str(rna_sequence) + \"\\t\" + str(rna_structure) + \"\\n\"\n",
        "    newFasta.write(header)\n",
        "newFasta.close()"
      ],
      "execution_count": null,
      "outputs": [
        {
          "output_type": "stream",
          "text": [
            "0  finish!\n"
          ],
          "name": "stdout"
        }
      ]
    },
    {
      "cell_type": "code",
      "metadata": {
        "colab": {
          "base_uri": "https://localhost:8080/",
          "height": 16
        },
        "id": "Wonnc7bTIlAy",
        "outputId": "c49a79fa-d80d-42d7-eed8-9f28f2a1c8d9"
      },
      "source": [
        "from google.colab import files\n",
        "files.download('MXfold_PDB_test_hard.prediction')"
      ],
      "execution_count": null,
      "outputs": [
        {
          "output_type": "display_data",
          "data": {
            "application/javascript": [
              "\n",
              "    async function download(id, filename, size) {\n",
              "      if (!google.colab.kernel.accessAllowed) {\n",
              "        return;\n",
              "      }\n",
              "      const div = document.createElement('div');\n",
              "      const label = document.createElement('label');\n",
              "      label.textContent = `Downloading \"${filename}\": `;\n",
              "      div.appendChild(label);\n",
              "      const progress = document.createElement('progress');\n",
              "      progress.max = size;\n",
              "      div.appendChild(progress);\n",
              "      document.body.appendChild(div);\n",
              "\n",
              "      const buffers = [];\n",
              "      let downloaded = 0;\n",
              "\n",
              "      const channel = await google.colab.kernel.comms.open(id);\n",
              "      // Send a message to notify the kernel that we're ready.\n",
              "      channel.send({})\n",
              "\n",
              "      for await (const message of channel.messages) {\n",
              "        // Send a message to notify the kernel that we're ready.\n",
              "        channel.send({})\n",
              "        if (message.buffers) {\n",
              "          for (const buffer of message.buffers) {\n",
              "            buffers.push(buffer);\n",
              "            downloaded += buffer.byteLength;\n",
              "            progress.value = downloaded;\n",
              "          }\n",
              "        }\n",
              "      }\n",
              "      const blob = new Blob(buffers, {type: 'application/binary'});\n",
              "      const a = document.createElement('a');\n",
              "      a.href = window.URL.createObjectURL(blob);\n",
              "      a.download = filename;\n",
              "      div.appendChild(a);\n",
              "      a.click();\n",
              "      div.remove();\n",
              "    }\n",
              "  "
            ],
            "text/plain": [
              "<IPython.core.display.Javascript object>"
            ]
          },
          "metadata": {
            "tags": []
          }
        },
        {
          "output_type": "display_data",
          "data": {
            "application/javascript": [
              "download(\"download_d6fcb5d5-fb15-499d-b0fb-df66b5427dd9\", \"MXfold_PDB_test_hard.prediction\", 3156)"
            ],
            "text/plain": [
              "<IPython.core.display.Javascript object>"
            ]
          },
          "metadata": {
            "tags": []
          }
        }
      ]
    },
    {
      "cell_type": "code",
      "metadata": {
        "id": "V6_c-G9awogI"
      },
      "source": [],
      "execution_count": null,
      "outputs": []
    },
    {
      "cell_type": "code",
      "metadata": {
        "id": "ZgF3-MNUIewh"
      },
      "source": [],
      "execution_count": null,
      "outputs": []
    }
  ]
}