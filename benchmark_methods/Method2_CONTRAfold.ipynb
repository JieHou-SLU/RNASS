{
  "nbformat": 4,
  "nbformat_minor": 0,
  "metadata": {
    "colab": {
      "provenance": []
    },
    "kernelspec": {
      "name": "python3",
      "display_name": "Python 3"
    }
  },
  "cells": [
    {
      "cell_type": "markdown",
      "metadata": {
        "id": "iOz-mF5Ad0pm"
      },
      "source": [
        "**contrafold Website: http://contra.stanford.edu/contrafold/download.html**"
      ]
    },
    {
      "cell_type": "markdown",
      "metadata": {
        "id": "B5nNbosaeIcr"
      },
      "source": [
        "**Step 1: Install tool**"
      ]
    },
    {
      "cell_type": "code",
      "metadata": {
        "colab": {
          "base_uri": "https://localhost:8080/"
        },
        "id": "7UfTFnAehEIo",
        "outputId": "9a73cc7a-c1fd-4c8c-f355-3574bf833383"
      },
      "source": [
        "%cd /content/\n",
        "!rm -rf contrafold*"
      ],
      "execution_count": 1,
      "outputs": [
        {
          "output_type": "stream",
          "name": "stdout",
          "text": [
            "/content\n"
          ]
        }
      ]
    },
    {
      "cell_type": "code",
      "metadata": {
        "colab": {
          "base_uri": "https://localhost:8080/"
        },
        "id": "N7Ckrf_OcihS",
        "outputId": "549808fd-b548-4b01-c96f-b4354b06f45e"
      },
      "source": [
        "%cd /content/\n",
        "!wget http://contra.stanford.edu/contrafold/contrafold_v2_02.tar.gz"
      ],
      "execution_count": 2,
      "outputs": [
        {
          "output_type": "stream",
          "name": "stdout",
          "text": [
            "/content\n",
            "--2024-07-23 05:25:57--  http://contra.stanford.edu/contrafold/contrafold_v2_02.tar.gz\n",
            "Resolving contra.stanford.edu (contra.stanford.edu)... 171.64.68.10\n",
            "Connecting to contra.stanford.edu (contra.stanford.edu)|171.64.68.10|:80... connected.\n",
            "HTTP request sent, awaiting response... 200 OK\n",
            "Length: 2147151 (2.0M) [application/x-gzip]\n",
            "Saving to: ‘contrafold_v2_02.tar.gz’\n",
            "\n",
            "contrafold_v2_02.ta 100%[===================>]   2.05M  4.98MB/s    in 0.4s    \n",
            "\n",
            "2024-07-23 05:25:58 (4.98 MB/s) - ‘contrafold_v2_02.tar.gz’ saved [2147151/2147151]\n",
            "\n"
          ]
        }
      ]
    },
    {
      "cell_type": "code",
      "metadata": {
        "colab": {
          "base_uri": "https://localhost:8080/"
        },
        "id": "OWVeUiftcikF",
        "outputId": "9b3c615a-9961-4f6e-ec5f-63b4037fcde6"
      },
      "source": [
        "\n",
        "!tar -zxvf contrafold_v2_02.tar.gz"
      ],
      "execution_count": 3,
      "outputs": [
        {
          "output_type": "stream",
          "name": "stdout",
          "text": [
            "contrafold/\n",
            "contrafold/src/\n",
            "contrafold/src/Options.hpp\n",
            "contrafold/src/Makefile\n",
            "contrafold/src/contrafold.params.profile\n",
            "contrafold/src/CGLinear.ipp\n",
            "contrafold/src/ComputationEngine.ipp\n",
            "contrafold/src/InnerOptimizationWrapperViterbi.ipp\n",
            "contrafold/src/EncapsulatedPostScript.cpp\n",
            "contrafold/src/LineSearch.ipp\n",
            "contrafold/src/InnerOptimizationWrapper.hpp\n",
            "contrafold/src/CGLinear.hpp\n",
            "contrafold/src/Contrafold.cpp\n",
            "contrafold/src/InnerOptimizationWrapperBundleMethod.hpp\n",
            "contrafold/src/ComputationWrapper.hpp\n",
            "contrafold/src/Config.hpp\n",
            "contrafold/src/ComputationEngine.hpp\n",
            "contrafold/src/SparseMatrix.ipp\n",
            "contrafold/src/ComputationWrapper.ipp\n",
            "contrafold/src/MakeCoords.cpp\n",
            "contrafold/src/OuterOptimizationWrapper.hpp\n",
            "contrafold/src/Options.cpp\n",
            "contrafold/src/SparseMatrix.hpp\n",
            "contrafold/src/SStruct.cpp\n",
            "contrafold/src/ParameterManager.hpp\n",
            "contrafold/src/InnerOptimizationWrapper.ipp\n",
            "contrafold/src/InferenceEngine.ipp\n",
            "contrafold/src/EncapsulatedPostScript.hpp\n",
            "contrafold/src/BundleMethod.hpp\n",
            "contrafold/src/InferenceEngine.hpp\n",
            "contrafold/src/InnerOptimizationWrapperSubgradientMethod.ipp\n",
            "contrafold/src/LBFGS.ipp\n",
            "contrafold/src/SubgradientMethod.hpp\n",
            "contrafold/src/InnerOptimizationWrapperLBFGS.hpp\n",
            "contrafold/src/FileDescription.cpp\n",
            "contrafold/src/BundleMethod.ipp\n",
            "contrafold/src/contrafold.params.noncomplementary\n",
            "contrafold/src/LogSpace.hpp\n",
            "contrafold/src/SubgradientMethod.ipp\n",
            "contrafold/src/OptimizationWrapper.hpp\n",
            "contrafold/src/Utilities.hpp\n",
            "contrafold/src/InnerOptimizationWrapperViterbi.hpp\n",
            "contrafold/src/InnerOptimizationWrapperLBFGS.ipp\n",
            "contrafold/src/Utilities.ipp\n",
            "contrafold/src/CGOptimizationWrapper.hpp\n",
            "contrafold/src/PlotRNA.cpp\n",
            "contrafold/src/SStruct.hpp\n",
            "contrafold/src/score_directory.pl\n",
            "contrafold/src/LBFGS.hpp\n",
            "contrafold/src/OptimizationWrapper.ipp\n",
            "contrafold/src/DistributedComputation.hpp\n",
            "contrafold/src/InnerOptimizationWrapperBundleMethod.ipp\n",
            "contrafold/src/CGOptimizationWrapper.ipp\n",
            "contrafold/src/FileDescription.hpp\n",
            "contrafold/src/ParameterManager.ipp\n",
            "contrafold/src/MakeCoords.hpp\n",
            "contrafold/src/contrafold.params.complementary\n",
            "contrafold/src/ScorePrediction.cpp\n",
            "contrafold/src/MakeDefaults.pl\n",
            "contrafold/src/roc_area.pl\n",
            "contrafold/src/Utilities.cpp\n",
            "contrafold/src/DistributedComputation.ipp\n",
            "contrafold/src/OuterOptimizationWrapper.ipp\n",
            "contrafold/src/LineSearch.hpp\n",
            "contrafold/src/InnerOptimizationWrapperSubgradientMethod.hpp\n",
            "contrafold/doc/\n",
            "contrafold/doc/manual.pdf\n",
            "contrafold/doc/macros.sty\n",
            "contrafold/doc/contrafold.pdf\n",
            "contrafold/doc/logo.jpg\n",
            "contrafold/doc/algorithm2e.sty\n",
            "contrafold/doc/supplementary.pdf\n",
            "contrafold/doc/manual.tex\n",
            "contrafold/doc/supplementary.tex\n"
          ]
        }
      ]
    },
    {
      "cell_type": "code",
      "metadata": {
        "colab": {
          "base_uri": "https://localhost:8080/"
        },
        "id": "q7Ec1Ec2cim5",
        "outputId": "54155e11-839a-4791-8f6b-68da5d586fdd"
      },
      "source": [
        "%cd /content/contrafold"
      ],
      "execution_count": 4,
      "outputs": [
        {
          "output_type": "stream",
          "name": "stdout",
          "text": [
            "/content/contrafold\n"
          ]
        }
      ]
    },
    {
      "cell_type": "code",
      "metadata": {
        "colab": {
          "base_uri": "https://localhost:8080/"
        },
        "id": "3X_KerGBcipY",
        "outputId": "ea42a061-617a-4ad8-860c-d1fa62f731ff"
      },
      "source": [
        "%cd  src"
      ],
      "execution_count": 5,
      "outputs": [
        {
          "output_type": "stream",
          "name": "stdout",
          "text": [
            "/content/contrafold/src\n"
          ]
        }
      ]
    },
    {
      "cell_type": "code",
      "metadata": {
        "colab": {
          "base_uri": "https://localhost:8080/"
        },
        "id": "JlPh0K9Qc2I0",
        "outputId": "e68905c8-7d8f-4360-b149-fb8a0e7fd303"
      },
      "source": [
        "!make clean\n"
      ],
      "execution_count": 6,
      "outputs": [
        {
          "output_type": "stream",
          "name": "stdout",
          "text": [
            "rm -f contrafold make_coords plot_rna score_prediction *.o Defaults.ipp\n"
          ]
        }
      ]
    },
    {
      "cell_type": "code",
      "metadata": {
        "colab": {
          "base_uri": "https://localhost:8080/"
        },
        "id": "LzOZUCQ0eucw",
        "outputId": "7a8ab090-270f-4b84-9073-bc7600babfd5"
      },
      "source": [
        "!head Makefile"
      ],
      "execution_count": 7,
      "outputs": [
        {
          "output_type": "stream",
          "name": "stdout",
          "text": [
            "CXX = g++\n",
            "\n",
            "CXXFLAGS = -O3 -DNDEBUG -W -pipe -Wundef -Winline --param large-function-growth=100000 -Wall\n",
            "LINKFLAGS = -lm\n",
            "GDLINKFLAGS = -lgd -lpng\n",
            "\n",
            "CONTRAFOLD_SRCS = \\\n",
            "\tContrafold.cpp \\\n",
            "\tFileDescription.cpp \\\n",
            "\tOptions.cpp \\\n"
          ]
        }
      ]
    },
    {
      "cell_type": "code",
      "metadata": {
        "id": "Kj6BRLD_fGpX"
      },
      "source": [
        "!cp Makefile tmp\n",
        "\n",
        "lines=open('tmp').readlines()\n",
        "with open('Makefile',\"w\") as newFasta:\n",
        "  for i in range(0,len(lines)):\n",
        "    line = lines[i]\n",
        "    if line[0:len('CXXFLAGS')] == 'CXXFLAGS':\n",
        "      header = 'CXXFLAGS = -O3 -DNDEBUG -W -pipe -Wundef -Winline --param large-function-growth=100000 -Wall -fpermissive' + \"\\n\"\n",
        "    else:\n",
        "      header = line\n",
        "    newFasta.write(header)\n",
        "newFasta.close()"
      ],
      "execution_count": 8,
      "outputs": []
    },
    {
      "cell_type": "code",
      "metadata": {
        "id": "ArofcIMWhrR1"
      },
      "source": [
        "!cp Utilities.hpp Utilities_old.hpp\n",
        "\n",
        "lines=open('Utilities_old.hpp').readlines()\n",
        "with open('Utilities.hpp',\"w\") as newFasta:\n",
        "  for i in range(0,len(lines)):\n",
        "    line = lines[i]\n",
        "    if line[0:len('#include <cmath>')] == '#include <cmath>':\n",
        "      header = '#include <cmath>\\n#include <limits.h>\\n'\n",
        "    else:\n",
        "      header = line\n",
        "    newFasta.write(header)\n",
        "newFasta.close()"
      ],
      "execution_count": 9,
      "outputs": []
    },
    {
      "cell_type": "code",
      "metadata": {
        "colab": {
          "base_uri": "https://localhost:8080/"
        },
        "id": "W5-8JxAOjsR-",
        "outputId": "e9c6418e-aaf6-4004-894e-959384897b6d"
      },
      "source": [
        "!head -n 20  Utilities.hpp\n"
      ],
      "execution_count": 10,
      "outputs": [
        {
          "output_type": "stream",
          "name": "stdout",
          "text": [
            "//////////////////////////////////////////////////////////////////////\n",
            "// Utilities.hpp\n",
            "//////////////////////////////////////////////////////////////////////\n",
            "\n",
            "#ifndef UTILITIES_HPP\n",
            "#define UTILITIES_HPP\n",
            "\n",
            "#include <algorithm>\n",
            "#include <cerrno>\n",
            "#include <cmath>\n",
            "#include <limits.h>\n",
            "#include <cstdarg>\n",
            "#include <cstdio>\n",
            "#include <cstdlib>\n",
            "#include <cstring>\n",
            "#include <fstream>\n",
            "#include <iomanip>\n",
            "#include <iostream>\n",
            "#include <numeric>\n",
            "#include <map>\n"
          ]
        }
      ]
    },
    {
      "cell_type": "code",
      "metadata": {
        "id": "BMyXk8R-gsl6"
      },
      "source": [
        "!chmod 755 Makefile"
      ],
      "execution_count": 11,
      "outputs": []
    },
    {
      "cell_type": "code",
      "metadata": {
        "colab": {
          "base_uri": "https://localhost:8080/"
        },
        "id": "jBUoYOqNc2LK",
        "outputId": "b7eea4d1-fcd8-476c-9798-4ca731043b89"
      },
      "source": [
        "# if error, refer to https://github.com/zavolanlab/MIRZAG/blob/master/docs/installation.rst\n",
        "!make"
      ],
      "execution_count": 12,
      "outputs": [
        {
          "output_type": "stream",
          "name": "stdout",
          "text": [
            "perl MakeDefaults.pl contrafold.params.complementary contrafold.params.noncomplementary contrafold.params.profile\n",
            "g++ -O3 -DNDEBUG -W -pipe -Wundef -Winline --param large-function-growth=100000 -Wall -fpermissive  -c Contrafold.cpp\n",
            "In file included from \u001b[01m\u001b[KInferenceEngine.hpp:299\u001b[m\u001b[K,\n",
            "                 from \u001b[01m\u001b[KComputationEngine.hpp:17\u001b[m\u001b[K,\n",
            "                 from \u001b[01m\u001b[KComputationWrapper.hpp:13\u001b[m\u001b[K,\n",
            "                 from \u001b[01m\u001b[KContrafold.cpp:12\u001b[m\u001b[K:\n",
            "\u001b[01m\u001b[KInferenceEngine.ipp:\u001b[m\u001b[K In member function ‘\u001b[01m\u001b[Kvoid InferenceEngine<RealT>::ComputeViterbi()\u001b[m\u001b[K’:\n",
            "\u001b[01m\u001b[KInferenceEngine.ipp:2423:34:\u001b[m\u001b[K \u001b[01;35m\u001b[Kwarning: \u001b[m\u001b[KISO C++17 does not allow ‘\u001b[01m\u001b[Kregister\u001b[m\u001b[K’ storage class specifier [\u001b[01;35m\u001b[K\u001b]8;;https://gcc.gnu.org/onlinedocs/gcc/Warning-Options.html#index-Wregister\u0007-Wregister\u001b]8;;\u0007\u001b[m\u001b[K]\n",
            " 2423 |             for (register size_t \u001b[01;35m\u001b[Kkp\u001b[m\u001b[K = 0; kp < candidates.size(); kp++)\n",
            "      |                                  \u001b[01;35m\u001b[K^~\u001b[m\u001b[K\n",
            "\u001b[01m\u001b[KInferenceEngine.ipp:2425:36:\u001b[m\u001b[K \u001b[01;35m\u001b[Kwarning: \u001b[m\u001b[KISO C++17 does not allow ‘\u001b[01m\u001b[Kregister\u001b[m\u001b[K’ storage class specifier [\u001b[01;35m\u001b[K\u001b]8;;https://gcc.gnu.org/onlinedocs/gcc/Warning-Options.html#index-Wregister\u0007-Wregister\u001b]8;;\u0007\u001b[m\u001b[K]\n",
            " 2425 |                 register const int \u001b[01;35m\u001b[Kk\u001b[m\u001b[K = candidates[kp];\n",
            "      |                                    \u001b[01;35m\u001b[K^\u001b[m\u001b[K\n",
            "\u001b[01m\u001b[KInferenceEngine.ipp:\u001b[m\u001b[K In member function ‘\u001b[01m\u001b[Kvoid InferenceEngine<RealT>::ComputeInside()\u001b[m\u001b[K’:\n",
            "\u001b[01m\u001b[KInferenceEngine.ipp:3220:35:\u001b[m\u001b[K \u001b[01;35m\u001b[Kwarning: \u001b[m\u001b[KISO C++17 does not allow ‘\u001b[01m\u001b[Kregister\u001b[m\u001b[K’ storage class specifier [\u001b[01;35m\u001b[K\u001b]8;;https://gcc.gnu.org/onlinedocs/gcc/Warning-Options.html#index-Wregister\u0007-Wregister\u001b]8;;\u0007\u001b[m\u001b[K]\n",
            " 3220 |                 for (register int \u001b[01;35m\u001b[Kk\u001b[m\u001b[K = i+1; k < j; k++)\n",
            "      |                                   \u001b[01;35m\u001b[K^\u001b[m\u001b[K\n",
            "\u001b[01m\u001b[KInferenceEngine.ipp:\u001b[m\u001b[K In member function ‘\u001b[01m\u001b[Kvoid InferenceEngine<RealT>::ComputeOutside()\u001b[m\u001b[K’:\n",
            "\u001b[01m\u001b[KInferenceEngine.ipp:3866:35:\u001b[m\u001b[K \u001b[01;35m\u001b[Kwarning: \u001b[m\u001b[KISO C++17 does not allow ‘\u001b[01m\u001b[Kregister\u001b[m\u001b[K’ storage class specifier [\u001b[01;35m\u001b[K\u001b]8;;https://gcc.gnu.org/onlinedocs/gcc/Warning-Options.html#index-Wregister\u0007-Wregister\u001b]8;;\u0007\u001b[m\u001b[K]\n",
            " 3866 |                 for (register int \u001b[01;35m\u001b[Kk\u001b[m\u001b[K = i+1; k < j; k++)\n",
            "      |                                   \u001b[01;35m\u001b[K^\u001b[m\u001b[K\n",
            "\u001b[01m\u001b[KInferenceEngine.ipp:\u001b[m\u001b[K In member function ‘\u001b[01m\u001b[Kstd::vector<_Tp> InferenceEngine<RealT>::ComputeFeatureCountExpectations()\u001b[m\u001b[K’:\n",
            "\u001b[01m\u001b[KInferenceEngine.ipp:3941:35:\u001b[m\u001b[K \u001b[01;35m\u001b[Kwarning: \u001b[m\u001b[KISO C++17 does not allow ‘\u001b[01m\u001b[Kregister\u001b[m\u001b[K’ storage class specifier [\u001b[01;35m\u001b[K\u001b]8;;https://gcc.gnu.org/onlinedocs/gcc/Warning-Options.html#index-Wregister\u0007-Wregister\u001b]8;;\u0007\u001b[m\u001b[K]\n",
            " 3941 |                 for (register int \u001b[01;35m\u001b[Kk\u001b[m\u001b[K = i+1; k < j; k++)\n",
            "      |                                   \u001b[01;35m\u001b[K^\u001b[m\u001b[K\n",
            "\u001b[01m\u001b[KInferenceEngine.ipp:\u001b[m\u001b[K In member function ‘\u001b[01m\u001b[Kvoid InferenceEngine<RealT>::ComputePosterior()\u001b[m\u001b[K’:\n",
            "\u001b[01m\u001b[KInferenceEngine.ipp:4323:35:\u001b[m\u001b[K \u001b[01;35m\u001b[Kwarning: \u001b[m\u001b[KISO C++17 does not allow ‘\u001b[01m\u001b[Kregister\u001b[m\u001b[K’ storage class specifier [\u001b[01;35m\u001b[K\u001b]8;;https://gcc.gnu.org/onlinedocs/gcc/Warning-Options.html#index-Wregister\u0007-Wregister\u001b]8;;\u0007\u001b[m\u001b[K]\n",
            " 4323 |                 for (register int \u001b[01;35m\u001b[Kk\u001b[m\u001b[K = i+1; k < j; k++)\n",
            "      |                                   \u001b[01;35m\u001b[K^\u001b[m\u001b[K\n",
            "\u001b[01m\u001b[KInferenceEngine.ipp:\u001b[m\u001b[K In member function ‘\u001b[01m\u001b[Kstd::vector<int> InferenceEngine<RealT>::PredictPairingsPosterior(RealT) const\u001b[m\u001b[K’:\n",
            "\u001b[01m\u001b[KInferenceEngine.ipp:4683:39:\u001b[m\u001b[K \u001b[01;35m\u001b[Kwarning: \u001b[m\u001b[KISO C++17 does not allow ‘\u001b[01m\u001b[Kregister\u001b[m\u001b[K’ storage class specifier [\u001b[01;35m\u001b[K\u001b]8;;https://gcc.gnu.org/onlinedocs/gcc/Warning-Options.html#index-Wregister\u0007-Wregister\u001b]8;;\u0007\u001b[m\u001b[K]\n",
            " 4683 |                     for (register int \u001b[01;35m\u001b[Kk\u001b[m\u001b[K = i+1; k < j; k++)\n",
            "      |                                       \u001b[01;35m\u001b[K^\u001b[m\u001b[K\n",
            "In file included from \u001b[01m\u001b[KLBFGS.hpp:52\u001b[m\u001b[K,\n",
            "                 from \u001b[01m\u001b[KInnerOptimizationWrapper.hpp:12\u001b[m\u001b[K,\n",
            "                 from \u001b[01m\u001b[KOptimizationWrapper.hpp:12\u001b[m\u001b[K,\n",
            "                 from \u001b[01m\u001b[KContrafold.cpp:16\u001b[m\u001b[K:\n",
            "LBFGS.ipp: In instantiation of ‘\u001b[01m\u001b[KReal LBFGS<Real>::Minimize(std::vector<_Tp>&) [with Real = double]\u001b[m\u001b[K’:\n",
            "\u001b[01m\u001b[KOptimizationWrapper.ipp:260:44:\u001b[m\u001b[K   required from ‘\u001b[01m\u001b[Kvoid OptimizationWrapper<RealT>::LearnHyperparameters(std::vector<int>, std::vector<_Tp>&) [with RealT = double]\u001b[m\u001b[K’\n",
            "\u001b[01m\u001b[KContrafold.cpp:451:50:\u001b[m\u001b[K   required from ‘\u001b[01m\u001b[Kvoid RunTrainingMode(const Options&, const std::vector<FileDescription>&) [with RealT = double]\u001b[m\u001b[K’\n",
            "\u001b[01m\u001b[KContrafold.cpp:68:32:\u001b[m\u001b[K   required from here\n",
            "\u001b[01m\u001b[KLBFGS.ipp:110:33:\u001b[m\u001b[K \u001b[01;35m\u001b[Kwarning: \u001b[m\u001b[K‘\u001b[01m\u001b[KDoLineSearch\u001b[m\u001b[K’ was not declared in this scope, and no declarations were found by argument-dependent lookup at the point of instantiation [\u001b[01;35m\u001b[K\u001b]8;;https://gcc.gnu.org/onlinedocs/gcc/Warning-Options.html#index-fpermissive\u0007-fpermissive\u001b]8;;\u0007\u001b[m\u001b[K]\n",
            "  110 |         Real step = \u001b[01;35m\u001b[KDoLineSearch(x[k%2], f[k%2], g[k%2], d,\u001b[m\u001b[K\n",
            "      |                     \u001b[01;35m\u001b[K~~~~~~~~~~~~^~~~~~~~~~~~~~~~~~~~~~~~~~~\u001b[m\u001b[K\n",
            "  111 | \u001b[01;35m\u001b[K                                 x[(k+1)%2], f[(k+1)%2], g[(k+1)%2],\u001b[m\u001b[K\n",
            "      |                                  \u001b[01;35m\u001b[K~~~~~~~~~~~~~~~~~~~~~~~~~~~~~~~~~~~\u001b[m\u001b[K\n",
            "  112 | \u001b[01;35m\u001b[K                                 Real(0), std::min(Real(10), MAX_STEP_NORM / std::max(Real(1), Norm(d))))\u001b[m\u001b[K;\n",
            "      |                                  \u001b[01;35m\u001b[K~~~~~~~~~~~~~~~~~~~~~~~~~~~~~~~~~~~~~~~~~~~~~~~~~~~~~~~~~~~~~~~~~~~~~~~~\u001b[m\u001b[K\n",
            "\u001b[01m\u001b[KLBFGS.ipp:110:33:\u001b[m\u001b[K \u001b[01;36m\u001b[Knote: \u001b[m\u001b[Kdeclarations in dependent base ‘\u001b[01m\u001b[KLineSearch<double>\u001b[m\u001b[K’ are not found by unqualified lookup\n",
            "\u001b[01m\u001b[KLBFGS.ipp:110:33:\u001b[m\u001b[K \u001b[01;36m\u001b[Knote: \u001b[m\u001b[Kuse ‘\u001b[01m\u001b[Kthis->DoLineSearch\u001b[m\u001b[K’ instead\n",
            "In file included from \u001b[01m\u001b[KInferenceEngine.hpp:299\u001b[m\u001b[K,\n",
            "                 from \u001b[01m\u001b[KComputationEngine.hpp:17\u001b[m\u001b[K,\n",
            "                 from \u001b[01m\u001b[KComputationWrapper.hpp:13\u001b[m\u001b[K,\n",
            "                 from \u001b[01m\u001b[KContrafold.cpp:12\u001b[m\u001b[K:\n",
            "InferenceEngine.ipp: In instantiation of ‘\u001b[01m\u001b[Kvoid InferenceEngine<RealT>::ComputeViterbi() [with RealT = float]\u001b[m\u001b[K’:\n",
            "\u001b[01m\u001b[KComputationEngine.ipp:93:36:\u001b[m\u001b[K   required from ‘\u001b[01m\u001b[Kvoid ComputationEngine<RealT>::CheckParsability(std::vector<_Tp>&, const NonSharedInfo&) [with RealT = float]\u001b[m\u001b[K’\n",
            "\u001b[01m\u001b[KComputationEngine.ipp:45:13:\u001b[m\u001b[K   required from ‘\u001b[01m\u001b[Kvoid ComputationEngine<RealT>::DoComputation(std::vector<_Tp>&, const SharedInfo<RealT>&, const NonSharedInfo&) [with RealT = float]\u001b[m\u001b[K’\n",
            "\u001b[01m\u001b[KComputationEngine.ipp:38:6:\u001b[m\u001b[K   required from here\n",
            "\u001b[01m\u001b[KInferenceEngine.ipp:2423:34:\u001b[m\u001b[K \u001b[01;35m\u001b[Kwarning: \u001b[m\u001b[KISO C++17 does not allow ‘\u001b[01m\u001b[Kregister\u001b[m\u001b[K’ storage class specifier [\u001b[01;35m\u001b[K\u001b]8;;https://gcc.gnu.org/onlinedocs/gcc/Warning-Options.html#index-Wregister\u0007-Wregister\u001b]8;;\u0007\u001b[m\u001b[K]\n",
            " 2423 |             for (register size_t \u001b[01;35m\u001b[Kkp\u001b[m\u001b[K = 0; kp < candidates.size(); kp++)\n",
            "      |                                  \u001b[01;35m\u001b[K^~\u001b[m\u001b[K\n",
            "\u001b[01m\u001b[KInferenceEngine.ipp:2425:36:\u001b[m\u001b[K \u001b[01;35m\u001b[Kwarning: \u001b[m\u001b[KISO C++17 does not allow ‘\u001b[01m\u001b[Kregister\u001b[m\u001b[K’ storage class specifier [\u001b[01;35m\u001b[K\u001b]8;;https://gcc.gnu.org/onlinedocs/gcc/Warning-Options.html#index-Wregister\u0007-Wregister\u001b]8;;\u0007\u001b[m\u001b[K]\n",
            " 2425 |                 register const int \u001b[01;35m\u001b[Kk\u001b[m\u001b[K = candidates[kp];\n",
            "      |                                    \u001b[01;35m\u001b[K^\u001b[m\u001b[K\n",
            "InferenceEngine.ipp: In instantiation of ‘\u001b[01m\u001b[Kvoid InferenceEngine<RealT>::ComputeInside() [with RealT = float]\u001b[m\u001b[K’:\n",
            "\u001b[01m\u001b[KComputationEngine.ipp:129:39:\u001b[m\u001b[K   required from ‘\u001b[01m\u001b[Kvoid ComputationEngine<RealT>::ComputeSolutionNormBound(std::vector<_Tp>&, const SharedInfo<RealT>&, const NonSharedInfo&) [with RealT = float]\u001b[m\u001b[K’\n",
            "\u001b[01m\u001b[KComputationEngine.ipp:48:13:\u001b[m\u001b[K   required from ‘\u001b[01m\u001b[Kvoid ComputationEngine<RealT>::DoComputation(std::vector<_Tp>&, const SharedInfo<RealT>&, const NonSharedInfo&) [with RealT = float]\u001b[m\u001b[K’\n",
            "\u001b[01m\u001b[KComputationEngine.ipp:38:6:\u001b[m\u001b[K   required from here\n",
            "\u001b[01m\u001b[KInferenceEngine.ipp:3220:35:\u001b[m\u001b[K \u001b[01;35m\u001b[Kwarning: \u001b[m\u001b[KISO C++17 does not allow ‘\u001b[01m\u001b[Kregister\u001b[m\u001b[K’ storage class specifier [\u001b[01;35m\u001b[K\u001b]8;;https://gcc.gnu.org/onlinedocs/gcc/Warning-Options.html#index-Wregister\u0007-Wregister\u001b]8;;\u0007\u001b[m\u001b[K]\n",
            " 3220 |                 for (register int \u001b[01;35m\u001b[Kk\u001b[m\u001b[K = i+1; k < j; k++)\n",
            "      |                                   \u001b[01;35m\u001b[K^\u001b[m\u001b[K\n",
            "InferenceEngine.ipp: In instantiation of ‘\u001b[01m\u001b[Kvoid InferenceEngine<RealT>::ComputeOutside() [with RealT = float]\u001b[m\u001b[K’:\n",
            "\u001b[01m\u001b[KComputationEngine.ipp:205:40:\u001b[m\u001b[K   required from ‘\u001b[01m\u001b[Kvoid ComputationEngine<RealT>::ComputeLoss(std::vector<_Tp>&, const SharedInfo<RealT>&, const NonSharedInfo&) [with RealT = float]\u001b[m\u001b[K’\n",
            "\u001b[01m\u001b[KComputationEngine.ipp:54:13:\u001b[m\u001b[K   required from ‘\u001b[01m\u001b[Kvoid ComputationEngine<RealT>::DoComputation(std::vector<_Tp>&, const SharedInfo<RealT>&, const NonSharedInfo&) [with RealT = float]\u001b[m\u001b[K’\n",
            "\u001b[01m\u001b[KComputationEngine.ipp:38:6:\u001b[m\u001b[K   required from here\n",
            "\u001b[01m\u001b[KInferenceEngine.ipp:3866:35:\u001b[m\u001b[K \u001b[01;35m\u001b[Kwarning: \u001b[m\u001b[KISO C++17 does not allow ‘\u001b[01m\u001b[Kregister\u001b[m\u001b[K’ storage class specifier [\u001b[01;35m\u001b[K\u001b]8;;https://gcc.gnu.org/onlinedocs/gcc/Warning-Options.html#index-Wregister\u0007-Wregister\u001b]8;;\u0007\u001b[m\u001b[K]\n",
            " 3866 |                 for (register int \u001b[01;35m\u001b[Kk\u001b[m\u001b[K = i+1; k < j; k++)\n",
            "      |                                   \u001b[01;35m\u001b[K^\u001b[m\u001b[K\n",
            "InferenceEngine.ipp: In instantiation of ‘\u001b[01m\u001b[Kvoid InferenceEngine<RealT>::ComputePosterior() [with RealT = float]\u001b[m\u001b[K’:\n",
            "\u001b[01m\u001b[KComputationEngine.ipp:206:42:\u001b[m\u001b[K   required from ‘\u001b[01m\u001b[Kvoid ComputationEngine<RealT>::ComputeLoss(std::vector<_Tp>&, const SharedInfo<RealT>&, const NonSharedInfo&) [with RealT = float]\u001b[m\u001b[K’\n",
            "\u001b[01m\u001b[KComputationEngine.ipp:54:13:\u001b[m\u001b[K   required from ‘\u001b[01m\u001b[Kvoid ComputationEngine<RealT>::DoComputation(std::vector<_Tp>&, const SharedInfo<RealT>&, const NonSharedInfo&) [with RealT = float]\u001b[m\u001b[K’\n",
            "\u001b[01m\u001b[KComputationEngine.ipp:38:6:\u001b[m\u001b[K   required from here\n",
            "\u001b[01m\u001b[KInferenceEngine.ipp:4323:35:\u001b[m\u001b[K \u001b[01;35m\u001b[Kwarning: \u001b[m\u001b[KISO C++17 does not allow ‘\u001b[01m\u001b[Kregister\u001b[m\u001b[K’ storage class specifier [\u001b[01;35m\u001b[K\u001b]8;;https://gcc.gnu.org/onlinedocs/gcc/Warning-Options.html#index-Wregister\u0007-Wregister\u001b]8;;\u0007\u001b[m\u001b[K]\n",
            " 4323 |                 for (register int \u001b[01;35m\u001b[Kk\u001b[m\u001b[K = i+1; k < j; k++)\n",
            "      |                                   \u001b[01;35m\u001b[K^\u001b[m\u001b[K\n",
            "InferenceEngine.ipp: In instantiation of ‘\u001b[01m\u001b[Kstd::vector<int> InferenceEngine<RealT>::PredictPairingsPosterior(RealT) const [with RealT = float]\u001b[m\u001b[K’:\n",
            "\u001b[01m\u001b[KComputationEngine.ipp:208:71:\u001b[m\u001b[K   required from ‘\u001b[01m\u001b[Kvoid ComputationEngine<RealT>::ComputeLoss(std::vector<_Tp>&, const SharedInfo<RealT>&, const NonSharedInfo&) [with RealT = float]\u001b[m\u001b[K’\n",
            "\u001b[01m\u001b[KComputationEngine.ipp:54:13:\u001b[m\u001b[K   required from ‘\u001b[01m\u001b[Kvoid ComputationEngine<RealT>::DoComputation(std::vector<_Tp>&, const SharedInfo<RealT>&, const NonSharedInfo&) [with RealT = float]\u001b[m\u001b[K’\n",
            "\u001b[01m\u001b[KComputationEngine.ipp:38:6:\u001b[m\u001b[K   required from here\n",
            "\u001b[01m\u001b[KInferenceEngine.ipp:4683:39:\u001b[m\u001b[K \u001b[01;35m\u001b[Kwarning: \u001b[m\u001b[KISO C++17 does not allow ‘\u001b[01m\u001b[Kregister\u001b[m\u001b[K’ storage class specifier [\u001b[01;35m\u001b[K\u001b]8;;https://gcc.gnu.org/onlinedocs/gcc/Warning-Options.html#index-Wregister\u0007-Wregister\u001b]8;;\u0007\u001b[m\u001b[K]\n",
            " 4683 |                     for (register int \u001b[01;35m\u001b[Kk\u001b[m\u001b[K = i+1; k < j; k++)\n",
            "      |                                       \u001b[01;35m\u001b[K^\u001b[m\u001b[K\n",
            "InferenceEngine.ipp: In instantiation of ‘\u001b[01m\u001b[Kstd::vector<_Tp> InferenceEngine<RealT>::ComputeFeatureCountExpectations() [with RealT = float]\u001b[m\u001b[K’:\n",
            "\u001b[01m\u001b[KComputationEngine.ipp:269:84:\u001b[m\u001b[K   required from ‘\u001b[01m\u001b[Kvoid ComputationEngine<RealT>::ComputeFunctionAndGradient(std::vector<_Tp>&, const SharedInfo<RealT>&, const NonSharedInfo&, bool) [with RealT = float]\u001b[m\u001b[K’\n",
            "\u001b[01m\u001b[KComputationEngine.ipp:57:13:\u001b[m\u001b[K   required from ‘\u001b[01m\u001b[Kvoid ComputationEngine<RealT>::DoComputation(std::vector<_Tp>&, const SharedInfo<RealT>&, const NonSharedInfo&) [with RealT = float]\u001b[m\u001b[K’\n",
            "\u001b[01m\u001b[KComputationEngine.ipp:38:6:\u001b[m\u001b[K   required from here\n",
            "\u001b[01m\u001b[KInferenceEngine.ipp:3941:35:\u001b[m\u001b[K \u001b[01;35m\u001b[Kwarning: \u001b[m\u001b[KISO C++17 does not allow ‘\u001b[01m\u001b[Kregister\u001b[m\u001b[K’ storage class specifier [\u001b[01;35m\u001b[K\u001b]8;;https://gcc.gnu.org/onlinedocs/gcc/Warning-Options.html#index-Wregister\u0007-Wregister\u001b]8;;\u0007\u001b[m\u001b[K]\n",
            " 3941 |                 for (register int \u001b[01;35m\u001b[Kk\u001b[m\u001b[K = i+1; k < j; k++)\n",
            "      |                                   \u001b[01;35m\u001b[K^\u001b[m\u001b[K\n",
            "InferenceEngine.ipp: In instantiation of ‘\u001b[01m\u001b[Kvoid InferenceEngine<RealT>::ComputeViterbi() [with RealT = double]\u001b[m\u001b[K’:\n",
            "\u001b[01m\u001b[KComputationEngine.ipp:93:36:\u001b[m\u001b[K   required from ‘\u001b[01m\u001b[Kvoid ComputationEngine<RealT>::CheckParsability(std::vector<_Tp>&, const NonSharedInfo&) [with RealT = double]\u001b[m\u001b[K’\n",
            "\u001b[01m\u001b[KComputationEngine.ipp:45:13:\u001b[m\u001b[K   required from ‘\u001b[01m\u001b[Kvoid ComputationEngine<RealT>::DoComputation(std::vector<_Tp>&, const SharedInfo<RealT>&, const NonSharedInfo&) [with RealT = double]\u001b[m\u001b[K’\n",
            "\u001b[01m\u001b[KComputationEngine.ipp:38:6:\u001b[m\u001b[K   required from here\n",
            "\u001b[01m\u001b[KInferenceEngine.ipp:2423:34:\u001b[m\u001b[K \u001b[01;35m\u001b[Kwarning: \u001b[m\u001b[KISO C++17 does not allow ‘\u001b[01m\u001b[Kregister\u001b[m\u001b[K’ storage class specifier [\u001b[01;35m\u001b[K\u001b]8;;https://gcc.gnu.org/onlinedocs/gcc/Warning-Options.html#index-Wregister\u0007-Wregister\u001b]8;;\u0007\u001b[m\u001b[K]\n",
            " 2423 |             for (register size_t \u001b[01;35m\u001b[Kkp\u001b[m\u001b[K = 0; kp < candidates.size(); kp++)\n",
            "      |                                  \u001b[01;35m\u001b[K^~\u001b[m\u001b[K\n",
            "\u001b[01m\u001b[KInferenceEngine.ipp:2425:36:\u001b[m\u001b[K \u001b[01;35m\u001b[Kwarning: \u001b[m\u001b[KISO C++17 does not allow ‘\u001b[01m\u001b[Kregister\u001b[m\u001b[K’ storage class specifier [\u001b[01;35m\u001b[K\u001b]8;;https://gcc.gnu.org/onlinedocs/gcc/Warning-Options.html#index-Wregister\u0007-Wregister\u001b]8;;\u0007\u001b[m\u001b[K]\n",
            " 2425 |                 register const int \u001b[01;35m\u001b[Kk\u001b[m\u001b[K = candidates[kp];\n",
            "      |                                    \u001b[01;35m\u001b[K^\u001b[m\u001b[K\n",
            "InferenceEngine.ipp: In instantiation of ‘\u001b[01m\u001b[Kvoid InferenceEngine<RealT>::ComputeInside() [with RealT = double]\u001b[m\u001b[K’:\n",
            "\u001b[01m\u001b[KComputationEngine.ipp:129:39:\u001b[m\u001b[K   required from ‘\u001b[01m\u001b[Kvoid ComputationEngine<RealT>::ComputeSolutionNormBound(std::vector<_Tp>&, const SharedInfo<RealT>&, const NonSharedInfo&) [with RealT = double]\u001b[m\u001b[K’\n",
            "\u001b[01m\u001b[KComputationEngine.ipp:48:13:\u001b[m\u001b[K   required from ‘\u001b[01m\u001b[Kvoid ComputationEngine<RealT>::DoComputation(std::vector<_Tp>&, const SharedInfo<RealT>&, const NonSharedInfo&) [with RealT = double]\u001b[m\u001b[K’\n",
            "\u001b[01m\u001b[KComputationEngine.ipp:38:6:\u001b[m\u001b[K   required from here\n",
            "\u001b[01m\u001b[KInferenceEngine.ipp:3220:35:\u001b[m\u001b[K \u001b[01;35m\u001b[Kwarning: \u001b[m\u001b[KISO C++17 does not allow ‘\u001b[01m\u001b[Kregister\u001b[m\u001b[K’ storage class specifier [\u001b[01;35m\u001b[K\u001b]8;;https://gcc.gnu.org/onlinedocs/gcc/Warning-Options.html#index-Wregister\u0007-Wregister\u001b]8;;\u0007\u001b[m\u001b[K]\n",
            " 3220 |                 for (register int \u001b[01;35m\u001b[Kk\u001b[m\u001b[K = i+1; k < j; k++)\n",
            "      |                                   \u001b[01;35m\u001b[K^\u001b[m\u001b[K\n",
            "InferenceEngine.ipp: In instantiation of ‘\u001b[01m\u001b[Kvoid InferenceEngine<RealT>::ComputeOutside() [with RealT = double]\u001b[m\u001b[K’:\n",
            "\u001b[01m\u001b[KComputationEngine.ipp:205:40:\u001b[m\u001b[K   required from ‘\u001b[01m\u001b[Kvoid ComputationEngine<RealT>::ComputeLoss(std::vector<_Tp>&, const SharedInfo<RealT>&, const NonSharedInfo&) [with RealT = double]\u001b[m\u001b[K’\n",
            "\u001b[01m\u001b[KComputationEngine.ipp:54:13:\u001b[m\u001b[K   required from ‘\u001b[01m\u001b[Kvoid ComputationEngine<RealT>::DoComputation(std::vector<_Tp>&, const SharedInfo<RealT>&, const NonSharedInfo&) [with RealT = double]\u001b[m\u001b[K’\n",
            "\u001b[01m\u001b[KComputationEngine.ipp:38:6:\u001b[m\u001b[K   required from here\n",
            "\u001b[01m\u001b[KInferenceEngine.ipp:3866:35:\u001b[m\u001b[K \u001b[01;35m\u001b[Kwarning: \u001b[m\u001b[KISO C++17 does not allow ‘\u001b[01m\u001b[Kregister\u001b[m\u001b[K’ storage class specifier [\u001b[01;35m\u001b[K\u001b]8;;https://gcc.gnu.org/onlinedocs/gcc/Warning-Options.html#index-Wregister\u0007-Wregister\u001b]8;;\u0007\u001b[m\u001b[K]\n",
            " 3866 |                 for (register int \u001b[01;35m\u001b[Kk\u001b[m\u001b[K = i+1; k < j; k++)\n",
            "      |                                   \u001b[01;35m\u001b[K^\u001b[m\u001b[K\n",
            "InferenceEngine.ipp: In instantiation of ‘\u001b[01m\u001b[Kvoid InferenceEngine<RealT>::ComputePosterior() [with RealT = double]\u001b[m\u001b[K’:\n",
            "\u001b[01m\u001b[KComputationEngine.ipp:206:42:\u001b[m\u001b[K   required from ‘\u001b[01m\u001b[Kvoid ComputationEngine<RealT>::ComputeLoss(std::vector<_Tp>&, const SharedInfo<RealT>&, const NonSharedInfo&) [with RealT = double]\u001b[m\u001b[K’\n",
            "\u001b[01m\u001b[KComputationEngine.ipp:54:13:\u001b[m\u001b[K   required from ‘\u001b[01m\u001b[Kvoid ComputationEngine<RealT>::DoComputation(std::vector<_Tp>&, const SharedInfo<RealT>&, const NonSharedInfo&) [with RealT = double]\u001b[m\u001b[K’\n",
            "\u001b[01m\u001b[KComputationEngine.ipp:38:6:\u001b[m\u001b[K   required from here\n",
            "\u001b[01m\u001b[KInferenceEngine.ipp:4323:35:\u001b[m\u001b[K \u001b[01;35m\u001b[Kwarning: \u001b[m\u001b[KISO C++17 does not allow ‘\u001b[01m\u001b[Kregister\u001b[m\u001b[K’ storage class specifier [\u001b[01;35m\u001b[K\u001b]8;;https://gcc.gnu.org/onlinedocs/gcc/Warning-Options.html#index-Wregister\u0007-Wregister\u001b]8;;\u0007\u001b[m\u001b[K]\n",
            " 4323 |                 for (register int \u001b[01;35m\u001b[Kk\u001b[m\u001b[K = i+1; k < j; k++)\n",
            "      |                                   \u001b[01;35m\u001b[K^\u001b[m\u001b[K\n",
            "InferenceEngine.ipp: In instantiation of ‘\u001b[01m\u001b[Kstd::vector<int> InferenceEngine<RealT>::PredictPairingsPosterior(RealT) const [with RealT = double]\u001b[m\u001b[K’:\n",
            "\u001b[01m\u001b[KComputationEngine.ipp:208:71:\u001b[m\u001b[K   required from ‘\u001b[01m\u001b[Kvoid ComputationEngine<RealT>::ComputeLoss(std::vector<_Tp>&, const SharedInfo<RealT>&, const NonSharedInfo&) [with RealT = double]\u001b[m\u001b[K’\n",
            "\u001b[01m\u001b[KComputationEngine.ipp:54:13:\u001b[m\u001b[K   required from ‘\u001b[01m\u001b[Kvoid ComputationEngine<RealT>::DoComputation(std::vector<_Tp>&, const SharedInfo<RealT>&, const NonSharedInfo&) [with RealT = double]\u001b[m\u001b[K’\n",
            "\u001b[01m\u001b[KComputationEngine.ipp:38:6:\u001b[m\u001b[K   required from here\n",
            "\u001b[01m\u001b[KInferenceEngine.ipp:4683:39:\u001b[m\u001b[K \u001b[01;35m\u001b[Kwarning: \u001b[m\u001b[KISO C++17 does not allow ‘\u001b[01m\u001b[Kregister\u001b[m\u001b[K’ storage class specifier [\u001b[01;35m\u001b[K\u001b]8;;https://gcc.gnu.org/onlinedocs/gcc/Warning-Options.html#index-Wregister\u0007-Wregister\u001b]8;;\u0007\u001b[m\u001b[K]\n",
            " 4683 |                     for (register int \u001b[01;35m\u001b[Kk\u001b[m\u001b[K = i+1; k < j; k++)\n",
            "      |                                       \u001b[01;35m\u001b[K^\u001b[m\u001b[K\n",
            "InferenceEngine.ipp: In instantiation of ‘\u001b[01m\u001b[Kstd::vector<_Tp> InferenceEngine<RealT>::ComputeFeatureCountExpectations() [with RealT = double]\u001b[m\u001b[K’:\n",
            "\u001b[01m\u001b[KComputationEngine.ipp:269:84:\u001b[m\u001b[K   required from ‘\u001b[01m\u001b[Kvoid ComputationEngine<RealT>::ComputeFunctionAndGradient(std::vector<_Tp>&, const SharedInfo<RealT>&, const NonSharedInfo&, bool) [with RealT = double]\u001b[m\u001b[K’\n",
            "\u001b[01m\u001b[KComputationEngine.ipp:57:13:\u001b[m\u001b[K   required from ‘\u001b[01m\u001b[Kvoid ComputationEngine<RealT>::DoComputation(std::vector<_Tp>&, const SharedInfo<RealT>&, const NonSharedInfo&) [with RealT = double]\u001b[m\u001b[K’\n",
            "\u001b[01m\u001b[KComputationEngine.ipp:38:6:\u001b[m\u001b[K   required from here\n",
            "\u001b[01m\u001b[KInferenceEngine.ipp:3941:35:\u001b[m\u001b[K \u001b[01;35m\u001b[Kwarning: \u001b[m\u001b[KISO C++17 does not allow ‘\u001b[01m\u001b[Kregister\u001b[m\u001b[K’ storage class specifier [\u001b[01;35m\u001b[K\u001b]8;;https://gcc.gnu.org/onlinedocs/gcc/Warning-Options.html#index-Wregister\u0007-Wregister\u001b]8;;\u0007\u001b[m\u001b[K]\n",
            " 3941 |                 for (register int \u001b[01;35m\u001b[Kk\u001b[m\u001b[K = i+1; k < j; k++)\n",
            "      |                                   \u001b[01;35m\u001b[K^\u001b[m\u001b[K\n",
            "In file included from \u001b[01m\u001b[KOptimizationWrapper.hpp:18\u001b[m\u001b[K,\n",
            "                 from \u001b[01m\u001b[KContrafold.cpp:16\u001b[m\u001b[K:\n",
            "\u001b[01m\u001b[KOuterOptimizationWrapper.hpp:\u001b[m\u001b[K In member function ‘\u001b[01m\u001b[Kvoid OptimizationWrapper<RealT>::LearnHyperparameters(std::vector<int>, std::vector<_Tp>&) [with RealT = double]\u001b[m\u001b[K’:\n",
            "\u001b[01m\u001b[KOuterOptimizationWrapper.hpp:24:7:\u001b[m\u001b[K \u001b[01;35m\u001b[Kwarning: \u001b[m\u001b[Kinlining failed in call to ‘\u001b[01m\u001b[Kvirtual OuterOptimizationWrapper<double>::~OuterOptimizationWrapper() noexcept\u001b[m\u001b[K’: call is unlikely and code size would grow [\u001b[01;35m\u001b[K\u001b]8;;https://gcc.gnu.org/onlinedocs/gcc/Warning-Options.html#index-Winline\u0007-Winline\u001b]8;;\u0007\u001b[m\u001b[K]\n",
            "   24 | class \u001b[01;35m\u001b[KOuterOptimizationWrapper\u001b[m\u001b[K : public LBFGS<RealT>\n",
            "      |       \u001b[01;35m\u001b[K^~~~~~~~~~~~~~~~~~~~~~~~\u001b[m\u001b[K\n",
            "In file included from \u001b[01m\u001b[KOptimizationWrapper.hpp:54\u001b[m\u001b[K,\n",
            "                 from \u001b[01m\u001b[KContrafold.cpp:16\u001b[m\u001b[K:\n",
            "\u001b[01m\u001b[KOptimizationWrapper.ipp:261:5:\u001b[m\u001b[K \u001b[01;36m\u001b[Knote: \u001b[m\u001b[Kcalled from here\n",
            "  261 |     \u001b[01;36m\u001b[K}\u001b[m\u001b[K\n",
            "      |     \u001b[01;36m\u001b[K^\u001b[m\u001b[K\n",
            "In file included from \u001b[01m\u001b[KOptimizationWrapper.hpp:11\u001b[m\u001b[K,\n",
            "                 from \u001b[01m\u001b[KContrafold.cpp:16\u001b[m\u001b[K:\n",
            "\u001b[01m\u001b[KCGOptimizationWrapper.hpp:\u001b[m\u001b[K In member function ‘\u001b[01m\u001b[Kvoid OuterOptimizationWrapper<RealT>::ComputeGradient(std::vector<_Tp>&, const std::vector<_Tp>&) [with RealT = double]\u001b[m\u001b[K’:\n",
            "\u001b[01m\u001b[KCGOptimizationWrapper.hpp:21:7:\u001b[m\u001b[K \u001b[01;35m\u001b[Kwarning: \u001b[m\u001b[Kinlining failed in call to ‘\u001b[01m\u001b[Kvirtual CGOptimizationWrapper<double>::~CGOptimizationWrapper() noexcept\u001b[m\u001b[K’: call is unlikely and code size would grow [\u001b[01;35m\u001b[K\u001b]8;;https://gcc.gnu.org/onlinedocs/gcc/Warning-Options.html#index-Winline\u0007-Winline\u001b]8;;\u0007\u001b[m\u001b[K]\n",
            "   21 | class \u001b[01;35m\u001b[KCGOptimizationWrapper\u001b[m\u001b[K : public CGLinear<RealT>\n",
            "      |       \u001b[01;35m\u001b[K^~~~~~~~~~~~~~~~~~~~~\u001b[m\u001b[K\n",
            "In file included from \u001b[01m\u001b[KOuterOptimizationWrapper.hpp:43\u001b[m\u001b[K,\n",
            "                 from \u001b[01m\u001b[KOptimizationWrapper.hpp:18\u001b[m\u001b[K,\n",
            "                 from \u001b[01m\u001b[KContrafold.cpp:16\u001b[m\u001b[K:\n",
            "\u001b[01m\u001b[KOuterOptimizationWrapper.ipp:115:1:\u001b[m\u001b[K \u001b[01;36m\u001b[Knote: \u001b[m\u001b[Kcalled from here\n",
            "  115 | \u001b[01;36m\u001b[K}\u001b[m\u001b[K\n",
            "      | \u001b[01;36m\u001b[K^\u001b[m\u001b[K\n",
            "In file included from \u001b[01m\u001b[KComputationEngine.hpp:13\u001b[m\u001b[K,\n",
            "                 from \u001b[01m\u001b[KComputationWrapper.hpp:13\u001b[m\u001b[K,\n",
            "                 from \u001b[01m\u001b[KContrafold.cpp:12\u001b[m\u001b[K:\n",
            "\u001b[01m\u001b[KLogSpace.hpp:\u001b[m\u001b[K In member function ‘\u001b[01m\u001b[Kstd::vector<_Tp> InferenceEngine<RealT>::ComputeFeatureCountExpectations() [with RealT = float]\u001b[m\u001b[K’:\n",
            "\u001b[01m\u001b[KLogSpace.hpp:27:14:\u001b[m\u001b[K \u001b[01;35m\u001b[Kwarning: \u001b[m\u001b[Kinlining failed in call to ‘\u001b[01m\u001b[Kfloat Fast_Exp(float)\u001b[m\u001b[K’: --param inline-unit-growth limit reached [\u001b[01;35m\u001b[K\u001b]8;;https://gcc.gnu.org/onlinedocs/gcc/Warning-Options.html#index-Winline\u0007-Winline\u001b]8;;\u0007\u001b[m\u001b[K]\n",
            "   27 | inline float \u001b[01;35m\u001b[KFast_Exp\u001b[m\u001b[K(float x)\n",
            "      |              \u001b[01;35m\u001b[K^~~~~~~~\u001b[m\u001b[K\n",
            "In file included from \u001b[01m\u001b[KInferenceEngine.hpp:299\u001b[m\u001b[K,\n",
            "                 from \u001b[01m\u001b[KComputationEngine.hpp:17\u001b[m\u001b[K,\n",
            "                 from \u001b[01m\u001b[KComputationWrapper.hpp:13\u001b[m\u001b[K,\n",
            "                 from \u001b[01m\u001b[KContrafold.cpp:12\u001b[m\u001b[K:\n",
            "\u001b[01m\u001b[KInferenceEngine.ipp:4114:33:\u001b[m\u001b[K \u001b[01;36m\u001b[Knote: \u001b[m\u001b[Kcalled from here\n",
            " 4114 |                     \u001b[01;36m\u001b[KCountHairpin(i,j,Fast_Exp(outside + ScoreHairpin(i,j)))\u001b[m\u001b[K;\n",
            "      |                     \u001b[01;36m\u001b[K~~~~~~~~~~~~^~~~~~~~~~~~~~~~~~~~~~~~~~~~~~~~~~~~~~~~~~~\u001b[m\u001b[K\n",
            "In file included from \u001b[01m\u001b[KComputationEngine.hpp:13\u001b[m\u001b[K,\n",
            "                 from \u001b[01m\u001b[KComputationWrapper.hpp:13\u001b[m\u001b[K,\n",
            "                 from \u001b[01m\u001b[KContrafold.cpp:12\u001b[m\u001b[K:\n",
            "\u001b[01m\u001b[KLogSpace.hpp:27:14:\u001b[m\u001b[K \u001b[01;35m\u001b[Kwarning: \u001b[m\u001b[Kinlining failed in call to ‘\u001b[01m\u001b[Kfloat Fast_Exp(float)\u001b[m\u001b[K’: --param inline-unit-growth limit reached [\u001b[01;35m\u001b[K\u001b]8;;https://gcc.gnu.org/onlinedocs/gcc/Warning-Options.html#index-Winline\u0007-Winline\u001b]8;;\u0007\u001b[m\u001b[K]\n",
            "   27 | inline float \u001b[01;35m\u001b[KFast_Exp\u001b[m\u001b[K(float x)\n",
            "      |              \u001b[01;35m\u001b[K^~~~~~~~\u001b[m\u001b[K\n",
            "In file included from \u001b[01m\u001b[KInferenceEngine.hpp:299\u001b[m\u001b[K,\n",
            "                 from \u001b[01m\u001b[KComputationEngine.hpp:17\u001b[m\u001b[K,\n",
            "                 from \u001b[01m\u001b[KComputationWrapper.hpp:13\u001b[m\u001b[K,\n",
            "                 from \u001b[01m\u001b[KContrafold.cpp:12\u001b[m\u001b[K:\n",
            "\u001b[01m\u001b[KInferenceEngine.ipp:4114:33:\u001b[m\u001b[K \u001b[01;36m\u001b[Knote: \u001b[m\u001b[Kcalled from here\n",
            " 4114 |                     \u001b[01;36m\u001b[KCountHairpin(i,j,Fast_Exp(outside + ScoreHairpin(i,j)))\u001b[m\u001b[K;\n",
            "      |                     \u001b[01;36m\u001b[K~~~~~~~~~~~~^~~~~~~~~~~~~~~~~~~~~~~~~~~~~~~~~~~~~~~~~~~\u001b[m\u001b[K\n",
            "In file included from \u001b[01m\u001b[KComputationEngine.hpp:13\u001b[m\u001b[K,\n",
            "                 from \u001b[01m\u001b[KComputationWrapper.hpp:13\u001b[m\u001b[K,\n",
            "                 from \u001b[01m\u001b[KContrafold.cpp:12\u001b[m\u001b[K:\n",
            "\u001b[01m\u001b[KLogSpace.hpp:\u001b[m\u001b[K In member function ‘\u001b[01m\u001b[Kvoid InferenceEngine<RealT>::ComputePosterior() [with RealT = float]\u001b[m\u001b[K’:\n",
            "\u001b[01m\u001b[KLogSpace.hpp:27:14:\u001b[m\u001b[K \u001b[01;35m\u001b[Kwarning: \u001b[m\u001b[Kinlining failed in call to ‘\u001b[01m\u001b[Kfloat Fast_Exp(float)\u001b[m\u001b[K’: --param inline-unit-growth limit reached [\u001b[01;35m\u001b[K\u001b]8;;https://gcc.gnu.org/onlinedocs/gcc/Warning-Options.html#index-Winline\u0007-Winline\u001b]8;;\u0007\u001b[m\u001b[K]\n",
            "   27 | inline float \u001b[01;35m\u001b[KFast_Exp\u001b[m\u001b[K(float x)\n",
            "      |              \u001b[01;35m\u001b[K^~~~~~~~\u001b[m\u001b[K\n",
            "In file included from \u001b[01m\u001b[KInferenceEngine.hpp:299\u001b[m\u001b[K,\n",
            "                 from \u001b[01m\u001b[KComputationEngine.hpp:17\u001b[m\u001b[K,\n",
            "                 from \u001b[01m\u001b[KComputationWrapper.hpp:13\u001b[m\u001b[K,\n",
            "                 from \u001b[01m\u001b[KContrafold.cpp:12\u001b[m\u001b[K:\n",
            "\u001b[01m\u001b[KInferenceEngine.ipp:4487:33:\u001b[m\u001b[K \u001b[01;36m\u001b[Knote: \u001b[m\u001b[Kcalled from here\n",
            " 4487 |                     \u001b[01;36m\u001b[KCountHairpin(i,j,Fast_Exp(outside + ScoreHairpin(i,j)))\u001b[m\u001b[K;\n",
            "      |                     \u001b[01;36m\u001b[K~~~~~~~~~~~~^~~~~~~~~~~~~~~~~~~~~~~~~~~~~~~~~~~~~~~~~~~\u001b[m\u001b[K\n",
            "In file included from \u001b[01m\u001b[KComputationEngine.hpp:13\u001b[m\u001b[K,\n",
            "                 from \u001b[01m\u001b[KComputationWrapper.hpp:13\u001b[m\u001b[K,\n",
            "                 from \u001b[01m\u001b[KContrafold.cpp:12\u001b[m\u001b[K:\n",
            "\u001b[01m\u001b[KLogSpace.hpp:27:14:\u001b[m\u001b[K \u001b[01;35m\u001b[Kwarning: \u001b[m\u001b[Kinlining failed in call to ‘\u001b[01m\u001b[Kfloat Fast_Exp(float)\u001b[m\u001b[K’: --param inline-unit-growth limit reached [\u001b[01;35m\u001b[K\u001b]8;;https://gcc.gnu.org/onlinedocs/gcc/Warning-Options.html#index-Winline\u0007-Winline\u001b]8;;\u0007\u001b[m\u001b[K]\n",
            "   27 | inline float \u001b[01;35m\u001b[KFast_Exp\u001b[m\u001b[K(float x)\n",
            "      |              \u001b[01;35m\u001b[K^~~~~~~~\u001b[m\u001b[K\n",
            "In file included from \u001b[01m\u001b[KInferenceEngine.hpp:299\u001b[m\u001b[K,\n",
            "                 from \u001b[01m\u001b[KComputationEngine.hpp:17\u001b[m\u001b[K,\n",
            "                 from \u001b[01m\u001b[KComputationWrapper.hpp:13\u001b[m\u001b[K,\n",
            "                 from \u001b[01m\u001b[KContrafold.cpp:12\u001b[m\u001b[K:\n",
            "\u001b[01m\u001b[KInferenceEngine.ipp:4487:33:\u001b[m\u001b[K \u001b[01;36m\u001b[Knote: \u001b[m\u001b[Kcalled from here\n",
            " 4487 |                     \u001b[01;36m\u001b[KCountHairpin(i,j,Fast_Exp(outside + ScoreHairpin(i,j)))\u001b[m\u001b[K;\n",
            "      |                     \u001b[01;36m\u001b[K~~~~~~~~~~~~^~~~~~~~~~~~~~~~~~~~~~~~~~~~~~~~~~~~~~~~~~~\u001b[m\u001b[K\n",
            "g++ -O3 -DNDEBUG -W -pipe -Wundef -Winline --param large-function-growth=100000 -Wall -fpermissive  -c FileDescription.cpp\n",
            "g++ -O3 -DNDEBUG -W -pipe -Wundef -Winline --param large-function-growth=100000 -Wall -fpermissive  -c Options.cpp\n",
            "g++ -O3 -DNDEBUG -W -pipe -Wundef -Winline --param large-function-growth=100000 -Wall -fpermissive  -c SStruct.cpp\n",
            "g++ -O3 -DNDEBUG -W -pipe -Wundef -Winline --param large-function-growth=100000 -Wall -fpermissive  -c Utilities.cpp\n",
            "g++ -O3 -DNDEBUG -W -pipe -Wundef -Winline --param large-function-growth=100000 -Wall -fpermissive  Contrafold.o FileDescription.o Options.o SStruct.o Utilities.o -lm -o contrafold\n",
            "g++ -O3 -DNDEBUG -W -pipe -Wundef -Winline --param large-function-growth=100000 -Wall -fpermissive  -c ScorePrediction.cpp\n",
            "g++ -O3 -DNDEBUG -W -pipe -Wundef -Winline --param large-function-growth=100000 -Wall -fpermissive  ScorePrediction.o SStruct.o Utilities.o -lm -o score_prediction\n"
          ]
        }
      ]
    },
    {
      "cell_type": "code",
      "metadata": {
        "colab": {
          "base_uri": "https://localhost:8080/"
        },
        "id": "Z-gsbjiTc2N0",
        "outputId": "b0d825aa-62b8-4b0d-85e7-7428fb99dd54"
      },
      "source": [
        "!./contrafold"
      ],
      "execution_count": 13,
      "outputs": [
        {
          "output_type": "stream",
          "name": "stdout",
          "text": [
            "\n",
            "Usage: contrafold [predict|train] [OPTION]... INFILE(s)\n",
            "\n",
            "       where [OPTION]...   is a list of zero or more optional arguments\n",
            "             INFILE(s)     is the name of the input BPSEQ, plain text, or FASTA file(s)\n",
            "\n",
            "Miscellaneous arguments:\n",
            "  --version                display program version information\n",
            "  --verbose                show detailed console output\n",
            "  --logbase LOG_BASE       set base of log-sum-exp\n",
            "  --viterbi                use Viterbi instead of posterior decoding for prediction, \n",
            "                           or max-margin instead of log-likelihood for training\n",
            "  --noncomplementary       allow non-{AU,CG,GU} pairs\n",
            "\n",
            "Additional arguments for 'predict' mode:\n",
            "  --params FILENAME        use particular model parameters\n",
            "  --constraints            use existing constraints (requires BPSEQ or FASTA format input)\n",
            "  --gamma GAMMA            set sensivity/specificity tradeoff parameter (default: GAMMA=6)\n",
            "                             if GAMMA > 1, emphasize sensitivity\n",
            "                             if 0 <= GAMMA <= 1, emphasize specificity\n",
            "                             if GAMMA < 0, try tradeoff parameters of 2^k for k = -5,...,10\n",
            "\n",
            "  --parens OUTFILEORDIR    write parenthesized output to file or directory\n",
            "  --bpseq OUTFILEORDIR     write BPSEQ output to file or directory\n",
            "  --posteriors CUTOFF OUTFILEORDIR\n",
            "                           write posterior pairing probabilities to file or directory\n",
            "  --partition              compute the partition function or Viterbi score only\n",
            "\n",
            "Additional arguments for training (many input files may be specified):\n",
            "  --sanity                 perform gradient sanity check\n",
            "  --holdout F              use fraction F of training data for holdout cross-validation\n",
            "  --regularize C           perform BFGS training, using a single regularization coefficient C\n",
            "\n"
          ]
        }
      ]
    },
    {
      "cell_type": "code",
      "metadata": {
        "id": "rrB12FVYc2QQ"
      },
      "source": [
        "!echo '>DS4440' > test.fa\n",
        "!echo 'GGAUGGAUGUCUGAGCGGUUGAAAGAGUCGGUCUUGAAAACCGAAGUAUUGAUAGGAAUACCGGGGGUUCGAAUCCCUCUCCAUCCG' >> test.fa"
      ],
      "execution_count": 25,
      "outputs": []
    },
    {
      "cell_type": "code",
      "source": [
        "!echo '>2a64-1-A' > test2.fa\n",
        "!echo 'GUUAAUCAUGCUCGGGUAAUCGCUGCGGCCGGUUUCGGCCGUAGAGGAAAGUCCAUGCUCGCACGGUGCUGAGAUGCCCGUAGUGUUCGUGCCUAGCGAAUCCAUAAGCUAGGGCAGCCGGCUGACGGCGGGCCCUGAAAGUGCCGGUAAACCCCACGAGCGAGAAACCCAAAUAGGGGCACCUUCCCGAAGGAAAUGAACGGAGGGAAGGACAGGCGGCGCAUGCAGCCUGUAGAUAGAUGAUUACCGCCGGAGUACGUACGAAGGUACAGAACAUGGCUUAUAGAGCAUGAUUAAC' >> test2.fa"
      ],
      "metadata": {
        "id": "nbWKxYwmFUDP"
      },
      "execution_count": 31,
      "outputs": []
    },
    {
      "cell_type": "code",
      "source": [
        "!cat test2.fa"
      ],
      "metadata": {
        "colab": {
          "base_uri": "https://localhost:8080/"
        },
        "id": "7naAwt1dFdp1",
        "outputId": "0cad609a-ed8b-435d-eb5a-b8aa5a8dd624"
      },
      "execution_count": 32,
      "outputs": [
        {
          "output_type": "stream",
          "name": "stdout",
          "text": [
            ">2a64-1-A\n",
            "GUUAAUCAUGCUCGGGUAAUCGCUGCGGCCGGUUUCGGCCGUAGAGGAAAGUCCAUGCUCGCACGGUGCUGAGAUGCCCGUAGUGUUCGUGCCUAGCGAAUCCAUAAGCUAGGGCAGCCGGCUGACGGCGGGCCCUGAAAGUGCCGGUAAACCCCACGAGCGAGAAACCCAAAUAGGGGCACCUUCCCGAAGGAAAUGAACGGAGGGAAGGACAGGCGGCGCAUGCAGCCUGUAGAUAGAUGAUUACCGCCGGAGUACGUACGAAGGUACAGAACAUGGCUUAUAGAGCAUGAUUAAC\n"
          ]
        }
      ]
    },
    {
      "cell_type": "code",
      "metadata": {
        "colab": {
          "base_uri": "https://localhost:8080/"
        },
        "id": "AWapI2Fqj9sH",
        "outputId": "b9915028-e06b-40aa-cead-8d9773143d94"
      },
      "source": [
        "!./contrafold predict test2.fa"
      ],
      "execution_count": 33,
      "outputs": [
        {
          "output_type": "stream",
          "name": "stdout",
          "text": [
            "\r\r>2a64-1-A\n",
            "GUUAAUCAUGCUCGGGUAAUCGCUGCGGCCGGUUUCGGCCGUAGAGGAAAGUCCAUGCUCGCACGGUGCUGAGAUGCCCGUAGUGUUCGUGCCUAGCGAAUCCAUAAGCUAGGGCAGCCGGCUGACGGCGGGCCCUGAAAGUGCCGGUAAACCCCACGAGCGAGAAACCCAAAUAGGGGCACCUUCCCGAAGGAAAUGAACGGAGGGAAGGACAGGCGGCGCAUGCAGCCUGUAGAUAGAUGAUUACCGCCGGAGUACGUACGAAGGUACAGAACAUGGCUUAUAGAGCAUGAUUAAC\n",
            ">structure\n",
            "(((((((((((((.(((((((((((((((((....))))))))).((.....)).((((((..(((((((..(..((((((.((......(((((((..........)))))).)(((()))).)).)))))).)....)))))))..........)))))).....(((.....)))...(((((((...(........)...)))))))((((((.((....)).)))))).......))))))))((((..((.(((((....)))).).)).)))).....)))))))))))))\n"
          ]
        }
      ]
    },
    {
      "cell_type": "code",
      "metadata": {
        "id": "V2u_hlaXj9uk"
      },
      "source": [
        "def run_contrafold(input_file):\n",
        "  import subprocess\n",
        "  import re\n",
        "  foldout, folderr = subprocess.Popen(['./contrafold','predict',input_file], stdin=subprocess.PIPE, stderr=subprocess.PIPE, stdout=subprocess.PIPE, universal_newlines=True).communicate()\n",
        "  #print(folderr)\n",
        "  #if folderr:\n",
        "  #      raise 'Error'\n",
        "  #print(foldout)\n",
        "  # parse the results\n",
        "  output_lines = foldout.strip().splitlines()\n",
        "  rna_seq = output_lines[1]\n",
        "  rna_structure = output_lines[3]\n",
        "  #print(\"RNA_sequence : \",rna_sequence)\n",
        "  #print(\"RNA_structure: \",rna_structure)\n",
        "  return rna_seq,rna_structure"
      ],
      "execution_count": 34,
      "outputs": []
    },
    {
      "cell_type": "code",
      "metadata": {
        "colab": {
          "base_uri": "https://localhost:8080/"
        },
        "id": "vekuQlTwkLDo",
        "outputId": "7c1781d0-6380-4d67-9c04-870b6030d894"
      },
      "source": [
        "run_contrafold('test.fa')"
      ],
      "execution_count": 17,
      "outputs": [
        {
          "output_type": "execute_result",
          "data": {
            "text/plain": [
              "('GGAUGGAUGUCUGAGCGGUUGAAAGAGUCGGUCUUGAAAACCGAAGUAUUGAUAGGAAUACCGGGGGUUCGAAUCCCUCUCCAUCCG',\n",
              " '(((((((........(((((..((((.....))))...)))))..(((((......))))).(((((((()))))))).))))))).')"
            ]
          },
          "metadata": {},
          "execution_count": 17
        }
      ]
    },
    {
      "cell_type": "code",
      "metadata": {
        "id": "_Ac3Zsh8j9w2"
      },
      "source": [],
      "execution_count": 17,
      "outputs": []
    },
    {
      "cell_type": "code",
      "metadata": {
        "id": "LgX67Ba6j9yx"
      },
      "source": [],
      "execution_count": 17,
      "outputs": []
    },
    {
      "cell_type": "markdown",
      "metadata": {
        "id": "HpN1gdKyeAbz"
      },
      "source": [
        "**Step 2: Predict secondary structure for sequences**"
      ]
    },
    {
      "cell_type": "code",
      "metadata": {
        "colab": {
          "base_uri": "https://localhost:8080/",
          "height": 53
        },
        "id": "tU9_GE9pd26e",
        "outputId": "b052ec9a-bbc7-4f32-a3e8-85e5ec90466b"
      },
      "source": [
        "'''\n",
        "!rm pdb_dataset_id95.fasta ct_shorter_than_201_id95.fasta\n",
        "!wget https://cs.slu.edu/~hou/projects/RNA_folding/data/pdb_dataset_id95.fasta --no-check-certificate\n",
        "!wget https://cs.slu.edu/~hou/projects/RNA_folding/data/ct_shorter_than_201_id95.fasta --no-check-certificate\n",
        "'''"
      ],
      "execution_count": 18,
      "outputs": [
        {
          "output_type": "execute_result",
          "data": {
            "text/plain": [
              "'\\n!rm pdb_dataset_id95.fasta ct_shorter_than_201_id95.fasta\\n!wget https://cs.slu.edu/~hou/projects/RNA_folding/data/pdb_dataset_id95.fasta --no-check-certificate\\n!wget https://cs.slu.edu/~hou/projects/RNA_folding/data/ct_shorter_than_201_id95.fasta --no-check-certificate\\n'"
            ],
            "application/vnd.google.colaboratory.intrinsic+json": {
              "type": "string"
            }
          },
          "metadata": {},
          "execution_count": 18
        }
      ]
    },
    {
      "cell_type": "code",
      "metadata": {
        "colab": {
          "base_uri": "https://localhost:8080/"
        },
        "id": "ujtJ6IIDpsUW",
        "outputId": "f2ab15bd-ad97-474f-c34a-216ef6255a2b"
      },
      "source": [
        "!rm bpRNA_TR0.fasta bpRNA_VL0.fasta  bpRNA_TS0.fasta PDB_train.fasta PDB_val.fasta PDB_test.fasta PDB_test2.fasta PDB_test3.fasta PDB_test_hard.fasta\n",
        "!wget https://cs.slu.edu/~hou/projects/RNA_folding/data/SPOT-RNA2/bpRNA_TR0.fasta --no-check-certificate\n",
        "!wget https://cs.slu.edu/~hou/projects/RNA_folding/data/SPOT-RNA2/bpRNA_VL0.fasta --no-check-certificate\n",
        "!wget https://cs.slu.edu/~hou/projects/RNA_folding/data/SPOT-RNA2/bpRNA_TS0.fasta --no-check-certificate\n",
        "!wget https://cs.slu.edu/~hou/projects/RNA_folding/data/SPOT-RNA2/PDB_train.fasta --no-check-certificate\n",
        "!wget https://cs.slu.edu/~hou/projects/RNA_folding/data/SPOT-RNA2/PDB_val.fasta --no-check-certificate\n",
        "!wget https://cs.slu.edu/~hou/projects/RNA_folding/data/SPOT-RNA2/PDB_test.fasta --no-check-certificate\n",
        "!wget https://cs.slu.edu/~hou/projects/RNA_folding/data/SPOT-RNA2/PDB_test2.fasta --no-check-certificate\n",
        "!wget https://cs.slu.edu/~hou/projects/RNA_folding/data/SPOT-RNA2/PDB_test3.fasta --no-check-certificate\n",
        "!wget https://cs.slu.edu/~hou/projects/RNA_folding/data/SPOT-RNA2/PDB_test_hard.fasta --no-check-certificate"
      ],
      "execution_count": 19,
      "outputs": [
        {
          "output_type": "stream",
          "name": "stdout",
          "text": [
            "rm: cannot remove 'bpRNA_TR0.fasta': No such file or directory\n",
            "rm: cannot remove 'bpRNA_VL0.fasta': No such file or directory\n",
            "rm: cannot remove 'bpRNA_TS0.fasta': No such file or directory\n",
            "rm: cannot remove 'PDB_train.fasta': No such file or directory\n",
            "rm: cannot remove 'PDB_val.fasta': No such file or directory\n",
            "rm: cannot remove 'PDB_test.fasta': No such file or directory\n",
            "rm: cannot remove 'PDB_test2.fasta': No such file or directory\n",
            "rm: cannot remove 'PDB_test3.fasta': No such file or directory\n",
            "rm: cannot remove 'PDB_test_hard.fasta': No such file or directory\n",
            "--2024-07-23 05:32:16--  https://cs.slu.edu/~hou/projects/RNA_folding/data/SPOT-RNA2/bpRNA_TR0.fasta\n",
            "Resolving cs.slu.edu (cs.slu.edu)... 165.134.107.79\n",
            "Connecting to cs.slu.edu (cs.slu.edu)|165.134.107.79|:443... connected.\n",
            "WARNING: cannot verify cs.slu.edu's certificate, issued by ‘CN=InCommon RSA Server CA 2,O=Internet2,C=US’:\n",
            "  Unable to locally verify the issuer's authority.\n",
            "HTTP request sent, awaiting response... 200 OK\n",
            "Length: 1635071 (1.6M)\n",
            "Saving to: ‘bpRNA_TR0.fasta’\n",
            "\n",
            "bpRNA_TR0.fasta     100%[===================>]   1.56M  3.88MB/s    in 0.4s    \n",
            "\n",
            "2024-07-23 05:32:16 (3.88 MB/s) - ‘bpRNA_TR0.fasta’ saved [1635071/1635071]\n",
            "\n",
            "--2024-07-23 05:32:17--  https://cs.slu.edu/~hou/projects/RNA_folding/data/SPOT-RNA2/bpRNA_VL0.fasta\n",
            "Resolving cs.slu.edu (cs.slu.edu)... 165.134.107.79\n",
            "Connecting to cs.slu.edu (cs.slu.edu)|165.134.107.79|:443... connected.\n",
            "WARNING: cannot verify cs.slu.edu's certificate, issued by ‘CN=InCommon RSA Server CA 2,O=Internet2,C=US’:\n",
            "  Unable to locally verify the issuer's authority.\n",
            "HTTP request sent, awaiting response... 200 OK\n",
            "Length: 192170 (188K)\n",
            "Saving to: ‘bpRNA_VL0.fasta’\n",
            "\n",
            "bpRNA_VL0.fasta     100%[===================>] 187.67K   772KB/s    in 0.2s    \n",
            "\n",
            "2024-07-23 05:32:17 (772 KB/s) - ‘bpRNA_VL0.fasta’ saved [192170/192170]\n",
            "\n",
            "--2024-07-23 05:32:17--  https://cs.slu.edu/~hou/projects/RNA_folding/data/SPOT-RNA2/bpRNA_TS0.fasta\n",
            "Resolving cs.slu.edu (cs.slu.edu)... 165.134.107.79\n",
            "Connecting to cs.slu.edu (cs.slu.edu)|165.134.107.79|:443... connected.\n",
            "WARNING: cannot verify cs.slu.edu's certificate, issued by ‘CN=InCommon RSA Server CA 2,O=Internet2,C=US’:\n",
            "  Unable to locally verify the issuer's authority.\n",
            "HTTP request sent, awaiting response... 200 OK\n",
            "Length: 196052 (191K)\n",
            "Saving to: ‘bpRNA_TS0.fasta’\n",
            "\n",
            "bpRNA_TS0.fasta     100%[===================>] 191.46K   794KB/s    in 0.2s    \n",
            "\n",
            "2024-07-23 05:32:18 (794 KB/s) - ‘bpRNA_TS0.fasta’ saved [196052/196052]\n",
            "\n",
            "--2024-07-23 05:32:18--  https://cs.slu.edu/~hou/projects/RNA_folding/data/SPOT-RNA2/PDB_train.fasta\n",
            "Resolving cs.slu.edu (cs.slu.edu)... 165.134.107.79\n",
            "Connecting to cs.slu.edu (cs.slu.edu)|165.134.107.79|:443... connected.\n",
            "WARNING: cannot verify cs.slu.edu's certificate, issued by ‘CN=InCommon RSA Server CA 2,O=Internet2,C=US’:\n",
            "  Unable to locally verify the issuer's authority.\n",
            "HTTP request sent, awaiting response... 200 OK\n",
            "Length: 10671 (10K)\n",
            "Saving to: ‘PDB_train.fasta’\n",
            "\n",
            "PDB_train.fasta     100%[===================>]  10.42K  --.-KB/s    in 0s      \n",
            "\n",
            "2024-07-23 05:32:18 (151 MB/s) - ‘PDB_train.fasta’ saved [10671/10671]\n",
            "\n",
            "--2024-07-23 05:32:18--  https://cs.slu.edu/~hou/projects/RNA_folding/data/SPOT-RNA2/PDB_val.fasta\n",
            "Resolving cs.slu.edu (cs.slu.edu)... 165.134.107.79\n",
            "Connecting to cs.slu.edu (cs.slu.edu)|165.134.107.79|:443... connected.\n",
            "WARNING: cannot verify cs.slu.edu's certificate, issued by ‘CN=InCommon RSA Server CA 2,O=Internet2,C=US’:\n",
            "  Unable to locally verify the issuer's authority.\n",
            "HTTP request sent, awaiting response... 200 OK\n",
            "Length: 2631 (2.6K)\n",
            "Saving to: ‘PDB_val.fasta’\n",
            "\n",
            "PDB_val.fasta       100%[===================>]   2.57K  --.-KB/s    in 0s      \n",
            "\n",
            "2024-07-23 05:32:18 (934 MB/s) - ‘PDB_val.fasta’ saved [2631/2631]\n",
            "\n",
            "--2024-07-23 05:32:18--  https://cs.slu.edu/~hou/projects/RNA_folding/data/SPOT-RNA2/PDB_test.fasta\n",
            "Resolving cs.slu.edu (cs.slu.edu)... 165.134.107.79\n",
            "Connecting to cs.slu.edu (cs.slu.edu)|165.134.107.79|:443... connected.\n",
            "WARNING: cannot verify cs.slu.edu's certificate, issued by ‘CN=InCommon RSA Server CA 2,O=Internet2,C=US’:\n",
            "  Unable to locally verify the issuer's authority.\n",
            "HTTP request sent, awaiting response... 200 OK\n",
            "Length: 5668 (5.5K)\n",
            "Saving to: ‘PDB_test.fasta’\n",
            "\n",
            "PDB_test.fasta      100%[===================>]   5.54K  --.-KB/s    in 0s      \n",
            "\n",
            "2024-07-23 05:32:19 (1.15 GB/s) - ‘PDB_test.fasta’ saved [5668/5668]\n",
            "\n",
            "--2024-07-23 05:32:19--  https://cs.slu.edu/~hou/projects/RNA_folding/data/SPOT-RNA2/PDB_test2.fasta\n",
            "Resolving cs.slu.edu (cs.slu.edu)... 165.134.107.79\n",
            "Connecting to cs.slu.edu (cs.slu.edu)|165.134.107.79|:443... connected.\n",
            "WARNING: cannot verify cs.slu.edu's certificate, issued by ‘CN=InCommon RSA Server CA 2,O=Internet2,C=US’:\n",
            "  Unable to locally verify the issuer's authority.\n",
            "HTTP request sent, awaiting response... 200 OK\n",
            "Length: 2141 (2.1K)\n",
            "Saving to: ‘PDB_test2.fasta’\n",
            "\n",
            "PDB_test2.fasta     100%[===================>]   2.09K  --.-KB/s    in 0s      \n",
            "\n",
            "2024-07-23 05:32:19 (493 MB/s) - ‘PDB_test2.fasta’ saved [2141/2141]\n",
            "\n",
            "--2024-07-23 05:32:19--  https://cs.slu.edu/~hou/projects/RNA_folding/data/SPOT-RNA2/PDB_test3.fasta\n",
            "Resolving cs.slu.edu (cs.slu.edu)... 165.134.107.79\n",
            "Connecting to cs.slu.edu (cs.slu.edu)|165.134.107.79|:443... connected.\n",
            "WARNING: cannot verify cs.slu.edu's certificate, issued by ‘CN=InCommon RSA Server CA 2,O=Internet2,C=US’:\n",
            "  Unable to locally verify the issuer's authority.\n",
            "HTTP request sent, awaiting response... 200 OK\n",
            "Length: 1668 (1.6K)\n",
            "Saving to: ‘PDB_test3.fasta’\n",
            "\n",
            "PDB_test3.fasta     100%[===================>]   1.63K  --.-KB/s    in 0s      \n",
            "\n",
            "2024-07-23 05:32:19 (774 MB/s) - ‘PDB_test3.fasta’ saved [1668/1668]\n",
            "\n",
            "--2024-07-23 05:32:19--  https://cs.slu.edu/~hou/projects/RNA_folding/data/SPOT-RNA2/PDB_test_hard.fasta\n",
            "Resolving cs.slu.edu (cs.slu.edu)... 165.134.107.79\n",
            "Connecting to cs.slu.edu (cs.slu.edu)|165.134.107.79|:443... connected.\n",
            "WARNING: cannot verify cs.slu.edu's certificate, issued by ‘CN=InCommon RSA Server CA 2,O=Internet2,C=US’:\n",
            "  Unable to locally verify the issuer's authority.\n",
            "HTTP request sent, awaiting response... 200 OK\n",
            "Length: 1689 (1.6K)\n",
            "Saving to: ‘PDB_test_hard.fasta’\n",
            "\n",
            "PDB_test_hard.fasta 100%[===================>]   1.65K  --.-KB/s    in 0s      \n",
            "\n",
            "2024-07-23 05:32:20 (667 MB/s) - ‘PDB_test_hard.fasta’ saved [1689/1689]\n",
            "\n"
          ]
        }
      ]
    },
    {
      "cell_type": "code",
      "metadata": {
        "colab": {
          "base_uri": "https://localhost:8080/"
        },
        "id": "Au8s2EOveXMh",
        "outputId": "4187a67d-8e0e-4ca9-f32c-358628393f71"
      },
      "source": [
        "ls"
      ],
      "execution_count": null,
      "outputs": [
        {
          "output_type": "stream",
          "name": "stdout",
          "text": [
            "BundleMethod.hpp                               LineSearch.ipp\n",
            "BundleMethod.ipp                               LogSpace.hpp\n",
            "CGLinear.hpp                                   MakeCoords.cpp\n",
            "CGLinear.ipp                                   MakeCoords.hpp\n",
            "CGOptimizationWrapper.hpp                      \u001b[0m\u001b[01;32mMakeDefaults.pl\u001b[0m*\n",
            "CGOptimizationWrapper.ipp                      \u001b[01;32mMakefile\u001b[0m*\n",
            "ComputationEngine.hpp                          OptimizationWrapper.hpp\n",
            "ComputationEngine.ipp                          OptimizationWrapper.ipp\n",
            "ComputationWrapper.hpp                         Options.cpp\n",
            "ComputationWrapper.ipp                         Options.hpp\n",
            "Config.hpp                                     Options.o\n",
            "\u001b[01;32mcontrafold\u001b[0m*                                    OuterOptimizationWrapper.hpp\n",
            "Contrafold.cpp                                 OuterOptimizationWrapper.ipp\n",
            "Contrafold.o                                   ParameterManager.hpp\n",
            "contrafold.params.complementary                ParameterManager.ipp\n",
            "contrafold.params.noncomplementary             PDB_test2.fasta\n",
            "contrafold.params.profile                      PDB_test.fasta\n",
            "Defaults.ipp                                   PDB_test_hard.fasta\n",
            "DistributedComputation.hpp                     PDB_train.fasta\n",
            "DistributedComputation.ipp                     PDB_val.fasta\n",
            "EncapsulatedPostScript.cpp                     PlotRNA.cpp\n",
            "EncapsulatedPostScript.hpp                     \u001b[01;32mroc_area.pl\u001b[0m*\n",
            "FileDescription.cpp                            \u001b[01;32mscore_directory.pl\u001b[0m*\n",
            "FileDescription.hpp                            \u001b[01;32mscore_prediction\u001b[0m*\n",
            "FileDescription.o                              ScorePrediction.cpp\n",
            "InferenceEngine.hpp                            ScorePrediction.o\n",
            "InferenceEngine.ipp                            SparseMatrix.hpp\n",
            "InnerOptimizationWrapperBundleMethod.hpp       SparseMatrix.ipp\n",
            "InnerOptimizationWrapperBundleMethod.ipp       SStruct.cpp\n",
            "InnerOptimizationWrapper.hpp                   SStruct.hpp\n",
            "InnerOptimizationWrapper.ipp                   SStruct.o\n",
            "InnerOptimizationWrapperLBFGS.hpp              SubgradientMethod.hpp\n",
            "InnerOptimizationWrapperLBFGS.ipp              SubgradientMethod.ipp\n",
            "InnerOptimizationWrapperSubgradientMethod.hpp  test.fa\n",
            "InnerOptimizationWrapperSubgradientMethod.ipp  tmp\n",
            "InnerOptimizationWrapperViterbi.hpp            Utilities.cpp\n",
            "InnerOptimizationWrapperViterbi.ipp            Utilities.hpp\n",
            "LBFGS.hpp                                      Utilities.ipp\n",
            "LBFGS.ipp                                      Utilities.o\n",
            "LineSearch.hpp                                 Utilities_old.hpp\n"
          ]
        }
      ]
    },
    {
      "cell_type": "code",
      "metadata": {
        "colab": {
          "base_uri": "https://localhost:8080/"
        },
        "id": "4WKm9cRreYFZ",
        "outputId": "eae099d7-888a-4078-abf3-8003d3676aff"
      },
      "source": [
        "!head PDB_train.fasta"
      ],
      "execution_count": 10,
      "outputs": [
        {
          "output_type": "stream",
          "name": "stdout",
          "text": [
            ">4pqv-1-A\n",
            "GGGUCAGAUCGGCGAAAGUCGCCACUUCGCCGAGGAGUGCAAUCUGUGAGGCCCCAGGAGGACUGGGU\n",
            ">2qus-1-A\n",
            "GGGAGCCCUGUCACCGGAUGUGCUUUCCGGUCUGAUGAGUCCGUGAGGACAAAACAGGGCUCCCGAAUU\n",
            ">4o26-1-E\n",
            "GGAACGCCGCGGUCAGCUCGGCUGCUGCGAAGAGUCUCUGUUGUUCC\n",
            ">5ud5-1-D\n",
            "GGAAACCUGAUCAUGUAGAUCGAAUGGACUCUAAAUCCGUUCAGCCGGGUUAGAUUCCCGGGGUUUCCGCCA\n",
            ">4y1m-1-B\n",
            "GAUUUGGGGAGUAGCCGAUUUCCGAAAGGAAAUGUACGUGUCAACAUUUUCGUUGAAAAACGUGGCACGUACGGACUGAAGAAAUUCAGUCAGGCGAGACCAUAUCCG\n"
          ]
        }
      ]
    },
    {
      "cell_type": "code",
      "metadata": {
        "colab": {
          "base_uri": "https://localhost:8080/"
        },
        "id": "gT67OYPIebiw",
        "outputId": "6edee14b-7c68-496c-8109-95df674c2162"
      },
      "source": [
        "!head PDB_val.fasta"
      ],
      "execution_count": 11,
      "outputs": [
        {
          "output_type": "stream",
          "name": "stdout",
          "text": [
            ">5aox-1-C\n",
            "GGCCGGGCGCGGUGGCUCACGCCUGUAAUCCCAGCACUUUGGGAGGCCGAGGCGGGAGGAUCGCGAACGCGAGACCCCGUCUCUA\n",
            ">4k27-1-U\n",
            "GCCCCUGCCUGCCUGCAGCUAAGGAUGAAAGUCUAUGCUGCCUGCCUGCCUGGGC\n",
            ">1g59-1-B\n",
            "GGCCCCAUCGUCUAGCGGUUAGGACGCGGCCCUCUCAAGGCCGAAACGGGGGUUCGAUUCCCCCUGGGGUCACCA\n",
            ">1ser-1-T\n",
            "GAGGUGCCCGAGUGGCUGAAGGGGGUAGGGGGGCCUCCCUCGCGGGTNCGAAUCCCGCCCUCUC\n",
            ">5dcv-1-B\n",
            "GGUAUGGUGGAAGCGGUGAAGGGAAACCGAGUUAACCCGCCUAAGCC\n"
          ]
        }
      ]
    },
    {
      "cell_type": "code",
      "source": [],
      "metadata": {
        "id": "Qmd25Pr6cou2"
      },
      "execution_count": 11,
      "outputs": []
    },
    {
      "cell_type": "code",
      "source": [
        "#@title Run prediction on bpRNA_TR0.fasta\n",
        "\n",
        "import time\n",
        "lines=open('bpRNA_TR0.fasta').readlines()\n",
        "with open('contrafold_bpRNA_TR0.prediction',\"w\") as newFasta:\n",
        "  for i in range(0,len(lines),2):\n",
        "    id = lines[i].strip()\n",
        "    seq = lines[i+1].strip()\n",
        "    if i % 100 == 0:\n",
        "        print(i,' finish!')\n",
        "    !echo \"$id\" > 'test.fa'\n",
        "    !echo \"$seq\" >> 'test.fa'\n",
        "    (rna_sequence,rna_structure) = run_contrafold('test.fa')\n",
        "    header = id + \"\\t\" + str(rna_sequence) + \"\\t\" + str(rna_structure) + \"\\n\"\n",
        "    newFasta.write(header)\n",
        "newFasta.close()"
      ],
      "metadata": {
        "colab": {
          "base_uri": "https://localhost:8080/"
        },
        "id": "9onTHqnccoxe",
        "outputId": "aff586ac-2071-4139-b47a-e336fd5e7b8e"
      },
      "execution_count": 6,
      "outputs": [
        {
          "output_type": "stream",
          "name": "stdout",
          "text": [
            "0  finish!\n",
            "100  finish!\n",
            "200  finish!\n",
            "300  finish!\n",
            "400  finish!\n",
            "500  finish!\n",
            "600  finish!\n",
            "700  finish!\n",
            "800  finish!\n",
            "900  finish!\n",
            "1000  finish!\n",
            "1100  finish!\n",
            "1200  finish!\n",
            "1300  finish!\n",
            "1400  finish!\n",
            "1500  finish!\n",
            "1600  finish!\n",
            "1700  finish!\n",
            "1800  finish!\n",
            "1900  finish!\n",
            "2000  finish!\n",
            "2100  finish!\n",
            "2200  finish!\n",
            "2300  finish!\n",
            "2400  finish!\n",
            "2500  finish!\n",
            "2600  finish!\n",
            "2700  finish!\n",
            "2800  finish!\n",
            "2900  finish!\n",
            "3000  finish!\n",
            "3100  finish!\n",
            "3200  finish!\n",
            "3300  finish!\n",
            "3400  finish!\n",
            "3500  finish!\n",
            "3600  finish!\n",
            "3700  finish!\n",
            "3800  finish!\n",
            "3900  finish!\n",
            "4000  finish!\n",
            "4100  finish!\n",
            "4200  finish!\n",
            "4300  finish!\n",
            "4400  finish!\n",
            "4500  finish!\n",
            "4600  finish!\n",
            "4700  finish!\n",
            "4800  finish!\n",
            "4900  finish!\n",
            "5000  finish!\n",
            "5100  finish!\n",
            "5200  finish!\n",
            "5300  finish!\n",
            "5400  finish!\n",
            "5500  finish!\n",
            "5600  finish!\n",
            "5700  finish!\n",
            "5800  finish!\n",
            "5900  finish!\n",
            "6000  finish!\n",
            "6100  finish!\n",
            "6200  finish!\n",
            "6300  finish!\n",
            "6400  finish!\n",
            "6500  finish!\n",
            "6600  finish!\n",
            "6700  finish!\n",
            "6800  finish!\n",
            "6900  finish!\n",
            "7000  finish!\n",
            "7100  finish!\n",
            "7200  finish!\n",
            "7300  finish!\n",
            "7400  finish!\n",
            "7500  finish!\n",
            "7600  finish!\n",
            "7700  finish!\n",
            "7800  finish!\n",
            "7900  finish!\n",
            "8000  finish!\n",
            "8100  finish!\n",
            "8200  finish!\n",
            "8300  finish!\n",
            "8400  finish!\n",
            "8500  finish!\n",
            "8600  finish!\n",
            "8700  finish!\n",
            "8800  finish!\n",
            "8900  finish!\n",
            "9000  finish!\n",
            "9100  finish!\n",
            "9200  finish!\n",
            "9300  finish!\n",
            "9400  finish!\n",
            "9500  finish!\n",
            "9600  finish!\n",
            "9700  finish!\n",
            "9800  finish!\n",
            "9900  finish!\n",
            "10000  finish!\n",
            "10100  finish!\n",
            "10200  finish!\n",
            "10300  finish!\n",
            "10400  finish!\n",
            "10500  finish!\n",
            "10600  finish!\n",
            "10700  finish!\n",
            "10800  finish!\n",
            "10900  finish!\n",
            "11000  finish!\n",
            "11100  finish!\n",
            "11200  finish!\n",
            "11300  finish!\n",
            "11400  finish!\n",
            "11500  finish!\n",
            "11600  finish!\n",
            "11700  finish!\n",
            "11800  finish!\n",
            "11900  finish!\n",
            "12000  finish!\n",
            "12100  finish!\n",
            "12200  finish!\n",
            "12300  finish!\n",
            "12400  finish!\n",
            "12500  finish!\n",
            "12600  finish!\n",
            "12700  finish!\n",
            "12800  finish!\n",
            "12900  finish!\n",
            "13000  finish!\n",
            "13100  finish!\n",
            "13200  finish!\n",
            "13300  finish!\n",
            "13400  finish!\n",
            "13500  finish!\n",
            "13600  finish!\n",
            "13700  finish!\n",
            "13800  finish!\n",
            "13900  finish!\n",
            "14000  finish!\n",
            "14100  finish!\n",
            "14200  finish!\n",
            "14300  finish!\n",
            "14400  finish!\n",
            "14500  finish!\n",
            "14600  finish!\n",
            "14700  finish!\n",
            "14800  finish!\n",
            "14900  finish!\n",
            "15000  finish!\n",
            "15100  finish!\n",
            "15200  finish!\n",
            "15300  finish!\n",
            "15400  finish!\n",
            "15500  finish!\n",
            "15600  finish!\n",
            "15700  finish!\n",
            "15800  finish!\n",
            "15900  finish!\n",
            "16000  finish!\n",
            "16100  finish!\n",
            "16200  finish!\n",
            "16300  finish!\n",
            "16400  finish!\n",
            "16500  finish!\n",
            "16600  finish!\n",
            "16700  finish!\n",
            "16800  finish!\n",
            "16900  finish!\n",
            "17000  finish!\n",
            "17100  finish!\n",
            "17200  finish!\n",
            "17300  finish!\n",
            "17400  finish!\n",
            "17500  finish!\n",
            "17600  finish!\n",
            "17700  finish!\n",
            "17800  finish!\n",
            "17900  finish!\n",
            "18000  finish!\n",
            "18100  finish!\n",
            "18200  finish!\n",
            "18300  finish!\n",
            "18400  finish!\n",
            "18500  finish!\n",
            "18600  finish!\n",
            "18700  finish!\n",
            "18800  finish!\n",
            "18900  finish!\n",
            "19000  finish!\n",
            "19100  finish!\n",
            "19200  finish!\n",
            "19300  finish!\n",
            "19400  finish!\n",
            "19500  finish!\n",
            "19600  finish!\n",
            "19700  finish!\n",
            "19800  finish!\n",
            "19900  finish!\n",
            "20000  finish!\n",
            "20100  finish!\n",
            "20200  finish!\n",
            "20300  finish!\n",
            "20400  finish!\n",
            "20500  finish!\n",
            "20600  finish!\n",
            "20700  finish!\n",
            "20800  finish!\n",
            "20900  finish!\n",
            "21000  finish!\n",
            "21100  finish!\n",
            "21200  finish!\n",
            "21300  finish!\n",
            "21400  finish!\n"
          ]
        }
      ]
    },
    {
      "cell_type": "code",
      "source": [],
      "metadata": {
        "id": "ssJA_xQrvIYb"
      },
      "execution_count": 9,
      "outputs": []
    },
    {
      "cell_type": "code",
      "source": [
        "from google.colab import files\n",
        "files.download('contrafold_bpRNA_TR0.prediction')"
      ],
      "metadata": {
        "colab": {
          "base_uri": "https://localhost:8080/",
          "height": 17
        },
        "id": "oz5DqwaNco0F",
        "outputId": "3091ca27-d86e-47ef-e47c-f31500a94503"
      },
      "execution_count": 10,
      "outputs": [
        {
          "output_type": "display_data",
          "data": {
            "text/plain": [
              "<IPython.core.display.Javascript object>"
            ],
            "application/javascript": [
              "\n",
              "    async function download(id, filename, size) {\n",
              "      if (!google.colab.kernel.accessAllowed) {\n",
              "        return;\n",
              "      }\n",
              "      const div = document.createElement('div');\n",
              "      const label = document.createElement('label');\n",
              "      label.textContent = `Downloading \"${filename}\": `;\n",
              "      div.appendChild(label);\n",
              "      const progress = document.createElement('progress');\n",
              "      progress.max = size;\n",
              "      div.appendChild(progress);\n",
              "      document.body.appendChild(div);\n",
              "\n",
              "      const buffers = [];\n",
              "      let downloaded = 0;\n",
              "\n",
              "      const channel = await google.colab.kernel.comms.open(id);\n",
              "      // Send a message to notify the kernel that we're ready.\n",
              "      channel.send({})\n",
              "\n",
              "      for await (const message of channel.messages) {\n",
              "        // Send a message to notify the kernel that we're ready.\n",
              "        channel.send({})\n",
              "        if (message.buffers) {\n",
              "          for (const buffer of message.buffers) {\n",
              "            buffers.push(buffer);\n",
              "            downloaded += buffer.byteLength;\n",
              "            progress.value = downloaded;\n",
              "          }\n",
              "        }\n",
              "      }\n",
              "      const blob = new Blob(buffers, {type: 'application/binary'});\n",
              "      const a = document.createElement('a');\n",
              "      a.href = window.URL.createObjectURL(blob);\n",
              "      a.download = filename;\n",
              "      div.appendChild(a);\n",
              "      a.click();\n",
              "      div.remove();\n",
              "    }\n",
              "  "
            ]
          },
          "metadata": {}
        },
        {
          "output_type": "display_data",
          "data": {
            "text/plain": [
              "<IPython.core.display.Javascript object>"
            ],
            "application/javascript": [
              "download(\"download_db1e38c8-391a-42e0-8102-ad6e8c8cbf48\", \"contrafold_bpRNA_TR0.prediction\", 3081682)"
            ]
          },
          "metadata": {}
        }
      ]
    },
    {
      "cell_type": "code",
      "source": [
        "#@title Run prediction on bpRNA_VL0.fasta\n",
        "\n",
        "import time\n",
        "lines=open('bpRNA_VL0.fasta').readlines()\n",
        "with open('contrafold_bpRNA_VL0.prediction',\"w\") as newFasta:\n",
        "  for i in range(0,len(lines),2):\n",
        "    id = lines[i].strip()\n",
        "    seq = lines[i+1].strip()\n",
        "    if i % 100 == 0:\n",
        "        print(i,' finish!')\n",
        "    !echo \"$id\" > 'test.fa'\n",
        "    !echo \"$seq\" >> 'test.fa'\n",
        "    (rna_sequence,rna_structure) = run_contrafold('test.fa')\n",
        "    header = id + \"\\t\" + str(rna_sequence) + \"\\t\" + str(rna_structure) + \"\\n\"\n",
        "    newFasta.write(header)\n",
        "newFasta.close()"
      ],
      "metadata": {
        "colab": {
          "base_uri": "https://localhost:8080/"
        },
        "id": "r31gH3I-cuMy",
        "outputId": "dbf11099-c615-42a3-bc2c-f9ad0d733c04"
      },
      "execution_count": 11,
      "outputs": [
        {
          "output_type": "stream",
          "name": "stdout",
          "text": [
            "0  finish!\n",
            "100  finish!\n",
            "200  finish!\n",
            "300  finish!\n",
            "400  finish!\n",
            "500  finish!\n",
            "600  finish!\n",
            "700  finish!\n",
            "800  finish!\n",
            "900  finish!\n",
            "1000  finish!\n",
            "1100  finish!\n",
            "1200  finish!\n",
            "1300  finish!\n",
            "1400  finish!\n",
            "1500  finish!\n",
            "1600  finish!\n",
            "1700  finish!\n",
            "1800  finish!\n",
            "1900  finish!\n",
            "2000  finish!\n",
            "2100  finish!\n",
            "2200  finish!\n",
            "2300  finish!\n",
            "2400  finish!\n",
            "2500  finish!\n"
          ]
        }
      ]
    },
    {
      "cell_type": "code",
      "source": [],
      "metadata": {
        "id": "lgquJKCpcuRx"
      },
      "execution_count": 11,
      "outputs": []
    },
    {
      "cell_type": "code",
      "source": [
        "from google.colab import files\n",
        "files.download('contrafold_bpRNA_VL0.prediction')"
      ],
      "metadata": {
        "colab": {
          "base_uri": "https://localhost:8080/",
          "height": 17
        },
        "id": "vzWhhEXNcuUF",
        "outputId": "001155b7-869e-4e09-da7c-68c80463c138"
      },
      "execution_count": 12,
      "outputs": [
        {
          "output_type": "display_data",
          "data": {
            "text/plain": [
              "<IPython.core.display.Javascript object>"
            ],
            "application/javascript": [
              "\n",
              "    async function download(id, filename, size) {\n",
              "      if (!google.colab.kernel.accessAllowed) {\n",
              "        return;\n",
              "      }\n",
              "      const div = document.createElement('div');\n",
              "      const label = document.createElement('label');\n",
              "      label.textContent = `Downloading \"${filename}\": `;\n",
              "      div.appendChild(label);\n",
              "      const progress = document.createElement('progress');\n",
              "      progress.max = size;\n",
              "      div.appendChild(progress);\n",
              "      document.body.appendChild(div);\n",
              "\n",
              "      const buffers = [];\n",
              "      let downloaded = 0;\n",
              "\n",
              "      const channel = await google.colab.kernel.comms.open(id);\n",
              "      // Send a message to notify the kernel that we're ready.\n",
              "      channel.send({})\n",
              "\n",
              "      for await (const message of channel.messages) {\n",
              "        // Send a message to notify the kernel that we're ready.\n",
              "        channel.send({})\n",
              "        if (message.buffers) {\n",
              "          for (const buffer of message.buffers) {\n",
              "            buffers.push(buffer);\n",
              "            downloaded += buffer.byteLength;\n",
              "            progress.value = downloaded;\n",
              "          }\n",
              "        }\n",
              "      }\n",
              "      const blob = new Blob(buffers, {type: 'application/binary'});\n",
              "      const a = document.createElement('a');\n",
              "      a.href = window.URL.createObjectURL(blob);\n",
              "      a.download = filename;\n",
              "      div.appendChild(a);\n",
              "      a.click();\n",
              "      div.remove();\n",
              "    }\n",
              "  "
            ]
          },
          "metadata": {}
        },
        {
          "output_type": "display_data",
          "data": {
            "text/plain": [
              "<IPython.core.display.Javascript object>"
            ],
            "application/javascript": [
              "download(\"download_4dbe3f19-1205-41a8-bb00-562f8fb8239e\", \"contrafold_bpRNA_VL0.prediction\", 361929)"
            ]
          },
          "metadata": {}
        }
      ]
    },
    {
      "cell_type": "code",
      "source": [
        "#@title Run prediction on bpRNA_TS0.fasta\n",
        "\n",
        "import time\n",
        "lines=open('bpRNA_TS0.fasta').readlines()\n",
        "with open('contrafold_bpRNA_TS0.prediction',\"w\") as newFasta:\n",
        "  for i in range(0,len(lines),2):\n",
        "    id = lines[i].strip()\n",
        "    seq = lines[i+1].strip()\n",
        "    if i % 100 == 0:\n",
        "        print(i,' finish!')\n",
        "    !echo \"$id\" > 'test.fa'\n",
        "    !echo \"$seq\" >> 'test.fa'\n",
        "    (rna_sequence,rna_structure) = run_contrafold('test.fa')\n",
        "    header = id + \"\\t\" + str(rna_sequence) + \"\\t\" + str(rna_structure) + \"\\n\"\n",
        "    newFasta.write(header)\n",
        "newFasta.close()"
      ],
      "metadata": {
        "colab": {
          "base_uri": "https://localhost:8080/"
        },
        "id": "c96F3cWSc3u-",
        "outputId": "2ad35978-c2f3-4e85-fa95-53b4ac2c0a2a"
      },
      "execution_count": 13,
      "outputs": [
        {
          "output_type": "stream",
          "name": "stdout",
          "text": [
            "0  finish!\n",
            "100  finish!\n",
            "200  finish!\n",
            "300  finish!\n",
            "400  finish!\n",
            "500  finish!\n",
            "600  finish!\n",
            "700  finish!\n",
            "800  finish!\n",
            "900  finish!\n",
            "1000  finish!\n",
            "1100  finish!\n",
            "1200  finish!\n",
            "1300  finish!\n",
            "1400  finish!\n",
            "1500  finish!\n",
            "1600  finish!\n",
            "1700  finish!\n",
            "1800  finish!\n",
            "1900  finish!\n",
            "2000  finish!\n",
            "2100  finish!\n",
            "2200  finish!\n",
            "2300  finish!\n",
            "2400  finish!\n",
            "2500  finish!\n"
          ]
        }
      ]
    },
    {
      "cell_type": "code",
      "source": [
        "from google.colab import files\n",
        "files.download('contrafold_bpRNA_TS0.prediction')"
      ],
      "metadata": {
        "colab": {
          "base_uri": "https://localhost:8080/",
          "height": 17
        },
        "id": "_vqZRx59dnyd",
        "outputId": "15d40879-6852-43a6-c79e-07b8993dc420"
      },
      "execution_count": 14,
      "outputs": [
        {
          "output_type": "display_data",
          "data": {
            "text/plain": [
              "<IPython.core.display.Javascript object>"
            ],
            "application/javascript": [
              "\n",
              "    async function download(id, filename, size) {\n",
              "      if (!google.colab.kernel.accessAllowed) {\n",
              "        return;\n",
              "      }\n",
              "      const div = document.createElement('div');\n",
              "      const label = document.createElement('label');\n",
              "      label.textContent = `Downloading \"${filename}\": `;\n",
              "      div.appendChild(label);\n",
              "      const progress = document.createElement('progress');\n",
              "      progress.max = size;\n",
              "      div.appendChild(progress);\n",
              "      document.body.appendChild(div);\n",
              "\n",
              "      const buffers = [];\n",
              "      let downloaded = 0;\n",
              "\n",
              "      const channel = await google.colab.kernel.comms.open(id);\n",
              "      // Send a message to notify the kernel that we're ready.\n",
              "      channel.send({})\n",
              "\n",
              "      for await (const message of channel.messages) {\n",
              "        // Send a message to notify the kernel that we're ready.\n",
              "        channel.send({})\n",
              "        if (message.buffers) {\n",
              "          for (const buffer of message.buffers) {\n",
              "            buffers.push(buffer);\n",
              "            downloaded += buffer.byteLength;\n",
              "            progress.value = downloaded;\n",
              "          }\n",
              "        }\n",
              "      }\n",
              "      const blob = new Blob(buffers, {type: 'application/binary'});\n",
              "      const a = document.createElement('a');\n",
              "      a.href = window.URL.createObjectURL(blob);\n",
              "      a.download = filename;\n",
              "      div.appendChild(a);\n",
              "      a.click();\n",
              "      div.remove();\n",
              "    }\n",
              "  "
            ]
          },
          "metadata": {}
        },
        {
          "output_type": "display_data",
          "data": {
            "text/plain": [
              "<IPython.core.display.Javascript object>"
            ],
            "application/javascript": [
              "download(\"download_397ffa15-5c82-4c29-864f-1421cb049b83\", \"contrafold_bpRNA_TS0.prediction\", 369880)"
            ]
          },
          "metadata": {}
        }
      ]
    },
    {
      "cell_type": "code",
      "source": [],
      "metadata": {
        "id": "eYl7oRb7dn0y"
      },
      "execution_count": null,
      "outputs": []
    },
    {
      "cell_type": "code",
      "metadata": {
        "id": "Kf2DvWNWecxB",
        "colab": {
          "base_uri": "https://localhost:8080/"
        },
        "outputId": "a325b426-08a9-4091-b04c-40a49194a65c"
      },
      "source": [
        "import time\n",
        "lines=open('PDB_train.fasta').readlines()\n",
        "with open('contrafold_PDB_train.prediction',\"w\") as newFasta:\n",
        "  for i in range(0,len(lines),2):\n",
        "    id = lines[i].strip()\n",
        "    seq = lines[i+1].strip()\n",
        "    if i % 100 == 0:\n",
        "        print(i,' finish!')\n",
        "    !echo \"$id\" > 'test.fa'\n",
        "    !echo \"$seq\" >> 'test.fa'\n",
        "    (rna_sequence,rna_structure) = run_contrafold('test.fa')\n",
        "    header = id + \"\\t\" + str(rna_sequence) + \"\\t\" + str(rna_structure) + \"\\n\"\n",
        "    newFasta.write(header)\n",
        "newFasta.close()"
      ],
      "execution_count": 38,
      "outputs": [
        {
          "output_type": "stream",
          "name": "stdout",
          "text": [
            "0  finish!\n",
            "100  finish!\n",
            "200  finish!\n"
          ]
        }
      ]
    },
    {
      "cell_type": "code",
      "source": [],
      "metadata": {
        "id": "vpZhEMODF1-q"
      },
      "execution_count": 40,
      "outputs": []
    },
    {
      "cell_type": "code",
      "metadata": {
        "colab": {
          "base_uri": "https://localhost:8080/",
          "height": 17
        },
        "id": "FITCa_iskkW-",
        "outputId": "e531d434-d39d-4826-e568-f1f5d98de6c0"
      },
      "source": [
        "from google.colab import files\n",
        "files.download('contrafold_PDB_train.prediction')"
      ],
      "execution_count": 41,
      "outputs": [
        {
          "output_type": "display_data",
          "data": {
            "text/plain": [
              "<IPython.core.display.Javascript object>"
            ],
            "application/javascript": [
              "\n",
              "    async function download(id, filename, size) {\n",
              "      if (!google.colab.kernel.accessAllowed) {\n",
              "        return;\n",
              "      }\n",
              "      const div = document.createElement('div');\n",
              "      const label = document.createElement('label');\n",
              "      label.textContent = `Downloading \"${filename}\": `;\n",
              "      div.appendChild(label);\n",
              "      const progress = document.createElement('progress');\n",
              "      progress.max = size;\n",
              "      div.appendChild(progress);\n",
              "      document.body.appendChild(div);\n",
              "\n",
              "      const buffers = [];\n",
              "      let downloaded = 0;\n",
              "\n",
              "      const channel = await google.colab.kernel.comms.open(id);\n",
              "      // Send a message to notify the kernel that we're ready.\n",
              "      channel.send({})\n",
              "\n",
              "      for await (const message of channel.messages) {\n",
              "        // Send a message to notify the kernel that we're ready.\n",
              "        channel.send({})\n",
              "        if (message.buffers) {\n",
              "          for (const buffer of message.buffers) {\n",
              "            buffers.push(buffer);\n",
              "            downloaded += buffer.byteLength;\n",
              "            progress.value = downloaded;\n",
              "          }\n",
              "        }\n",
              "      }\n",
              "      const blob = new Blob(buffers, {type: 'application/binary'});\n",
              "      const a = document.createElement('a');\n",
              "      a.href = window.URL.createObjectURL(blob);\n",
              "      a.download = filename;\n",
              "      div.appendChild(a);\n",
              "      a.click();\n",
              "      div.remove();\n",
              "    }\n",
              "  "
            ]
          },
          "metadata": {}
        },
        {
          "output_type": "display_data",
          "data": {
            "text/plain": [
              "<IPython.core.display.Javascript object>"
            ],
            "application/javascript": [
              "download(\"download_5019f89e-05c6-4107-bd4e-8552c5ca45e2\", \"contrafold_PDB_train.prediction\", 20136)"
            ]
          },
          "metadata": {}
        }
      ]
    },
    {
      "cell_type": "code",
      "source": [],
      "metadata": {
        "id": "1qThTR5uFEsP"
      },
      "execution_count": 20,
      "outputs": []
    },
    {
      "cell_type": "code",
      "metadata": {
        "colab": {
          "base_uri": "https://localhost:8080/"
        },
        "id": "Zxe4gGvNkkZg",
        "outputId": "116e602e-a64a-4d4d-b6f3-6d985f92b4fc"
      },
      "source": [
        "import time\n",
        "lines=open('PDB_val.fasta').readlines()\n",
        "with open('contrafold_PDB_val.prediction',\"w\") as newFasta:\n",
        "  for i in range(0,len(lines),2):\n",
        "    id = lines[i].strip()\n",
        "    seq = lines[i+1].strip()\n",
        "    if i % 100 == 0:\n",
        "        print(i,' finish!')\n",
        "    !echo \"$id\" > 'test.fa'\n",
        "    !echo \"$seq\" >> 'test.fa'\n",
        "    (rna_sequence,rna_structure) = run_contrafold('test.fa')\n",
        "    header = id + \"\\t\" + str(rna_sequence) + \"\\t\" + str(rna_structure) + \"\\n\"\n",
        "    newFasta.write(header)\n",
        "newFasta.close()"
      ],
      "execution_count": 42,
      "outputs": [
        {
          "output_type": "stream",
          "name": "stdout",
          "text": [
            "0  finish!\n"
          ]
        }
      ]
    },
    {
      "cell_type": "code",
      "metadata": {
        "colab": {
          "base_uri": "https://localhost:8080/",
          "height": 17
        },
        "id": "6SKsAbMUkkb4",
        "outputId": "608d49e5-de37-4f70-835d-726b7b0d9d3a"
      },
      "source": [
        "from google.colab import files\n",
        "files.download('contrafold_PDB_val.prediction')"
      ],
      "execution_count": 43,
      "outputs": [
        {
          "output_type": "display_data",
          "data": {
            "text/plain": [
              "<IPython.core.display.Javascript object>"
            ],
            "application/javascript": [
              "\n",
              "    async function download(id, filename, size) {\n",
              "      if (!google.colab.kernel.accessAllowed) {\n",
              "        return;\n",
              "      }\n",
              "      const div = document.createElement('div');\n",
              "      const label = document.createElement('label');\n",
              "      label.textContent = `Downloading \"${filename}\": `;\n",
              "      div.appendChild(label);\n",
              "      const progress = document.createElement('progress');\n",
              "      progress.max = size;\n",
              "      div.appendChild(progress);\n",
              "      document.body.appendChild(div);\n",
              "\n",
              "      const buffers = [];\n",
              "      let downloaded = 0;\n",
              "\n",
              "      const channel = await google.colab.kernel.comms.open(id);\n",
              "      // Send a message to notify the kernel that we're ready.\n",
              "      channel.send({})\n",
              "\n",
              "      for await (const message of channel.messages) {\n",
              "        // Send a message to notify the kernel that we're ready.\n",
              "        channel.send({})\n",
              "        if (message.buffers) {\n",
              "          for (const buffer of message.buffers) {\n",
              "            buffers.push(buffer);\n",
              "            downloaded += buffer.byteLength;\n",
              "            progress.value = downloaded;\n",
              "          }\n",
              "        }\n",
              "      }\n",
              "      const blob = new Blob(buffers, {type: 'application/binary'});\n",
              "      const a = document.createElement('a');\n",
              "      a.href = window.URL.createObjectURL(blob);\n",
              "      a.download = filename;\n",
              "      div.appendChild(a);\n",
              "      a.click();\n",
              "      div.remove();\n",
              "    }\n",
              "  "
            ]
          },
          "metadata": {}
        },
        {
          "output_type": "display_data",
          "data": {
            "text/plain": [
              "<IPython.core.display.Javascript object>"
            ],
            "application/javascript": [
              "download(\"download_37468691-a82f-439a-9912-09dbcfba30f3\", \"contrafold_PDB_val.prediction\", 4961)"
            ]
          },
          "metadata": {}
        }
      ]
    },
    {
      "cell_type": "code",
      "metadata": {
        "id": "GnJ90FC3kkey",
        "colab": {
          "base_uri": "https://localhost:8080/"
        },
        "outputId": "47c7d927-0d76-419b-f14a-450ade6044c2"
      },
      "source": [
        "import time\n",
        "lines=open('PDB_test.fasta').readlines()\n",
        "with open('contrafold_PDB_test.prediction',\"w\") as newFasta:\n",
        "  for i in range(0,len(lines),2):\n",
        "    id = lines[i].strip()\n",
        "    seq = lines[i+1].strip()\n",
        "    if i % 100 == 0:\n",
        "        print(i,' finish!')\n",
        "    !echo \"$id\" > 'test.fa'\n",
        "    !echo \"$seq\" >> 'test.fa'\n",
        "    (rna_sequence,rna_structure) = run_contrafold('test.fa')\n",
        "    header = id + \"\\t\" + str(rna_sequence) + \"\\t\" + str(rna_structure) + \"\\n\"\n",
        "    newFasta.write(header)\n",
        "newFasta.close()"
      ],
      "execution_count": 44,
      "outputs": [
        {
          "output_type": "stream",
          "name": "stdout",
          "text": [
            "0  finish!\n",
            "100  finish!\n"
          ]
        }
      ]
    },
    {
      "cell_type": "code",
      "metadata": {
        "colab": {
          "base_uri": "https://localhost:8080/",
          "height": 17
        },
        "id": "QFK8Hf3HqAWs",
        "outputId": "d1586071-a010-4ac0-e8a9-40f437e6e6ab"
      },
      "source": [
        "from google.colab import files\n",
        "files.download('contrafold_PDB_test.prediction')"
      ],
      "execution_count": 45,
      "outputs": [
        {
          "output_type": "display_data",
          "data": {
            "text/plain": [
              "<IPython.core.display.Javascript object>"
            ],
            "application/javascript": [
              "\n",
              "    async function download(id, filename, size) {\n",
              "      if (!google.colab.kernel.accessAllowed) {\n",
              "        return;\n",
              "      }\n",
              "      const div = document.createElement('div');\n",
              "      const label = document.createElement('label');\n",
              "      label.textContent = `Downloading \"${filename}\": `;\n",
              "      div.appendChild(label);\n",
              "      const progress = document.createElement('progress');\n",
              "      progress.max = size;\n",
              "      div.appendChild(progress);\n",
              "      document.body.appendChild(div);\n",
              "\n",
              "      const buffers = [];\n",
              "      let downloaded = 0;\n",
              "\n",
              "      const channel = await google.colab.kernel.comms.open(id);\n",
              "      // Send a message to notify the kernel that we're ready.\n",
              "      channel.send({})\n",
              "\n",
              "      for await (const message of channel.messages) {\n",
              "        // Send a message to notify the kernel that we're ready.\n",
              "        channel.send({})\n",
              "        if (message.buffers) {\n",
              "          for (const buffer of message.buffers) {\n",
              "            buffers.push(buffer);\n",
              "            downloaded += buffer.byteLength;\n",
              "            progress.value = downloaded;\n",
              "          }\n",
              "        }\n",
              "      }\n",
              "      const blob = new Blob(buffers, {type: 'application/binary'});\n",
              "      const a = document.createElement('a');\n",
              "      a.href = window.URL.createObjectURL(blob);\n",
              "      a.download = filename;\n",
              "      div.appendChild(a);\n",
              "      a.click();\n",
              "      div.remove();\n",
              "    }\n",
              "  "
            ]
          },
          "metadata": {}
        },
        {
          "output_type": "display_data",
          "data": {
            "text/plain": [
              "<IPython.core.display.Javascript object>"
            ],
            "application/javascript": [
              "download(\"download_24ccb18b-5a89-41ac-8f50-b7b248874e90\", \"contrafold_PDB_test.prediction\", 10671)"
            ]
          },
          "metadata": {}
        }
      ]
    },
    {
      "cell_type": "code",
      "metadata": {
        "id": "AfH76bgEqDt_"
      },
      "source": [],
      "execution_count": null,
      "outputs": []
    },
    {
      "cell_type": "code",
      "metadata": {
        "colab": {
          "base_uri": "https://localhost:8080/"
        },
        "id": "xHL3i7bhqDwo",
        "outputId": "b0faf750-18bf-4335-a765-4d7eeeaa2e11"
      },
      "source": [
        "import time\n",
        "lines=open('PDB_test2.fasta').readlines()\n",
        "with open('contrafold_PDB_test2.prediction',\"w\") as newFasta:\n",
        "  for i in range(0,len(lines),2):\n",
        "    id = lines[i].strip()\n",
        "    seq = lines[i+1].strip()\n",
        "    if i % 100 == 0:\n",
        "        print(i,' finish!')\n",
        "    !echo \"$id\" > 'test.fa'\n",
        "    !echo \"$seq\" >> 'test.fa'\n",
        "    (rna_sequence,rna_structure) = run_contrafold('test.fa')\n",
        "    header = id + \"\\t\" + str(rna_sequence) + \"\\t\" + str(rna_structure) + \"\\n\"\n",
        "    newFasta.write(header)\n",
        "newFasta.close()"
      ],
      "execution_count": 46,
      "outputs": [
        {
          "output_type": "stream",
          "name": "stdout",
          "text": [
            "0  finish!\n"
          ]
        }
      ]
    },
    {
      "cell_type": "code",
      "metadata": {
        "colab": {
          "base_uri": "https://localhost:8080/",
          "height": 17
        },
        "id": "J3GXQW6iqDzi",
        "outputId": "16e0bbab-a550-4a3a-ad7a-1ed278cf4b64"
      },
      "source": [
        "from google.colab import files\n",
        "files.download('contrafold_PDB_test2.prediction')"
      ],
      "execution_count": 47,
      "outputs": [
        {
          "output_type": "display_data",
          "data": {
            "text/plain": [
              "<IPython.core.display.Javascript object>"
            ],
            "application/javascript": [
              "\n",
              "    async function download(id, filename, size) {\n",
              "      if (!google.colab.kernel.accessAllowed) {\n",
              "        return;\n",
              "      }\n",
              "      const div = document.createElement('div');\n",
              "      const label = document.createElement('label');\n",
              "      label.textContent = `Downloading \"${filename}\": `;\n",
              "      div.appendChild(label);\n",
              "      const progress = document.createElement('progress');\n",
              "      progress.max = size;\n",
              "      div.appendChild(progress);\n",
              "      document.body.appendChild(div);\n",
              "\n",
              "      const buffers = [];\n",
              "      let downloaded = 0;\n",
              "\n",
              "      const channel = await google.colab.kernel.comms.open(id);\n",
              "      // Send a message to notify the kernel that we're ready.\n",
              "      channel.send({})\n",
              "\n",
              "      for await (const message of channel.messages) {\n",
              "        // Send a message to notify the kernel that we're ready.\n",
              "        channel.send({})\n",
              "        if (message.buffers) {\n",
              "          for (const buffer of message.buffers) {\n",
              "            buffers.push(buffer);\n",
              "            downloaded += buffer.byteLength;\n",
              "            progress.value = downloaded;\n",
              "          }\n",
              "        }\n",
              "      }\n",
              "      const blob = new Blob(buffers, {type: 'application/binary'});\n",
              "      const a = document.createElement('a');\n",
              "      a.href = window.URL.createObjectURL(blob);\n",
              "      a.download = filename;\n",
              "      div.appendChild(a);\n",
              "      a.click();\n",
              "      div.remove();\n",
              "    }\n",
              "  "
            ]
          },
          "metadata": {}
        },
        {
          "output_type": "display_data",
          "data": {
            "text/plain": [
              "<IPython.core.display.Javascript object>"
            ],
            "application/javascript": [
              "download(\"download_641edffc-b2da-4b89-a37d-e2379d436eca\", \"contrafold_PDB_test2.prediction\", 4066)"
            ]
          },
          "metadata": {}
        }
      ]
    },
    {
      "cell_type": "code",
      "metadata": {
        "id": "F0g083GgqD2K"
      },
      "source": [],
      "execution_count": null,
      "outputs": []
    },
    {
      "cell_type": "code",
      "metadata": {
        "colab": {
          "base_uri": "https://localhost:8080/"
        },
        "id": "ZO7mhWCIqHnc",
        "outputId": "9d4c47b6-e6f2-434c-edee-0f0ea317fa77"
      },
      "source": [
        "#@title Run prediction on PDB_test_hard.fasta\n",
        "\n",
        "import time\n",
        "lines=open('PDB_test_hard.fasta').readlines()\n",
        "with open('contrafold_PDB_test_hard.prediction',\"w\") as newFasta:\n",
        "  for i in range(0,len(lines),2):\n",
        "    id = lines[i].strip()\n",
        "    seq = lines[i+1].strip()\n",
        "    if i % 100 == 0:\n",
        "        print(i,' finish!')\n",
        "    !echo \"$id\" > 'test.fa'\n",
        "    !echo \"$seq\" >> 'test.fa'\n",
        "    (rna_sequence,rna_structure) = run_contrafold('test.fa')\n",
        "    header = id + \"\\t\" + str(rna_sequence) + \"\\t\" + str(rna_structure) + \"\\n\"\n",
        "    newFasta.write(header)\n",
        "newFasta.close()"
      ],
      "execution_count": 48,
      "outputs": [
        {
          "output_type": "stream",
          "name": "stdout",
          "text": [
            "0  finish!\n"
          ]
        }
      ]
    },
    {
      "cell_type": "code",
      "metadata": {
        "colab": {
          "base_uri": "https://localhost:8080/",
          "height": 17
        },
        "id": "tMEBE6xtqHqd",
        "outputId": "dc2837a8-ca75-4cd5-8a63-e90ceed43d8b"
      },
      "source": [
        "from google.colab import files\n",
        "files.download('contrafold_PDB_test_hard.prediction')"
      ],
      "execution_count": 49,
      "outputs": [
        {
          "output_type": "display_data",
          "data": {
            "text/plain": [
              "<IPython.core.display.Javascript object>"
            ],
            "application/javascript": [
              "\n",
              "    async function download(id, filename, size) {\n",
              "      if (!google.colab.kernel.accessAllowed) {\n",
              "        return;\n",
              "      }\n",
              "      const div = document.createElement('div');\n",
              "      const label = document.createElement('label');\n",
              "      label.textContent = `Downloading \"${filename}\": `;\n",
              "      div.appendChild(label);\n",
              "      const progress = document.createElement('progress');\n",
              "      progress.max = size;\n",
              "      div.appendChild(progress);\n",
              "      document.body.appendChild(div);\n",
              "\n",
              "      const buffers = [];\n",
              "      let downloaded = 0;\n",
              "\n",
              "      const channel = await google.colab.kernel.comms.open(id);\n",
              "      // Send a message to notify the kernel that we're ready.\n",
              "      channel.send({})\n",
              "\n",
              "      for await (const message of channel.messages) {\n",
              "        // Send a message to notify the kernel that we're ready.\n",
              "        channel.send({})\n",
              "        if (message.buffers) {\n",
              "          for (const buffer of message.buffers) {\n",
              "            buffers.push(buffer);\n",
              "            downloaded += buffer.byteLength;\n",
              "            progress.value = downloaded;\n",
              "          }\n",
              "        }\n",
              "      }\n",
              "      const blob = new Blob(buffers, {type: 'application/binary'});\n",
              "      const a = document.createElement('a');\n",
              "      a.href = window.URL.createObjectURL(blob);\n",
              "      a.download = filename;\n",
              "      div.appendChild(a);\n",
              "      a.click();\n",
              "      div.remove();\n",
              "    }\n",
              "  "
            ]
          },
          "metadata": {}
        },
        {
          "output_type": "display_data",
          "data": {
            "text/plain": [
              "<IPython.core.display.Javascript object>"
            ],
            "application/javascript": [
              "download(\"download_cc1fb47c-74b7-4d51-b8bb-997b7d3fc6ca\", \"contrafold_PDB_test_hard.prediction\", 3156)"
            ]
          },
          "metadata": {}
        }
      ]
    },
    {
      "cell_type": "code",
      "metadata": {
        "id": "aE7qhDIrqHsy"
      },
      "source": [],
      "execution_count": null,
      "outputs": []
    }
  ]
}